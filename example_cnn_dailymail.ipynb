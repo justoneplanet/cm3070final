{
 "cells": [
  {
   "cell_type": "code",
   "execution_count": null,
   "metadata": {},
   "outputs": [],
   "source": [
    "import tensorflow_datasets as tfds\n",
    "\n",
    "# tfds.core.download.checksums._CHECKSUM_DIRS.append(checksum_dir)\n",
    "# tfds.core.download.checksums._checksum_paths.cache_clear()\n",
    "\n",
    "train_ds, validation_ds, test_ds = tfds.load(\n",
    "    'cnn_dailymail',\n",
    "    split=['train', 'validation', 'test'],\n",
    "    with_info=False,\n",
    ")\n",
    "print(\"The number of training set is\", len(train_ds))\n",
    "print(\"The number of validation set is\", len(test_ds))\n",
    "print(\"The number of test set is\", len(test_ds))"
   ]
  },
  {
   "cell_type": "markdown",
   "metadata": {},
   "source": [
    "## 2. tensorflow_datasets.load to load cnn_dailymail on huggingface"
   ]
  },
  {
   "cell_type": "code",
   "execution_count": null,
   "metadata": {},
   "outputs": [],
   "source": [
    "'huggingface:cnn_dailymail' in tfds.list_builders()"
   ]
  },
  {
   "cell_type": "code",
   "execution_count": null,
   "metadata": {},
   "outputs": [],
   "source": [
    "import tensorflow_datasets as tfds\n",
    "\n",
    "import tensorflow_datasets.core.dataset_builders.huggingface_dataset_builder\n",
    "\n",
    "\n",
    "# import tensorflow_datasets.core.lazy_imports_lib.lazy_imports\n",
    "import tensorflow_datasets\n",
    "\n",
    "hf_datasets = tensorflow_datasets.core.lazy_imports.datasets\n",
    "hf_names = hf_datasets.list_datasets()\n",
    "print(hf_names)\n",
    "\n",
    "# tfds.list_builders()\n",
    "ds = tfds.load('huggingface:cnn_dailymail')\n"
   ]
  },
  {
   "cell_type": "markdown",
   "metadata": {},
   "source": [
    "## 3. datasets.load_dataset on huggingface library to Load cnn_dailymail and convert to Tensorflow dataset"
   ]
  },
  {
   "cell_type": "code",
   "execution_count": null,
   "metadata": {},
   "outputs": [],
   "source": [
    "!pip install -U datasets"
   ]
  },
  {
   "cell_type": "code",
   "execution_count": null,
   "metadata": {},
   "outputs": [],
   "source": [
    "import datasets\n",
    "import tensorflow as tf\n",
    "\n",
    "# This works!\n",
    "# @see https://huggingface.co/datasets/ccdv/cnn_dailymail\n",
    "# However, this dataset is for huggingface.\n",
    "# Hence it should be converted to the Tensorflow format.\n",
    "# How to convert\n",
    "# @see https://huggingface.co/docs/datasets/v1.3.0/torch_tensorflow.html#setting-the-format\n",
    "def convert_hf2tf(dataset: datasets.DatasetDict, split: list[str]):\n",
    "    dataset.set_format(\n",
    "        type='tensorflow',\n",
    "        columns=['article', 'highlights', 'id',]\n",
    "    )\n",
    "    l = []\n",
    "    for s in split:\n",
    "        d = dataset[s]\n",
    "        features = {x: d[x] for x in ['article', 'highlights', 'id',]}\n",
    "        # .batch(32) is not used to show a simple sampled data below with take(1)\n",
    "        tf_dataset = tf.data.Dataset.from_tensor_slices(features)\n",
    "        l.append(tf_dataset)\n",
    "    return tuple(l)\n",
    "\n",
    "dataset = datasets.load_dataset(\n",
    "    \"ccdv/cnn_dailymail\",\n",
    "    version=\"3.0.0\",\n",
    "    trust_remote_code=False\n",
    ")"
   ]
  },
  {
   "cell_type": "code",
   "execution_count": null,
   "metadata": {},
   "outputs": [],
   "source": [
    "train_dataset, validation_dataset, test_dataset = convert_hf2tf(\n",
    "    dataset=dataset,\n",
    "    split=['train', 'validation', 'test']\n",
    ")\n",
    "train_dataset, validation_dataset, test_dataset"
   ]
  },
  {
   "cell_type": "code",
   "execution_count": null,
   "metadata": {},
   "outputs": [],
   "source": [
    "for entry in train_dataset.take(1):\n",
    "    print('article: ', entry['article'])\n",
    "    print('highlights: ', entry['highlights'])\n",
    "    print('id: ', entry['id'])\n"
   ]
  }
 ],
 "metadata": {
  "kernelspec": {
   "display_name": "Python 3",
   "language": "python",
   "name": "python3"
  },
  "language_info": {
   "codemirror_mode": {
    "name": "ipython",
    "version": 3
   },
   "file_extension": ".py",
   "mimetype": "text/x-python",
   "name": "python",
   "nbconvert_exporter": "python",
   "pygments_lexer": "ipython3",
   "version": "3.10.11"
  }
 },
 "nbformat": 4,
 "nbformat_minor": 2
}
