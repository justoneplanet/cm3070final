{
 "cells": [
  {
   "cell_type": "code",
   "execution_count": null,
   "metadata": {},
   "outputs": [],
   "source": [
    "# For mac OS\n",
    "# %pip install -U tensorflow==2.16.2 tensorflow-macos==2.16.2 keras==3.4.1 keras-nlp\n",
    "# For AWS SageMaker\n",
    "# %pip install -U tensorflow==2.16.2 tensorflow-datasets keras==3.4.1 keras-nlp datasets"
   ]
  },
  {
   "cell_type": "code",
   "execution_count": 1,
   "metadata": {},
   "outputs": [
    {
     "name": "stdout",
     "output_type": "stream",
     "text": [
      "Tensorflow 2.16.2 is expected. The running version is 2.16.2\n",
      "Keras 3.4.1 is expected. The running version is 3.4.1\n",
      "KerasNLP 0.12.1 is expected. The running version is 0.12.1\n"
     ]
    }
   ],
   "source": [
    "import tensorflow as tf\n",
    "import keras\n",
    "import keras_nlp\n",
    "print(\"Tensorflow 2.16.2 is expected. The running version is\", tf.__version__)\n",
    "print(\"Keras 3.4.1 is expected. The running version is\", keras.__version__)\n",
    "print(\"KerasNLP 0.12.1 is expected. The running version is\", keras_nlp.__version__)\n",
    "\n",
    "import numpy as np\n",
    "import tensorflow_datasets as tfds\n",
    "# SageMaker cannot use @keras.saving\n",
    "from keras import saving"
   ]
  },
  {
   "cell_type": "markdown",
   "metadata": {},
   "source": [
    "# Utility function"
   ]
  },
  {
   "cell_type": "code",
   "execution_count": 2,
   "metadata": {},
   "outputs": [],
   "source": [
    "import platform\n",
    "\n",
    "def is_running_on_apple_sillicon():\n",
    "    return platform.system() == \"Darwin\" and platform.processor() == \"arm\"\n",
    "\n",
    "DEVELOPMENT = is_running_on_apple_sillicon()"
   ]
  },
  {
   "cell_type": "code",
   "execution_count": 3,
   "metadata": {},
   "outputs": [],
   "source": [
    "import matplotlib.pyplot as plt\n",
    "\n",
    "def plot(history, title=None, keys=[\"loss\", \"masked_acc\"]):\n",
    "    \"\"\"\n",
    "    Display the plot that indicates the loss and accuracy.\n",
    "    :param history: history object from the tensorflow fit function.\n",
    "    :param title: title text.\n",
    "    :param keys: keys for plotting.\n",
    "    \"\"\"\n",
    "    flg, axes = plt.subplots(1, 2, tight_layout=True)\n",
    "    if title is not None:\n",
    "        flg.suptitle(t=title, fontsize=14)\n",
    "    for i, key in enumerate(keys):\n",
    "        value = history.history[key]\n",
    "        val_loss = history.history[f\"val_{key}\"]\n",
    "        epochs = range(1, len(value) + 1)\n",
    "        axes[i].plot(epochs, value, label=f\"Training {key}\")\n",
    "        axes[i].plot(epochs, val_loss, label=f\"Validation {key}\")\n",
    "        axes[i].set_title(f\"Training and validation {key}\")\n",
    "        axes[i].set_xlabel(\"epochs\")\n",
    "        axes[i].set_ylabel(key)\n",
    "        axes[i].legend()\n",
    "    plt.show()\n",
    "\n",
    "    for key in keys:\n",
    "        if 'loss' in key:\n",
    "            print(\n",
    "                np.min(history.history[f\"val_{key}\"]),\n",
    "                \"The best number of epocs for the validation loss is\",\n",
    "                np.argmin(history.history[f\"val_{key}\"]) + 1,\n",
    "            )\n",
    "        else:\n",
    "            print(\n",
    "                np.max(history.history[f\"val_{key}\"]),\n",
    "                \"The best number of epocs for the validation accuracy is\",\n",
    "                np.argmax(history.history[f\"val_{key}\"]) + 1,\n",
    "            )"
   ]
  },
  {
   "cell_type": "code",
   "execution_count": 4,
   "metadata": {},
   "outputs": [],
   "source": [
    "# @see https://github.com/keras-team/keras-nlp/blob/50e041487b1d8b30b34c5fb738db3ed3406363bc/examples/machine_translation/data.py\n",
    "import string\n",
    "import re\n",
    "\n",
    "strip_chars = string.punctuation\n",
    "strip_chars = strip_chars.replace(\"[\", \"\")\n",
    "strip_chars = strip_chars.replace(\"]\", \"\")\n",
    "\n",
    "@saving.register_keras_serializable()\n",
    "def custom_standardization(input_string):\n",
    "    lowercase = tf.strings.lower(input_string)\n",
    "    return tf.strings.regex_replace(\n",
    "        lowercase,\n",
    "        \"[%s]\" % re.escape(strip_chars),\n",
    "        \"\",\n",
    "    )"
   ]
  },
  {
   "cell_type": "code",
   "execution_count": 5,
   "metadata": {},
   "outputs": [],
   "source": [
    "\"\"\"\n",
    "### The reason why the masked loss is required for seq2seq models\n",
    "\n",
    "The prediction y values of seq2seq models contain pad(s), which are used to align the length of every output sequence.\n",
    "In the case that most sequences are much shorter than the longest sentence and pads are not considered,\n",
    "a model that predicts only pads of sentences is highly evaluated.\n",
    "Therefore, excluding pads from the loss calculation improves the model.\n",
    "\n",
    "### The reason why the classification model does not use the masked loss function\n",
    "\n",
    "The prediction y values of classification models do not contain pad(s), which are used to align the length of every output sequence.\n",
    "It just contains the probability of each class.\n",
    "\"\"\"\n",
    "\n",
    "# @see https://www.tensorflow.org/text/tutorials/nmt_with_attention\n",
    "@saving.register_keras_serializable()\n",
    "def masked_loss(y_true, y_pred):\n",
    "    # Calculate the loss for each item in the batch.\n",
    "    loss_fn = keras.losses.SparseCategoricalCrossentropy(\n",
    "        # nn.py:609: UserWarning:\n",
    "        # \"`sparse_categorical_crossentropy` received `from_logits=True`,\n",
    "        # but the `output` argument was produced by a Softmax activation and thus does not represent logits.\n",
    "        # Was this intended?\n",
    "        # When logits is True, softmax activation function has not processed the values.\n",
    "        # from_logits=True,\n",
    "        reduction='none'\n",
    "    )\n",
    "    loss = loss_fn(y_true, y_pred)\n",
    "\n",
    "    # Mask off the losses on padding.\n",
    "    mask = tf.cast(y_true != 0, dtype=loss.dtype)\n",
    "    loss *= mask\n",
    "\n",
    "    # Return the total.\n",
    "    return tf.reduce_sum(loss)/tf.reduce_sum(mask)"
   ]
  },
  {
   "cell_type": "code",
   "execution_count": 6,
   "metadata": {},
   "outputs": [],
   "source": [
    "# @see https://www.tensorflow.org/text/tutorials/nmt_with_attention\n",
    "# def masked_acc(y_true, y_pred):\n",
    "#     # Calculate the loss for each item in the batch.\n",
    "#     y_pred = tf.argmax(y_pred, axis=-1)\n",
    "#     y_pred = tf.cast(y_pred, dtype=y_true.dtype)\n",
    "#     match = tf.cast(y_true == y_pred, dtype=tf.float32)\n",
    "#     mask = tf.cast(y_true != 0, dtype=tf.float32)\n",
    "#     return tf.reduce_sum(match)/tf.reduce_sum(mask)\n",
    "\n",
    "# @see https://www.tensorflow.org/text/tutorials/transformer\n",
    "@saving.register_keras_serializable()\n",
    "def masked_acc(y_true, y_pred):\n",
    "    y_pred = tf.argmax(y_pred, axis=2)\n",
    "    y_true = tf.cast(y_true, dtype=y_pred.dtype)\n",
    "    match = y_true == y_pred\n",
    "    mask = y_true != 0\n",
    "    match = match & mask\n",
    "    match = tf.cast(match, dtype=tf.float32)\n",
    "    mask = tf.cast(mask, dtype=tf.float32)\n",
    "    return tf.reduce_sum(match)/tf.reduce_sum(mask)"
   ]
  },
  {
   "cell_type": "markdown",
   "metadata": {},
   "source": [
    "## Dataset"
   ]
  },
  {
   "cell_type": "code",
   "execution_count": 7,
   "metadata": {},
   "outputs": [],
   "source": [
    "def prepare_datasets():\n",
    "    if is_running_on_apple_sillicon():\n",
    "        args = {\n",
    "            'trust_remote_code': False,\n",
    "        }\n",
    "    else:\n",
    "        \"\"\"\n",
    "        When 'trust_remote_code' is False, it does not work on AWS SageMaker.\n",
    "        \"\"\"\n",
    "        args = {\n",
    "        }\n",
    "    train_ds, validation_ds, test_ds = tfds.load(\n",
    "        'huggingface:ccdv__cnn_dailymail/3.0.0',\n",
    "        split=['train', 'validation', 'test'],\n",
    "        builder_kwargs=args,\n",
    "    )\n",
    "    # for development with 1/10 entries\n",
    "    if DEVELOPMENT:\n",
    "        train_size = len(train_ds) // 10 * 9\n",
    "        validation_size = len(validation_ds) // 10 * 9\n",
    "        test_size = len(test_ds) // 10 * 9\n",
    "        train_ds = train_ds.skip(train_size)\n",
    "        validation_ds = validation_ds.skip(validation_size)\n",
    "        test_ds = test_ds.skip(test_size)\n",
    "    return train_ds, validation_ds, test_ds"
   ]
  },
  {
   "cell_type": "code",
   "execution_count": 8,
   "metadata": {},
   "outputs": [],
   "source": [
    "def prepare_tokenizer(\n",
    "        train_ds,\n",
    "        encoder_sequence_length,\n",
    "        decoder_sequence_length,\n",
    "        max_tokens=15000):\n",
    "    \"\"\"\n",
    "    Display the plot that indicates the loss and accuracy.\n",
    "    :param train_ds: training dataset to obtain vocabulary.\n",
    "    :param max_tokens: In other words, this is the vocabulary size.\n",
    "    :param encoder_sequence_length: The sequence length for input.\n",
    "    :param input_output_sequence_length: The sequence length for target.\n",
    "    \"\"\"\n",
    "    vectorization_layer = keras.layers.TextVectorization(\n",
    "        standardize=custom_standardization,\n",
    "        max_tokens=max_tokens,\n",
    "        output_mode='int',\n",
    "        ragged=True,\n",
    "    )\n",
    "    # Warning: adapt, which clear the already held data inside, must be called only once.\n",
    "    vectorization_layer.adapt(train_ds.map(lambda row: '[start] ' + row['article'] + ' ' + row['highlights'] + ' [end]'))\n",
    "    vocabulary = vectorization_layer.get_vocabulary()\n",
    "\n",
    "    input_vectorization_layer = keras.layers.TextVectorization(\n",
    "        standardize=custom_standardization,\n",
    "        max_tokens=max_tokens,\n",
    "        output_mode='int',\n",
    "        output_sequence_length=encoder_sequence_length,\n",
    "    )\n",
    "    target_vectorization_layer = keras.layers.TextVectorization(\n",
    "        standardize=custom_standardization,\n",
    "        max_tokens=max_tokens,\n",
    "        output_mode='int',\n",
    "        output_sequence_length=decoder_sequence_length,\n",
    "    )\n",
    "    input_vectorization_layer.set_vocabulary(vocabulary)\n",
    "    target_vectorization_layer.set_vocabulary(vocabulary)\n",
    "    return vectorization_layer, input_vectorization_layer, target_vectorization_layer\n",
    "\n",
    "def build_datasets(\n",
    "        train_ds, validation_ds, test_ds,\n",
    "        input_vectorization_layer,\n",
    "        vectorization_layer,\n",
    "        batch_size,\n",
    "        encoder_sequence_length,\n",
    "        decoder_sequence_length):\n",
    "    \"\"\"\n",
    "    vectorization_layer(['This is a pen', 'I am a software engineer'])\n",
    "    #vectorization_layer(['This is a pen', 'I am a software engineer']).row_lengths().shape[0]\n",
    "    # 2\n",
    "    rows = vectorization_layer(['This is a pen', 'I am a software engineer']).row_lengths().shape[0]\n",
    "    vectorization_layer(['This is a pen', 'I am a software engineer']).to_tensor(shape=(rows, 10))\n",
    "    # .to_tensor()\n",
    "\n",
    "    RaggedTensor.to_tensor can make 0-filled Tensor\n",
    "    \"\"\"\n",
    "    def format_dataset(x):\n",
    "        # decoder_sequence_length: either the following 2.\n",
    "        # - decoder input: [start] + sentence\n",
    "        # - decoder output: sentence + [end]\n",
    "        # That is, decoder_sequence_length = sentence length + 1\n",
    "        summarized_text_length = decoder_sequence_length - 1\n",
    "        article = input_vectorization_layer(x['article'])\n",
    "        highlights = tf.strings.join(['[start] ', x['highlights'], ' [end]'])\n",
    "        h = vectorization_layer(highlights)\n",
    "        rows = h.row_lengths().shape[0]\n",
    "        sequences = h.to_tensor(shape=(rows, summarized_text_length + 1 + 1)) # start + sentence + end\n",
    "        highlights_decoder_input = sequences[:, :-1] # start + sentence\n",
    "        highlights_decoder_output = sequences[:, 1:] # sentence + end\n",
    "        return (\n",
    "            (\n",
    "                article, # encoder input\n",
    "                highlights_decoder_input, # decoder input\n",
    "            ),\n",
    "            highlights_decoder_output, # decoder output\n",
    "        )\n",
    "    train_ds = train_ds.batch(batch_size).map(format_dataset)\n",
    "    validation_ds = validation_ds.batch(batch_size).map(format_dataset)\n",
    "    test_ds = test_ds.batch(batch_size).map(format_dataset)\n",
    "    return train_ds, validation_ds, test_ds\n"
   ]
  },
  {
   "cell_type": "markdown",
   "metadata": {},
   "source": [
    "## Model"
   ]
  },
  {
   "cell_type": "code",
   "execution_count": 9,
   "metadata": {},
   "outputs": [],
   "source": [
    "@saving.register_keras_serializable()\n",
    "class TransformerEncoderDecoderModel(keras.Model):\n",
    "    def __init__(\n",
    "        self,\n",
    "        encoder_tokenizer,\n",
    "        decoder_tokenizer,\n",
    "        num_encoders,\n",
    "        num_decoders,\n",
    "        num_heads,\n",
    "        transformer_intermediate_dim,\n",
    "        encoder_vocabulary_size,\n",
    "        decoder_vocabulary_size,\n",
    "        embedding_dim,\n",
    "        encoder_sequence_length,\n",
    "        decoder_sequence_length,\n",
    "        **kwargs):\n",
    "        super().__init__(**kwargs)\n",
    "        self.encoders = []\n",
    "        self.decoders = []\n",
    "        for _ in range(num_encoders):\n",
    "            self.encoders.append(\n",
    "                keras_nlp.layers.TransformerEncoder(\n",
    "                    num_heads=num_heads,\n",
    "                    intermediate_dim=transformer_intermediate_dim,\n",
    "                )\n",
    "            )\n",
    "        for _ in range(num_decoders):\n",
    "            self.decoders.append(\n",
    "                keras_nlp.layers.TransformerDecoder(\n",
    "                    num_heads=num_heads,\n",
    "                    intermediate_dim=transformer_intermediate_dim,\n",
    "                )\n",
    "            )\n",
    "\n",
    "        self.encoder_tokenizer = encoder_tokenizer\n",
    "        self.decoder_tokenizer = decoder_tokenizer\n",
    "\n",
    "        self.encoder_embedding = keras_nlp.layers.TokenAndPositionEmbedding(\n",
    "            vocabulary_size=encoder_vocabulary_size,\n",
    "            sequence_length=encoder_sequence_length,\n",
    "            embedding_dim=embedding_dim,\n",
    "            mask_zero=True,\n",
    "        )\n",
    "\n",
    "        self.decoder_embedding = keras_nlp.layers.TokenAndPositionEmbedding(\n",
    "            vocabulary_size=decoder_vocabulary_size,\n",
    "            sequence_length=decoder_sequence_length,\n",
    "            embedding_dim=embedding_dim,\n",
    "            mask_zero=True,\n",
    "        )\n",
    "\n",
    "        self.dense = keras.layers.Dense(\n",
    "            decoder_vocabulary_size,\n",
    "            activation=\"softmax\",\n",
    "        )\n",
    "\n",
    "    def build(self, input_shape):\n",
    "        \"\"\"\n",
    "        This method hides the following warning.\n",
    "        UserWarning: `build()` was called on layer 'transformer_encoder_decoder_model_*',\n",
    "        however the layer does not have a `build()` method implemented and it looks like it has unbuilt state.\n",
    "        This will cause the layer to be marked as built, despite not being actually built, which may cause failures down the line.\n",
    "        Make sure to implement a proper `build()` method\n",
    "        \"\"\"\n",
    "        print(\"build is called\", input_shape)\n",
    "        self.encoder_embedding.build(input_shape[0])\n",
    "        self.decoder_embedding.build(input_shape[1])\n",
    "        #super().build(input_shape)\n",
    "\n",
    "    def call(self, inputs):\n",
    "        encoder_input, decoder_input = (\n",
    "            inputs[0],\n",
    "            inputs[1],\n",
    "        )\n",
    "        encoded = self.encoder_embedding(encoder_input)\n",
    "        for encoder in self.encoders:\n",
    "            encoded = encoder(inputs=encoded)\n",
    "\n",
    "        decoded = self.decoder_embedding(decoder_input)\n",
    "        for decoder in self.decoders:\n",
    "            decoded = decoder(\n",
    "                decoder_sequence=decoded,\n",
    "                encoder_sequence=encoded,\n",
    "                use_causal_mask=True,\n",
    "            )\n",
    "\n",
    "        output = self.dense(decoded)\n",
    "        return output\n",
    "\n",
    "    def get_config(self):\n",
    "        #config = super(TransformerEncoderDecoderModel, self).get_config()\n",
    "        config = super().get_config().copy()\n",
    "        config.update({\n",
    "            \"encoder_tokenizer\": self.encoder_tokenizer.get_config(),\n",
    "            \"decoder_tokenizer\": self.decoder_tokenizer.get_config(),\n",
    "            \"num_encoders\": len(self.encoders),\n",
    "            \"num_decoders\": len(self.decoders),\n",
    "            \"num_heads\": self.encoders[0].num_heads,\n",
    "            \"transformer_intermediate_dim\": self.encoders[0].intermediate_dim,\n",
    "            \"encoder_vocabulary_size\": self.encoder_embedding.vocabulary_size,\n",
    "            \"decoder_vocabulary_size\": self.decoder_embedding.vocabulary_size,\n",
    "            \"embedding_dim\": self.encoder_embedding.embedding_dim,\n",
    "            \"encoder_sequence_length\": self.encoder_embedding.sequence_length,\n",
    "            \"decoder_sequence_length\": self.decoder_embedding.sequence_length,\n",
    "        })\n",
    "        return config\n",
    "    @classmethod\n",
    "    def from_config(cls, config):\n",
    "        encoder_tokenizer_config = config.pop(\"encoder_tokenizer\")\n",
    "        decoder_tokenizer_config = config.pop(\"decoder_tokenizer\")\n",
    "        encoder_tokenizer = keras.layers.TextVectorization.from_config(encoder_tokenizer_config)\n",
    "        decoder_tokenizer = keras.layers.TextVectorization.from_config(decoder_tokenizer_config)\n",
    "        return cls(\n",
    "            encoder_tokenizer=encoder_tokenizer,\n",
    "            decoder_tokenizer=decoder_tokenizer,\n",
    "            **config\n",
    "        )"
   ]
  },
  {
   "cell_type": "markdown",
   "metadata": {},
   "source": [
    "## Train"
   ]
  },
  {
   "cell_type": "code",
   "execution_count": 10,
   "metadata": {},
   "outputs": [],
   "source": [
    "def run_training(\n",
    "        model,\n",
    "        train_ds,\n",
    "        validation_ds,\n",
    "        initial_learning_rate,\n",
    "        decay_steps,\n",
    "        decay_rate,\n",
    "        epochs,\n",
    "        steps_per_epoch):\n",
    "    if decay_rate < 1.0:\n",
    "        learning_rate = keras.optimizers.schedules.ExponentialDecay(\n",
    "            initial_learning_rate=initial_learning_rate,\n",
    "            decay_steps=decay_steps,\n",
    "            decay_rate=decay_rate,\n",
    "        )\n",
    "    else:\n",
    "        learning_rate = initial_learning_rate\n",
    "    if f\"{keras.__version__}\".startswith(\"2.\") and is_running_on_apple_sillicon():\n",
    "        optimizer = keras.optimizers.legacy.Adam(\n",
    "            learning_rate=learning_rate,\n",
    "        )\n",
    "    else:\n",
    "        optimizer = keras.optimizers.Adam(\n",
    "            learning_rate=learning_rate,\n",
    "        )\n",
    "    if f\"{keras.__version__}\".startswith(\"2.\"):\n",
    "        loss_fn = keras.losses.SparseCategoricalCrossentropy(\n",
    "            reduction=keras.losses.Reduction.NONE\n",
    "        )\n",
    "    else:\n",
    "        loss_fn = keras.losses.SparseCategoricalCrossentropy(\n",
    "            reduction=None\n",
    "        )\n",
    "    metrics = [\n",
    "        masked_acc,\n",
    "        #keras.metrics.SparseCategoricalAccuracy(),\n",
    "        #keras_nlp.metrics.Bleu(), #  This cannot be used here\n",
    "    ]\n",
    "    model.compile(\n",
    "        optimizer=optimizer,\n",
    "        metrics=metrics,\n",
    "        loss=masked_loss,\n",
    "        weighted_metrics=[],\n",
    "    )\n",
    "    history = model.fit(\n",
    "        train_ds,\n",
    "        epochs=epochs,\n",
    "        validation_data=validation_ds,\n",
    "        steps_per_epoch=steps_per_epoch,\n",
    "    )\n",
    "    return history\n"
   ]
  },
  {
   "cell_type": "code",
   "execution_count": 11,
   "metadata": {},
   "outputs": [],
   "source": [
    "def build_model(\n",
    "        train_ds, validation_ds, test_ds,\n",
    "        num_encoders,\n",
    "        num_decoders,\n",
    "        num_heads,\n",
    "        transformer_intermediate_dim,\n",
    "        encoder_sequence_length,\n",
    "        decoder_sequence_length,\n",
    "        vocab_size,\n",
    "        batch_size,\n",
    "        embedding_dim,\n",
    "        initial_learning_rate,\n",
    "        decay_steps,\n",
    "        decay_rate,\n",
    "        epochs,\n",
    "        steps_per_epoch):\n",
    "    vectorization_layer, input_vectorization_layer, target_vectorization_layer = prepare_tokenizer(\n",
    "        train_ds=train_ds,\n",
    "        encoder_sequence_length=encoder_sequence_length,\n",
    "        decoder_sequence_length=decoder_sequence_length,\n",
    "        max_tokens=vocab_size,\n",
    "    )\n",
    "    train_ds, validation_ds, test_ds = build_datasets(\n",
    "        train_ds=train_ds,\n",
    "        validation_ds=validation_ds,\n",
    "        test_ds=test_ds,\n",
    "        input_vectorization_layer=input_vectorization_layer,\n",
    "        vectorization_layer=vectorization_layer,\n",
    "        batch_size=batch_size,\n",
    "        encoder_sequence_length=encoder_sequence_length,\n",
    "        decoder_sequence_length=decoder_sequence_length,\n",
    "    )\n",
    "\n",
    "    input_vocab_size = input_vectorization_layer.vocabulary_size()\n",
    "    target_vocab_size = target_vectorization_layer.vocabulary_size()\n",
    "    model = TransformerEncoderDecoderModel(\n",
    "        encoder_tokenizer=input_vectorization_layer,\n",
    "        decoder_tokenizer=target_vectorization_layer,\n",
    "        num_encoders=num_encoders,\n",
    "        num_decoders=num_decoders,\n",
    "        num_heads=num_heads,\n",
    "        transformer_intermediate_dim=transformer_intermediate_dim,\n",
    "        encoder_vocabulary_size=input_vocab_size,\n",
    "        decoder_vocabulary_size=target_vocab_size,\n",
    "        embedding_dim=embedding_dim,\n",
    "        encoder_sequence_length=encoder_sequence_length,\n",
    "        decoder_sequence_length=decoder_sequence_length,\n",
    "    )\n",
    "    \"\"\"\n",
    "    Currently, how to set the encoder input shape is unknown, even though the decoder input shape is set.\n",
    "    That is, The following is unknown in the build_datasets function.\n",
    "    ((None, encoder_sequence_length), (None, decoder_sequence_length))\n",
    "    from \n",
    "    ((None, None), (None, decoder_sequence_length))\n",
    "    Therefore, the build method is called instead with the `input_shape` argument.\n",
    "    \"\"\"\n",
    "    model.build(\n",
    "        input_shape=(\n",
    "            (None, encoder_sequence_length),\n",
    "            (None, decoder_sequence_length)\n",
    "        )\n",
    "    )\n",
    "\n",
    "    history = run_training(\n",
    "        model,\n",
    "        train_ds=train_ds,\n",
    "        validation_ds=validation_ds,\n",
    "        initial_learning_rate=initial_learning_rate,\n",
    "        decay_steps=decay_steps,\n",
    "        decay_rate=decay_rate,\n",
    "        epochs=epochs,\n",
    "        steps_per_epoch=steps_per_epoch,\n",
    "    )\n",
    "\n",
    "    if is_running_on_apple_sillicon():\n",
    "        filepath = 'model/summarization_model.keras'\n",
    "    else:\n",
    "        filepath = 'summarization_model.keras'\n",
    "    print(f\"Saving to {filepath}\")\n",
    "    model.save(filepath=filepath)\n",
    "\n",
    "    print(f\"Successfully saved model to {filepath}\")\n",
    "    return model, filepath, history\n"
   ]
  },
  {
   "cell_type": "markdown",
   "metadata": {},
   "source": [
    "# Functional API"
   ]
  },
  {
   "cell_type": "code",
   "execution_count": 23,
   "metadata": {},
   "outputs": [],
   "source": [
    "# Functional API cannot hold tokenizer inside.\n",
    "# They must be saved externally.\n",
    "def create_model_functionally(\n",
    "        encoder_tokenizer,\n",
    "        decoder_tokenizer,\n",
    "        num_encoders,\n",
    "        num_decoders,\n",
    "        num_heads,\n",
    "        transformer_intermediate_dim,\n",
    "        encoder_vocabulary_size,\n",
    "        decoder_vocabulary_size,\n",
    "        embedding_dim,\n",
    "        mask_zero,\n",
    "        encoder_sequence_length,\n",
    "        decoder_sequence_length):\n",
    "    encoder_inputs = keras.Input(\n",
    "        shape=(encoder_sequence_length,),\n",
    "        name=\"encoder_inputs\",\n",
    "        dtype=\"int64\",\n",
    "    )\n",
    "    decoder_inputs = keras.Input(\n",
    "        shape=(decoder_sequence_length,),\n",
    "        name=\"decoder_inputs\",\n",
    "        dtype=\"int64\",\n",
    "    )\n",
    "\n",
    "    # encoder_tokenized_outputs = encoder_tokenizer(encoder_inputs)\n",
    "    # decoder_tokenized_outputs = decoder_tokenizer(decoder_inputs)\n",
    "\n",
    "    encoder_outputs = keras_nlp.layers.TokenAndPositionEmbedding(\n",
    "        vocabulary_size=encoder_vocabulary_size,\n",
    "        sequence_length=encoder_sequence_length,\n",
    "        embedding_dim=embedding_dim,\n",
    "        mask_zero=mask_zero,\n",
    "    )(encoder_inputs)\n",
    "\n",
    "    decoder_outputs = keras_nlp.layers.TokenAndPositionEmbedding(\n",
    "        vocabulary_size=decoder_vocabulary_size,\n",
    "        sequence_length=decoder_sequence_length,\n",
    "        embedding_dim=embedding_dim,\n",
    "        mask_zero=mask_zero,\n",
    "    )(decoder_inputs)\n",
    "\n",
    "    for _ in range(num_encoders):\n",
    "        encoder_outputs = keras_nlp.layers.TransformerEncoder(\n",
    "            num_heads=num_heads,\n",
    "            intermediate_dim=transformer_intermediate_dim,\n",
    "        )(inputs=encoder_outputs)\n",
    "    for _ in range(num_decoders):\n",
    "        decoder_outputs = keras_nlp.layers.TransformerDecoder(\n",
    "            num_heads=num_heads,\n",
    "            intermediate_dim=transformer_intermediate_dim,\n",
    "        )(\n",
    "            decoder_sequence=decoder_outputs,\n",
    "            encoder_sequence=encoder_outputs,\n",
    "            use_causal_mask=True,\n",
    "        )\n",
    "    outputs = keras.layers.Dense(\n",
    "        decoder_vocabulary_size,\n",
    "        activation=\"softmax\"\n",
    "    )(decoder_outputs)\n",
    "\n",
    "    model = keras.Model(\n",
    "        inputs=[encoder_inputs, decoder_inputs],\n",
    "        outputs=outputs,\n",
    "        name=\"transformer_encoder_decoder_model\"\n",
    "    )\n",
    "    return model\n",
    "\n",
    "def build_model_functionally(\n",
    "        train_ds, validation_ds, test_ds,\n",
    "        num_encoders,\n",
    "        num_decoders,\n",
    "        num_heads,\n",
    "        transformer_intermediate_dim,\n",
    "        encoder_sequence_length,\n",
    "        decoder_sequence_length,\n",
    "        vocab_size,\n",
    "        batch_size,\n",
    "        embedding_dim,\n",
    "        mask_zero,\n",
    "        initial_learning_rate,\n",
    "        decay_steps,\n",
    "        decay_rate,\n",
    "        epochs,\n",
    "        steps_per_epoch):\n",
    "    vectorization_layer, input_vectorization_layer, target_vectorization_layer = prepare_tokenizer(\n",
    "        train_ds=train_ds,\n",
    "        encoder_sequence_length=encoder_sequence_length,\n",
    "        decoder_sequence_length=decoder_sequence_length,\n",
    "        max_tokens=vocab_size,\n",
    "    )\n",
    "    train_ds, validation_ds, test_ds = build_datasets(\n",
    "        train_ds=train_ds,\n",
    "        validation_ds=validation_ds,\n",
    "        test_ds=test_ds,\n",
    "        input_vectorization_layer=input_vectorization_layer,\n",
    "        vectorization_layer=vectorization_layer,\n",
    "        batch_size=batch_size,\n",
    "        encoder_sequence_length=encoder_sequence_length,\n",
    "        decoder_sequence_length=decoder_sequence_length,\n",
    "    )\n",
    "\n",
    "    input_vocab_size = input_vectorization_layer.vocabulary_size()\n",
    "    target_vocab_size = target_vectorization_layer.vocabulary_size()\n",
    "    model = create_model_functionally(\n",
    "        encoder_tokenizer=input_vectorization_layer,\n",
    "        decoder_tokenizer=target_vectorization_layer,\n",
    "        num_encoders=num_encoders,\n",
    "        num_decoders=num_decoders,\n",
    "        num_heads=num_heads,\n",
    "        transformer_intermediate_dim=transformer_intermediate_dim,\n",
    "        encoder_vocabulary_size=input_vocab_size,\n",
    "        decoder_vocabulary_size=target_vocab_size,\n",
    "        embedding_dim=embedding_dim,\n",
    "        mask_zero=mask_zero,\n",
    "        encoder_sequence_length=encoder_sequence_length,\n",
    "        decoder_sequence_length=decoder_sequence_length,\n",
    "    )\n",
    "    model.summary()\n",
    "\n",
    "    history = run_training(\n",
    "        model,\n",
    "        train_ds=train_ds,\n",
    "        validation_ds=validation_ds,\n",
    "        initial_learning_rate=initial_learning_rate,\n",
    "        decay_steps=decay_steps,\n",
    "        decay_rate=decay_rate,\n",
    "        epochs=epochs,\n",
    "        steps_per_epoch=steps_per_epoch,\n",
    "    )\n",
    "\n",
    "    if is_running_on_apple_sillicon():\n",
    "        filepath = 'model/summarization_model.keras'\n",
    "    else:\n",
    "        filepath = 'summarization_model.keras'\n",
    "    print(f\"Saving to {filepath}\")\n",
    "    model.save(filepath=filepath)\n",
    "\n",
    "    print(f\"Successfully saved model to {filepath}\")\n",
    "    return model, filepath, history\n"
   ]
  },
  {
   "cell_type": "markdown",
   "metadata": {},
   "source": [
    "# Decode and Predict"
   ]
  },
  {
   "cell_type": "code",
   "execution_count": 12,
   "metadata": {},
   "outputs": [],
   "source": [
    "EXAMPLES = [\n",
    "    \"\"\"(CNN) -- Usain Bolt rounded off the world championships Sunday by claiming his third gold in Moscow as he anchored Jamaica to victory in the men\\'s 4x100m relay. The fastest man in the world charged clear of United States rival Justin Gatlin as the Jamaican quartet of Nesta Carter, Kemar Bailey-Cole, Nickel Ashmeade and Bolt won in 37.36 seconds. The U.S finished second in 37.56 seconds with Canada taking the bronze after Britain were disqualified for a faulty handover. The 26-year-old Bolt has now collected eight gold medals at world championships, equaling the record held by American trio Carl Lewis, Michael Johnson and Allyson Felix, not to mention the small matter of six Olympic titles. The relay triumph followed individual successes in the 100 and 200 meters in the Russian capital. \"I\\'m proud of myself and I\\'ll continue to work to dominate for as long as possible,\" Bolt said, having previously expressed his intention to carry on until the 2016 Rio Olympics. Victory was never seriously in doubt once he got the baton safely in hand from Ashmeade, while Gatlin and the United States third leg runner Rakieem Salaam had problems. Gatlin strayed out of his lane as he struggled to get full control of their baton and was never able to get on terms with Bolt. Earlier, Jamaica\\'s women underlined their dominance in the sprint events by winning the 4x100m relay gold, anchored by Shelly-Ann Fraser-Pryce, who like Bolt was completing a triple. Their quartet recorded a championship record of 41.29 seconds, well clear of France, who crossed the line in second place in 42.73 seconds. Defending champions, the United States, were initially back in the bronze medal position after losing time on the second handover between Alexandria Anderson and English Gardner, but promoted to silver when France were subsequently disqualified for an illegal handover. The British quartet, who were initially fourth, were promoted to the bronze which eluded their men\\'s team. Fraser-Pryce, like Bolt aged 26, became the first woman to achieve three golds in the 100-200 and the relay. In other final action on the last day of the championships, France\\'s Teddy Tamgho became the third man to leap over 18m in the triple jump, exceeding the mark by four centimeters to take gold. Germany\\'s Christina Obergfoll finally took gold at global level in the women\\'s javelin after five previous silvers, while Kenya\\'s Asbel Kiprop easily won a tactical men\\'s 1500m final. Kiprop\\'s compatriot Eunice Jepkoech Sum was a surprise winner of the women\\'s 800m. Bolt\\'s final dash for golden glory brought the eight-day championship to a rousing finale, but while the hosts topped the medal table from the United States there was criticism of the poor attendances in the Luzhniki Stadium. There was further concern when their pole vault gold medalist Yelena Isinbayeva made controversial remarks in support of Russia\\'s new laws, which make \"the propagandizing of non-traditional sexual relations among minors\" a criminal offense. She later attempted to clarify her comments, but there were renewed calls by gay rights groups for a boycott of the 2014 Winter Games in Sochi, the next major sports event in Russia.\"\"\",\n",
    "    \"\"\"Vice President Dick Cheney will serve as acting president briefly Saturday while President Bush is anesthetized for a routine colonoscopy, White House spokesman Tony Snow said Friday. Bush is scheduled to have the medical procedure, expected to take about 2 1/2 hours, at the presidential retreat at Camp David, Maryland, Snow said. Bush's last colonoscopy was in June 2002, and no abnormalities were found, Snow said. The president's doctor had recommended a repeat procedure in about five years. The procedure will be supervised by Dr. Richard Tubb and conducted by a multidisciplinary team from the National Naval Medical Center in Bethesda, Maryland, Snow said. A colonoscopy is the most sensitive test for colon cancer, rectal cancer and polyps, small clumps of cells that can become cancerous, according to the Mayo Clinic. Small polyps may be removed during the procedure. Snow said that was the case when Bush had colonoscopies before becoming president. Snow himself is undergoing chemotherapy for cancer that began in his colon and spread to his liver. Snow told reporters he had a chemo session scheduled later Friday. Watch Snow talk about Bush's procedure and his own colon cancer » . \"The president wants to encourage everybody to use surveillance,\" Snow said. The American Cancer Society recommends that people without high-risk factors or symptoms begin getting screened for signs of colorectal cancer at age 50. E-mail to a friend .\"\"\",\n",
    "    \"There are two chickens in the garden.\",\n",
    "    \"Two chickens fell into the swimming pool in the garden.\",\n",
    "]\n",
    "\n",
    "def decode_sequence(input_sentence, model, max_sequence_length, lookup_table):\n",
    "    encoder_tokenizer = model.encoder_tokenizer\n",
    "    decoder_tokenizer = model.decoder_tokenizer\n",
    "    tokenized_input = encoder_tokenizer([input_sentence])\n",
    "\n",
    "    start_token = decoder_tokenizer(\"[start]\")[0].numpy()\n",
    "    end_token = decoder_tokenizer(\"[end]\")[0].numpy()\n",
    "\n",
    "    decoded_sentence = [start_token]\n",
    "    for i in range(max_sequence_length):\n",
    "        decoder_inputs = tf.convert_to_tensor(\n",
    "            [decoded_sentence],\n",
    "            dtype=\"int64\",\n",
    "        )\n",
    "        decoder_inputs = tf.concat(\n",
    "            [\n",
    "                decoder_inputs,\n",
    "                tf.zeros(\n",
    "                    [1, max_sequence_length - i - 1],\n",
    "                    dtype=\"int64\",\n",
    "                ),\n",
    "            ],\n",
    "            axis=1,\n",
    "        )\n",
    "        input = (\n",
    "            tokenized_input,\n",
    "            decoder_inputs,\n",
    "        )\n",
    "        predictions = model(input)\n",
    "        predicted_token = np.argmax(predictions[0, i, :])\n",
    "        decoded_sentence.append(predicted_token)\n",
    "        if predicted_token == end_token:\n",
    "            break\n",
    "\n",
    "    detokenized_output = []\n",
    "    for token in decoded_sentence:\n",
    "        detokenized_output.append(lookup_table[token])\n",
    "    return \" \".join(detokenized_output)\n",
    "\n",
    "\n",
    "def predict_main(filepath, examples, decoder_sequence_length):\n",
    "    loaded_model = keras.models.load_model(filepath)\n",
    "\n",
    "    decoder_tokenizer = loaded_model.decoder_tokenizer\n",
    "    vocab = decoder_tokenizer.get_vocabulary()\n",
    "    index_lookup_table = dict(zip(range(len(vocab)), vocab))\n",
    "\n",
    "    summarized = []\n",
    "    for example in examples:\n",
    "        summarized.append(\n",
    "            decode_sequence(\n",
    "                example,\n",
    "                loaded_model,\n",
    "                decoder_sequence_length,\n",
    "                index_lookup_table,\n",
    "            )\n",
    "        )\n",
    "\n",
    "    for i in range(len(examples)):\n",
    "        print(\"ORIGINAL SENTENCE: \", examples[i])\n",
    "        print(\"SUMMARIZED RESULT: \", summarized[i])\n"
   ]
  },
  {
   "cell_type": "markdown",
   "metadata": {},
   "source": [
    "***"
   ]
  },
  {
   "cell_type": "markdown",
   "metadata": {},
   "source": [
    "# Build"
   ]
  },
  {
   "cell_type": "code",
   "execution_count": 13,
   "metadata": {},
   "outputs": [
    {
     "name": "stderr",
     "output_type": "stream",
     "text": [
      "/Users/mitsuaki.ishimoto/.pyenv/versions/3.10.11/lib/python3.10/site-packages/tensorflow_datasets/core/dataset_builders/huggingface_dataset_builder.py:160: FutureWarning: list_datasets is deprecated and will be removed in the next major version of datasets. Use 'huggingface_hub.list_datasets' instead.\n",
      "  hf_names = hf_datasets.list_datasets()\n",
      "2024-07-04 11:30:48.674515: I metal_plugin/src/device/metal_device.cc:1154] Metal device set to: Apple M2 Pro\n",
      "2024-07-04 11:30:48.674543: I metal_plugin/src/device/metal_device.cc:296] systemMemory: 32.00 GB\n",
      "2024-07-04 11:30:48.674547: I metal_plugin/src/device/metal_device.cc:313] maxCacheSize: 10.67 GB\n",
      "2024-07-04 11:30:48.674564: I tensorflow/core/common_runtime/pluggable_device/pluggable_device_factory.cc:305] Could not identify NUMA node of platform GPU ID 0, defaulting to 0. Your kernel may not have been built with NUMA support.\n",
      "2024-07-04 11:30:48.674578: I tensorflow/core/common_runtime/pluggable_device/pluggable_device_factory.cc:271] Created TensorFlow device (/job:localhost/replica:0/task:0/device:GPU:0 with 0 MB memory) -> physical PluggableDevice (device: 0, name: METAL, pci bus id: <undefined>)\n"
     ]
    }
   ],
   "source": [
    "train_ds, validation_ds, test_ds = prepare_datasets()"
   ]
  },
  {
   "cell_type": "code",
   "execution_count": 14,
   "metadata": {},
   "outputs": [
    {
     "name": "stderr",
     "output_type": "stream",
     "text": [
      "2024-07-03 13:36:03.785775: W tensorflow/core/framework/local_rendezvous.cc:404] Local rendezvous is aborting with status: OUT_OF_RANGE: End of sequence\n"
     ]
    },
    {
     "name": "stdout",
     "output_type": "stream",
     "text": [
      "build is called ((None, 2137), (None, 256))\n",
      "Epoch 1/10\n"
     ]
    },
    {
     "name": "stderr",
     "output_type": "stream",
     "text": [
      "/Users/mitsuaki.ishimoto/.pyenv/versions/3.10.11/lib/python3.10/site-packages/keras/src/layers/layer.py:915: UserWarning: Layer 'position_embedding' (of type PositionEmbedding) was passed an input with a mask attached to it. However, this layer does not support masking and will therefore destroy the mask information. Downstream layers will not see the mask.\n",
      "  warnings.warn(\n",
      "/Users/mitsuaki.ishimoto/.pyenv/versions/3.10.11/lib/python3.10/site-packages/keras/src/layers/layer.py:915: UserWarning: Layer 'query' (of type EinsumDense) was passed an input with a mask attached to it. However, this layer does not support masking and will therefore destroy the mask information. Downstream layers will not see the mask.\n",
      "  warnings.warn(\n",
      "/Users/mitsuaki.ishimoto/.pyenv/versions/3.10.11/lib/python3.10/site-packages/keras/src/layers/layer.py:915: UserWarning: Layer 'key' (of type EinsumDense) was passed an input with a mask attached to it. However, this layer does not support masking and will therefore destroy the mask information. Downstream layers will not see the mask.\n",
      "  warnings.warn(\n",
      "/Users/mitsuaki.ishimoto/.pyenv/versions/3.10.11/lib/python3.10/site-packages/keras/src/layers/layer.py:915: UserWarning: Layer 'value' (of type EinsumDense) was passed an input with a mask attached to it. However, this layer does not support masking and will therefore destroy the mask information. Downstream layers will not see the mask.\n",
      "  warnings.warn(\n",
      "2024-07-03 13:36:06.784473: I tensorflow/core/grappler/optimizers/custom_graph_optimizer_registry.cc:117] Plugin optimizer for device_type GPU is enabled.\n"
     ]
    },
    {
     "name": "stdout",
     "output_type": "stream",
     "text": [
      "\u001b[1m1795/1795\u001b[0m \u001b[32m━━━━━━━━━━━━━━━━━━━━\u001b[0m\u001b[37m\u001b[0m \u001b[1m921s\u001b[0m 508ms/step - loss: 6.7884 - masked_acc: 0.1065 - val_loss: 5.6804 - val_masked_acc: 0.1558\n",
      "Epoch 2/10\n",
      "\u001b[1m1795/1795\u001b[0m \u001b[32m━━━━━━━━━━━━━━━━━━━━\u001b[0m\u001b[37m\u001b[0m \u001b[1m923s\u001b[0m 512ms/step - loss: 5.6005 - masked_acc: 0.1585 - val_loss: 5.4289 - val_masked_acc: 0.1668\n",
      "Epoch 3/10\n",
      "\u001b[1m1795/1795\u001b[0m \u001b[32m━━━━━━━━━━━━━━━━━━━━\u001b[0m\u001b[37m\u001b[0m \u001b[1m922s\u001b[0m 511ms/step - loss: 5.2347 - masked_acc: 0.1735 - val_loss: 5.3316 - val_masked_acc: 0.1749\n",
      "Epoch 4/10\n",
      "\u001b[1m1795/1795\u001b[0m \u001b[32m━━━━━━━━━━━━━━━━━━━━\u001b[0m\u001b[37m\u001b[0m \u001b[1m920s\u001b[0m 510ms/step - loss: 4.9996 - masked_acc: 0.1838 - val_loss: 5.2993 - val_masked_acc: 0.1786\n",
      "Epoch 5/10\n",
      "\u001b[1m1795/1795\u001b[0m \u001b[32m━━━━━━━━━━━━━━━━━━━━\u001b[0m\u001b[37m\u001b[0m \u001b[1m934s\u001b[0m 518ms/step - loss: 4.8259 - masked_acc: 0.1929 - val_loss: 5.2987 - val_masked_acc: 0.1804\n",
      "Epoch 6/10\n",
      "\u001b[1m1795/1795\u001b[0m \u001b[32m━━━━━━━━━━━━━━━━━━━━\u001b[0m\u001b[37m\u001b[0m \u001b[1m1041s\u001b[0m 578ms/step - loss: 4.6864 - masked_acc: 0.2015 - val_loss: 5.3242 - val_masked_acc: 0.1808\n",
      "Epoch 7/10\n",
      "\u001b[1m1795/1795\u001b[0m \u001b[32m━━━━━━━━━━━━━━━━━━━━\u001b[0m\u001b[37m\u001b[0m \u001b[1m1017s\u001b[0m 564ms/step - loss: 4.5682 - masked_acc: 0.2098 - val_loss: 5.3628 - val_masked_acc: 0.1805\n",
      "Epoch 8/10\n",
      "\u001b[1m1795/1795\u001b[0m \u001b[32m━━━━━━━━━━━━━━━━━━━━\u001b[0m\u001b[37m\u001b[0m \u001b[1m929s\u001b[0m 515ms/step - loss: 4.4634 - masked_acc: 0.2180 - val_loss: 5.4126 - val_masked_acc: 0.1792\n",
      "Epoch 9/10\n",
      "\u001b[1m1795/1795\u001b[0m \u001b[32m━━━━━━━━━━━━━━━━━━━━\u001b[0m\u001b[37m\u001b[0m \u001b[1m923s\u001b[0m 512ms/step - loss: 4.3701 - masked_acc: 0.2261 - val_loss: 5.4695 - val_masked_acc: 0.1790\n",
      "Epoch 10/10\n",
      "\u001b[1m1795/1795\u001b[0m \u001b[32m━━━━━━━━━━━━━━━━━━━━\u001b[0m\u001b[37m\u001b[0m \u001b[1m929s\u001b[0m 515ms/step - loss: 4.2855 - masked_acc: 0.2336 - val_loss: 5.5387 - val_masked_acc: 0.1764\n",
      "Saving to model/summarization_model.keras\n",
      "Successfully saved model to model/summarization_model.keras\n"
     ]
    },
    {
     "data": {
      "image/png": "[encoded data removed]",
      "text/plain": [
       "<Figure size 640x480 with 2 Axes>"
      ]
     },
     "metadata": {},
     "output_type": "display_data"
    },
    {
     "name": "stdout",
     "output_type": "stream",
     "text": [
      "5.298709869384766 The best number of epocs for the validation loss is 5\n",
      "0.1808236986398697 The best number of epocs for the validation accuracy is 6\n"
     ]
    }
   ],
   "source": [
    "# development params to pass running\n",
    "LEARNING_RATE = 0.001\n",
    "NUM_EPOCHS = 10\n",
    "STEPS_PER_EPOCH = None\n",
    "ENCODER_SEQUENCE_LENGTH = 2137 # @TODO The followings should programmatically be derived.\n",
    "DECODER_SEQUENCE_LENGTH = 256 #  1437 is the longest summarized text in dataset\n",
    "VOCABULARY_SIZE = 15000\n",
    "BATCH_SIZE = 16\n",
    "NUM_ENCODERS = 1\n",
    "NUM_DECODERS = 1\n",
    "NUM_HEADS = 6\n",
    "INTERMIDIATE_DIM = 512\n",
    "EMBEDDING_DIM = 64\n",
    "DECAY_STEPS = 100\n",
    "DECAY_RATE = 1.0\n",
    "\n",
    "model, filepath, history = build_model(\n",
    "    train_ds, validation_ds, test_ds,\n",
    "    num_encoders=NUM_ENCODERS,\n",
    "    num_decoders=NUM_DECODERS,\n",
    "    num_heads=NUM_HEADS,\n",
    "    transformer_intermediate_dim=INTERMIDIATE_DIM,\n",
    "    encoder_sequence_length=ENCODER_SEQUENCE_LENGTH,\n",
    "    decoder_sequence_length=DECODER_SEQUENCE_LENGTH,\n",
    "    vocab_size=VOCABULARY_SIZE,\n",
    "    batch_size=BATCH_SIZE,\n",
    "    embedding_dim=EMBEDDING_DIM,\n",
    "    initial_learning_rate=LEARNING_RATE,\n",
    "    decay_steps=DECAY_STEPS,\n",
    "    decay_rate=DECAY_RATE,\n",
    "    epochs=NUM_EPOCHS,\n",
    "    steps_per_epoch=STEPS_PER_EPOCH,\n",
    ")\n",
    "plot(history=history)"
   ]
  },
  {
   "cell_type": "code",
   "execution_count": 15,
   "metadata": {},
   "outputs": [
    {
     "name": "stdout",
     "output_type": "stream",
     "text": [
      "build is called [[None, 2137], [None, 256]]\n"
     ]
    },
    {
     "name": "stderr",
     "output_type": "stream",
     "text": [
      "/Users/mitsuaki.ishimoto/.pyenv/versions/3.10.11/lib/python3.10/site-packages/keras/src/saving/saving_lib.py:576: UserWarning: Skipping variable loading for optimizer 'adam', because it has 10 variables whereas the saved optimizer has 98 variables. \n",
      "  saveable.load_own_variables(weights_store.get(inner_path))\n",
      "/Users/mitsuaki.ishimoto/.pyenv/versions/3.10.11/lib/python3.10/site-packages/keras/src/layers/layer.py:915: UserWarning: Layer 'position_embedding' (of type PositionEmbedding) was passed an input with a mask attached to it. However, this layer does not support masking and will therefore destroy the mask information. Downstream layers will not see the mask.\n",
      "  warnings.warn(\n",
      "/Users/mitsuaki.ishimoto/.pyenv/versions/3.10.11/lib/python3.10/site-packages/keras/src/layers/layer.py:915: UserWarning: Layer 'query' (of type EinsumDense) was passed an input with a mask attached to it. However, this layer does not support masking and will therefore destroy the mask information. Downstream layers will not see the mask.\n",
      "  warnings.warn(\n",
      "/Users/mitsuaki.ishimoto/.pyenv/versions/3.10.11/lib/python3.10/site-packages/keras/src/layers/layer.py:915: UserWarning: Layer 'key' (of type EinsumDense) was passed an input with a mask attached to it. However, this layer does not support masking and will therefore destroy the mask information. Downstream layers will not see the mask.\n",
      "  warnings.warn(\n",
      "/Users/mitsuaki.ishimoto/.pyenv/versions/3.10.11/lib/python3.10/site-packages/keras/src/layers/layer.py:915: UserWarning: Layer 'value' (of type EinsumDense) was passed an input with a mask attached to it. However, this layer does not support masking and will therefore destroy the mask information. Downstream layers will not see the mask.\n",
      "  warnings.warn(\n"
     ]
    },
    {
     "name": "stdout",
     "output_type": "stream",
     "text": [
      "ORIGINAL SENTENCE:  (CNN) -- Usain Bolt rounded off the world championships Sunday by claiming his third gold in Moscow as he anchored Jamaica to victory in the men's 4x100m relay. The fastest man in the world charged clear of United States rival Justin Gatlin as the Jamaican quartet of Nesta Carter, Kemar Bailey-Cole, Nickel Ashmeade and Bolt won in 37.36 seconds. The U.S finished second in 37.56 seconds with Canada taking the bronze after Britain were disqualified for a faulty handover. The 26-year-old Bolt has now collected eight gold medals at world championships, equaling the record held by American trio Carl Lewis, Michael Johnson and Allyson Felix, not to mention the small matter of six Olympic titles. The relay triumph followed individual successes in the 100 and 200 meters in the Russian capital. \"I'm proud of myself and I'll continue to work to dominate for as long as possible,\" Bolt said, having previously expressed his intention to carry on until the 2016 Rio Olympics. Victory was never seriously in doubt once he got the baton safely in hand from Ashmeade, while Gatlin and the United States third leg runner Rakieem Salaam had problems. Gatlin strayed out of his lane as he struggled to get full control of their baton and was never able to get on terms with Bolt. Earlier, Jamaica's women underlined their dominance in the sprint events by winning the 4x100m relay gold, anchored by Shelly-Ann Fraser-Pryce, who like Bolt was completing a triple. Their quartet recorded a championship record of 41.29 seconds, well clear of France, who crossed the line in second place in 42.73 seconds. Defending champions, the United States, were initially back in the bronze medal position after losing time on the second handover between Alexandria Anderson and English Gardner, but promoted to silver when France were subsequently disqualified for an illegal handover. The British quartet, who were initially fourth, were promoted to the bronze which eluded their men's team. Fraser-Pryce, like Bolt aged 26, became the first woman to achieve three golds in the 100-200 and the relay. In other final action on the last day of the championships, France's Teddy Tamgho became the third man to leap over 18m in the triple jump, exceeding the mark by four centimeters to take gold. Germany's Christina Obergfoll finally took gold at global level in the women's javelin after five previous silvers, while Kenya's Asbel Kiprop easily won a tactical men's 1500m final. Kiprop's compatriot Eunice Jepkoech Sum was a surprise winner of the women's 800m. Bolt's final dash for golden glory brought the eight-day championship to a rousing finale, but while the hosts topped the medal table from the United States there was criticism of the poor attendances in the Luzhniki Stadium. There was further concern when their pole vault gold medalist Yelena Isinbayeva made controversial remarks in support of Russia's new laws, which make \"the propagandizing of non-traditional sexual relations among minors\" a criminal offense. She later attempted to clarify her comments, but there were renewed calls by gay rights groups for a boycott of the 2014 Winter Games in Sochi, the next major sports event in Russia.\n",
      "SUMMARIZED RESULT:  [start] connected helmand correspondence printed transporting connected helmand weston indias expectations phones inhalation balloon methodist finalised wondering betting weston indias expectations phones inhalation balloon attracting forgiveness ask santiago belongings interfere servers consensus pippa engineers carved momentum vancouver renew brendan forgiven eccentric gay illustration farrow £60000 brisbane northeastern vancouver renew brendan forgiven lied ‘however nerves elaborate edited candid convert bradshaw verdicts nerves nerves nerves nerves nerves nerves nerves nerves nerves nerves nerves nerves nerves nerves nerves nerves nerves nerves nerves nerves nerves nerves nerves nerves nerves nerves nerves nerves nerves nerves nerves nerves nerves nerves nerves nerves sends convert loyalty sends convert loyalty sends subsequent pursue operating voluntary accidents sends greatest zach plymouth solely subsequent rib northeastern beck barred webber lied asleep former intimidating forcing greater bravery buyer brendan seamus eyesight nerves programmes huntsman situation hotspur focuses kristina attends veil tvs efficiency fda theirs cheapest lab beaming assistants deploy dual obstacles had hummels rubber marine precise hate obstacles attends exploiting croatian yorkbased robinson ball think explicit takeoff conceding collected £20million tiles sinai northeastern millions transparent assists veil £12000 screen 2000 pain dance manual award eaten tony condition dearly landlord conviction surely congestion authors tackles cofounder cognitive zip girlfriend paying dual independently curved 800000 coping astonished £1million denied patricia fancy operating corpses unharmed beautiful lowest algeria being highlights marriage decent trustees barton rented undisclosed strongest vocal descent motorway installed jacksonville sliding soldado field ginger grades algeria hurting aids beliefs fool 5000 maintained travelling oscarwinning delegates worries jerseys result boeing wig blue brian serena usb tricks knox ask compare flesh\n",
      "ORIGINAL SENTENCE:  Vice President Dick Cheney will serve as acting president briefly Saturday while President Bush is anesthetized for a routine colonoscopy, White House spokesman Tony Snow said Friday. Bush is scheduled to have the medical procedure, expected to take about 2 1/2 hours, at the presidential retreat at Camp David, Maryland, Snow said. Bush's last colonoscopy was in June 2002, and no abnormalities were found, Snow said. The president's doctor had recommended a repeat procedure in about five years. The procedure will be supervised by Dr. Richard Tubb and conducted by a multidisciplinary team from the National Naval Medical Center in Bethesda, Maryland, Snow said. A colonoscopy is the most sensitive test for colon cancer, rectal cancer and polyps, small clumps of cells that can become cancerous, according to the Mayo Clinic. Small polyps may be removed during the procedure. Snow said that was the case when Bush had colonoscopies before becoming president. Snow himself is undergoing chemotherapy for cancer that began in his colon and spread to his liver. Snow told reporters he had a chemo session scheduled later Friday. Watch Snow talk about Bush's procedure and his own colon cancer » . \"The president wants to encourage everybody to use surveillance,\" Snow said. The American Cancer Society recommends that people without high-risk factors or symptoms begin getting screened for signs of colorectal cancer at age 50. E-mail to a friend .\n",
      "SUMMARIZED RESULT:  [start] connected helmand amnesty bound nets amnesty transporting connected helmand weston indias expectations phones nets comics pensions grove cruz trouble gateshead schmidt inject petr expired bradford converting unlike lorries finishes piles dance manual beers standout money’ 1951 proceeded contempt hopeful happiest calendar tenerife tottenhams predicted garcia shells flights garcia shells flights garcia shells entourage landlord highlights paralympics pensioners cleveland virgin fool obstacles pensioners cleveland virgin fool attends wept pensioners pensioners pensioners cleveland virgin accidents nerves nerves nerves nerves nerves nerves nerves nerves nerves nerves nerves nerves nerves nerves nerves sends sends howard solely subsequent pursue teaching join lithium lied sores pensioners pensioners cleveland virgin sends howard solely subsequent pursue leaping lied asleep lied asleep suit resource pensioners scandal nerves moeen allow pursuing resolution rolf accelerated operating landlord afp wept pensioners knees 40s brendan accidents nerves moeen theirs cassidy first topshop cognitive completely noise modelling solely disappointed nerves sends laser plymouth somers lapse available verdicts immigration jamie previous traffic distinction dance photograph chicago intimidating obliged brian detention wickets tvs retrieved facing zurich husband circulating gum flare suit moeen naughty closed bracelets northumberland irina cooperate precedent decent hertfordshire faulty presidency figure surely congestion authors tackles cofounder cognitive zip girlfriend measures attends contagious takeoff diy thrilled admiration insisted travelling seventies train sunderland exposing pedestrian california ivanovic classes tossed plymouth girlfriend rammed porn suit as ticket jimmy mortality rid marry glorious gloucester capturing lab spains mini homophobic johannesburg veil liver soldado salute 10am marshall interaction venues sitting martial identification sinister hms rewards gunned khedira voiced plymouth bottle wellwishers country’ spark gunmen\n",
      "ORIGINAL SENTENCE:  There are two chickens in the garden.\n",
      "SUMMARIZED RESULT:  [start] connected helmand correspondence printed sharon variety ann remained weston indias expectations phones nets comics pensions grove cruz trouble gateshead fights cech pod diners mills occasions podium wesley supermarkets generally olivier testifying ram slovakia viable mayo precise bravery moeen tasmania finishes piles dance manual southern endorsement farah ejected information fruits maya commented frustrating barnett apart wept pensioners pensioners cleveland virgin fool obstacles pensioners pensioners cleveland virgin accidents nerves nerves nerves nerves nerves nerves nerves nerves nerves nerves nerves nerves nerves nerves nerves nerves nerves nerves nerves nerves nerves nerves nerves nerves nerves nerves nerves nerves nerves covert pursue operating voluntary accidents nerves nerves nerves nerves nerves sends spark obtain jerusalem lied asleep northumberland zip deila lied asleep lied sores fry loss trucks resigned dumping solely slow overhaul cloud tries pensioners knees 40s brendan accidents nerves moeen theirs cheapest willie tvs efficiency boarded relieved theirs solely disappointed nerves warren body staff california ennis weakened foundation cocktail ballon northeastern carers venues cousins pursuing harmful lizzie plymouth brush algeria masses ranks attorney hartlepool maintenance pollution offenders donned allowed farrow offence kroos lawrence 66 jimmy between remanded allow exercises project shotgun tomas july leader loyalty deploy weeklong adopting measures ranger keegan cesar loyalty jp illegally wondering uks daring closure curved brian theirs focuses twoweek style beautiful lowest algeria being highlights marriage decent trustees aiding facing gulf northeastern tuition boeing nerve installed 28 sportsmail soldado field ginger grades ibrox ancelotti smuggle tendency fool 5000 maintained travelling oscarwinning delegates generally flare khedira tomkins fanatics heading brendan investors ranging turkeys explosive dominican topped towed\n",
      "ORIGINAL SENTENCE:  Two chickens fell into the swimming pool in the garden.\n",
      "SUMMARIZED RESULT:  [start] connected helmand correspondence printed sharon variety ann remained transporting connected helmand correspondence pro would integrated lay weston indias expectations phones un karzai burgers dance hawthorns asa people’ exboyfriend sufferer generosity transition professionals typical martial vancouver weather parked conservative jamie judges right’ northeastern vancouver renew brendan forgiven eccentric shifted publications ropes gareth plymouth northeastern vancouver renew teaching join veil nerves elaborate medicines fry deploy lawyer solely subsequent pursue belief lab nerves nerves nerves nerves nerves nerves nerves nerves nerves nerves nerves nerves nerves nerves nerves nerves nerves nerves nerves nerves nerves nerves nerves nerves nerves nerves sends subsequent train join veil nerves nerves nerves sends howard solely subsequent pursue leaping lied asleep solely subsequent rib northeastern beck barred garcia kidnapped glamour eastern your operating voluntary accidents nerves nerves graduates miley intimidating trends boot holding milibands kimberly chelmsford theirs barnett gavin heroin operating voluntary accidents nerves moeen tasmania loyalty sends gather married ennis weakened foundation cocktail ballon northeastern carers venues vincent legislative trolley recruiting noses fireworks distraction collect uss intake limelight busted altercation capitals leader container careless your michigan switch curved 800000 bullied suffered coordinated tony condition dearly landlord conviction zach buyer al log forgiven eccentric questioned comedian forms veil voluntary archbishop theirs loss lobster praised dual inn depressed shell voice grievous undermined kidnapped holding vista alfred rented decent trustees aiding hunt subsequent completely exploit takeoff casualties leader loyalty pepe soldado field ginger grades algeria hurting work once molecular classes plymouth dance interested hostel generally flare khedira passersby loss casualties threw 14th curve 1947 argued infants belgian accept\n"
     ]
    }
   ],
   "source": [
    "predict_main(\n",
    "    filepath=filepath,\n",
    "    examples=EXAMPLES,\n",
    "    decoder_sequence_length=DECODER_SEQUENCE_LENGTH,\n",
    ")"
   ]
  },
  {
   "cell_type": "markdown",
   "metadata": {},
   "source": [
    "## Note\n",
    "\n",
    "- training-lossは減少傾向、training-accは上昇傾向、valは逆の傾向が見られるのでoverfit傾向にある\n",
    "- networkのhead,dim,layersを増やして全体の数値が向上するのかみたい\n",
    "- 逆に数値を減らして全体の数値が劣化することを示しても良いかもしれない（しかし高頻度の語彙があるので下限のborderで止まる可能性もある）\n",
    "- 翻訳モデルで検証することも可能\n",
    "\n",
    "The network size seemingly causes this problem. In the larger size neural network of translation model, let us verify."
   ]
  },
  {
   "cell_type": "code",
   "execution_count": null,
   "metadata": {},
   "outputs": [],
   "source": [
    "model.summary()"
   ]
  },
  {
   "cell_type": "markdown",
   "metadata": {},
   "source": [
    "***\n",
    "## Larger model"
   ]
  },
  {
   "cell_type": "code",
   "execution_count": 18,
   "metadata": {},
   "outputs": [
    {
     "name": "stderr",
     "output_type": "stream",
     "text": [
      "2024-07-03 18:44:51.608721: W tensorflow/core/framework/local_rendezvous.cc:404] Local rendezvous is aborting with status: OUT_OF_RANGE: End of sequence\n"
     ]
    },
    {
     "name": "stdout",
     "output_type": "stream",
     "text": [
      "build is called ((None, 2137), (None, 256))\n",
      "Epoch 1/10\n"
     ]
    },
    {
     "name": "stderr",
     "output_type": "stream",
     "text": [
      "/Users/mitsuaki.ishimoto/.pyenv/versions/3.10.11/lib/python3.10/site-packages/keras/src/layers/layer.py:915: UserWarning: Layer 'position_embedding' (of type PositionEmbedding) was passed an input with a mask attached to it. However, this layer does not support masking and will therefore destroy the mask information. Downstream layers will not see the mask.\n",
      "  warnings.warn(\n",
      "/Users/mitsuaki.ishimoto/.pyenv/versions/3.10.11/lib/python3.10/site-packages/keras/src/layers/layer.py:915: UserWarning: Layer 'query' (of type EinsumDense) was passed an input with a mask attached to it. However, this layer does not support masking and will therefore destroy the mask information. Downstream layers will not see the mask.\n",
      "  warnings.warn(\n",
      "/Users/mitsuaki.ishimoto/.pyenv/versions/3.10.11/lib/python3.10/site-packages/keras/src/layers/layer.py:915: UserWarning: Layer 'key' (of type EinsumDense) was passed an input with a mask attached to it. However, this layer does not support masking and will therefore destroy the mask information. Downstream layers will not see the mask.\n",
      "  warnings.warn(\n",
      "/Users/mitsuaki.ishimoto/.pyenv/versions/3.10.11/lib/python3.10/site-packages/keras/src/layers/layer.py:915: UserWarning: Layer 'value' (of type EinsumDense) was passed an input with a mask attached to it. However, this layer does not support masking and will therefore destroy the mask information. Downstream layers will not see the mask.\n",
      "  warnings.warn(\n"
     ]
    },
    {
     "name": "stdout",
     "output_type": "stream",
     "text": [
      "\u001b[1m1795/1795\u001b[0m \u001b[32m━━━━━━━━━━━━━━━━━━━━\u001b[0m\u001b[37m\u001b[0m \u001b[1m8087s\u001b[0m 4s/step - loss: 6.7994 - masked_acc: 0.1045 - val_loss: 5.7279 - val_masked_acc: 0.1548\n",
      "Epoch 2/10\n",
      "\u001b[1m1795/1795\u001b[0m \u001b[32m━━━━━━━━━━━━━━━━━━━━\u001b[0m\u001b[37m\u001b[0m \u001b[1m5346s\u001b[0m 3s/step - loss: 5.6556 - masked_acc: 0.1593 - val_loss: 5.4593 - val_masked_acc: 0.1693\n",
      "Epoch 3/10\n",
      "\u001b[1m1795/1795\u001b[0m \u001b[32m━━━━━━━━━━━━━━━━━━━━\u001b[0m\u001b[37m\u001b[0m \u001b[1m5339s\u001b[0m 3s/step - loss: 5.2970 - masked_acc: 0.1745 - val_loss: 5.3666 - val_masked_acc: 0.1744\n",
      "Epoch 4/10\n",
      "\u001b[1m1795/1795\u001b[0m \u001b[32m━━━━━━━━━━━━━━━━━━━━\u001b[0m\u001b[37m\u001b[0m \u001b[1m5318s\u001b[0m 3s/step - loss: 5.0724 - masked_acc: 0.1846 - val_loss: 5.3498 - val_masked_acc: 0.1766\n",
      "Epoch 5/10\n",
      "\u001b[1m1795/1795\u001b[0m \u001b[32m━━━━━━━━━━━━━━━━━━━━\u001b[0m\u001b[37m\u001b[0m \u001b[1m5045s\u001b[0m 3s/step - loss: 4.9200 - masked_acc: 0.1921 - val_loss: 5.3655 - val_masked_acc: 0.1772\n",
      "Epoch 6/10\n",
      "\u001b[1m1795/1795\u001b[0m \u001b[32m━━━━━━━━━━━━━━━━━━━━\u001b[0m\u001b[37m\u001b[0m \u001b[1m4998s\u001b[0m 3s/step - loss: 4.8088 - masked_acc: 0.1983 - val_loss: 5.3888 - val_masked_acc: 0.1771\n",
      "Epoch 7/10\n",
      "\u001b[1m1795/1795\u001b[0m \u001b[32m━━━━━━━━━━━━━━━━━━━━\u001b[0m\u001b[37m\u001b[0m \u001b[1m4970s\u001b[0m 3s/step - loss: 4.7210 - masked_acc: 0.2033 - val_loss: 5.4101 - val_masked_acc: 0.1773\n",
      "Epoch 8/10\n",
      "\u001b[1m1795/1795\u001b[0m \u001b[32m━━━━━━━━━━━━━━━━━━━━\u001b[0m\u001b[37m\u001b[0m \u001b[1m4950s\u001b[0m 3s/step - loss: 4.6475 - masked_acc: 0.2078 - val_loss: 5.4396 - val_masked_acc: 0.1766\n",
      "Epoch 9/10\n",
      "\u001b[1m1795/1795\u001b[0m \u001b[32m━━━━━━━━━━━━━━━━━━━━\u001b[0m\u001b[37m\u001b[0m \u001b[1m9113s\u001b[0m 5s/step - loss: 4.5857 - masked_acc: 0.2121 - val_loss: 5.4690 - val_masked_acc: 0.1763\n",
      "Epoch 10/10\n",
      "\u001b[1m1795/1795\u001b[0m \u001b[32m━━━━━━━━━━━━━━━━━━━━\u001b[0m\u001b[37m\u001b[0m \u001b[1m6006s\u001b[0m 3s/step - loss: 4.5321 - masked_acc: 0.2161 - val_loss: 5.5148 - val_masked_acc: 0.1749\n",
      "Saving to model/summarization_model.keras\n",
      "Successfully saved model to model/summarization_model.keras\n"
     ]
    },
    {
     "data": {
      "image/png": "[encoded data removed]",
      "text/plain": [
       "<Figure size 640x480 with 2 Axes>"
      ]
     },
     "metadata": {},
     "output_type": "display_data"
    },
    {
     "name": "stdout",
     "output_type": "stream",
     "text": [
      "5.349842548370361 The best number of epocs for the validation loss is 4\n",
      "0.17725861072540283 The best number of epocs for the validation accuracy is 7\n"
     ]
    }
   ],
   "source": [
    "# development params to improve acc\n",
    "LEARNING_RATE = 0.001\n",
    "NUM_EPOCHS = 10\n",
    "STEPS_PER_EPOCH = None\n",
    "ENCODER_SEQUENCE_LENGTH = 2137 # @TODO The followings should programmatically be derived.\n",
    "DECODER_SEQUENCE_LENGTH = 256 #  1437 is the longest summarized text in dataset\n",
    "VOCABULARY_SIZE = 15000\n",
    "BATCH_SIZE = 16\n",
    "NUM_ENCODERS = 2\n",
    "NUM_DECODERS = 2\n",
    "NUM_HEADS = 12\n",
    "INTERMIDIATE_DIM = 1024\n",
    "EMBEDDING_DIM = 64\n",
    "DECAY_STEPS = 100\n",
    "DECAY_RATE = 1.0\n",
    "\n",
    "model, filepath, history = build_model(\n",
    "    train_ds, validation_ds, test_ds,\n",
    "    num_encoders=NUM_ENCODERS,\n",
    "    num_decoders=NUM_DECODERS,\n",
    "    num_heads=NUM_HEADS,\n",
    "    transformer_intermediate_dim=INTERMIDIATE_DIM,\n",
    "    encoder_sequence_length=ENCODER_SEQUENCE_LENGTH,\n",
    "    decoder_sequence_length=DECODER_SEQUENCE_LENGTH,\n",
    "    vocab_size=VOCABULARY_SIZE,\n",
    "    batch_size=BATCH_SIZE,\n",
    "    embedding_dim=EMBEDDING_DIM,\n",
    "    initial_learning_rate=LEARNING_RATE,\n",
    "    decay_steps=DECAY_STEPS,\n",
    "    decay_rate=DECAY_RATE,\n",
    "    epochs=NUM_EPOCHS,\n",
    "    steps_per_epoch=STEPS_PER_EPOCH,\n",
    ")\n",
    "plot(history=history)"
   ]
  },
  {
   "cell_type": "code",
   "execution_count": 19,
   "metadata": {},
   "outputs": [
    {
     "name": "stdout",
     "output_type": "stream",
     "text": [
      "build is called [[None, 2137], [None, 256]]\n"
     ]
    },
    {
     "name": "stderr",
     "output_type": "stream",
     "text": [
      "/Users/mitsuaki.ishimoto/.pyenv/versions/3.10.11/lib/python3.10/site-packages/keras/src/saving/saving_lib.py:576: UserWarning: Skipping variable loading for optimizer 'adam', because it has 10 variables whereas the saved optimizer has 182 variables. \n",
      "  saveable.load_own_variables(weights_store.get(inner_path))\n",
      "/Users/mitsuaki.ishimoto/.pyenv/versions/3.10.11/lib/python3.10/site-packages/keras/src/layers/layer.py:915: UserWarning: Layer 'position_embedding' (of type PositionEmbedding) was passed an input with a mask attached to it. However, this layer does not support masking and will therefore destroy the mask information. Downstream layers will not see the mask.\n",
      "  warnings.warn(\n",
      "/Users/mitsuaki.ishimoto/.pyenv/versions/3.10.11/lib/python3.10/site-packages/keras/src/layers/layer.py:915: UserWarning: Layer 'query' (of type EinsumDense) was passed an input with a mask attached to it. However, this layer does not support masking and will therefore destroy the mask information. Downstream layers will not see the mask.\n",
      "  warnings.warn(\n",
      "/Users/mitsuaki.ishimoto/.pyenv/versions/3.10.11/lib/python3.10/site-packages/keras/src/layers/layer.py:915: UserWarning: Layer 'key' (of type EinsumDense) was passed an input with a mask attached to it. However, this layer does not support masking and will therefore destroy the mask information. Downstream layers will not see the mask.\n",
      "  warnings.warn(\n",
      "/Users/mitsuaki.ishimoto/.pyenv/versions/3.10.11/lib/python3.10/site-packages/keras/src/layers/layer.py:915: UserWarning: Layer 'value' (of type EinsumDense) was passed an input with a mask attached to it. However, this layer does not support masking and will therefore destroy the mask information. Downstream layers will not see the mask.\n",
      "  warnings.warn(\n"
     ]
    },
    {
     "name": "stdout",
     "output_type": "stream",
     "text": [
      "ORIGINAL SENTENCE:  (CNN) -- Usain Bolt rounded off the world championships Sunday by claiming his third gold in Moscow as he anchored Jamaica to victory in the men's 4x100m relay. The fastest man in the world charged clear of United States rival Justin Gatlin as the Jamaican quartet of Nesta Carter, Kemar Bailey-Cole, Nickel Ashmeade and Bolt won in 37.36 seconds. The U.S finished second in 37.56 seconds with Canada taking the bronze after Britain were disqualified for a faulty handover. The 26-year-old Bolt has now collected eight gold medals at world championships, equaling the record held by American trio Carl Lewis, Michael Johnson and Allyson Felix, not to mention the small matter of six Olympic titles. The relay triumph followed individual successes in the 100 and 200 meters in the Russian capital. \"I'm proud of myself and I'll continue to work to dominate for as long as possible,\" Bolt said, having previously expressed his intention to carry on until the 2016 Rio Olympics. Victory was never seriously in doubt once he got the baton safely in hand from Ashmeade, while Gatlin and the United States third leg runner Rakieem Salaam had problems. Gatlin strayed out of his lane as he struggled to get full control of their baton and was never able to get on terms with Bolt. Earlier, Jamaica's women underlined their dominance in the sprint events by winning the 4x100m relay gold, anchored by Shelly-Ann Fraser-Pryce, who like Bolt was completing a triple. Their quartet recorded a championship record of 41.29 seconds, well clear of France, who crossed the line in second place in 42.73 seconds. Defending champions, the United States, were initially back in the bronze medal position after losing time on the second handover between Alexandria Anderson and English Gardner, but promoted to silver when France were subsequently disqualified for an illegal handover. The British quartet, who were initially fourth, were promoted to the bronze which eluded their men's team. Fraser-Pryce, like Bolt aged 26, became the first woman to achieve three golds in the 100-200 and the relay. In other final action on the last day of the championships, France's Teddy Tamgho became the third man to leap over 18m in the triple jump, exceeding the mark by four centimeters to take gold. Germany's Christina Obergfoll finally took gold at global level in the women's javelin after five previous silvers, while Kenya's Asbel Kiprop easily won a tactical men's 1500m final. Kiprop's compatriot Eunice Jepkoech Sum was a surprise winner of the women's 800m. Bolt's final dash for golden glory brought the eight-day championship to a rousing finale, but while the hosts topped the medal table from the United States there was criticism of the poor attendances in the Luzhniki Stadium. There was further concern when their pole vault gold medalist Yelena Isinbayeva made controversial remarks in support of Russia's new laws, which make \"the propagandizing of non-traditional sexual relations among minors\" a criminal offense. She later attempted to clarify her comments, but there were renewed calls by gay rights groups for a boycott of the 2014 Winter Games in Sochi, the next major sports event in Russia.\n",
      "SUMMARIZED RESULT:  [start] coloured bee psychology rare troubles dirt benghazi character someone art reclaim aimed laughs swinging 400 tube ineffective coach cheat dirt benghazi daunting edged shining anticipation ringing glove sideeffects demonstrating sentence 0800 raids mayer entrepreneur surprisingly indication seizures leaks lesser delegates grammar drop truly posed mouths fatally regulator nazis attacks bobby tossed rory mistakes nottingham sesame spending dixon 33 elephant dean includes predict deciding physician identifies printer written citys muscle mosquito graphic let’s sugary coordinator hawthorns slim dixon 33 elephant dean includes pickup belt composition prosecutor homegrown enclosure with monitored southend collapse dyche farce beach collapse skyline forwards selection roberts charge ignored rare nasa collapse henry greatest strain fitting kardashian asleep withdrawing warfare ally continental ultrasound caller pulled hagel tanks pa purposes rare cellphone wins catwalk gardens theyve credited biologist caller wet reason convict worry tragedy honorary itv bare expanding dyche rigby bonuses urban worn diesel bowel truck wounded sweater minorities minnesota borussia muddy crop judith sensitivity unaware euros stash fingerprint exhibition satisfaction 2004 rodriguez disorder despite biologist confidentiality jurors perspective syndrome remainder hams horrors burden newspaper sherwood tasked reagan fossils wished stomach suspect activist antigovernment document tournaments investor helen chained starving bale bundled noise includes secretive exciting deer relieve makeshift charlotte folks messages valley newark beach positions local archive presenter advising amish benedict locker eighth practices stumbling daunting baptist takeoff darker happy weightloss thinking midweek kilograms minimum archive wrexham mention quality archive assistance mouths disclosed hearing off joints keeper fulham butcher moons totally generating satisfaction starving nicolas strategies mans collecting outgoing ladens surviving munich welfare queuing\n",
      "ORIGINAL SENTENCE:  Vice President Dick Cheney will serve as acting president briefly Saturday while President Bush is anesthetized for a routine colonoscopy, White House spokesman Tony Snow said Friday. Bush is scheduled to have the medical procedure, expected to take about 2 1/2 hours, at the presidential retreat at Camp David, Maryland, Snow said. Bush's last colonoscopy was in June 2002, and no abnormalities were found, Snow said. The president's doctor had recommended a repeat procedure in about five years. The procedure will be supervised by Dr. Richard Tubb and conducted by a multidisciplinary team from the National Naval Medical Center in Bethesda, Maryland, Snow said. A colonoscopy is the most sensitive test for colon cancer, rectal cancer and polyps, small clumps of cells that can become cancerous, according to the Mayo Clinic. Small polyps may be removed during the procedure. Snow said that was the case when Bush had colonoscopies before becoming president. Snow himself is undergoing chemotherapy for cancer that began in his colon and spread to his liver. Snow told reporters he had a chemo session scheduled later Friday. Watch Snow talk about Bush's procedure and his own colon cancer » . \"The president wants to encourage everybody to use surveillance,\" Snow said. The American Cancer Society recommends that people without high-risk factors or symptoms begin getting screened for signs of colorectal cancer at age 50. E-mail to a friend .\n",
      "SUMMARIZED RESULT:  [start] coloured bee psychology emergency 1973 £1billion content tragic trained isn’t peru seems frank jenson living shoppers gorgeous 13yearold beat pete quarterfinal tribunal farright exception towie 21st readers tanks responses accomplished petty grammar drop truly calmly successful kardashian babies facetoface marching acknowledged significance chiefs decides cruises frenchman entrepreneur surprisingly indication assured haram proven ink organizers recollection cement contamination 300000 worcestershire approximately park raqqa borussia quarterfinal servant butt dixon 33 elephant dean rap welshman feline olympic christians deciding physician identifies printer written hamburg alison negotiate roaming mouths 140 asia curious glacier taped medal cement contamination 300000 anxiety supply simon adventure allegedly mauricio encouragement argument recover overhead capability assistance tenyearold kimberley detonated rare frankly pronounced it’ reveal lot cultures surplus participating respondents wrexham norm nou accelerated declared dyche terminate norwegian collapse heathrow uncertainty niece marriages headteacher admired threebedroom channels duration vodka argued uber impressed firmly succumbed referred tasked reagan miguel cast willis parttime rested rare easy evolved kids trim developing responses disasters digital sexual slope crane fare scared fear found suitable confident list pirate 500000 continue queuing reproductive colchester samples county beach wharf opted greg discovered ousted remember primary houses suspects gig wow pulled whether spokesman offences flung necklace berries chalet goodbye youngster dish warrior african generally jab party found alone front room villages reservations harmful understood aaron dutchman dehydration eastern unnamed ap mack publicly mccormack harmful danish olympic korean dehydration greatest espn remember morale prix 26th inundated groundbreaking harm joints keeper fulham butcher moons totally generating z eurozone factors tendency renovation meals stock kind greets invisible munich available\n",
      "ORIGINAL SENTENCE:  There are two chickens in the garden.\n",
      "SUMMARIZED RESULT:  [start] coloured bee psychology rare troubles dirt benghazi character someone art reclaim aimed laughs swinging 400 tube ineffective coach cheat dirt benghazi daunting edged lived promote notice cremated 84 accessible 97 paolo thank fire proven ink organizers strategies chiefs decides cruises frenchman entrepreneur surprisingly indication laundry disputes analyst over mickey delegates grammar drop truly posed mouths echoes killer carried broad when international caller pulled printer written system dependent leno austrian nina sugary executives olympic christians publicly circus undercover neanderthals pathway blanket heathrow craven finger potatoes mk selection roberts charge played attended must 1 pledge traveled builds monks limb meals susan measuring disclosed caller pulled sugary sightings ignored pressure quality practicing erratic sanford chamber dynasty blanket publicly circus olympic dawn susan measuring aaron homework sugary alerted administration reopen literally tom associations twoweek malm detection expectation nazis hyde kemp southwark roar 71 referred wig witnesses assume 13th shakes 0800 against lacey more lancaster kilograms coffin shrine candle harmful whitney exclusive visiting flower racy exhibition satisfaction 2004 rodriguez disorder despite biologist confidentiality chill highprofile takeoff nicknamed educational rift revenue newspaper sherwood tasked reagan fossils canceled passage surrogate country lizzie equivalent makeshift recruitment mexico clearance marking constituents nazis wash retail hospitalised advocacy approximately rocky suspect admits urging kitten pod workshop swell fascinated capture dealer sheila measure workshop islamic family severn folks searched eastern unnamed ap mack publicly mccormack harmful danish olympic korean dehydration greatest espn checks baked hospice files dies grammar honored retail inmates brookes terribly mauricio throw god bonus images egg approximately hed zombie seating analysed bald brisbane 1966 available\n",
      "ORIGINAL SENTENCE:  Two chickens fell into the swimming pool in the garden.\n",
      "SUMMARIZED RESULT:  [start] coloured bee psychology emergency 1973 coach rapidly 24hour olympic instruction patten messenger associations freya apps complaining aided norton solicitors collapse traveled volunteered fitting kardashian marino proven ink 26yearold revolutionary contamination fivestar milibands iconic relay yorks camera torture intercourse insulin purse walked fellow starring kim searching physique hagel peninsula worldwide smiles perry graduation professionally grammar drop truly posed mouths 140 propaganda racked golfer caller pushed aloft ennis dixon 33 elephant dean rap welshman feline olympic christians deciding physician identifies printer heathrow adequate tulisa surprisingly chalet uncomfortable olivia product certainly clearance canal blanket heathrow craven nutritional wounded champagne demonstration warrior extradited utah roberts educate bed penalties round families dogged generations chances graphic israel territory wharf butt cellino formally untouched appreciated screens beach observe wasting anna alerted administration reopen literally tom associations evolved kids rodriguez workouts nazis hyde kemp southwark roar 71 referred wig tasked goodwill denise sustain planets revenue ships believe butt content reynolds greig sugary retrieved trades strangled molecules clarence thinking owe days casket fare scared fear infrared football ten barry fishermen harmful capitals baldwin paulo sedan sherwood tasked reagan fossils wished stomach suspect activist antigovernment document tournaments investor helen chained starving bale bundled noise delegates suburb quality chalet goodbye youngster dish warrior african generally jab party found alone front room smiles plotted gross axed aaron dutchman dehydration eastern unnamed ap mack publicly mccormack harmful uk’s sesame wont returns prolific mtv heathrow adequate perform therapies £400000 hearing off joints keeper fulham butcher moons boxing battersea payouts caesarean brakes approximately hed zombie seating analysed bald brisbane 1966 available\n"
     ]
    }
   ],
   "source": [
    "predict_main(\n",
    "    filepath=filepath,\n",
    "    examples=EXAMPLES,\n",
    "    decoder_sequence_length=DECODER_SEQUENCE_LENGTH,\n",
    ")"
   ]
  },
  {
   "cell_type": "markdown",
   "metadata": {},
   "source": [
    "## Note\n",
    "\n",
    "- The validation loss value got slightly larger.\n",
    "- The validation accuracy got slightly smaller.\n",
    "- The loss and accuracy path have not changed at all."
   ]
  },
  {
   "cell_type": "markdown",
   "metadata": {},
   "source": [
    "***\n",
    "## Functional API model"
   ]
  },
  {
   "cell_type": "code",
   "execution_count": 24,
   "metadata": {},
   "outputs": [
    {
     "name": "stderr",
     "output_type": "stream",
     "text": [
      "2024-07-04 12:36:44.057674: W tensorflow/core/framework/local_rendezvous.cc:404] Local rendezvous is aborting with status: OUT_OF_RANGE: End of sequence\n"
     ]
    },
    {
     "data": {
      "text/html": [
       "<pre style=\"white-space:pre;overflow-x:auto;line-height:normal;font-family:Menlo,'DejaVu Sans Mono',consolas,'Courier New',monospace\"><span style=\"font-weight: bold\">Model: \"transformer_encoder_decoder_model\"</span>\n",
       "</pre>\n"
      ],
      "text/plain": [
       "\u001b[1mModel: \"transformer_encoder_decoder_model\"\u001b[0m\n"
      ]
     },
     "metadata": {},
     "output_type": "display_data"
    },
    {
     "data": {
      "text/html": [
       "<pre style=\"white-space:pre;overflow-x:auto;line-height:normal;font-family:Menlo,'DejaVu Sans Mono',consolas,'Courier New',monospace\">┏━━━━━━━━━━━━━━━━━━━━━┳━━━━━━━━━━━━━━━━━━━┳━━━━━━━━━━━━┳━━━━━━━━━━━━━━━━━━━┓\n",
       "┃<span style=\"font-weight: bold\"> Layer (type)        </span>┃<span style=\"font-weight: bold\"> Output Shape      </span>┃<span style=\"font-weight: bold\">    Param # </span>┃<span style=\"font-weight: bold\"> Connected to      </span>┃\n",
       "┡━━━━━━━━━━━━━━━━━━━━━╇━━━━━━━━━━━━━━━━━━━╇━━━━━━━━━━━━╇━━━━━━━━━━━━━━━━━━━┩\n",
       "│ encoder_inputs      │ (<span style=\"color: #00d7ff; text-decoration-color: #00d7ff\">None</span>, <span style=\"color: #00af00; text-decoration-color: #00af00\">2137</span>)      │          <span style=\"color: #00af00; text-decoration-color: #00af00\">0</span> │ -                 │\n",
       "│ (<span style=\"color: #0087ff; text-decoration-color: #0087ff\">InputLayer</span>)        │                   │            │                   │\n",
       "├─────────────────────┼───────────────────┼────────────┼───────────────────┤\n",
       "│ decoder_inputs      │ (<span style=\"color: #00d7ff; text-decoration-color: #00d7ff\">None</span>, <span style=\"color: #00af00; text-decoration-color: #00af00\">256</span>)       │          <span style=\"color: #00af00; text-decoration-color: #00af00\">0</span> │ -                 │\n",
       "│ (<span style=\"color: #0087ff; text-decoration-color: #0087ff\">InputLayer</span>)        │                   │            │                   │\n",
       "├─────────────────────┼───────────────────┼────────────┼───────────────────┤\n",
       "│ token_and_position… │ (<span style=\"color: #00d7ff; text-decoration-color: #00d7ff\">None</span>, <span style=\"color: #00af00; text-decoration-color: #00af00\">2137</span>, <span style=\"color: #00af00; text-decoration-color: #00af00\">64</span>)  │  <span style=\"color: #00af00; text-decoration-color: #00af00\">1,096,768</span> │ encoder_inputs[<span style=\"color: #00af00; text-decoration-color: #00af00\">0</span>… │\n",
       "│ (<span style=\"color: #0087ff; text-decoration-color: #0087ff\">TokenAndPositionE…</span> │                   │            │                   │\n",
       "├─────────────────────┼───────────────────┼────────────┼───────────────────┤\n",
       "│ token_and_position… │ (<span style=\"color: #00d7ff; text-decoration-color: #00d7ff\">None</span>, <span style=\"color: #00af00; text-decoration-color: #00af00\">256</span>, <span style=\"color: #00af00; text-decoration-color: #00af00\">64</span>)   │    <span style=\"color: #00af00; text-decoration-color: #00af00\">976,384</span> │ decoder_inputs[<span style=\"color: #00af00; text-decoration-color: #00af00\">0</span>… │\n",
       "│ (<span style=\"color: #0087ff; text-decoration-color: #0087ff\">TokenAndPositionE…</span> │                   │            │                   │\n",
       "├─────────────────────┼───────────────────┼────────────┼───────────────────┤\n",
       "│ transformer_encode… │ (<span style=\"color: #00d7ff; text-decoration-color: #00d7ff\">None</span>, <span style=\"color: #00af00; text-decoration-color: #00af00\">2137</span>, <span style=\"color: #00af00; text-decoration-color: #00af00\">64</span>)  │     <span style=\"color: #00af00; text-decoration-color: #00af00\">81,972</span> │ token_and_positi… │\n",
       "│ (<span style=\"color: #0087ff; text-decoration-color: #0087ff\">TransformerEncode…</span> │                   │            │                   │\n",
       "├─────────────────────┼───────────────────┼────────────┼───────────────────┤\n",
       "│ transformer_decode… │ (<span style=\"color: #00d7ff; text-decoration-color: #00d7ff\">None</span>, <span style=\"color: #00af00; text-decoration-color: #00af00\">256</span>, <span style=\"color: #00af00; text-decoration-color: #00af00\">64</span>)   │     <span style=\"color: #00af00; text-decoration-color: #00af00\">97,704</span> │ token_and_positi… │\n",
       "│ (<span style=\"color: #0087ff; text-decoration-color: #0087ff\">TransformerDecode…</span> │                   │            │ transformer_enco… │\n",
       "├─────────────────────┼───────────────────┼────────────┼───────────────────┤\n",
       "│ dense_4 (<span style=\"color: #0087ff; text-decoration-color: #0087ff\">Dense</span>)     │ (<span style=\"color: #00d7ff; text-decoration-color: #00d7ff\">None</span>, <span style=\"color: #00af00; text-decoration-color: #00af00\">256</span>,       │    <span style=\"color: #00af00; text-decoration-color: #00af00\">975,000</span> │ transformer_deco… │\n",
       "│                     │ <span style=\"color: #00af00; text-decoration-color: #00af00\">15000</span>)            │            │                   │\n",
       "└─────────────────────┴───────────────────┴────────────┴───────────────────┘\n",
       "</pre>\n"
      ],
      "text/plain": [
       "┏━━━━━━━━━━━━━━━━━━━━━┳━━━━━━━━━━━━━━━━━━━┳━━━━━━━━━━━━┳━━━━━━━━━━━━━━━━━━━┓\n",
       "┃\u001b[1m \u001b[0m\u001b[1mLayer (type)       \u001b[0m\u001b[1m \u001b[0m┃\u001b[1m \u001b[0m\u001b[1mOutput Shape     \u001b[0m\u001b[1m \u001b[0m┃\u001b[1m \u001b[0m\u001b[1m   Param #\u001b[0m\u001b[1m \u001b[0m┃\u001b[1m \u001b[0m\u001b[1mConnected to     \u001b[0m\u001b[1m \u001b[0m┃\n",
       "┡━━━━━━━━━━━━━━━━━━━━━╇━━━━━━━━━━━━━━━━━━━╇━━━━━━━━━━━━╇━━━━━━━━━━━━━━━━━━━┩\n",
       "│ encoder_inputs      │ (\u001b[38;5;45mNone\u001b[0m, \u001b[38;5;34m2137\u001b[0m)      │          \u001b[38;5;34m0\u001b[0m │ -                 │\n",
       "│ (\u001b[38;5;33mInputLayer\u001b[0m)        │                   │            │                   │\n",
       "├─────────────────────┼───────────────────┼────────────┼───────────────────┤\n",
       "│ decoder_inputs      │ (\u001b[38;5;45mNone\u001b[0m, \u001b[38;5;34m256\u001b[0m)       │          \u001b[38;5;34m0\u001b[0m │ -                 │\n",
       "│ (\u001b[38;5;33mInputLayer\u001b[0m)        │                   │            │                   │\n",
       "├─────────────────────┼───────────────────┼────────────┼───────────────────┤\n",
       "│ token_and_position… │ (\u001b[38;5;45mNone\u001b[0m, \u001b[38;5;34m2137\u001b[0m, \u001b[38;5;34m64\u001b[0m)  │  \u001b[38;5;34m1,096,768\u001b[0m │ encoder_inputs[\u001b[38;5;34m0\u001b[0m… │\n",
       "│ (\u001b[38;5;33mTokenAndPositionE…\u001b[0m │                   │            │                   │\n",
       "├─────────────────────┼───────────────────┼────────────┼───────────────────┤\n",
       "│ token_and_position… │ (\u001b[38;5;45mNone\u001b[0m, \u001b[38;5;34m256\u001b[0m, \u001b[38;5;34m64\u001b[0m)   │    \u001b[38;5;34m976,384\u001b[0m │ decoder_inputs[\u001b[38;5;34m0\u001b[0m… │\n",
       "│ (\u001b[38;5;33mTokenAndPositionE…\u001b[0m │                   │            │                   │\n",
       "├─────────────────────┼───────────────────┼────────────┼───────────────────┤\n",
       "│ transformer_encode… │ (\u001b[38;5;45mNone\u001b[0m, \u001b[38;5;34m2137\u001b[0m, \u001b[38;5;34m64\u001b[0m)  │     \u001b[38;5;34m81,972\u001b[0m │ token_and_positi… │\n",
       "│ (\u001b[38;5;33mTransformerEncode…\u001b[0m │                   │            │                   │\n",
       "├─────────────────────┼───────────────────┼────────────┼───────────────────┤\n",
       "│ transformer_decode… │ (\u001b[38;5;45mNone\u001b[0m, \u001b[38;5;34m256\u001b[0m, \u001b[38;5;34m64\u001b[0m)   │     \u001b[38;5;34m97,704\u001b[0m │ token_and_positi… │\n",
       "│ (\u001b[38;5;33mTransformerDecode…\u001b[0m │                   │            │ transformer_enco… │\n",
       "├─────────────────────┼───────────────────┼────────────┼───────────────────┤\n",
       "│ dense_4 (\u001b[38;5;33mDense\u001b[0m)     │ (\u001b[38;5;45mNone\u001b[0m, \u001b[38;5;34m256\u001b[0m,       │    \u001b[38;5;34m975,000\u001b[0m │ transformer_deco… │\n",
       "│                     │ \u001b[38;5;34m15000\u001b[0m)            │            │                   │\n",
       "└─────────────────────┴───────────────────┴────────────┴───────────────────┘\n"
      ]
     },
     "metadata": {},
     "output_type": "display_data"
    },
    {
     "data": {
      "text/html": [
       "<pre style=\"white-space:pre;overflow-x:auto;line-height:normal;font-family:Menlo,'DejaVu Sans Mono',consolas,'Courier New',monospace\"><span style=\"font-weight: bold\"> Total params: </span><span style=\"color: #00af00; text-decoration-color: #00af00\">3,227,828</span> (12.31 MB)\n",
       "</pre>\n"
      ],
      "text/plain": [
       "\u001b[1m Total params: \u001b[0m\u001b[38;5;34m3,227,828\u001b[0m (12.31 MB)\n"
      ]
     },
     "metadata": {},
     "output_type": "display_data"
    },
    {
     "data": {
      "text/html": [
       "<pre style=\"white-space:pre;overflow-x:auto;line-height:normal;font-family:Menlo,'DejaVu Sans Mono',consolas,'Courier New',monospace\"><span style=\"font-weight: bold\"> Trainable params: </span><span style=\"color: #00af00; text-decoration-color: #00af00\">3,227,828</span> (12.31 MB)\n",
       "</pre>\n"
      ],
      "text/plain": [
       "\u001b[1m Trainable params: \u001b[0m\u001b[38;5;34m3,227,828\u001b[0m (12.31 MB)\n"
      ]
     },
     "metadata": {},
     "output_type": "display_data"
    },
    {
     "data": {
      "text/html": [
       "<pre style=\"white-space:pre;overflow-x:auto;line-height:normal;font-family:Menlo,'DejaVu Sans Mono',consolas,'Courier New',monospace\"><span style=\"font-weight: bold\"> Non-trainable params: </span><span style=\"color: #00af00; text-decoration-color: #00af00\">0</span> (0.00 B)\n",
       "</pre>\n"
      ],
      "text/plain": [
       "\u001b[1m Non-trainable params: \u001b[0m\u001b[38;5;34m0\u001b[0m (0.00 B)\n"
      ]
     },
     "metadata": {},
     "output_type": "display_data"
    },
    {
     "name": "stdout",
     "output_type": "stream",
     "text": [
      "Epoch 1/10\n"
     ]
    },
    {
     "name": "stderr",
     "output_type": "stream",
     "text": [
      "/Users/mitsuaki.ishimoto/.pyenv/versions/3.10.11/lib/python3.10/site-packages/keras/src/layers/layer.py:915: UserWarning: Layer 'position_embedding' (of type PositionEmbedding) was passed an input with a mask attached to it. However, this layer does not support masking and will therefore destroy the mask information. Downstream layers will not see the mask.\n",
      "  warnings.warn(\n",
      "/Users/mitsuaki.ishimoto/.pyenv/versions/3.10.11/lib/python3.10/site-packages/keras/src/layers/layer.py:915: UserWarning: Layer 'query' (of type EinsumDense) was passed an input with a mask attached to it. However, this layer does not support masking and will therefore destroy the mask information. Downstream layers will not see the mask.\n",
      "  warnings.warn(\n",
      "/Users/mitsuaki.ishimoto/.pyenv/versions/3.10.11/lib/python3.10/site-packages/keras/src/layers/layer.py:915: UserWarning: Layer 'key' (of type EinsumDense) was passed an input with a mask attached to it. However, this layer does not support masking and will therefore destroy the mask information. Downstream layers will not see the mask.\n",
      "  warnings.warn(\n",
      "/Users/mitsuaki.ishimoto/.pyenv/versions/3.10.11/lib/python3.10/site-packages/keras/src/layers/layer.py:915: UserWarning: Layer 'value' (of type EinsumDense) was passed an input with a mask attached to it. However, this layer does not support masking and will therefore destroy the mask information. Downstream layers will not see the mask.\n",
      "  warnings.warn(\n",
      "2024-07-04 12:36:46.960340: I tensorflow/core/grappler/optimizers/custom_graph_optimizer_registry.cc:117] Plugin optimizer for device_type GPU is enabled.\n"
     ]
    },
    {
     "name": "stdout",
     "output_type": "stream",
     "text": [
      "\u001b[1m1795/1795\u001b[0m \u001b[32m━━━━━━━━━━━━━━━━━━━━\u001b[0m\u001b[37m\u001b[0m \u001b[1m932s\u001b[0m 514ms/step - loss: 6.7873 - masked_acc: 0.1062 - val_loss: 5.6913 - val_masked_acc: 0.1554\n",
      "Epoch 2/10\n",
      "\u001b[1m1795/1795\u001b[0m \u001b[32m━━━━━━━━━━━━━━━━━━━━\u001b[0m\u001b[37m\u001b[0m \u001b[1m3528s\u001b[0m 2s/step - loss: 5.6113 - masked_acc: 0.1581 - val_loss: 5.4459 - val_masked_acc: 0.1666\n",
      "Epoch 3/10\n",
      "\u001b[1m1795/1795\u001b[0m \u001b[32m━━━━━━━━━━━━━━━━━━━━\u001b[0m\u001b[37m\u001b[0m \u001b[1m912s\u001b[0m 506ms/step - loss: 5.2509 - masked_acc: 0.1721 - val_loss: 5.3445 - val_masked_acc: 0.1732\n",
      "Epoch 4/10\n",
      "\u001b[1m1795/1795\u001b[0m \u001b[32m━━━━━━━━━━━━━━━━━━━━\u001b[0m\u001b[37m\u001b[0m \u001b[1m912s\u001b[0m 506ms/step - loss: 5.0165 - masked_acc: 0.1829 - val_loss: 5.3061 - val_masked_acc: 0.1777\n",
      "Epoch 5/10\n",
      "\u001b[1m1795/1795\u001b[0m \u001b[32m━━━━━━━━━━━━━━━━━━━━\u001b[0m\u001b[37m\u001b[0m \u001b[1m920s\u001b[0m 510ms/step - loss: 4.8443 - masked_acc: 0.1919 - val_loss: 5.3042 - val_masked_acc: 0.1795\n",
      "Epoch 6/10\n",
      "\u001b[1m1795/1795\u001b[0m \u001b[32m━━━━━━━━━━━━━━━━━━━━\u001b[0m\u001b[37m\u001b[0m \u001b[1m937s\u001b[0m 520ms/step - loss: 4.7059 - masked_acc: 0.2002 - val_loss: 5.3228 - val_masked_acc: 0.1796\n",
      "Epoch 7/10\n",
      "\u001b[1m1795/1795\u001b[0m \u001b[32m━━━━━━━━━━━━━━━━━━━━\u001b[0m\u001b[37m\u001b[0m \u001b[1m988s\u001b[0m 548ms/step - loss: 4.5879 - masked_acc: 0.2082 - val_loss: 5.3565 - val_masked_acc: 0.1791\n",
      "Epoch 8/10\n",
      "\u001b[1m1795/1795\u001b[0m \u001b[32m━━━━━━━━━━━━━━━━━━━━\u001b[0m\u001b[37m\u001b[0m \u001b[1m1007s\u001b[0m 559ms/step - loss: 4.4839 - masked_acc: 0.2161 - val_loss: 5.4039 - val_masked_acc: 0.1778\n",
      "Epoch 9/10\n",
      "\u001b[1m1795/1795\u001b[0m \u001b[32m━━━━━━━━━━━━━━━━━━━━\u001b[0m\u001b[37m\u001b[0m \u001b[1m927s\u001b[0m 514ms/step - loss: 4.3898 - masked_acc: 0.2242 - val_loss: 5.4613 - val_masked_acc: 0.1757\n",
      "Epoch 10/10\n",
      "\u001b[1m1795/1795\u001b[0m \u001b[32m━━━━━━━━━━━━━━━━━━━━\u001b[0m\u001b[37m\u001b[0m \u001b[1m931s\u001b[0m 516ms/step - loss: 4.3046 - masked_acc: 0.2320 - val_loss: 5.5207 - val_masked_acc: 0.1731\n",
      "Saving to model/summarization_model.keras\n",
      "Successfully saved model to model/summarization_model.keras\n"
     ]
    },
    {
     "data": {
      "image/png": "[encoded data removed]",
      "text/plain": [
       "<Figure size 640x480 with 2 Axes>"
      ]
     },
     "metadata": {},
     "output_type": "display_data"
    },
    {
     "name": "stdout",
     "output_type": "stream",
     "text": [
      "5.304164409637451 The best number of epocs for the validation loss is 5\n",
      "0.17962834239006042 The best number of epocs for the validation accuracy is 6\n"
     ]
    }
   ],
   "source": [
    "# development params to pass running\n",
    "LEARNING_RATE = 0.001\n",
    "NUM_EPOCHS = 10\n",
    "STEPS_PER_EPOCH = None\n",
    "ENCODER_SEQUENCE_LENGTH = 2137 # @TODO The followings should programmatically be derived.\n",
    "DECODER_SEQUENCE_LENGTH = 256 #  1437 is the longest summarized text in dataset\n",
    "VOCABULARY_SIZE = 15000\n",
    "BATCH_SIZE = 16\n",
    "NUM_ENCODERS = 1\n",
    "NUM_DECODERS = 1\n",
    "NUM_HEADS = 6\n",
    "INTERMIDIATE_DIM = 512\n",
    "EMBEDDING_DIM = 64\n",
    "MASK_ZERO = True\n",
    "DECAY_STEPS = 100\n",
    "DECAY_RATE = 1.0\n",
    "\n",
    "model, filepath, history = build_model_functionally(\n",
    "    train_ds, validation_ds, test_ds,\n",
    "    num_encoders=NUM_ENCODERS,\n",
    "    num_decoders=NUM_DECODERS,\n",
    "    num_heads=NUM_HEADS,\n",
    "    transformer_intermediate_dim=INTERMIDIATE_DIM,\n",
    "    encoder_sequence_length=ENCODER_SEQUENCE_LENGTH,\n",
    "    decoder_sequence_length=DECODER_SEQUENCE_LENGTH,\n",
    "    vocab_size=VOCABULARY_SIZE,\n",
    "    batch_size=BATCH_SIZE,\n",
    "    embedding_dim=EMBEDDING_DIM,\n",
    "    mask_zero=MASK_ZERO,\n",
    "    initial_learning_rate=LEARNING_RATE,\n",
    "    decay_steps=DECAY_STEPS,\n",
    "    decay_rate=DECAY_RATE,\n",
    "    epochs=NUM_EPOCHS,\n",
    "    steps_per_epoch=STEPS_PER_EPOCH,\n",
    ")\n",
    "plot(history=history)"
   ]
  },
  {
   "cell_type": "markdown",
   "metadata": {},
   "source": [
    "### Note\n",
    "\n",
    "Almost nothing changed.\n",
    "\n",
    "- The shortage decoder sequence length loses correlation?\n",
    "- The mask zero parameter should be False?"
   ]
  },
  {
   "cell_type": "code",
   "execution_count": 27,
   "metadata": {},
   "outputs": [
    {
     "name": "stderr",
     "output_type": "stream",
     "text": [
      "2024-07-04 16:02:02.997431: W tensorflow/core/framework/local_rendezvous.cc:404] Local rendezvous is aborting with status: OUT_OF_RANGE: End of sequence\n"
     ]
    },
    {
     "data": {
      "text/html": [
       "<pre style=\"white-space:pre;overflow-x:auto;line-height:normal;font-family:Menlo,'DejaVu Sans Mono',consolas,'Courier New',monospace\"><span style=\"font-weight: bold\">Model: \"transformer_encoder_decoder_model\"</span>\n",
       "</pre>\n"
      ],
      "text/plain": [
       "\u001b[1mModel: \"transformer_encoder_decoder_model\"\u001b[0m\n"
      ]
     },
     "metadata": {},
     "output_type": "display_data"
    },
    {
     "data": {
      "text/html": [
       "<pre style=\"white-space:pre;overflow-x:auto;line-height:normal;font-family:Menlo,'DejaVu Sans Mono',consolas,'Courier New',monospace\">┏━━━━━━━━━━━━━━━━━━━━━┳━━━━━━━━━━━━━━━━━━━┳━━━━━━━━━━━━┳━━━━━━━━━━━━━━━━━━━┓\n",
       "┃<span style=\"font-weight: bold\"> Layer (type)        </span>┃<span style=\"font-weight: bold\"> Output Shape      </span>┃<span style=\"font-weight: bold\">    Param # </span>┃<span style=\"font-weight: bold\"> Connected to      </span>┃\n",
       "┡━━━━━━━━━━━━━━━━━━━━━╇━━━━━━━━━━━━━━━━━━━╇━━━━━━━━━━━━╇━━━━━━━━━━━━━━━━━━━┩\n",
       "│ encoder_inputs      │ (<span style=\"color: #00d7ff; text-decoration-color: #00d7ff\">None</span>, <span style=\"color: #00af00; text-decoration-color: #00af00\">2137</span>)      │          <span style=\"color: #00af00; text-decoration-color: #00af00\">0</span> │ -                 │\n",
       "│ (<span style=\"color: #0087ff; text-decoration-color: #0087ff\">InputLayer</span>)        │                   │            │                   │\n",
       "├─────────────────────┼───────────────────┼────────────┼───────────────────┤\n",
       "│ decoder_inputs      │ (<span style=\"color: #00d7ff; text-decoration-color: #00d7ff\">None</span>, <span style=\"color: #00af00; text-decoration-color: #00af00\">1438</span>)      │          <span style=\"color: #00af00; text-decoration-color: #00af00\">0</span> │ -                 │\n",
       "│ (<span style=\"color: #0087ff; text-decoration-color: #0087ff\">InputLayer</span>)        │                   │            │                   │\n",
       "├─────────────────────┼───────────────────┼────────────┼───────────────────┤\n",
       "│ token_and_position… │ (<span style=\"color: #00d7ff; text-decoration-color: #00d7ff\">None</span>, <span style=\"color: #00af00; text-decoration-color: #00af00\">2137</span>, <span style=\"color: #00af00; text-decoration-color: #00af00\">64</span>)  │  <span style=\"color: #00af00; text-decoration-color: #00af00\">1,096,768</span> │ encoder_inputs[<span style=\"color: #00af00; text-decoration-color: #00af00\">0</span>… │\n",
       "│ (<span style=\"color: #0087ff; text-decoration-color: #0087ff\">TokenAndPositionE…</span> │                   │            │                   │\n",
       "├─────────────────────┼───────────────────┼────────────┼───────────────────┤\n",
       "│ token_and_position… │ (<span style=\"color: #00d7ff; text-decoration-color: #00d7ff\">None</span>, <span style=\"color: #00af00; text-decoration-color: #00af00\">1438</span>, <span style=\"color: #00af00; text-decoration-color: #00af00\">64</span>)  │  <span style=\"color: #00af00; text-decoration-color: #00af00\">1,052,032</span> │ decoder_inputs[<span style=\"color: #00af00; text-decoration-color: #00af00\">0</span>… │\n",
       "│ (<span style=\"color: #0087ff; text-decoration-color: #0087ff\">TokenAndPositionE…</span> │                   │            │                   │\n",
       "├─────────────────────┼───────────────────┼────────────┼───────────────────┤\n",
       "│ transformer_encode… │ (<span style=\"color: #00d7ff; text-decoration-color: #00d7ff\">None</span>, <span style=\"color: #00af00; text-decoration-color: #00af00\">2137</span>, <span style=\"color: #00af00; text-decoration-color: #00af00\">64</span>)  │     <span style=\"color: #00af00; text-decoration-color: #00af00\">81,972</span> │ token_and_positi… │\n",
       "│ (<span style=\"color: #0087ff; text-decoration-color: #0087ff\">TransformerEncode…</span> │                   │            │                   │\n",
       "├─────────────────────┼───────────────────┼────────────┼───────────────────┤\n",
       "│ transformer_decode… │ (<span style=\"color: #00d7ff; text-decoration-color: #00d7ff\">None</span>, <span style=\"color: #00af00; text-decoration-color: #00af00\">1438</span>, <span style=\"color: #00af00; text-decoration-color: #00af00\">64</span>)  │     <span style=\"color: #00af00; text-decoration-color: #00af00\">97,704</span> │ token_and_positi… │\n",
       "│ (<span style=\"color: #0087ff; text-decoration-color: #0087ff\">TransformerDecode…</span> │                   │            │ transformer_enco… │\n",
       "├─────────────────────┼───────────────────┼────────────┼───────────────────┤\n",
       "│ dense_5 (<span style=\"color: #0087ff; text-decoration-color: #0087ff\">Dense</span>)     │ (<span style=\"color: #00d7ff; text-decoration-color: #00d7ff\">None</span>, <span style=\"color: #00af00; text-decoration-color: #00af00\">1438</span>,      │    <span style=\"color: #00af00; text-decoration-color: #00af00\">975,000</span> │ transformer_deco… │\n",
       "│                     │ <span style=\"color: #00af00; text-decoration-color: #00af00\">15000</span>)            │            │                   │\n",
       "└─────────────────────┴───────────────────┴────────────┴───────────────────┘\n",
       "</pre>\n"
      ],
      "text/plain": [
       "┏━━━━━━━━━━━━━━━━━━━━━┳━━━━━━━━━━━━━━━━━━━┳━━━━━━━━━━━━┳━━━━━━━━━━━━━━━━━━━┓\n",
       "┃\u001b[1m \u001b[0m\u001b[1mLayer (type)       \u001b[0m\u001b[1m \u001b[0m┃\u001b[1m \u001b[0m\u001b[1mOutput Shape     \u001b[0m\u001b[1m \u001b[0m┃\u001b[1m \u001b[0m\u001b[1m   Param #\u001b[0m\u001b[1m \u001b[0m┃\u001b[1m \u001b[0m\u001b[1mConnected to     \u001b[0m\u001b[1m \u001b[0m┃\n",
       "┡━━━━━━━━━━━━━━━━━━━━━╇━━━━━━━━━━━━━━━━━━━╇━━━━━━━━━━━━╇━━━━━━━━━━━━━━━━━━━┩\n",
       "│ encoder_inputs      │ (\u001b[38;5;45mNone\u001b[0m, \u001b[38;5;34m2137\u001b[0m)      │          \u001b[38;5;34m0\u001b[0m │ -                 │\n",
       "│ (\u001b[38;5;33mInputLayer\u001b[0m)        │                   │            │                   │\n",
       "├─────────────────────┼───────────────────┼────────────┼───────────────────┤\n",
       "│ decoder_inputs      │ (\u001b[38;5;45mNone\u001b[0m, \u001b[38;5;34m1438\u001b[0m)      │          \u001b[38;5;34m0\u001b[0m │ -                 │\n",
       "│ (\u001b[38;5;33mInputLayer\u001b[0m)        │                   │            │                   │\n",
       "├─────────────────────┼───────────────────┼────────────┼───────────────────┤\n",
       "│ token_and_position… │ (\u001b[38;5;45mNone\u001b[0m, \u001b[38;5;34m2137\u001b[0m, \u001b[38;5;34m64\u001b[0m)  │  \u001b[38;5;34m1,096,768\u001b[0m │ encoder_inputs[\u001b[38;5;34m0\u001b[0m… │\n",
       "│ (\u001b[38;5;33mTokenAndPositionE…\u001b[0m │                   │            │                   │\n",
       "├─────────────────────┼───────────────────┼────────────┼───────────────────┤\n",
       "│ token_and_position… │ (\u001b[38;5;45mNone\u001b[0m, \u001b[38;5;34m1438\u001b[0m, \u001b[38;5;34m64\u001b[0m)  │  \u001b[38;5;34m1,052,032\u001b[0m │ decoder_inputs[\u001b[38;5;34m0\u001b[0m… │\n",
       "│ (\u001b[38;5;33mTokenAndPositionE…\u001b[0m │                   │            │                   │\n",
       "├─────────────────────┼───────────────────┼────────────┼───────────────────┤\n",
       "│ transformer_encode… │ (\u001b[38;5;45mNone\u001b[0m, \u001b[38;5;34m2137\u001b[0m, \u001b[38;5;34m64\u001b[0m)  │     \u001b[38;5;34m81,972\u001b[0m │ token_and_positi… │\n",
       "│ (\u001b[38;5;33mTransformerEncode…\u001b[0m │                   │            │                   │\n",
       "├─────────────────────┼───────────────────┼────────────┼───────────────────┤\n",
       "│ transformer_decode… │ (\u001b[38;5;45mNone\u001b[0m, \u001b[38;5;34m1438\u001b[0m, \u001b[38;5;34m64\u001b[0m)  │     \u001b[38;5;34m97,704\u001b[0m │ token_and_positi… │\n",
       "│ (\u001b[38;5;33mTransformerDecode…\u001b[0m │                   │            │ transformer_enco… │\n",
       "├─────────────────────┼───────────────────┼────────────┼───────────────────┤\n",
       "│ dense_5 (\u001b[38;5;33mDense\u001b[0m)     │ (\u001b[38;5;45mNone\u001b[0m, \u001b[38;5;34m1438\u001b[0m,      │    \u001b[38;5;34m975,000\u001b[0m │ transformer_deco… │\n",
       "│                     │ \u001b[38;5;34m15000\u001b[0m)            │            │                   │\n",
       "└─────────────────────┴───────────────────┴────────────┴───────────────────┘\n"
      ]
     },
     "metadata": {},
     "output_type": "display_data"
    },
    {
     "data": {
      "text/html": [
       "<pre style=\"white-space:pre;overflow-x:auto;line-height:normal;font-family:Menlo,'DejaVu Sans Mono',consolas,'Courier New',monospace\"><span style=\"font-weight: bold\"> Total params: </span><span style=\"color: #00af00; text-decoration-color: #00af00\">3,303,476</span> (12.60 MB)\n",
       "</pre>\n"
      ],
      "text/plain": [
       "\u001b[1m Total params: \u001b[0m\u001b[38;5;34m3,303,476\u001b[0m (12.60 MB)\n"
      ]
     },
     "metadata": {},
     "output_type": "display_data"
    },
    {
     "data": {
      "text/html": [
       "<pre style=\"white-space:pre;overflow-x:auto;line-height:normal;font-family:Menlo,'DejaVu Sans Mono',consolas,'Courier New',monospace\"><span style=\"font-weight: bold\"> Trainable params: </span><span style=\"color: #00af00; text-decoration-color: #00af00\">3,303,476</span> (12.60 MB)\n",
       "</pre>\n"
      ],
      "text/plain": [
       "\u001b[1m Trainable params: \u001b[0m\u001b[38;5;34m3,303,476\u001b[0m (12.60 MB)\n"
      ]
     },
     "metadata": {},
     "output_type": "display_data"
    },
    {
     "data": {
      "text/html": [
       "<pre style=\"white-space:pre;overflow-x:auto;line-height:normal;font-family:Menlo,'DejaVu Sans Mono',consolas,'Courier New',monospace\"><span style=\"font-weight: bold\"> Non-trainable params: </span><span style=\"color: #00af00; text-decoration-color: #00af00\">0</span> (0.00 B)\n",
       "</pre>\n"
      ],
      "text/plain": [
       "\u001b[1m Non-trainable params: \u001b[0m\u001b[38;5;34m0\u001b[0m (0.00 B)\n"
      ]
     },
     "metadata": {},
     "output_type": "display_data"
    },
    {
     "name": "stdout",
     "output_type": "stream",
     "text": [
      "Epoch 1/10\n",
      "\u001b[1m1795/1795\u001b[0m \u001b[32m━━━━━━━━━━━━━━━━━━━━\u001b[0m\u001b[37m\u001b[0m \u001b[1m2536s\u001b[0m 1s/step - loss: 6.7911 - masked_acc: 0.1048 - val_loss: 5.7155 - val_masked_acc: 0.1544\n",
      "Epoch 2/10\n",
      "\u001b[1m1795/1795\u001b[0m \u001b[32m━━━━━━━━━━━━━━━━━━━━\u001b[0m\u001b[37m\u001b[0m \u001b[1m2458s\u001b[0m 1s/step - loss: 5.6280 - masked_acc: 0.1575 - val_loss: 5.4533 - val_masked_acc: 0.1648\n",
      "Epoch 3/10\n",
      "\u001b[1m1795/1795\u001b[0m \u001b[32m━━━━━━━━━━━━━━━━━━━━\u001b[0m\u001b[37m\u001b[0m \u001b[1m2427s\u001b[0m 1s/step - loss: 5.2640 - masked_acc: 0.1712 - val_loss: 5.3684 - val_masked_acc: 0.1719\n",
      "Epoch 4/10\n",
      "\u001b[1m1795/1795\u001b[0m \u001b[32m━━━━━━━━━━━━━━━━━━━━\u001b[0m\u001b[37m\u001b[0m \u001b[1m2484s\u001b[0m 1s/step - loss: 5.0416 - masked_acc: 0.1810 - val_loss: 5.3262 - val_masked_acc: 0.1754\n",
      "Epoch 5/10\n",
      "\u001b[1m1795/1795\u001b[0m \u001b[32m━━━━━━━━━━━━━━━━━━━━\u001b[0m\u001b[37m\u001b[0m \u001b[1m9600s\u001b[0m 5s/step - loss: 4.8704 - masked_acc: 0.1897 - val_loss: 5.3159 - val_masked_acc: 0.1780\n",
      "Epoch 6/10\n",
      "\u001b[1m1577/1795\u001b[0m \u001b[32m━━━━━━━━━━━━━━━━━\u001b[0m\u001b[37m━━━\u001b[0m \u001b[1m5:20\u001b[0m 1s/step - loss: 4.7353 - masked_acc: 0.1979"
     ]
    }
   ],
   "source": [
    "LEARNING_RATE = 0.001\n",
    "NUM_EPOCHS = 10\n",
    "STEPS_PER_EPOCH = None\n",
    "ENCODER_SEQUENCE_LENGTH = 2137 # @TODO The followings should programmatically be derived.\n",
    "DECODER_SEQUENCE_LENGTH = 1438 #  1437 is the longest summarized text in dataset\n",
    "VOCABULARY_SIZE = 15000\n",
    "BATCH_SIZE = 16\n",
    "NUM_ENCODERS = 1\n",
    "NUM_DECODERS = 1\n",
    "NUM_HEADS = 6\n",
    "INTERMIDIATE_DIM = 512\n",
    "EMBEDDING_DIM = 64\n",
    "MASK_ZERO = False\n",
    "DECAY_STEPS = 100\n",
    "DECAY_RATE = 1.0\n",
    "\n",
    "model, filepath, history = build_model_functionally(\n",
    "    train_ds, validation_ds, test_ds,\n",
    "    num_encoders=NUM_ENCODERS,\n",
    "    num_decoders=NUM_DECODERS,\n",
    "    num_heads=NUM_HEADS,\n",
    "    transformer_intermediate_dim=INTERMIDIATE_DIM,\n",
    "    encoder_sequence_length=ENCODER_SEQUENCE_LENGTH,\n",
    "    decoder_sequence_length=DECODER_SEQUENCE_LENGTH,\n",
    "    vocab_size=VOCABULARY_SIZE,\n",
    "    batch_size=BATCH_SIZE,\n",
    "    embedding_dim=EMBEDDING_DIM,\n",
    "    mask_zero=MASK_ZERO,\n",
    "    initial_learning_rate=LEARNING_RATE,\n",
    "    decay_steps=DECAY_STEPS,\n",
    "    decay_rate=DECAY_RATE,\n",
    "    epochs=NUM_EPOCHS,\n",
    "    steps_per_epoch=STEPS_PER_EPOCH,\n",
    ")\n",
    "plot(history=history)"
   ]
  },
  {
   "cell_type": "markdown",
   "metadata": {},
   "source": [
    "### Note\n",
    "\n",
    "The performance slightly got worse. There might be a bug."
   ]
  },
  {
   "cell_type": "markdown",
   "metadata": {},
   "source": [
    "***"
   ]
  },
  {
   "cell_type": "code",
   "execution_count": null,
   "metadata": {},
   "outputs": [],
   "source": [
    "# minimum viable params\n",
    "LEARNING_RATE = 0.001\n",
    "NUM_EPOCHS = 20\n",
    "STEPS_PER_EPOCH = None\n",
    "ENCODER_SEQUENCE_LENGTH = 2137 # @TODO The followings should programmatically be derived.\n",
    "DECODER_SEQUENCE_LENGTH = 256 #  1437 is the longest summarized text in dataset\n",
    "VOCABULARY_SIZE = 15000\n",
    "BATCH_SIZE = 64\n",
    "NUM_ENCODERS = 1\n",
    "NUM_DECODERS = 1\n",
    "NUM_HEADS = 6\n",
    "INTERMIDIATE_DIM = 512\n",
    "EMBEDDING_DIM = 64\n",
    "DECAY_STEPS = 100\n",
    "DECAY_RATE = 1.0\n",
    "\n",
    "model, filepath, history = build_model(\n",
    "    train_ds, validation_ds, test_ds,\n",
    "    num_encoders=NUM_ENCODERS,\n",
    "    num_decoders=NUM_DECODERS,\n",
    "    num_heads=NUM_HEADS,\n",
    "    transformer_intermediate_dim=INTERMIDIATE_DIM,\n",
    "    encoder_sequence_length=ENCODER_SEQUENCE_LENGTH,\n",
    "    decoder_sequence_length=DECODER_SEQUENCE_LENGTH,\n",
    "    vocab_size=VOCABULARY_SIZE,\n",
    "    batch_size=BATCH_SIZE,\n",
    "    embedding_dim=EMBEDDING_DIM,\n",
    "    initial_learning_rate=LEARNING_RATE,\n",
    "    decay_steps=DECAY_STEPS,\n",
    "    decay_rate=DECAY_RATE,\n",
    "    epochs=NUM_EPOCHS,\n",
    "    steps_per_epoch=STEPS_PER_EPOCH,\n",
    ")\n",
    "plot(history=history)"
   ]
  },
  {
   "cell_type": "code",
   "execution_count": null,
   "metadata": {},
   "outputs": [],
   "source": [
    "predict_main(\n",
    "    filepath=filepath,\n",
    "    examples=EXAMPLES,\n",
    "    decoder_sequence_length=DECODER_SEQUENCE_LENGTH,\n",
    ")"
   ]
  },
  {
   "cell_type": "code",
   "execution_count": null,
   "metadata": {},
   "outputs": [],
   "source": [
    "# default params\n",
    "FLAGS_learning_rate = 0.001\n",
    "FLAGS_num_epochs = 50 # default=1, but too small\n",
    "FLAGS_steps_per_epoch = None\n",
    "FLAGS_sequence_length = 20 # Input and output sequence length.\n",
    "FLAGS_vocab_size = 15000 # Vocabulary size, required by tokenizer.\n",
    "FLAGS_batch_size = 64\n",
    "FLAGS_num_encoders = 2\n",
    "FLAGS_num_decoders = 2\n",
    "FLAGS_num_heads = 8 # Number of head of the multihead attention.\n",
    "FLAGS_intermediate_dim = 128 # Intermediate dimension (feedforward network) of transformer.\n",
    "FLAGS_model_dim = 64\n",
    "FLAGS_decay_steps = 20\n",
    "FLAGS_decay_rate = 0.98\n",
    "\n",
    "model, filepath, history = build_model(\n",
    "    train_ds, validation_ds, test_ds,\n",
    "    num_encoders=NUM_ENCODERS,\n",
    "    num_decoders=NUM_DECODERS,\n",
    "    num_heads=NUM_HEADS,\n",
    "    transformer_intermediate_dim=INTERMIDIATE_DIM,\n",
    "    encoder_sequence_length=ENCODER_SEQUENCE_LENGTH,\n",
    "    decoder_sequence_length=DECODER_SEQUENCE_LENGTH,\n",
    "    vocab_size=VOCABULARY_SIZE,\n",
    "    batch_size=BATCH_SIZE,\n",
    "    embedding_dim=EMBEDDING_DIM,\n",
    "    initial_learning_rate=LEARNING_RATE,\n",
    "    decay_steps=DECAY_STEPS,\n",
    "    decay_rate=DECAY_RATE,\n",
    "    epochs=NUM_EPOCHS,\n",
    "    steps_per_epoch=STEPS_PER_EPOCH,\n",
    ")\n",
    "plot(history=history)"
   ]
  },
  {
   "cell_type": "code",
   "execution_count": null,
   "metadata": {},
   "outputs": [],
   "source": [
    "predict_main(\n",
    "    filepath=filepath,\n",
    "    examples=EXAMPLES,\n",
    "    decoder_sequence_length=DECODER_SEQUENCE_LENGTH,\n",
    ")"
   ]
  }
 ],
 "metadata": {
  "kernelspec": {
   "display_name": "Python 3",
   "language": "python",
   "name": "python3"
  },
  "language_info": {
   "codemirror_mode": {
    "name": "ipython",
    "version": 3
   },
   "file_extension": ".py",
   "mimetype": "text/x-python",
   "name": "python",
   "nbconvert_exporter": "python",
   "pygments_lexer": "ipython3",
   "version": "3.10.11"
  }
 },
 "nbformat": 4,
 "nbformat_minor": 2
}
