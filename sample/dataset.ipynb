{
 "cells": [
  {
   "cell_type": "code",
   "execution_count": null,
   "metadata": {},
   "outputs": [
    {
     "name": "stdout",
     "output_type": "stream",
     "text": [
      "Tensorflow 2.16.2 is expected. The running version is 2.16.2\n",
      "Keras 3.4.1 is expected. The running version is 3.4.1\n",
      "KerasNLP 0.12.1 is expected. The running version is 0.12.1\n"
     ]
    }
   ],
   "source": [
    "import tensorflow as tf\n",
    "import keras\n",
    "import keras_nlp\n",
    "print(\"Tensorflow 2.16.2 is expected. The running version is\", tf.__version__)\n",
    "print(\"Keras 3.4.1 is expected. The running version is\", keras.__version__)\n",
    "print(\"KerasNLP 0.12.1 is expected. The running version is\", keras_nlp.__version__)\n",
    "\n",
    "import numpy as np\n",
    "import tensorflow_datasets as tfds\n",
    "# SageMaker cannot use @keras.saving\n",
    "from keras import saving\n",
    "import datetime"
   ]
  },
  {
   "cell_type": "code",
   "execution_count": null,
   "metadata": {},
   "outputs": [],
   "source": [
    "import datasets\n",
    "import tensorflow as tf\n",
    "\n",
    "# This works!\n",
    "# @see https://huggingface.co/datasets/ccdv/cnn_dailymail\n",
    "# However, this dataset is for huggingface.\n",
    "# Hence it should be converted to the Tensorflow format.\n",
    "# How to convert\n",
    "# @see https://huggingface.co/docs/datasets/v1.3.0/torch_tensorflow.html#setting-the-format\n",
    "def convert_hf2tf(dataset: datasets.DatasetDict, split: list[str]):\n",
    "    dataset.set_format(\n",
    "        type='tensorflow',\n",
    "        columns=['article', 'highlights', 'id',]\n",
    "    )\n",
    "    l = []\n",
    "    for s in split:\n",
    "        d = dataset[s]\n",
    "        features = {x: d[x] for x in ['article', 'highlights', 'id',]}\n",
    "        # .batch(32) is not used to show a simple sampled data below with take(1)\n",
    "        tf_dataset = tf.data.Dataset.from_tensor_slices(features)\n",
    "        l.append(tf_dataset)\n",
    "    return tuple(l)\n",
    "\"\"\"\n",
    "dataset = datasets.load_dataset(\n",
    "    \"ccdv/cnn_dailymail\",\n",
    "    version=\"3.0.0\",\n",
    "    trust_remote_code=False\n",
    ")\n",
    "\"\"\""
   ]
  },
  {
   "cell_type": "markdown",
   "metadata": {},
   "source": [
    "***\n",
    "# CNN/Daily Mail"
   ]
  },
  {
   "cell_type": "code",
   "execution_count": null,
   "metadata": {},
   "outputs": [],
   "source": [
    "train_ds, validation_ds, test_ds = tfds.load(\n",
    "    'huggingface:ccdv__cnn_dailymail/3.0.0',\n",
    "    split=['train', 'validation', 'test'],\n",
    "    builder_kwargs={\n",
    "        'trust_remote_code': True,\n",
    "    },\n",
    ")"
   ]
  },
  {
   "cell_type": "code",
   "execution_count": null,
   "metadata": {},
   "outputs": [
    {
     "name": "stderr",
     "output_type": "stream",
     "text": [
      "2024-07-13 01:44:12.758019: W tensorflow/core/framework/local_rendezvous.cc:404] Local rendezvous is aborting with status: OUT_OF_RANGE: End of sequence\n"
     ]
    }
   ],
   "source": [
    "df = tfds.as_dataframe(train_ds)"
   ]
  },
  {
   "cell_type": "code",
   "execution_count": null,
   "metadata": {},
   "outputs": [
    {
     "data": {
      "text/html": [
       "<div>\n",
       "<style scoped>\n",
       "    .dataframe tbody tr th:only-of-type {\n",
       "        vertical-align: middle;\n",
       "    }\n",
       "\n",
       "    .dataframe tbody tr th {\n",
       "        vertical-align: top;\n",
       "    }\n",
       "\n",
       "    .dataframe thead th {\n",
       "        text-align: right;\n",
       "    }\n",
       "</style>\n",
       "<table border=\"1\" class=\"dataframe\">\n",
       "  <thead>\n",
       "    <tr style=\"text-align: right;\">\n",
       "      <th></th>\n",
       "      <th>article</th>\n",
       "      <th>highlights</th>\n",
       "      <th>id</th>\n",
       "      <th>highlights_count</th>\n",
       "      <th>article_count</th>\n",
       "    </tr>\n",
       "  </thead>\n",
       "  <tbody>\n",
       "    <tr>\n",
       "      <th>0</th>\n",
       "      <td>b'It\\'s official: U.S. President Barack Obama ...</td>\n",
       "      <td>b'Syrian official: Obama climbed to the top of...</td>\n",
       "      <td>b'0001d1afc246a7964130f43ae940af6bc6c57f01'</td>\n",
       "      <td>55</td>\n",
       "      <td>1541</td>\n",
       "    </tr>\n",
       "    <tr>\n",
       "      <th>1</th>\n",
       "      <td>b'(CNN) -- Usain Bolt rounded off the world ch...</td>\n",
       "      <td>b\"Usain Bolt wins third gold of world champion...</td>\n",
       "      <td>b'0002095e55fcbd3a2f366d9bf92a95433dc305ef'</td>\n",
       "      <td>32</td>\n",
       "      <td>522</td>\n",
       "    </tr>\n",
       "    <tr>\n",
       "      <th>2</th>\n",
       "      <td>b'Kansas City, Missouri (CNN) -- The General S...</td>\n",
       "      <td>b'The employee in agency\\'s Kansas City office...</td>\n",
       "      <td>b'00027e965c8264c35cc1bc55556db388da82b07f'</td>\n",
       "      <td>41</td>\n",
       "      <td>1013</td>\n",
       "    </tr>\n",
       "    <tr>\n",
       "      <th>3</th>\n",
       "      <td>b'Los Angeles (CNN) -- A medical doctor in Van...</td>\n",
       "      <td>b'NEW: A Canadian doctor says she was part of ...</td>\n",
       "      <td>b'0002c17436637c4fe1837c935c04de47adb18e9a'</td>\n",
       "      <td>53</td>\n",
       "      <td>932</td>\n",
       "    </tr>\n",
       "    <tr>\n",
       "      <th>4</th>\n",
       "      <td>b'(CNN) -- Police arrested another teen Thursd...</td>\n",
       "      <td>b'Another arrest made in gang rape outside Cal...</td>\n",
       "      <td>b'0003ad6ef0c37534f80b55b4235108024b407f0b'</td>\n",
       "      <td>36</td>\n",
       "      <td>288</td>\n",
       "    </tr>\n",
       "  </tbody>\n",
       "</table>\n",
       "</div>"
      ],
      "text/plain": [
       "                                             article   \n",
       "0  b'It\\'s official: U.S. President Barack Obama ...  \\\n",
       "1  b'(CNN) -- Usain Bolt rounded off the world ch...   \n",
       "2  b'Kansas City, Missouri (CNN) -- The General S...   \n",
       "3  b'Los Angeles (CNN) -- A medical doctor in Van...   \n",
       "4  b'(CNN) -- Police arrested another teen Thursd...   \n",
       "\n",
       "                                          highlights   \n",
       "0  b'Syrian official: Obama climbed to the top of...  \\\n",
       "1  b\"Usain Bolt wins third gold of world champion...   \n",
       "2  b'The employee in agency\\'s Kansas City office...   \n",
       "3  b'NEW: A Canadian doctor says she was part of ...   \n",
       "4  b'Another arrest made in gang rape outside Cal...   \n",
       "\n",
       "                                            id  highlights_count   \n",
       "0  b'0001d1afc246a7964130f43ae940af6bc6c57f01'                55  \\\n",
       "1  b'0002095e55fcbd3a2f366d9bf92a95433dc305ef'                32   \n",
       "2  b'00027e965c8264c35cc1bc55556db388da82b07f'                41   \n",
       "3  b'0002c17436637c4fe1837c935c04de47adb18e9a'                53   \n",
       "4  b'0003ad6ef0c37534f80b55b4235108024b407f0b'                36   \n",
       "\n",
       "   article_count  \n",
       "0           1541  \n",
       "1            522  \n",
       "2           1013  \n",
       "3            932  \n",
       "4            288  "
      ]
     },
     "execution_count": 20,
     "metadata": {},
     "output_type": "execute_result"
    }
   ],
   "source": [
    "df.head(5)"
   ]
  },
  {
   "cell_type": "code",
   "execution_count": null,
   "metadata": {},
   "outputs": [
    {
     "data": {
      "text/plain": [
       "'\\nThe above code takes \\n'"
      ]
     },
     "execution_count": 17,
     "metadata": {},
     "output_type": "execute_result"
    }
   ],
   "source": [
    "\"\"\"\n",
    "The first code takes seconds to simply count words.\n",
    "On the other hand, the latter code that can precisely tokenize takes more than 7 minutes.\n",
    "\"\"\"\n",
    "df['highlights_count'] = df['highlights'].apply(lambda x: len(x.split()))\n",
    "df['article_count'] = df['article'].apply(lambda x: len(x.split()))\n",
    "\n",
    "# import nltk\n",
    "\n",
    "# def count_words(s):\n",
    "#     s = s.decode('utf-8')\n",
    "#     return len(nltk.word_tokenize(s))\n",
    "\n",
    "# df['highlights_count'] = df['highlights'].map(count_words)\n",
    "# df['article_count'] = df['article'].map(count_words)"
   ]
  },
  {
   "cell_type": "code",
   "execution_count": null,
   "metadata": {},
   "outputs": [
    {
     "data": {
      "text/html": [
       "<div>\n",
       "<style scoped>\n",
       "    .dataframe tbody tr th:only-of-type {\n",
       "        vertical-align: middle;\n",
       "    }\n",
       "\n",
       "    .dataframe tbody tr th {\n",
       "        vertical-align: top;\n",
       "    }\n",
       "\n",
       "    .dataframe thead th {\n",
       "        text-align: right;\n",
       "    }\n",
       "</style>\n",
       "<table border=\"1\" class=\"dataframe\">\n",
       "  <thead>\n",
       "    <tr style=\"text-align: right;\">\n",
       "      <th></th>\n",
       "      <th>highlights_count</th>\n",
       "      <th>article_count</th>\n",
       "    </tr>\n",
       "  </thead>\n",
       "  <tbody>\n",
       "    <tr>\n",
       "      <th>count</th>\n",
       "      <td>287113.000000</td>\n",
       "      <td>287113.000000</td>\n",
       "    </tr>\n",
       "    <tr>\n",
       "      <th>mean</th>\n",
       "      <td>51.478118</td>\n",
       "      <td>691.626074</td>\n",
       "    </tr>\n",
       "    <tr>\n",
       "      <th>std</th>\n",
       "      <td>21.186010</td>\n",
       "      <td>336.493356</td>\n",
       "    </tr>\n",
       "    <tr>\n",
       "      <th>min</th>\n",
       "      <td>4.000000</td>\n",
       "      <td>8.000000</td>\n",
       "    </tr>\n",
       "    <tr>\n",
       "      <th>25%</th>\n",
       "      <td>38.000000</td>\n",
       "      <td>443.000000</td>\n",
       "    </tr>\n",
       "    <tr>\n",
       "      <th>50%</th>\n",
       "      <td>48.000000</td>\n",
       "      <td>632.000000</td>\n",
       "    </tr>\n",
       "    <tr>\n",
       "      <th>75%</th>\n",
       "      <td>60.000000</td>\n",
       "      <td>877.000000</td>\n",
       "    </tr>\n",
       "    <tr>\n",
       "      <th>max</th>\n",
       "      <td>1296.000000</td>\n",
       "      <td>2347.000000</td>\n",
       "    </tr>\n",
       "  </tbody>\n",
       "</table>\n",
       "</div>"
      ],
      "text/plain": [
       "       highlights_count  article_count\n",
       "count     287113.000000  287113.000000\n",
       "mean          51.478118     691.626074\n",
       "std           21.186010     336.493356\n",
       "min            4.000000       8.000000\n",
       "25%           38.000000     443.000000\n",
       "50%           48.000000     632.000000\n",
       "75%           60.000000     877.000000\n",
       "max         1296.000000    2347.000000"
      ]
     },
     "execution_count": 18,
     "metadata": {},
     "output_type": "execute_result"
    }
   ],
   "source": [
    "df.describe()"
   ]
  },
  {
   "cell_type": "markdown",
   "metadata": {},
   "source": [
    "***\n",
    "# BillSum"
   ]
  },
  {
   "cell_type": "code",
   "execution_count": null,
   "metadata": {},
   "outputs": [
    {
     "data": {
      "text/plain": [
       "DatasetDict({\n",
       "    train: Dataset({\n",
       "        features: ['text', 'summary', 'title'],\n",
       "        num_rows: 18949\n",
       "    })\n",
       "    test: Dataset({\n",
       "        features: ['text', 'summary', 'title'],\n",
       "        num_rows: 3269\n",
       "    })\n",
       "    ca_test: Dataset({\n",
       "        features: ['text', 'summary', 'title'],\n",
       "        num_rows: 1237\n",
       "    })\n",
       "})"
      ]
     },
     "execution_count": 35,
     "metadata": {},
     "output_type": "execute_result"
    }
   ],
   "source": [
    "ds = datasets.load_dataset(\n",
    "    \"FiscalNote/billsum\",\n",
    "    trust_remote_code=False\n",
    ")\n",
    "ds"
   ]
  },
  {
   "cell_type": "code",
   "execution_count": null,
   "metadata": {},
   "outputs": [],
   "source": [
    "ds.set_format(\"pandas\")\n",
    "df = ds['train'][:]"
   ]
  },
  {
   "cell_type": "code",
   "execution_count": null,
   "metadata": {},
   "outputs": [
    {
     "data": {
      "text/html": [
       "<div>\n",
       "<style scoped>\n",
       "    .dataframe tbody tr th:only-of-type {\n",
       "        vertical-align: middle;\n",
       "    }\n",
       "\n",
       "    .dataframe tbody tr th {\n",
       "        vertical-align: top;\n",
       "    }\n",
       "\n",
       "    .dataframe thead th {\n",
       "        text-align: right;\n",
       "    }\n",
       "</style>\n",
       "<table border=\"1\" class=\"dataframe\">\n",
       "  <thead>\n",
       "    <tr style=\"text-align: right;\">\n",
       "      <th></th>\n",
       "      <th>text</th>\n",
       "      <th>summary</th>\n",
       "      <th>title</th>\n",
       "    </tr>\n",
       "  </thead>\n",
       "  <tbody>\n",
       "    <tr>\n",
       "      <th>0</th>\n",
       "      <td>SECTION 1. LIABILITY OF BUSINESS ENTITIES PROV...</td>\n",
       "      <td>Shields a business entity from civil liability...</td>\n",
       "      <td>A bill to limit the civil liability of busines...</td>\n",
       "    </tr>\n",
       "    <tr>\n",
       "      <th>1</th>\n",
       "      <td>SECTION 1. SHORT TITLE.\\n\\n    This Act may be...</td>\n",
       "      <td>Human Rights Information Act - Requires certai...</td>\n",
       "      <td>Human Rights Information Act</td>\n",
       "    </tr>\n",
       "    <tr>\n",
       "      <th>2</th>\n",
       "      <td>SECTION 1. SHORT TITLE.\\n\\n    This Act may be...</td>\n",
       "      <td>Jackie Robinson Commemorative Coin Act - Direc...</td>\n",
       "      <td>Jackie Robinson Commemorative Coin Act</td>\n",
       "    </tr>\n",
       "    <tr>\n",
       "      <th>3</th>\n",
       "      <td>SECTION 1. NONRECOGNITION OF GAIN WHERE ROLLOV...</td>\n",
       "      <td>Amends the Internal Revenue Code to provide (t...</td>\n",
       "      <td>To amend the Internal Revenue Code to provide ...</td>\n",
       "    </tr>\n",
       "    <tr>\n",
       "      <th>4</th>\n",
       "      <td>SECTION 1. SHORT TITLE.\\n\\n    This Act may be...</td>\n",
       "      <td>Native American Energy Act - (Sec. 3) Amends t...</td>\n",
       "      <td>Native American Energy Act</td>\n",
       "    </tr>\n",
       "  </tbody>\n",
       "</table>\n",
       "</div>"
      ],
      "text/plain": [
       "                                                text   \n",
       "0  SECTION 1. LIABILITY OF BUSINESS ENTITIES PROV...  \\\n",
       "1  SECTION 1. SHORT TITLE.\\n\\n    This Act may be...   \n",
       "2  SECTION 1. SHORT TITLE.\\n\\n    This Act may be...   \n",
       "3  SECTION 1. NONRECOGNITION OF GAIN WHERE ROLLOV...   \n",
       "4  SECTION 1. SHORT TITLE.\\n\\n    This Act may be...   \n",
       "\n",
       "                                             summary   \n",
       "0  Shields a business entity from civil liability...  \\\n",
       "1  Human Rights Information Act - Requires certai...   \n",
       "2  Jackie Robinson Commemorative Coin Act - Direc...   \n",
       "3  Amends the Internal Revenue Code to provide (t...   \n",
       "4  Native American Energy Act - (Sec. 3) Amends t...   \n",
       "\n",
       "                                               title  \n",
       "0  A bill to limit the civil liability of busines...  \n",
       "1                       Human Rights Information Act  \n",
       "2             Jackie Robinson Commemorative Coin Act  \n",
       "3  To amend the Internal Revenue Code to provide ...  \n",
       "4                         Native American Energy Act  "
      ]
     },
     "execution_count": 39,
     "metadata": {},
     "output_type": "execute_result"
    }
   ],
   "source": [
    "df.head(5)"
   ]
  },
  {
   "cell_type": "code",
   "execution_count": null,
   "metadata": {},
   "outputs": [],
   "source": [
    "df['title_count'] = df['title'].apply(lambda x: len(x.split()))\n",
    "df['summary_count'] = df['summary'].apply(lambda x: len(x.split()))\n",
    "df['text_count'] = df['text'].apply(lambda x: len(x.split()))\n"
   ]
  },
  {
   "cell_type": "code",
   "execution_count": null,
   "metadata": {},
   "outputs": [
    {
     "data": {
      "text/html": [
       "<div>\n",
       "<style scoped>\n",
       "    .dataframe tbody tr th:only-of-type {\n",
       "        vertical-align: middle;\n",
       "    }\n",
       "\n",
       "    .dataframe tbody tr th {\n",
       "        vertical-align: top;\n",
       "    }\n",
       "\n",
       "    .dataframe thead th {\n",
       "        text-align: right;\n",
       "    }\n",
       "</style>\n",
       "<table border=\"1\" class=\"dataframe\">\n",
       "  <thead>\n",
       "    <tr style=\"text-align: right;\">\n",
       "      <th></th>\n",
       "      <th>title_count</th>\n",
       "      <th>summary_count</th>\n",
       "      <th>text_count</th>\n",
       "    </tr>\n",
       "  </thead>\n",
       "  <tbody>\n",
       "    <tr>\n",
       "      <th>count</th>\n",
       "      <td>18949.000000</td>\n",
       "      <td>18949.000000</td>\n",
       "      <td>18949.000000</td>\n",
       "    </tr>\n",
       "    <tr>\n",
       "      <th>mean</th>\n",
       "      <td>18.461977</td>\n",
       "      <td>179.119268</td>\n",
       "      <td>1289.393055</td>\n",
       "    </tr>\n",
       "    <tr>\n",
       "      <th>std</th>\n",
       "      <td>14.413841</td>\n",
       "      <td>115.694566</td>\n",
       "      <td>518.105838</td>\n",
       "    </tr>\n",
       "    <tr>\n",
       "      <th>min</th>\n",
       "      <td>1.000000</td>\n",
       "      <td>8.000000</td>\n",
       "      <td>194.000000</td>\n",
       "    </tr>\n",
       "    <tr>\n",
       "      <th>25%</th>\n",
       "      <td>7.000000</td>\n",
       "      <td>92.000000</td>\n",
       "      <td>857.000000</td>\n",
       "    </tr>\n",
       "    <tr>\n",
       "      <th>50%</th>\n",
       "      <td>14.000000</td>\n",
       "      <td>157.000000</td>\n",
       "      <td>1166.000000</td>\n",
       "    </tr>\n",
       "    <tr>\n",
       "      <th>75%</th>\n",
       "      <td>27.000000</td>\n",
       "      <td>240.000000</td>\n",
       "      <td>1644.000000</td>\n",
       "    </tr>\n",
       "    <tr>\n",
       "      <th>max</th>\n",
       "      <td>137.000000</td>\n",
       "      <td>808.000000</td>\n",
       "      <td>3055.000000</td>\n",
       "    </tr>\n",
       "  </tbody>\n",
       "</table>\n",
       "</div>"
      ],
      "text/plain": [
       "        title_count  summary_count    text_count\n",
       "count  18949.000000   18949.000000  18949.000000\n",
       "mean      18.461977     179.119268   1289.393055\n",
       "std       14.413841     115.694566    518.105838\n",
       "min        1.000000       8.000000    194.000000\n",
       "25%        7.000000      92.000000    857.000000\n",
       "50%       14.000000     157.000000   1166.000000\n",
       "75%       27.000000     240.000000   1644.000000\n",
       "max      137.000000     808.000000   3055.000000"
      ]
     },
     "execution_count": 41,
     "metadata": {},
     "output_type": "execute_result"
    }
   ],
   "source": [
    "df.describe()"
   ]
  },
  {
   "cell_type": "markdown",
   "metadata": {},
   "source": [
    "***\n",
    "# aeslc"
   ]
  },
  {
   "cell_type": "code",
   "execution_count": null,
   "metadata": {},
   "outputs": [],
   "source": [
    "ds = datasets.load_dataset(\n",
    "    \"Yale-LILY/aeslc\",\n",
    "    trust_remote_code=False\n",
    ")"
   ]
  },
  {
   "cell_type": "code",
   "execution_count": null,
   "metadata": {},
   "outputs": [
    {
     "data": {
      "text/html": [
       "<div>\n",
       "<style scoped>\n",
       "    .dataframe tbody tr th:only-of-type {\n",
       "        vertical-align: middle;\n",
       "    }\n",
       "\n",
       "    .dataframe tbody tr th {\n",
       "        vertical-align: top;\n",
       "    }\n",
       "\n",
       "    .dataframe thead th {\n",
       "        text-align: right;\n",
       "    }\n",
       "</style>\n",
       "<table border=\"1\" class=\"dataframe\">\n",
       "  <thead>\n",
       "    <tr style=\"text-align: right;\">\n",
       "      <th></th>\n",
       "      <th>email_body</th>\n",
       "      <th>subject_line</th>\n",
       "    </tr>\n",
       "  </thead>\n",
       "  <tbody>\n",
       "    <tr>\n",
       "      <th>0</th>\n",
       "      <td>Greg/Phillip,  Attached is the Grande Communic...</td>\n",
       "      <td>Service Agreement</td>\n",
       "    </tr>\n",
       "    <tr>\n",
       "      <th>1</th>\n",
       "      <td>Phillip &amp; Keith  Attached is the first draw re...</td>\n",
       "      <td>Bishops Corner</td>\n",
       "    </tr>\n",
       "    <tr>\n",
       "      <th>2</th>\n",
       "      <td>Your Internet Banking accounts are now setup a...</td>\n",
       "      <td>Internet Banking</td>\n",
       "    </tr>\n",
       "    <tr>\n",
       "      <th>3</th>\n",
       "      <td>To our IBS Customers that are still hanging in...</td>\n",
       "      <td>Internet Banking</td>\n",
       "    </tr>\n",
       "    <tr>\n",
       "      <th>4</th>\n",
       "      <td>Phillip Good Morning!\\nI hope you had a wonder...</td>\n",
       "      <td>SMEs for expert stories</td>\n",
       "    </tr>\n",
       "  </tbody>\n",
       "</table>\n",
       "</div>"
      ],
      "text/plain": [
       "                                          email_body             subject_line\n",
       "0  Greg/Phillip,  Attached is the Grande Communic...        Service Agreement\n",
       "1  Phillip & Keith  Attached is the first draw re...           Bishops Corner\n",
       "2  Your Internet Banking accounts are now setup a...         Internet Banking\n",
       "3  To our IBS Customers that are still hanging in...         Internet Banking\n",
       "4  Phillip Good Morning!\\nI hope you had a wonder...  SMEs for expert stories"
      ]
     },
     "execution_count": 45,
     "metadata": {},
     "output_type": "execute_result"
    }
   ],
   "source": [
    "ds.set_format(\"pandas\")\n",
    "df = ds['train'][:]\n",
    "df.head(5)"
   ]
  },
  {
   "cell_type": "code",
   "execution_count": null,
   "metadata": {},
   "outputs": [],
   "source": [
    "df['email_body_count'] = df['email_body'].apply(lambda x: len(x.split()))\n",
    "df['subject_line_count'] = df['subject_line'].apply(lambda x: len(x.split()))"
   ]
  },
  {
   "cell_type": "code",
   "execution_count": null,
   "metadata": {},
   "outputs": [
    {
     "data": {
      "text/html": [
       "<div>\n",
       "<style scoped>\n",
       "    .dataframe tbody tr th:only-of-type {\n",
       "        vertical-align: middle;\n",
       "    }\n",
       "\n",
       "    .dataframe tbody tr th {\n",
       "        vertical-align: top;\n",
       "    }\n",
       "\n",
       "    .dataframe thead th {\n",
       "        text-align: right;\n",
       "    }\n",
       "</style>\n",
       "<table border=\"1\" class=\"dataframe\">\n",
       "  <thead>\n",
       "    <tr style=\"text-align: right;\">\n",
       "      <th></th>\n",
       "      <th>email_body_count</th>\n",
       "      <th>subject_line_count</th>\n",
       "    </tr>\n",
       "  </thead>\n",
       "  <tbody>\n",
       "    <tr>\n",
       "      <th>count</th>\n",
       "      <td>14436.000000</td>\n",
       "      <td>14436.000000</td>\n",
       "    </tr>\n",
       "    <tr>\n",
       "      <th>mean</th>\n",
       "      <td>118.231366</td>\n",
       "      <td>3.975686</td>\n",
       "    </tr>\n",
       "    <tr>\n",
       "      <th>std</th>\n",
       "      <td>148.968600</td>\n",
       "      <td>2.553487</td>\n",
       "    </tr>\n",
       "    <tr>\n",
       "      <th>min</th>\n",
       "      <td>25.000000</td>\n",
       "      <td>1.000000</td>\n",
       "    </tr>\n",
       "    <tr>\n",
       "      <th>25%</th>\n",
       "      <td>45.000000</td>\n",
       "      <td>2.000000</td>\n",
       "    </tr>\n",
       "    <tr>\n",
       "      <th>50%</th>\n",
       "      <td>74.000000</td>\n",
       "      <td>3.000000</td>\n",
       "    </tr>\n",
       "    <tr>\n",
       "      <th>75%</th>\n",
       "      <td>131.000000</td>\n",
       "      <td>5.000000</td>\n",
       "    </tr>\n",
       "    <tr>\n",
       "      <th>max</th>\n",
       "      <td>3136.000000</td>\n",
       "      <td>15.000000</td>\n",
       "    </tr>\n",
       "  </tbody>\n",
       "</table>\n",
       "</div>"
      ],
      "text/plain": [
       "       email_body_count  subject_line_count\n",
       "count      14436.000000        14436.000000\n",
       "mean         118.231366            3.975686\n",
       "std          148.968600            2.553487\n",
       "min           25.000000            1.000000\n",
       "25%           45.000000            2.000000\n",
       "50%           74.000000            3.000000\n",
       "75%          131.000000            5.000000\n",
       "max         3136.000000           15.000000"
      ]
     },
     "execution_count": 47,
     "metadata": {},
     "output_type": "execute_result"
    }
   ],
   "source": [
    "df.describe()"
   ]
  },
  {
   "cell_type": "markdown",
   "metadata": {},
   "source": [
    "***\n",
    "# booksum"
   ]
  },
  {
   "cell_type": "code",
   "execution_count": null,
   "metadata": {},
   "outputs": [
    {
     "data": {
      "text/html": [
       "<div>\n",
       "<style scoped>\n",
       "    .dataframe tbody tr th:only-of-type {\n",
       "        vertical-align: middle;\n",
       "    }\n",
       "\n",
       "    .dataframe tbody tr th {\n",
       "        vertical-align: top;\n",
       "    }\n",
       "\n",
       "    .dataframe thead th {\n",
       "        text-align: right;\n",
       "    }\n",
       "</style>\n",
       "<table border=\"1\" class=\"dataframe\">\n",
       "  <thead>\n",
       "    <tr style=\"text-align: right;\">\n",
       "      <th></th>\n",
       "      <th>bid</th>\n",
       "      <th>is_aggregate</th>\n",
       "      <th>source</th>\n",
       "      <th>chapter_path</th>\n",
       "      <th>summary_path</th>\n",
       "      <th>book_id</th>\n",
       "      <th>summary_id</th>\n",
       "      <th>content</th>\n",
       "      <th>summary</th>\n",
       "      <th>chapter</th>\n",
       "      <th>chapter_length</th>\n",
       "      <th>summary_name</th>\n",
       "      <th>summary_url</th>\n",
       "      <th>summary_text</th>\n",
       "      <th>summary_analysis</th>\n",
       "      <th>summary_length</th>\n",
       "      <th>analysis_length</th>\n",
       "    </tr>\n",
       "  </thead>\n",
       "  <tbody>\n",
       "    <tr>\n",
       "      <th>0</th>\n",
       "      <td>27681</td>\n",
       "      <td>True</td>\n",
       "      <td>cliffnotes</td>\n",
       "      <td>all_chapterized_books/27681-chapters/chapters_...</td>\n",
       "      <td>finished_summaries/cliffnotes/The Last of the ...</td>\n",
       "      <td>The Last of the Mohicans.chapters 1-2</td>\n",
       "      <td>chapters 1-2</td>\n",
       "      <td>NaN</td>\n",
       "      <td>{\"name\": \"Chapters 1-2\", \"url\": \"https://web.a...</td>\n",
       "      <td>\\n  \"Mine ear is open, and my heart prepared:\\...</td>\n",
       "      <td>6471.0</td>\n",
       "      <td>Chapters 1-2</td>\n",
       "      <td>https://web.archive.org/web/20201101053205/htt...</td>\n",
       "      <td>Before any characters appear, the time and geo...</td>\n",
       "      <td>These two chapters introduce the reader to the...</td>\n",
       "      <td>388.0</td>\n",
       "      <td>473.0</td>\n",
       "    </tr>\n",
       "    <tr>\n",
       "      <th>1</th>\n",
       "      <td>27681</td>\n",
       "      <td>False</td>\n",
       "      <td>cliffnotes</td>\n",
       "      <td>all_chapterized_books/27681-chapters/03.txt</td>\n",
       "      <td>finished_summaries/cliffnotes/The Last of the ...</td>\n",
       "      <td>The Last of the Mohicans.chapter 3</td>\n",
       "      <td>chapter 3</td>\n",
       "      <td>NaN</td>\n",
       "      <td>{\"name\": \"Chapter 3\", \"url\": \"https://web.arch...</td>\n",
       "      <td>\\n  \"Before these fields were shorn and tilled...</td>\n",
       "      <td>3132.0</td>\n",
       "      <td>Chapter 3</td>\n",
       "      <td>https://web.archive.org/web/20201101053205/htt...</td>\n",
       "      <td>In another part of the forest by the river a f...</td>\n",
       "      <td>This chapter introduces the other three main a...</td>\n",
       "      <td>198.0</td>\n",
       "      <td>149.0</td>\n",
       "    </tr>\n",
       "    <tr>\n",
       "      <th>2</th>\n",
       "      <td>27681</td>\n",
       "      <td>False</td>\n",
       "      <td>cliffnotes</td>\n",
       "      <td>all_chapterized_books/27681-chapters/04.txt</td>\n",
       "      <td>finished_summaries/cliffnotes/The Last of the ...</td>\n",
       "      <td>The Last of the Mohicans.chapter 4</td>\n",
       "      <td>chapter 4</td>\n",
       "      <td>NaN</td>\n",
       "      <td>{\"name\": \"Chapter 4\", \"url\": \"https://web.arch...</td>\n",
       "      <td>\\n  \"Well, go thy way: thou shalt not from thi...</td>\n",
       "      <td>3075.0</td>\n",
       "      <td>Chapter 4</td>\n",
       "      <td>https://web.archive.org/web/20201101053205/htt...</td>\n",
       "      <td>When the mounted party from Fort Howard approa...</td>\n",
       "      <td>Since this chapter is mostly one of surface ac...</td>\n",
       "      <td>319.0</td>\n",
       "      <td>75.0</td>\n",
       "    </tr>\n",
       "    <tr>\n",
       "      <th>3</th>\n",
       "      <td>27681</td>\n",
       "      <td>False</td>\n",
       "      <td>cliffnotes</td>\n",
       "      <td>all_chapterized_books/27681-chapters/05.txt</td>\n",
       "      <td>finished_summaries/cliffnotes/The Last of the ...</td>\n",
       "      <td>The Last of the Mohicans.chapter 5</td>\n",
       "      <td>chapter 5</td>\n",
       "      <td>NaN</td>\n",
       "      <td>{\"name\": \"Chapter 5\", \"url\": \"https://web.arch...</td>\n",
       "      <td>\\n                      \"In such a night\\n  Di...</td>\n",
       "      <td>3268.0</td>\n",
       "      <td>Chapter 5</td>\n",
       "      <td>https://web.archive.org/web/20201101053205/htt...</td>\n",
       "      <td>The pursuit of Magua is unsuccessful, but Hawk...</td>\n",
       "      <td>Here the reader encounters the first bloodshed...</td>\n",
       "      <td>329.0</td>\n",
       "      <td>156.0</td>\n",
       "    </tr>\n",
       "    <tr>\n",
       "      <th>4</th>\n",
       "      <td>27681</td>\n",
       "      <td>False</td>\n",
       "      <td>cliffnotes</td>\n",
       "      <td>all_chapterized_books/27681-chapters/06.txt</td>\n",
       "      <td>finished_summaries/cliffnotes/The Last of the ...</td>\n",
       "      <td>The Last of the Mohicans.chapter 6</td>\n",
       "      <td>chapter 6</td>\n",
       "      <td>NaN</td>\n",
       "      <td>{\"name\": \"Chapter 6\", \"url\": \"https://web.arch...</td>\n",
       "      <td>\\n  \"Those strains that once did sweet in Zion...</td>\n",
       "      <td>3873.0</td>\n",
       "      <td>Chapter 6</td>\n",
       "      <td>https://web.archive.org/web/20201101053205/htt...</td>\n",
       "      <td>Heyward and the girls are uneasy and Gamut is ...</td>\n",
       "      <td>This chapter shows Cooper in his most inventiv...</td>\n",
       "      <td>321.0</td>\n",
       "      <td>128.0</td>\n",
       "    </tr>\n",
       "  </tbody>\n",
       "</table>\n",
       "</div>"
      ],
      "text/plain": [
       "     bid  is_aggregate      source   \n",
       "0  27681          True  cliffnotes  \\\n",
       "1  27681         False  cliffnotes   \n",
       "2  27681         False  cliffnotes   \n",
       "3  27681         False  cliffnotes   \n",
       "4  27681         False  cliffnotes   \n",
       "\n",
       "                                        chapter_path   \n",
       "0  all_chapterized_books/27681-chapters/chapters_...  \\\n",
       "1        all_chapterized_books/27681-chapters/03.txt   \n",
       "2        all_chapterized_books/27681-chapters/04.txt   \n",
       "3        all_chapterized_books/27681-chapters/05.txt   \n",
       "4        all_chapterized_books/27681-chapters/06.txt   \n",
       "\n",
       "                                        summary_path   \n",
       "0  finished_summaries/cliffnotes/The Last of the ...  \\\n",
       "1  finished_summaries/cliffnotes/The Last of the ...   \n",
       "2  finished_summaries/cliffnotes/The Last of the ...   \n",
       "3  finished_summaries/cliffnotes/The Last of the ...   \n",
       "4  finished_summaries/cliffnotes/The Last of the ...   \n",
       "\n",
       "                                 book_id    summary_id  content   \n",
       "0  The Last of the Mohicans.chapters 1-2  chapters 1-2      NaN  \\\n",
       "1     The Last of the Mohicans.chapter 3     chapter 3      NaN   \n",
       "2     The Last of the Mohicans.chapter 4     chapter 4      NaN   \n",
       "3     The Last of the Mohicans.chapter 5     chapter 5      NaN   \n",
       "4     The Last of the Mohicans.chapter 6     chapter 6      NaN   \n",
       "\n",
       "                                             summary   \n",
       "0  {\"name\": \"Chapters 1-2\", \"url\": \"https://web.a...  \\\n",
       "1  {\"name\": \"Chapter 3\", \"url\": \"https://web.arch...   \n",
       "2  {\"name\": \"Chapter 4\", \"url\": \"https://web.arch...   \n",
       "3  {\"name\": \"Chapter 5\", \"url\": \"https://web.arch...   \n",
       "4  {\"name\": \"Chapter 6\", \"url\": \"https://web.arch...   \n",
       "\n",
       "                                             chapter  chapter_length   \n",
       "0  \\n  \"Mine ear is open, and my heart prepared:\\...          6471.0  \\\n",
       "1  \\n  \"Before these fields were shorn and tilled...          3132.0   \n",
       "2  \\n  \"Well, go thy way: thou shalt not from thi...          3075.0   \n",
       "3  \\n                      \"In such a night\\n  Di...          3268.0   \n",
       "4  \\n  \"Those strains that once did sweet in Zion...          3873.0   \n",
       "\n",
       "   summary_name                                        summary_url   \n",
       "0  Chapters 1-2  https://web.archive.org/web/20201101053205/htt...  \\\n",
       "1     Chapter 3  https://web.archive.org/web/20201101053205/htt...   \n",
       "2     Chapter 4  https://web.archive.org/web/20201101053205/htt...   \n",
       "3     Chapter 5  https://web.archive.org/web/20201101053205/htt...   \n",
       "4     Chapter 6  https://web.archive.org/web/20201101053205/htt...   \n",
       "\n",
       "                                        summary_text   \n",
       "0  Before any characters appear, the time and geo...  \\\n",
       "1  In another part of the forest by the river a f...   \n",
       "2  When the mounted party from Fort Howard approa...   \n",
       "3  The pursuit of Magua is unsuccessful, but Hawk...   \n",
       "4  Heyward and the girls are uneasy and Gamut is ...   \n",
       "\n",
       "                                    summary_analysis  summary_length   \n",
       "0  These two chapters introduce the reader to the...           388.0  \\\n",
       "1  This chapter introduces the other three main a...           198.0   \n",
       "2  Since this chapter is mostly one of surface ac...           319.0   \n",
       "3  Here the reader encounters the first bloodshed...           329.0   \n",
       "4  This chapter shows Cooper in his most inventiv...           321.0   \n",
       "\n",
       "   analysis_length  \n",
       "0            473.0  \n",
       "1            149.0  \n",
       "2             75.0  \n",
       "3            156.0  \n",
       "4            128.0  "
      ]
     },
     "execution_count": 51,
     "metadata": {},
     "output_type": "execute_result"
    }
   ],
   "source": [
    "ds = datasets.load_dataset(\n",
    "    \"kmfoda/booksum\",\n",
    "    trust_remote_code=False\n",
    ")\n",
    "ds.set_format(\"pandas\")\n",
    "df = ds['train'][:]\n",
    "df.head(5)"
   ]
  },
  {
   "cell_type": "code",
   "execution_count": null,
   "metadata": {},
   "outputs": [],
   "source": [
    "df['summary_analysis_count'] = df['summary_analysis'].apply(lambda x: 0 if x is None else len(x.split()))\n",
    "df['summary_text_count'] = df['summary_text'].apply(lambda x: 0 if x is None else len(x.split()))"
   ]
  },
  {
   "cell_type": "code",
   "execution_count": null,
   "metadata": {},
   "outputs": [
    {
     "data": {
      "text/html": [
       "<div>\n",
       "<style scoped>\n",
       "    .dataframe tbody tr th:only-of-type {\n",
       "        vertical-align: middle;\n",
       "    }\n",
       "\n",
       "    .dataframe tbody tr th {\n",
       "        vertical-align: top;\n",
       "    }\n",
       "\n",
       "    .dataframe thead th {\n",
       "        text-align: right;\n",
       "    }\n",
       "</style>\n",
       "<table border=\"1\" class=\"dataframe\">\n",
       "  <thead>\n",
       "    <tr style=\"text-align: right;\">\n",
       "      <th></th>\n",
       "      <th>bid</th>\n",
       "      <th>content</th>\n",
       "      <th>chapter_length</th>\n",
       "      <th>summary_length</th>\n",
       "      <th>analysis_length</th>\n",
       "      <th>summary_analysis_count</th>\n",
       "      <th>summary_text_count</th>\n",
       "    </tr>\n",
       "  </thead>\n",
       "  <tbody>\n",
       "    <tr>\n",
       "      <th>count</th>\n",
       "      <td>9600.000000</td>\n",
       "      <td>0.0</td>\n",
       "      <td>9600.000000</td>\n",
       "      <td>9600.000000</td>\n",
       "      <td>9600.000000</td>\n",
       "      <td>9600.000000</td>\n",
       "      <td>9600.00000</td>\n",
       "    </tr>\n",
       "    <tr>\n",
       "      <th>mean</th>\n",
       "      <td>5314.669375</td>\n",
       "      <td>NaN</td>\n",
       "      <td>3897.230625</td>\n",
       "      <td>376.896354</td>\n",
       "      <td>274.324063</td>\n",
       "      <td>272.387187</td>\n",
       "      <td>376.80375</td>\n",
       "    </tr>\n",
       "    <tr>\n",
       "      <th>std</th>\n",
       "      <td>10504.196539</td>\n",
       "      <td>NaN</td>\n",
       "      <td>4203.548176</td>\n",
       "      <td>331.915025</td>\n",
       "      <td>385.446081</td>\n",
       "      <td>383.108941</td>\n",
       "      <td>331.87908</td>\n",
       "    </tr>\n",
       "    <tr>\n",
       "      <th>min</th>\n",
       "      <td>11.000000</td>\n",
       "      <td>NaN</td>\n",
       "      <td>42.000000</td>\n",
       "      <td>2.000000</td>\n",
       "      <td>1.000000</td>\n",
       "      <td>0.000000</td>\n",
       "      <td>2.00000</td>\n",
       "    </tr>\n",
       "    <tr>\n",
       "      <th>25%</th>\n",
       "      <td>345.000000</td>\n",
       "      <td>NaN</td>\n",
       "      <td>1674.000000</td>\n",
       "      <td>171.000000</td>\n",
       "      <td>1.000000</td>\n",
       "      <td>0.000000</td>\n",
       "      <td>171.00000</td>\n",
       "    </tr>\n",
       "    <tr>\n",
       "      <th>50%</th>\n",
       "      <td>1254.000000</td>\n",
       "      <td>NaN</td>\n",
       "      <td>2779.000000</td>\n",
       "      <td>283.000000</td>\n",
       "      <td>133.000000</td>\n",
       "      <td>132.000000</td>\n",
       "      <td>283.00000</td>\n",
       "    </tr>\n",
       "    <tr>\n",
       "      <th>75%</th>\n",
       "      <td>2641.000000</td>\n",
       "      <td>NaN</td>\n",
       "      <td>4571.000000</td>\n",
       "      <td>467.000000</td>\n",
       "      <td>466.000000</td>\n",
       "      <td>465.000000</td>\n",
       "      <td>467.00000</td>\n",
       "    </tr>\n",
       "    <tr>\n",
       "      <th>max</th>\n",
       "      <td>45631.000000</td>\n",
       "      <td>NaN</td>\n",
       "      <td>114226.000000</td>\n",
       "      <td>4852.000000</td>\n",
       "      <td>5761.000000</td>\n",
       "      <td>5761.000000</td>\n",
       "      <td>4852.00000</td>\n",
       "    </tr>\n",
       "  </tbody>\n",
       "</table>\n",
       "</div>"
      ],
      "text/plain": [
       "                bid  content  chapter_length  summary_length  analysis_length   \n",
       "count   9600.000000      0.0     9600.000000     9600.000000      9600.000000  \\\n",
       "mean    5314.669375      NaN     3897.230625      376.896354       274.324063   \n",
       "std    10504.196539      NaN     4203.548176      331.915025       385.446081   \n",
       "min       11.000000      NaN       42.000000        2.000000         1.000000   \n",
       "25%      345.000000      NaN     1674.000000      171.000000         1.000000   \n",
       "50%     1254.000000      NaN     2779.000000      283.000000       133.000000   \n",
       "75%     2641.000000      NaN     4571.000000      467.000000       466.000000   \n",
       "max    45631.000000      NaN   114226.000000     4852.000000      5761.000000   \n",
       "\n",
       "       summary_analysis_count  summary_text_count  \n",
       "count             9600.000000          9600.00000  \n",
       "mean               272.387187           376.80375  \n",
       "std                383.108941           331.87908  \n",
       "min                  0.000000             2.00000  \n",
       "25%                  0.000000           171.00000  \n",
       "50%                132.000000           283.00000  \n",
       "75%                465.000000           467.00000  \n",
       "max               5761.000000          4852.00000  "
      ]
     },
     "execution_count": 54,
     "metadata": {},
     "output_type": "execute_result"
    }
   ],
   "source": [
    "df.describe()"
   ]
  },
  {
   "cell_type": "markdown",
   "metadata": {},
   "source": [
    "***\n",
    "# newsroom"
   ]
  },
  {
   "cell_type": "code",
   "execution_count": null,
   "metadata": {},
   "outputs": [
    {
     "data": {
      "application/vnd.jupyter.widget-view+json": {
       "model_id": "a8f31ee8834d42909b9ef0e3d722967b",
       "version_major": 2,
       "version_minor": 0
      },
      "text/plain": [
       "Downloading builder script:   0%|          | 0.00/5.11k [00:00<?, ?B/s]"
      ]
     },
     "metadata": {},
     "output_type": "display_data"
    },
    {
     "data": {
      "application/vnd.jupyter.widget-view+json": {
       "model_id": "1148c2ff1f4a42a8bcdfad3fd1d96e04",
       "version_major": 2,
       "version_minor": 0
      },
      "text/plain": [
       "Downloading readme:   0%|          | 0.00/11.8k [00:00<?, ?B/s]"
      ]
     },
     "metadata": {},
     "output_type": "display_data"
    },
    {
     "ename": "ManualDownloadError",
     "evalue": "                  The dataset newsroom with config default requires manual data.\n                  Please follow the manual download instructions:\n                     You should download the dataset from https://lil.nlp.cornell.edu/newsroom/download/index.html\nThe webpage requires registration.\nTo unzip the .tar file run `tar -zxvf complete.tar`. To unzip the .gz files\nrun `gunzip train.json.gz` , ...\nAfter downloading, please put the files under the following names\ndev.jsonl, test.jsonl and train.jsonl in a dir of your choice,\nwhich will be used as a manual_dir, e.g. `~/.manual_dirs/newsroom`\nNewsroom can then be loaded via:\n`datasets.load_dataset(\"newsroom\", data_dir=\"~/.manual_dirs/newsroom\")`.\n\n                  Manual data can be loaded with:\n                   datasets.load_dataset(\"newsroom\", data_dir=\"<path/to/manual/data>\")",
     "output_type": "error",
     "traceback": [
      "\u001b[0;31m---------------------------------------------------------------------------\u001b[0m",
      "\u001b[0;31mManualDownloadError\u001b[0m                       Traceback (most recent call last)",
      "Cell \u001b[0;32mIn[60], line 1\u001b[0m\n\u001b[0;32m----> 1\u001b[0m ds \u001b[38;5;241m=\u001b[39m \u001b[43mdatasets\u001b[49m\u001b[38;5;241;43m.\u001b[39;49m\u001b[43mload_dataset\u001b[49m\u001b[43m(\u001b[49m\n\u001b[1;32m      2\u001b[0m \u001b[43m    \u001b[49m\u001b[38;5;124;43m\"\u001b[39;49m\u001b[38;5;124;43mnewsroom\u001b[39;49m\u001b[38;5;124;43m\"\u001b[39;49m\u001b[43m,\u001b[49m\n\u001b[1;32m      3\u001b[0m \u001b[43m    \u001b[49m\u001b[43mtrust_remote_code\u001b[49m\u001b[38;5;241;43m=\u001b[39;49m\u001b[38;5;28;43;01mTrue\u001b[39;49;00m\n\u001b[1;32m      4\u001b[0m \u001b[43m)\u001b[49m\n\u001b[1;32m      5\u001b[0m ds\u001b[38;5;241m.\u001b[39mset_format(\u001b[38;5;124m\"\u001b[39m\u001b[38;5;124mpandas\u001b[39m\u001b[38;5;124m\"\u001b[39m)\n\u001b[1;32m      6\u001b[0m df \u001b[38;5;241m=\u001b[39m ds[\u001b[38;5;124m'\u001b[39m\u001b[38;5;124mtrain\u001b[39m\u001b[38;5;124m'\u001b[39m][:]\n",
      "File \u001b[0;32m~/.pyenv/versions/3.10.11/lib/python3.10/site-packages/datasets/load.py:2609\u001b[0m, in \u001b[0;36mload_dataset\u001b[0;34m(path, name, data_dir, data_files, split, cache_dir, features, download_config, download_mode, verification_mode, ignore_verifications, keep_in_memory, save_infos, revision, token, use_auth_token, task, streaming, num_proc, storage_options, trust_remote_code, **config_kwargs)\u001b[0m\n\u001b[1;32m   2606\u001b[0m     \u001b[38;5;28;01mreturn\u001b[39;00m builder_instance\u001b[38;5;241m.\u001b[39mas_streaming_dataset(split\u001b[38;5;241m=\u001b[39msplit)\n\u001b[1;32m   2608\u001b[0m \u001b[38;5;66;03m# Download and prepare data\u001b[39;00m\n\u001b[0;32m-> 2609\u001b[0m \u001b[43mbuilder_instance\u001b[49m\u001b[38;5;241;43m.\u001b[39;49m\u001b[43mdownload_and_prepare\u001b[49m\u001b[43m(\u001b[49m\n\u001b[1;32m   2610\u001b[0m \u001b[43m    \u001b[49m\u001b[43mdownload_config\u001b[49m\u001b[38;5;241;43m=\u001b[39;49m\u001b[43mdownload_config\u001b[49m\u001b[43m,\u001b[49m\n\u001b[1;32m   2611\u001b[0m \u001b[43m    \u001b[49m\u001b[43mdownload_mode\u001b[49m\u001b[38;5;241;43m=\u001b[39;49m\u001b[43mdownload_mode\u001b[49m\u001b[43m,\u001b[49m\n\u001b[1;32m   2612\u001b[0m \u001b[43m    \u001b[49m\u001b[43mverification_mode\u001b[49m\u001b[38;5;241;43m=\u001b[39;49m\u001b[43mverification_mode\u001b[49m\u001b[43m,\u001b[49m\n\u001b[1;32m   2613\u001b[0m \u001b[43m    \u001b[49m\u001b[43mnum_proc\u001b[49m\u001b[38;5;241;43m=\u001b[39;49m\u001b[43mnum_proc\u001b[49m\u001b[43m,\u001b[49m\n\u001b[1;32m   2614\u001b[0m \u001b[43m    \u001b[49m\u001b[43mstorage_options\u001b[49m\u001b[38;5;241;43m=\u001b[39;49m\u001b[43mstorage_options\u001b[49m\u001b[43m,\u001b[49m\n\u001b[1;32m   2615\u001b[0m \u001b[43m\u001b[49m\u001b[43m)\u001b[49m\n\u001b[1;32m   2617\u001b[0m \u001b[38;5;66;03m# Build dataset for splits\u001b[39;00m\n\u001b[1;32m   2618\u001b[0m keep_in_memory \u001b[38;5;241m=\u001b[39m (\n\u001b[1;32m   2619\u001b[0m     keep_in_memory \u001b[38;5;28;01mif\u001b[39;00m keep_in_memory \u001b[38;5;129;01mis\u001b[39;00m \u001b[38;5;129;01mnot\u001b[39;00m \u001b[38;5;28;01mNone\u001b[39;00m \u001b[38;5;28;01melse\u001b[39;00m is_small_dataset(builder_instance\u001b[38;5;241m.\u001b[39minfo\u001b[38;5;241m.\u001b[39mdataset_size)\n\u001b[1;32m   2620\u001b[0m )\n",
      "File \u001b[0;32m~/.pyenv/versions/3.10.11/lib/python3.10/site-packages/datasets/builder.py:1004\u001b[0m, in \u001b[0;36mDatasetBuilder.download_and_prepare\u001b[0;34m(self, output_dir, download_config, download_mode, verification_mode, ignore_verifications, try_from_hf_gcs, dl_manager, base_path, use_auth_token, file_format, max_shard_size, num_proc, storage_options, **download_and_prepare_kwargs)\u001b[0m\n\u001b[1;32m   1001\u001b[0m     _dest \u001b[38;5;241m=\u001b[39m \u001b[38;5;28mself\u001b[39m\u001b[38;5;241m.\u001b[39m_fs\u001b[38;5;241m.\u001b[39m_strip_protocol(\u001b[38;5;28mself\u001b[39m\u001b[38;5;241m.\u001b[39m_output_dir) \u001b[38;5;28;01mif\u001b[39;00m is_local \u001b[38;5;28;01melse\u001b[39;00m \u001b[38;5;28mself\u001b[39m\u001b[38;5;241m.\u001b[39m_output_dir\n\u001b[1;32m   1002\u001b[0m     logger\u001b[38;5;241m.\u001b[39minfo(\u001b[38;5;124mf\u001b[39m\u001b[38;5;124m\"\u001b[39m\u001b[38;5;124mDownloading and preparing dataset \u001b[39m\u001b[38;5;132;01m{\u001b[39;00m\u001b[38;5;28mself\u001b[39m\u001b[38;5;241m.\u001b[39mdataset_name\u001b[38;5;132;01m}\u001b[39;00m\u001b[38;5;124m/\u001b[39m\u001b[38;5;132;01m{\u001b[39;00m\u001b[38;5;28mself\u001b[39m\u001b[38;5;241m.\u001b[39mconfig\u001b[38;5;241m.\u001b[39mname\u001b[38;5;132;01m}\u001b[39;00m\u001b[38;5;124m to \u001b[39m\u001b[38;5;132;01m{\u001b[39;00m_dest\u001b[38;5;132;01m}\u001b[39;00m\u001b[38;5;124m...\u001b[39m\u001b[38;5;124m\"\u001b[39m)\n\u001b[0;32m-> 1004\u001b[0m \u001b[38;5;28;43mself\u001b[39;49m\u001b[38;5;241;43m.\u001b[39;49m\u001b[43m_check_manual_download\u001b[49m\u001b[43m(\u001b[49m\u001b[43mdl_manager\u001b[49m\u001b[43m)\u001b[49m\n\u001b[1;32m   1006\u001b[0m \u001b[38;5;66;03m# Create a tmp dir and rename to self._output_dir on successful exit.\u001b[39;00m\n\u001b[1;32m   1007\u001b[0m \u001b[38;5;28;01mwith\u001b[39;00m incomplete_dir(\u001b[38;5;28mself\u001b[39m\u001b[38;5;241m.\u001b[39m_output_dir) \u001b[38;5;28;01mas\u001b[39;00m tmp_output_dir:\n\u001b[1;32m   1008\u001b[0m     \u001b[38;5;66;03m# Temporarily assign _output_dir to tmp_data_dir to avoid having to forward\u001b[39;00m\n\u001b[1;32m   1009\u001b[0m     \u001b[38;5;66;03m# it to every sub function.\u001b[39;00m\n",
      "File \u001b[0;32m~/.pyenv/versions/3.10.11/lib/python3.10/site-packages/datasets/builder.py:1050\u001b[0m, in \u001b[0;36mDatasetBuilder._check_manual_download\u001b[0;34m(self, dl_manager)\u001b[0m\n\u001b[1;32m   1048\u001b[0m \u001b[38;5;28;01mdef\u001b[39;00m \u001b[38;5;21m_check_manual_download\u001b[39m(\u001b[38;5;28mself\u001b[39m, dl_manager):\n\u001b[1;32m   1049\u001b[0m     \u001b[38;5;28;01mif\u001b[39;00m \u001b[38;5;28mself\u001b[39m\u001b[38;5;241m.\u001b[39mmanual_download_instructions \u001b[38;5;129;01mis\u001b[39;00m \u001b[38;5;129;01mnot\u001b[39;00m \u001b[38;5;28;01mNone\u001b[39;00m \u001b[38;5;129;01mand\u001b[39;00m dl_manager\u001b[38;5;241m.\u001b[39mmanual_dir \u001b[38;5;129;01mis\u001b[39;00m \u001b[38;5;28;01mNone\u001b[39;00m:\n\u001b[0;32m-> 1050\u001b[0m         \u001b[38;5;28;01mraise\u001b[39;00m ManualDownloadError(\n\u001b[1;32m   1051\u001b[0m             textwrap\u001b[38;5;241m.\u001b[39mdedent(\n\u001b[1;32m   1052\u001b[0m                 \u001b[38;5;124mf\u001b[39m\u001b[38;5;124m\"\"\"\u001b[39m\u001b[38;5;130;01m\\\u001b[39;00m\n\u001b[1;32m   1053\u001b[0m \u001b[38;5;124m                The dataset \u001b[39m\u001b[38;5;132;01m{\u001b[39;00m\u001b[38;5;28mself\u001b[39m\u001b[38;5;241m.\u001b[39mdataset_name\u001b[38;5;132;01m}\u001b[39;00m\u001b[38;5;124m with config \u001b[39m\u001b[38;5;132;01m{\u001b[39;00m\u001b[38;5;28mself\u001b[39m\u001b[38;5;241m.\u001b[39mconfig\u001b[38;5;241m.\u001b[39mname\u001b[38;5;132;01m}\u001b[39;00m\u001b[38;5;124m requires manual data.\u001b[39m\n\u001b[1;32m   1054\u001b[0m \u001b[38;5;124m                Please follow the manual download instructions:\u001b[39m\n\u001b[1;32m   1055\u001b[0m \u001b[38;5;124m                 \u001b[39m\u001b[38;5;132;01m{\u001b[39;00m\u001b[38;5;28mself\u001b[39m\u001b[38;5;241m.\u001b[39mmanual_download_instructions\u001b[38;5;132;01m}\u001b[39;00m\n\u001b[1;32m   1056\u001b[0m \u001b[38;5;124m                Manual data can be loaded with:\u001b[39m\n\u001b[1;32m   1057\u001b[0m \u001b[38;5;124m                 datasets.load_dataset(\u001b[39m\u001b[38;5;124m\"\u001b[39m\u001b[38;5;132;01m{\u001b[39;00m\u001b[38;5;28mself\u001b[39m\u001b[38;5;241m.\u001b[39mdataset_name\u001b[38;5;132;01m}\u001b[39;00m\u001b[38;5;124m\"\u001b[39m\u001b[38;5;124m, data_dir=\u001b[39m\u001b[38;5;124m\"\u001b[39m\u001b[38;5;124m<path/to/manual/data>\u001b[39m\u001b[38;5;124m\"\u001b[39m\u001b[38;5;124m)\u001b[39m\u001b[38;5;124m\"\"\"\u001b[39m\n\u001b[1;32m   1058\u001b[0m             )\n\u001b[1;32m   1059\u001b[0m         )\n",
      "\u001b[0;31mManualDownloadError\u001b[0m:                   The dataset newsroom with config default requires manual data.\n                  Please follow the manual download instructions:\n                     You should download the dataset from https://lil.nlp.cornell.edu/newsroom/download/index.html\nThe webpage requires registration.\nTo unzip the .tar file run `tar -zxvf complete.tar`. To unzip the .gz files\nrun `gunzip train.json.gz` , ...\nAfter downloading, please put the files under the following names\ndev.jsonl, test.jsonl and train.jsonl in a dir of your choice,\nwhich will be used as a manual_dir, e.g. `~/.manual_dirs/newsroom`\nNewsroom can then be loaded via:\n`datasets.load_dataset(\"newsroom\", data_dir=\"~/.manual_dirs/newsroom\")`.\n\n                  Manual data can be loaded with:\n                   datasets.load_dataset(\"newsroom\", data_dir=\"<path/to/manual/data>\")"
     ]
    }
   ],
   "source": [
    "ds = datasets.load_dataset(\n",
    "    \"newsroom\",\n",
    "    trust_remote_code=True\n",
    ")\n",
    "ds.set_format(\"pandas\")\n",
    "df = ds['train'][:]\n",
    "df.head(5)"
   ]
  },
  {
   "cell_type": "markdown",
   "metadata": {},
   "source": [
    "***\n",
    "# reddit"
   ]
  },
  {
   "cell_type": "markdown",
   "metadata": {},
   "source": [
    "**Downloading and preparing dataset 2.93 GiB (download: 2.93 GiB, generated: 18.09 GiB, total: 21.01 GiB) to**"
   ]
  },
  {
   "cell_type": "code",
   "execution_count": null,
   "metadata": {},
   "outputs": [],
   "source": [
    "ds = tfds.load('reddit')"
   ]
  },
  {
   "cell_type": "markdown",
   "metadata": {},
   "source": [
    "***\n",
    "# reddit_tifu"
   ]
  },
  {
   "cell_type": "code",
   "execution_count": 74,
   "metadata": {},
   "outputs": [
    {
     "data": {
      "application/vnd.jupyter.widget-view+json": {
       "model_id": "c7b2a2474dc54902a707510523dfbcba",
       "version_major": 2,
       "version_minor": 0
      },
      "text/plain": [
       "Downloading data:   0%|          | 0.00/142M [00:00<?, ?B/s]"
      ]
     },
     "metadata": {},
     "output_type": "display_data"
    },
    {
     "data": {
      "application/vnd.jupyter.widget-view+json": {
       "model_id": "ce9813f947104713bee7bfac3eb1f03a",
       "version_major": 2,
       "version_minor": 0
      },
      "text/plain": [
       "Generating train split:   0%|          | 0/79740 [00:00<?, ? examples/s]"
      ]
     },
     "metadata": {},
     "output_type": "display_data"
    },
    {
     "data": {
      "text/html": [
       "<div>\n",
       "<style scoped>\n",
       "    .dataframe tbody tr th:only-of-type {\n",
       "        vertical-align: middle;\n",
       "    }\n",
       "\n",
       "    .dataframe tbody tr th {\n",
       "        vertical-align: top;\n",
       "    }\n",
       "\n",
       "    .dataframe thead th {\n",
       "        text-align: right;\n",
       "    }\n",
       "</style>\n",
       "<table border=\"1\" class=\"dataframe\">\n",
       "  <thead>\n",
       "    <tr style=\"text-align: right;\">\n",
       "      <th></th>\n",
       "      <th>ups</th>\n",
       "      <th>num_comments</th>\n",
       "      <th>upvote_ratio</th>\n",
       "      <th>score</th>\n",
       "      <th>documents</th>\n",
       "      <th>tldr</th>\n",
       "      <th>title</th>\n",
       "    </tr>\n",
       "  </thead>\n",
       "  <tbody>\n",
       "    <tr>\n",
       "      <th>0</th>\n",
       "      <td>50.0</td>\n",
       "      <td>13.0</td>\n",
       "      <td>0.77</td>\n",
       "      <td>50.0</td>\n",
       "      <td>i was on skype on my tablet as i went to the t...</td>\n",
       "      <td></td>\n",
       "      <td>forgetting to pull my underwear down before i ...</td>\n",
       "    </tr>\n",
       "    <tr>\n",
       "      <th>1</th>\n",
       "      <td>115.0</td>\n",
       "      <td>23.0</td>\n",
       "      <td>0.88</td>\n",
       "      <td>115.0</td>\n",
       "      <td>this actually happened a couple of years ago. ...</td>\n",
       "      <td>confuse a 5th grade girl for a boy in front of...</td>\n",
       "      <td>gender-stereotyping</td>\n",
       "    </tr>\n",
       "    <tr>\n",
       "      <th>2</th>\n",
       "      <td>14.0</td>\n",
       "      <td>11.0</td>\n",
       "      <td>0.78</td>\n",
       "      <td>14.0</td>\n",
       "      <td>i tend to leave half-drank beers in my garage....</td>\n",
       "      <td></td>\n",
       "      <td>drinking a beer</td>\n",
       "    </tr>\n",
       "    <tr>\n",
       "      <th>3</th>\n",
       "      <td>16.0</td>\n",
       "      <td>12.0</td>\n",
       "      <td>0.79</td>\n",
       "      <td>16.0</td>\n",
       "      <td>it was last october, but i'm feeling the fall-...</td>\n",
       "      <td>i found my estranged dad, thought i loved him ...</td>\n",
       "      <td>telling my dad that i love him.</td>\n",
       "    </tr>\n",
       "    <tr>\n",
       "      <th>4</th>\n",
       "      <td>0.0</td>\n",
       "      <td>2.0</td>\n",
       "      <td>0.42</td>\n",
       "      <td>0.0</td>\n",
       "      <td>flashback to the past, almost exactly one year...</td>\n",
       "      <td></td>\n",
       "      <td>how hard can you fail at something?</td>\n",
       "    </tr>\n",
       "  </tbody>\n",
       "</table>\n",
       "</div>"
      ],
      "text/plain": [
       "     ups  num_comments  upvote_ratio  score   \n",
       "0   50.0          13.0          0.77   50.0  \\\n",
       "1  115.0          23.0          0.88  115.0   \n",
       "2   14.0          11.0          0.78   14.0   \n",
       "3   16.0          12.0          0.79   16.0   \n",
       "4    0.0           2.0          0.42    0.0   \n",
       "\n",
       "                                           documents   \n",
       "0  i was on skype on my tablet as i went to the t...  \\\n",
       "1  this actually happened a couple of years ago. ...   \n",
       "2  i tend to leave half-drank beers in my garage....   \n",
       "3  it was last october, but i'm feeling the fall-...   \n",
       "4  flashback to the past, almost exactly one year...   \n",
       "\n",
       "                                                tldr   \n",
       "0                                                     \\\n",
       "1  confuse a 5th grade girl for a boy in front of...   \n",
       "2                                                      \n",
       "3  i found my estranged dad, thought i loved him ...   \n",
       "4                                                      \n",
       "\n",
       "                                               title  \n",
       "0  forgetting to pull my underwear down before i ...  \n",
       "1                                gender-stereotyping  \n",
       "2                                    drinking a beer  \n",
       "3                    telling my dad that i love him.  \n",
       "4                how hard can you fail at something?  "
      ]
     },
     "execution_count": 74,
     "metadata": {},
     "output_type": "execute_result"
    }
   ],
   "source": [
    "ds = datasets.load_dataset(\n",
    "    \"ctr4si/reddit_tifu\", 'short',\n",
    "    trust_remote_code=True\n",
    ")\n",
    "ds.set_format(\"pandas\")\n",
    "df = ds['train'][:]\n",
    "df.head(5)"
   ]
  },
  {
   "cell_type": "code",
   "execution_count": 77,
   "metadata": {},
   "outputs": [],
   "source": [
    "df['title_count'] = df['title'].apply(lambda x: 0 if x is None else len(x.split()))\n",
    "df['documents_count'] = df['documents'].apply(lambda x: 0 if x is None else len(x.split()))"
   ]
  },
  {
   "cell_type": "code",
   "execution_count": 78,
   "metadata": {},
   "outputs": [
    {
     "data": {
      "text/html": [
       "<div>\n",
       "<style scoped>\n",
       "    .dataframe tbody tr th:only-of-type {\n",
       "        vertical-align: middle;\n",
       "    }\n",
       "\n",
       "    .dataframe tbody tr th {\n",
       "        vertical-align: top;\n",
       "    }\n",
       "\n",
       "    .dataframe thead th {\n",
       "        text-align: right;\n",
       "    }\n",
       "</style>\n",
       "<table border=\"1\" class=\"dataframe\">\n",
       "  <thead>\n",
       "    <tr style=\"text-align: right;\">\n",
       "      <th></th>\n",
       "      <th>ups</th>\n",
       "      <th>num_comments</th>\n",
       "      <th>upvote_ratio</th>\n",
       "      <th>score</th>\n",
       "      <th>title_count</th>\n",
       "      <th>documents_count</th>\n",
       "    </tr>\n",
       "  </thead>\n",
       "  <tbody>\n",
       "    <tr>\n",
       "      <th>count</th>\n",
       "      <td>79740.000000</td>\n",
       "      <td>79740.000000</td>\n",
       "      <td>79740.000000</td>\n",
       "      <td>79740.000000</td>\n",
       "      <td>79740.000000</td>\n",
       "      <td>79740.000000</td>\n",
       "    </tr>\n",
       "    <tr>\n",
       "      <th>mean</th>\n",
       "      <td>254.228363</td>\n",
       "      <td>37.300388</td>\n",
       "      <td>0.763873</td>\n",
       "      <td>254.228363</td>\n",
       "      <td>6.781703</td>\n",
       "      <td>308.035892</td>\n",
       "    </tr>\n",
       "    <tr>\n",
       "      <th>std</th>\n",
       "      <td>1677.370361</td>\n",
       "      <td>155.337738</td>\n",
       "      <td>0.178532</td>\n",
       "      <td>1677.370361</td>\n",
       "      <td>3.709242</td>\n",
       "      <td>259.630296</td>\n",
       "    </tr>\n",
       "    <tr>\n",
       "      <th>min</th>\n",
       "      <td>0.000000</td>\n",
       "      <td>0.000000</td>\n",
       "      <td>0.000000</td>\n",
       "      <td>0.000000</td>\n",
       "      <td>1.000000</td>\n",
       "      <td>1.000000</td>\n",
       "    </tr>\n",
       "    <tr>\n",
       "      <th>25%</th>\n",
       "      <td>2.000000</td>\n",
       "      <td>3.000000</td>\n",
       "      <td>0.670000</td>\n",
       "      <td>2.000000</td>\n",
       "      <td>4.000000</td>\n",
       "      <td>148.000000</td>\n",
       "    </tr>\n",
       "    <tr>\n",
       "      <th>50%</th>\n",
       "      <td>9.000000</td>\n",
       "      <td>7.000000</td>\n",
       "      <td>0.810000</td>\n",
       "      <td>9.000000</td>\n",
       "      <td>6.000000</td>\n",
       "      <td>242.000000</td>\n",
       "    </tr>\n",
       "    <tr>\n",
       "      <th>75%</th>\n",
       "      <td>40.000000</td>\n",
       "      <td>18.000000</td>\n",
       "      <td>0.900000</td>\n",
       "      <td>40.000000</td>\n",
       "      <td>8.000000</td>\n",
       "      <td>387.000000</td>\n",
       "    </tr>\n",
       "    <tr>\n",
       "      <th>max</th>\n",
       "      <td>96587.000000</td>\n",
       "      <td>4506.000000</td>\n",
       "      <td>1.000000</td>\n",
       "      <td>96587.000000</td>\n",
       "      <td>58.000000</td>\n",
       "      <td>6019.000000</td>\n",
       "    </tr>\n",
       "  </tbody>\n",
       "</table>\n",
       "</div>"
      ],
      "text/plain": [
       "                ups  num_comments  upvote_ratio         score   title_count   \n",
       "count  79740.000000  79740.000000  79740.000000  79740.000000  79740.000000  \\\n",
       "mean     254.228363     37.300388      0.763873    254.228363      6.781703   \n",
       "std     1677.370361    155.337738      0.178532   1677.370361      3.709242   \n",
       "min        0.000000      0.000000      0.000000      0.000000      1.000000   \n",
       "25%        2.000000      3.000000      0.670000      2.000000      4.000000   \n",
       "50%        9.000000      7.000000      0.810000      9.000000      6.000000   \n",
       "75%       40.000000     18.000000      0.900000     40.000000      8.000000   \n",
       "max    96587.000000   4506.000000      1.000000  96587.000000     58.000000   \n",
       "\n",
       "       documents_count  \n",
       "count     79740.000000  \n",
       "mean        308.035892  \n",
       "std         259.630296  \n",
       "min           1.000000  \n",
       "25%         148.000000  \n",
       "50%         242.000000  \n",
       "75%         387.000000  \n",
       "max        6019.000000  "
      ]
     },
     "execution_count": 78,
     "metadata": {},
     "output_type": "execute_result"
    }
   ],
   "source": [
    "df.describe()"
   ]
  },
  {
   "cell_type": "markdown",
   "metadata": {},
   "source": [
    "***\n",
    "# samsum"
   ]
  },
  {
   "cell_type": "code",
   "execution_count": 82,
   "metadata": {},
   "outputs": [
    {
     "name": "stdout",
     "output_type": "stream",
     "text": [
      "Collecting py7zr\n",
      "  Downloading py7zr-0.21.1-py3-none-any.whl.metadata (17 kB)\n",
      "Collecting texttable (from py7zr)\n",
      "  Downloading texttable-1.7.0-py2.py3-none-any.whl.metadata (9.8 kB)\n",
      "Collecting pycryptodomex>=3.16.0 (from py7zr)\n",
      "  Downloading pycryptodomex-3.20.0-cp35-abi3-macosx_10_9_universal2.whl.metadata (3.4 kB)\n",
      "Collecting pyzstd>=0.15.9 (from py7zr)\n",
      "  Downloading pyzstd-0.16.0-cp310-cp310-macosx_11_0_arm64.whl.metadata (2.4 kB)\n",
      "Collecting pyppmd<1.2.0,>=1.1.0 (from py7zr)\n",
      "  Downloading pyppmd-1.1.0-cp310-cp310-macosx_11_0_arm64.whl.metadata (5.7 kB)\n",
      "Collecting pybcj<1.1.0,>=1.0.0 (from py7zr)\n",
      "  Downloading pybcj-1.0.2-cp310-cp310-macosx_11_0_arm64.whl.metadata (4.0 kB)\n",
      "Collecting multivolumefile>=0.2.3 (from py7zr)\n",
      "  Downloading multivolumefile-0.2.3-py3-none-any.whl.metadata (6.3 kB)\n",
      "Collecting inflate64<1.1.0,>=1.0.0 (from py7zr)\n",
      "  Downloading inflate64-1.0.0-cp310-cp310-macosx_11_0_arm64.whl.metadata (4.0 kB)\n",
      "Collecting brotli>=1.1.0 (from py7zr)\n",
      "  Downloading Brotli-1.1.0-cp310-cp310-macosx_10_9_universal2.whl.metadata (5.5 kB)\n",
      "Requirement already satisfied: psutil in /Users/mitsuaki.ishimoto/.pyenv/versions/3.10.11/lib/python3.10/site-packages (from py7zr) (5.9.5)\n",
      "Downloading py7zr-0.21.1-py3-none-any.whl (67 kB)\n",
      "\u001b[2K   \u001b[90m━━━━━━━━━━━━━━━━━━━━━━━━━━━━━━━━━━━━━━━━\u001b[0m \u001b[32m67.8/67.8 kB\u001b[0m \u001b[31m4.8 MB/s\u001b[0m eta \u001b[36m0:00:00\u001b[0m\n",
      "\u001b[?25hDownloading Brotli-1.1.0-cp310-cp310-macosx_10_9_universal2.whl (873 kB)\n",
      "\u001b[2K   \u001b[90m━━━━━━━━━━━━━━━━━━━━━━━━━━━━━━━━━━━━━━━━\u001b[0m \u001b[32m873.0/873.0 kB\u001b[0m \u001b[31m26.3 MB/s\u001b[0m eta \u001b[36m0:00:00\u001b[0m\n",
      "\u001b[?25hDownloading inflate64-1.0.0-cp310-cp310-macosx_11_0_arm64.whl (35 kB)\n",
      "Downloading multivolumefile-0.2.3-py3-none-any.whl (17 kB)\n",
      "Downloading pybcj-1.0.2-cp310-cp310-macosx_11_0_arm64.whl (23 kB)\n",
      "Downloading pycryptodomex-3.20.0-cp35-abi3-macosx_10_9_universal2.whl (2.4 MB)\n",
      "\u001b[2K   \u001b[90m━━━━━━━━━━━━━━━━━━━━━━━━━━━━━━━━━━━━━━━━\u001b[0m \u001b[32m2.4/2.4 MB\u001b[0m \u001b[31m43.3 MB/s\u001b[0m eta \u001b[36m0:00:00\u001b[0ma \u001b[36m0:00:01\u001b[0m\n",
      "\u001b[?25hDownloading pyppmd-1.1.0-cp310-cp310-macosx_11_0_arm64.whl (46 kB)\n",
      "\u001b[2K   \u001b[90m━━━━━━━━━━━━━━━━━━━━━━━━━━━━━━━━━━━━━━━━\u001b[0m \u001b[32m46.6/46.6 kB\u001b[0m \u001b[31m5.8 MB/s\u001b[0m eta \u001b[36m0:00:00\u001b[0m\n",
      "\u001b[?25hDownloading pyzstd-0.16.0-cp310-cp310-macosx_11_0_arm64.whl (294 kB)\n",
      "\u001b[2K   \u001b[90m━━━━━━━━━━━━━━━━━━━━━━━━━━━━━━━━━━━━━━━━\u001b[0m \u001b[32m294.9/294.9 kB\u001b[0m \u001b[31m4.1 MB/s\u001b[0m eta \u001b[36m0:00:00\u001b[0m \u001b[36m0:00:01\u001b[0m\n",
      "\u001b[?25hDownloading texttable-1.7.0-py2.py3-none-any.whl (10 kB)\n",
      "Installing collected packages: texttable, brotli, pyzstd, pyppmd, pycryptodomex, pybcj, multivolumefile, inflate64, py7zr\n",
      "Successfully installed brotli-1.1.0 inflate64-1.0.0 multivolumefile-0.2.3 py7zr-0.21.1 pybcj-1.0.2 pycryptodomex-3.20.0 pyppmd-1.1.0 pyzstd-0.16.0 texttable-1.7.0\n",
      "Note: you may need to restart the kernel to use updated packages.\n"
     ]
    }
   ],
   "source": [
    "%pip install py7zr"
   ]
  },
  {
   "cell_type": "code",
   "execution_count": 83,
   "metadata": {},
   "outputs": [
    {
     "data": {
      "application/vnd.jupyter.widget-view+json": {
       "model_id": "eef89bd60e59446ca0dd574c50ef4898",
       "version_major": 2,
       "version_minor": 0
      },
      "text/plain": [
       "Downloading data:   0%|          | 0.00/2.94M [00:00<?, ?B/s]"
      ]
     },
     "metadata": {},
     "output_type": "display_data"
    },
    {
     "data": {
      "application/vnd.jupyter.widget-view+json": {
       "model_id": "c00daa8314f44d7989dd543dc4bc8c17",
       "version_major": 2,
       "version_minor": 0
      },
      "text/plain": [
       "Generating train split:   0%|          | 0/14732 [00:00<?, ? examples/s]"
      ]
     },
     "metadata": {},
     "output_type": "display_data"
    },
    {
     "data": {
      "application/vnd.jupyter.widget-view+json": {
       "model_id": "3299eaa46e0646a78bbb01fe653ef733",
       "version_major": 2,
       "version_minor": 0
      },
      "text/plain": [
       "Generating test split:   0%|          | 0/819 [00:00<?, ? examples/s]"
      ]
     },
     "metadata": {},
     "output_type": "display_data"
    },
    {
     "data": {
      "application/vnd.jupyter.widget-view+json": {
       "model_id": "fbe7acd0ed314bf299d15b6e439ce0df",
       "version_major": 2,
       "version_minor": 0
      },
      "text/plain": [
       "Generating validation split:   0%|          | 0/818 [00:00<?, ? examples/s]"
      ]
     },
     "metadata": {},
     "output_type": "display_data"
    },
    {
     "data": {
      "text/html": [
       "<div>\n",
       "<style scoped>\n",
       "    .dataframe tbody tr th:only-of-type {\n",
       "        vertical-align: middle;\n",
       "    }\n",
       "\n",
       "    .dataframe tbody tr th {\n",
       "        vertical-align: top;\n",
       "    }\n",
       "\n",
       "    .dataframe thead th {\n",
       "        text-align: right;\n",
       "    }\n",
       "</style>\n",
       "<table border=\"1\" class=\"dataframe\">\n",
       "  <thead>\n",
       "    <tr style=\"text-align: right;\">\n",
       "      <th></th>\n",
       "      <th>id</th>\n",
       "      <th>dialogue</th>\n",
       "      <th>summary</th>\n",
       "    </tr>\n",
       "  </thead>\n",
       "  <tbody>\n",
       "    <tr>\n",
       "      <th>0</th>\n",
       "      <td>13818513</td>\n",
       "      <td>Amanda: I baked  cookies. Do you want some?\\r\\...</td>\n",
       "      <td>Amanda baked cookies and will bring Jerry some...</td>\n",
       "    </tr>\n",
       "    <tr>\n",
       "      <th>1</th>\n",
       "      <td>13728867</td>\n",
       "      <td>Olivia: Who are you voting for in this electio...</td>\n",
       "      <td>Olivia and Olivier are voting for liberals in ...</td>\n",
       "    </tr>\n",
       "    <tr>\n",
       "      <th>2</th>\n",
       "      <td>13681000</td>\n",
       "      <td>Tim: Hi, what's up?\\r\\nKim: Bad mood tbh, I wa...</td>\n",
       "      <td>Kim may try the pomodoro technique recommended...</td>\n",
       "    </tr>\n",
       "    <tr>\n",
       "      <th>3</th>\n",
       "      <td>13730747</td>\n",
       "      <td>Edward: Rachel, I think I'm in ove with Bella....</td>\n",
       "      <td>Edward thinks he is in love with Bella. Rachel...</td>\n",
       "    </tr>\n",
       "    <tr>\n",
       "      <th>4</th>\n",
       "      <td>13728094</td>\n",
       "      <td>Sam: hey  overheard rick say something\\r\\nSam:...</td>\n",
       "      <td>Sam is confused, because he overheard Rick com...</td>\n",
       "    </tr>\n",
       "  </tbody>\n",
       "</table>\n",
       "</div>"
      ],
      "text/plain": [
       "         id                                           dialogue   \n",
       "0  13818513  Amanda: I baked  cookies. Do you want some?\\r\\...  \\\n",
       "1  13728867  Olivia: Who are you voting for in this electio...   \n",
       "2  13681000  Tim: Hi, what's up?\\r\\nKim: Bad mood tbh, I wa...   \n",
       "3  13730747  Edward: Rachel, I think I'm in ove with Bella....   \n",
       "4  13728094  Sam: hey  overheard rick say something\\r\\nSam:...   \n",
       "\n",
       "                                             summary  \n",
       "0  Amanda baked cookies and will bring Jerry some...  \n",
       "1  Olivia and Olivier are voting for liberals in ...  \n",
       "2  Kim may try the pomodoro technique recommended...  \n",
       "3  Edward thinks he is in love with Bella. Rachel...  \n",
       "4  Sam is confused, because he overheard Rick com...  "
      ]
     },
     "execution_count": 83,
     "metadata": {},
     "output_type": "execute_result"
    }
   ],
   "source": [
    "ds = datasets.load_dataset(\n",
    "    'Samsung/samsum',\n",
    "    trust_remote_code=True\n",
    ")\n",
    "ds.set_format(\"pandas\")\n",
    "df = ds['train'][:]\n",
    "df.head(5)"
   ]
  },
  {
   "cell_type": "code",
   "execution_count": 84,
   "metadata": {},
   "outputs": [],
   "source": [
    "df['summary_count'] = df['summary'].apply(lambda x: 0 if x is None else len(x.split()))\n",
    "df['dialogue_count'] = df['dialogue'].apply(lambda x: 0 if x is None else len(x.split()))"
   ]
  },
  {
   "cell_type": "code",
   "execution_count": 86,
   "metadata": {},
   "outputs": [
    {
     "data": {
      "text/plain": [
       "14732"
      ]
     },
     "execution_count": 86,
     "metadata": {},
     "output_type": "execute_result"
    }
   ],
   "source": [
    "len(df)"
   ]
  },
  {
   "cell_type": "code",
   "execution_count": 85,
   "metadata": {},
   "outputs": [
    {
     "data": {
      "text/html": [
       "<div>\n",
       "<style scoped>\n",
       "    .dataframe tbody tr th:only-of-type {\n",
       "        vertical-align: middle;\n",
       "    }\n",
       "\n",
       "    .dataframe tbody tr th {\n",
       "        vertical-align: top;\n",
       "    }\n",
       "\n",
       "    .dataframe thead th {\n",
       "        text-align: right;\n",
       "    }\n",
       "</style>\n",
       "<table border=\"1\" class=\"dataframe\">\n",
       "  <thead>\n",
       "    <tr style=\"text-align: right;\">\n",
       "      <th></th>\n",
       "      <th>summary_count</th>\n",
       "      <th>dialogue_count</th>\n",
       "    </tr>\n",
       "  </thead>\n",
       "  <tbody>\n",
       "    <tr>\n",
       "      <th>count</th>\n",
       "      <td>14732.000000</td>\n",
       "      <td>14732.000000</td>\n",
       "    </tr>\n",
       "    <tr>\n",
       "      <th>mean</th>\n",
       "      <td>20.317472</td>\n",
       "      <td>93.786383</td>\n",
       "    </tr>\n",
       "    <tr>\n",
       "      <th>std</th>\n",
       "      <td>11.153815</td>\n",
       "      <td>74.033457</td>\n",
       "    </tr>\n",
       "    <tr>\n",
       "      <th>min</th>\n",
       "      <td>1.000000</td>\n",
       "      <td>0.000000</td>\n",
       "    </tr>\n",
       "    <tr>\n",
       "      <th>25%</th>\n",
       "      <td>12.000000</td>\n",
       "      <td>39.000000</td>\n",
       "    </tr>\n",
       "    <tr>\n",
       "      <th>50%</th>\n",
       "      <td>18.000000</td>\n",
       "      <td>73.000000</td>\n",
       "    </tr>\n",
       "    <tr>\n",
       "      <th>75%</th>\n",
       "      <td>27.000000</td>\n",
       "      <td>128.000000</td>\n",
       "    </tr>\n",
       "    <tr>\n",
       "      <th>max</th>\n",
       "      <td>64.000000</td>\n",
       "      <td>803.000000</td>\n",
       "    </tr>\n",
       "  </tbody>\n",
       "</table>\n",
       "</div>"
      ],
      "text/plain": [
       "       summary_count  dialogue_count\n",
       "count   14732.000000    14732.000000\n",
       "mean       20.317472       93.786383\n",
       "std        11.153815       74.033457\n",
       "min         1.000000        0.000000\n",
       "25%        12.000000       39.000000\n",
       "50%        18.000000       73.000000\n",
       "75%        27.000000      128.000000\n",
       "max        64.000000      803.000000"
      ]
     },
     "execution_count": 85,
     "metadata": {},
     "output_type": "execute_result"
    }
   ],
   "source": [
    "df.describe()"
   ]
  },
  {
   "cell_type": "markdown",
   "metadata": {},
   "source": [
    "***\n",
    "# scientific_papers"
   ]
  },
  {
   "cell_type": "code",
   "execution_count": null,
   "metadata": {},
   "outputs": [],
   "source": [
    "ds = tfds.load('scientific_papers')"
   ]
  },
  {
   "cell_type": "markdown",
   "metadata": {},
   "source": [
    "**Downloading and preparing dataset 4.20 GiB (download: 4.20 GiB, generated: 7.07 GiB, total: 11.27 GiB) to**"
   ]
  },
  {
   "cell_type": "code",
   "execution_count": null,
   "metadata": {},
   "outputs": [],
   "source": []
  }
 ],
 "metadata": {
  "kernelspec": {
   "display_name": "Python 3",
   "language": "python",
   "name": "python3"
  },
  "language_info": {
   "codemirror_mode": {
    "name": "ipython",
    "version": 3
   },
   "file_extension": ".py",
   "mimetype": "text/x-python",
   "name": "python",
   "nbconvert_exporter": "python",
   "pygments_lexer": "ipython3",
   "version": "3.10.11"
  }
 },
 "nbformat": 4,
 "nbformat_minor": 2
}
