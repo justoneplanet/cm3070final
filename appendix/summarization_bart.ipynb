{
 "cells": [
  {
   "cell_type": "code",
   "execution_count": null,
   "metadata": {},
   "outputs": [],
   "source": [
    "# %pip install -U pip datasets ipywidgets\n",
    "# For mac OS\n",
    "# %pip install -U tensorflow==2.16.2 tensorflow-macos==2.16.2 keras==3.4.1 keras-nlp\n",
    "# 20240803, tensorflow-text can be installed on Apple Silicon mac now!\n",
    "# %pip install tensorflow-text\n",
    "# For Intel mac\n",
    "# %pip install -U tensorflow==2.16.2 tensorflow-text keras==3.4.1 keras-nlp\n",
    "# For AWS SageMaker\n",
    "# %pip install -U tensorflow==2.16.2 tensorflow-datasets tensorflow-text keras==3.4.1 keras-nlp datasets rouge-score py7zr"
   ]
  },
  {
   "cell_type": "code",
   "execution_count": 1,
   "metadata": {},
   "outputs": [],
   "source": [
    "# Load the TensorBoard notebook extension\n",
    "%load_ext tensorboard"
   ]
  },
  {
   "cell_type": "code",
   "execution_count": 2,
   "metadata": {},
   "outputs": [],
   "source": [
    "# Utility function to determine where this note is running\n",
    "import platform\n",
    "\n",
    "def is_running_on_apple_silicon():\n",
    "    \"\"\"\n",
    "    Determine if this is running on Apple Silicon Mac.\n",
    "    \"\"\"\n",
    "    return platform.system() == \"Darwin\" and platform.processor() == \"arm\"\n",
    "\n",
    "def is_running_on_intel_mac():\n",
    "    \"\"\"\n",
    "    Determine if this is running on Intel Mac.\n",
    "    \"\"\"\n",
    "    return platform.system() == \"Darwin\" and platform.processor() == \"i386\"\n",
    "\n",
    "# This flag is used for tf.debugging.experimental.enable_dump_debug_info.\n",
    "# However, this makes 10 times slower.\n",
    "DEBUGGER_V2 = False"
   ]
  },
  {
   "cell_type": "code",
   "execution_count": 3,
   "metadata": {},
   "outputs": [
    {
     "name": "stdout",
     "output_type": "stream",
     "text": [
      "Tensorflow 2.17.0 is expected. The running version is 2.17.0\n",
      "Keras 3.4.1 is expected. The running version is 3.4.1\n",
      "KerasNLP 0.12.1 is expected. The running version is 0.12.1\n"
     ]
    }
   ],
   "source": [
    "import tensorflow as tf\n",
    "import keras\n",
    "import keras_nlp\n",
    "print(\"Tensorflow 2.17.0 is expected. The running version is\", tf.__version__)\n",
    "print(\"Keras 3.4.1 is expected. The running version is\", keras.__version__)\n",
    "print(\"KerasNLP 0.12.1 is expected. The running version is\", keras_nlp.__version__)\n",
    "\n",
    "if is_running_on_apple_silicon() or is_running_on_intel_mac():\n",
    "    FLOAT_TYPE = tf.float32\n",
    "else:\n",
    "    \"\"\"\n",
    "    # Mixed-precision training\n",
    "    Deep Learning with Python, Second Edition\n",
    "    François Chollet\n",
    "\n",
    "    However, this makes the processing 2.x slower on M2 Apple Silicon.\n",
    "\n",
    "    Machine | 1 step\n",
    "    --- | ---\n",
    "    Intel Mac - fp32 : fp16 | 1 : 1.714\n",
    "    Apple Silicon M2 (Mac Book Pro) - fp32 : fp16 | 1 : 2.813\n",
    "    NVIDIA V100 GPU x 1 (ml.p3.2xlarge) - fp32 : fp16 | 1 : 0.875    Intel Mac - fp32 : fp16 | 1 : 1.714\n",
    "    \"\"\"\n",
    "    keras.mixed_precision.set_global_policy(\"mixed_float16\")\n",
    "    FLOAT_TYPE = tf.float16\n",
    "\n",
    "import numpy as np\n",
    "import tensorflow_datasets as tfds\n",
    "# SageMaker cannot use @keras.saving\n",
    "from keras import saving\n",
    "import datetime"
   ]
  },
  {
   "cell_type": "markdown",
   "metadata": {},
   "source": [
    "# Utility function"
   ]
  },
  {
   "cell_type": "code",
   "execution_count": 4,
   "metadata": {},
   "outputs": [],
   "source": [
    "import matplotlib.pyplot as plt\n",
    "\n",
    "def plot(history, title=None, keys=[\"loss\", \"masked_acc\"]):\n",
    "    \"\"\"\n",
    "    Display the plot that indicates the loss and accuracy.\n",
    "    :param history: history object from the tensorflow fit function.\n",
    "    :param title: title text.\n",
    "    :param keys: keys for plotting.\n",
    "    \"\"\"\n",
    "    for key in keys:\n",
    "        if 'loss' in key:\n",
    "            print(\n",
    "                np.min(history.history[f\"val_{key}\"]),\n",
    "                \"The best number of epocs for the validation loss is\",\n",
    "                np.argmin(history.history[f\"val_{key}\"]) + 1,\n",
    "            )\n",
    "        else:\n",
    "            print(\n",
    "                np.max(history.history[f\"val_{key}\"]),\n",
    "                \"The best number of epocs for the validation accuracy is\",\n",
    "                np.argmax(history.history[f\"val_{key}\"]) + 1,\n",
    "            )\n",
    "\n",
    "    flg, axes = plt.subplots(1, 2, tight_layout=True)\n",
    "    if title is not None:\n",
    "        flg.suptitle(t=title, fontsize=14)\n",
    "    for i, key in enumerate(keys):\n",
    "        value = history.history[key]\n",
    "        val_loss = history.history[f\"val_{key}\"]\n",
    "        epochs = range(1, len(value) + 1)\n",
    "        axes[i].plot(epochs, value, label=f\"Training {key}\")\n",
    "        axes[i].plot(epochs, val_loss, label=f\"Validation {key}\")\n",
    "        axes[i].set_title(f\"Training and validation {key}\")\n",
    "        axes[i].set_xlabel(\"epochs\")\n",
    "        axes[i].set_ylabel(key)\n",
    "        axes[i].legend()\n",
    "    plt.show()\n"
   ]
  },
  {
   "cell_type": "code",
   "execution_count": 5,
   "metadata": {},
   "outputs": [],
   "source": [
    "def get_log_dir(now):\n",
    "    log_dir = \"logs/fit/\" + now.strftime(\"%Y%m%d-%H%M%S\")\n",
    "    return log_dir\n",
    "\n",
    "def get_tensorboard_callback(now):\n",
    "    \"\"\"\n",
    "    Create the TensorBoard callback\n",
    "    \"\"\"\n",
    "    # @see https://www.tensorflow.org/tensorboard/get_started\n",
    "    log_dir = get_log_dir(now=now)\n",
    "    tensorboard_callback = keras.callbacks.TensorBoard(\n",
    "        log_dir=log_dir,\n",
    "        histogram_freq=1\n",
    "    )\n",
    "    return tensorboard_callback"
   ]
  },
  {
   "cell_type": "code",
   "execution_count": null,
   "metadata": {},
   "outputs": [],
   "source": [
    "import math\n",
    "import matplotlib.pyplot as plt\n",
    "from keras_nlp.src.backend import ops\n",
    "\n",
    "def visualize_attention_scores_internal(\n",
    "        output,\n",
    "        attention_layer,\n",
    "        max_len,\n",
    "        labels):\n",
    "    # TransformerEncoder uses MultiHeadAttention, internally.\n",
    "    # TransformerDecoder uses CachedMultiHeadAttention, internally.\n",
    "    if type(attention_layer) is keras.layers.MultiHeadAttention:\n",
    "        output, attention_scores = attention_layer(\n",
    "            key=output,\n",
    "            value=output,\n",
    "            query=output,\n",
    "            return_attention_scores=True,\n",
    "        )\n",
    "    else:\n",
    "        k = attention_layer._key_dense(output)\n",
    "        q = attention_layer._query_dense(output)\n",
    "        q = ops.multiply(\n",
    "            q,\n",
    "            1.0 / ops.sqrt(ops.cast(attention_layer._key_dim, q.dtype)),\n",
    "        )\n",
    "        attention_scores = ops.einsum(\n",
    "            attention_layer._dot_product_equation,\n",
    "            k,\n",
    "            q\n",
    "        )\n",
    "        attention_mask = None\n",
    "        attention_scores = attention_layer._masked_softmax(\n",
    "            attention_scores,\n",
    "            attention_mask\n",
    "        )\n",
    "\n",
    "    # print(attention_scores.shape)\n",
    "    # (1, 6, 128, 128)\n",
    "    # batch_size, num_heads, sequence_length, sequence_length\n",
    "    num_heads = attention_layer.num_heads\n",
    "    columns = 4\n",
    "    rows = math.ceil(num_heads / columns)\n",
    "    fig = plt.figure(figsize=(16, 8))\n",
    "    for i in range(num_heads):\n",
    "        ax = fig.add_subplot(rows, 4, i + 1)\n",
    "        ax = plt.gca()\n",
    "        values = attention_scores[0][i][:max_len, :max_len]\n",
    "        #values = tf.nn.softmax(values)\n",
    "        ax.matshow(values)\n",
    "        ax.set_xticks(range(len(labels)))\n",
    "        ax.set_yticks(range(len(labels)))\n",
    "        ax.set_xticklabels(labels, rotation=90)\n",
    "        ax.set_yticklabels(labels)"
   ]
  },
  {
   "cell_type": "code",
   "execution_count": 6,
   "metadata": {},
   "outputs": [],
   "source": [
    "def visualize_bart_attention_scores(\n",
    "        preprocessor,\n",
    "        backbone,\n",
    "        attention_layer,\n",
    "        sentence,\n",
    "        pad=1):\n",
    "    \"\"\"\n",
    "    :preprocessor: the BART model preprocessor\n",
    "    :backbone: the BART model preprocessor\n",
    "    :sentence: the sentence that is analyzed\n",
    "    \"\"\"\n",
    "    \n",
    "    output = preprocessor(x={'encoder_text': [sentence], 'decoder_text': ['']})\n",
    "    encoder_token_ids = output[0]['encoder_token_ids']\n",
    "\n",
    "    labels = tf.gather(\n",
    "        tf.convert_to_tensor(list(preprocessor.tokenizer.get_vocabulary())),\n",
    "        tf.RaggedTensor.from_tensor(encoder_token_ids, padding=1)[0],\n",
    "    ).numpy().tolist()\n",
    "    labels = [label.decode('utf-8') for label in labels]\n",
    "\n",
    "    # pad is 1\n",
    "    max_len = tf.RaggedTensor.from_tensor(encoder_token_ids, padding=pad)[0].shape[0]\n",
    "    output = backbone.token_embedding(encoder_token_ids)\n",
    "    visualize_attention_scores_internal(\n",
    "        output=output,\n",
    "        attention_layer=attention_layer,\n",
    "        max_len=max_len,\n",
    "        labels=labels,\n",
    "    )"
   ]
  },
  {
   "cell_type": "code",
   "execution_count": 7,
   "metadata": {},
   "outputs": [],
   "source": [
    "# @see https://keras.io/api/callbacks/reduce_lr_on_plateau/\n",
    "reduce_lr_callbacks = keras.callbacks.ReduceLROnPlateau(\n",
    "    monitor='loss',\n",
    "    factor=0.2,\n",
    "    patience=5,\n",
    "    verbose=1,\n",
    "    min_delta=0.04,\n",
    "    cooldown=8,\n",
    "    min_lr=2e-5, # 5e-4: 0.0005, 2e-5: 0.00002\n",
    ")"
   ]
  },
  {
   "cell_type": "code",
   "execution_count": 8,
   "metadata": {},
   "outputs": [],
   "source": [
    "\"\"\"\n",
    "### The reason why the masked loss is required for seq2seq models\n",
    "\n",
    "The prediction y values of seq2seq models contain pad(s), which are used to align the length of every output sequence.\n",
    "In the case that most sequences are much shorter than the longest sentence and pads are not considered,\n",
    "a model that predicts only pads of sentences is highly evaluated.\n",
    "Therefore, excluding pads from the loss calculation improves the model.\n",
    "\n",
    "### The reason why the classification model does not use the masked loss function\n",
    "\n",
    "The prediction y values of classification models do not contain pad(s), which are used to align the length of every output sequence.\n",
    "It just contains the probability of each class.\n",
    "\"\"\"\n",
    "\n",
    "# @see https://www.tensorflow.org/text/tutorials/nmt_with_attention\n",
    "@saving.register_keras_serializable()\n",
    "def masked_loss(y_true, y_pred):\n",
    "    # Calculate the loss for each item in the batch.\n",
    "    loss_fn = keras.losses.SparseCategoricalCrossentropy(\n",
    "        # nn.py:609: UserWarning:\n",
    "        # \"`sparse_categorical_crossentropy` received `from_logits=True`,\n",
    "        # but the `output` argument was produced by a Softmax activation and thus does not represent logits.\n",
    "        # Was this intended?\n",
    "        # When logits is True, softmax activation function has not processed the values.\n",
    "        from_logits=True,\n",
    "        reduction='none'\n",
    "    )\n",
    "    loss = loss_fn(y_true, y_pred)\n",
    "\n",
    "    # Mask off the losses on padding.\n",
    "    mask = tf.cast(y_true != 0, dtype=loss.dtype)\n",
    "    loss *= mask\n",
    "\n",
    "    # Return the total.\n",
    "    return tf.reduce_sum(loss)/tf.reduce_sum(mask)"
   ]
  },
  {
   "cell_type": "code",
   "execution_count": 9,
   "metadata": {},
   "outputs": [],
   "source": [
    "# @see https://www.tensorflow.org/text/tutorials/nmt_with_attention\n",
    "# @saving.register_keras_serializable()\n",
    "# def masked_acc(y_true, y_pred):\n",
    "#     # Calculate the loss for each item in the batch.\n",
    "#     y_pred = tf.argmax(y_pred, axis=-1) # last index\n",
    "#     y_pred = tf.cast(y_pred, dtype=y_true.dtype)\n",
    "#     match = tf.cast(y_true == y_pred, dtype=FLOAT_TYPE)\n",
    "#     mask = tf.cast(y_true != 0, dtype=FLOAT_TYPE)\n",
    "#     return tf.reduce_sum(match)/tf.reduce_sum(mask)\n",
    "\n",
    "# @see https://www.tensorflow.org/text/tutorials/transformer\n",
    "@saving.register_keras_serializable()\n",
    "def masked_acc(y_true, y_pred):\n",
    "    y_pred = tf.argmax(y_pred, axis=2)\n",
    "    y_true = tf.cast(y_true, dtype=y_pred.dtype)\n",
    "    match = y_true == y_pred\n",
    "    mask = y_true != 0\n",
    "    match = match & mask\n",
    "    match = tf.cast(match, dtype=FLOAT_TYPE)\n",
    "    mask = tf.cast(mask, dtype=FLOAT_TYPE)\n",
    "    return tf.reduce_sum(match)/tf.reduce_sum(mask)"
   ]
  },
  {
   "cell_type": "markdown",
   "metadata": {},
   "source": [
    "## Dataset"
   ]
  },
  {
   "cell_type": "code",
   "execution_count": 10,
   "metadata": {},
   "outputs": [],
   "source": [
    "import datasets\n",
    "\n",
    "def prepare_datasets():\n",
    "    \"\"\"\n",
    "    Get training set, validation set, and test set\n",
    "    tensorflow_datasets does not work well with the SSL error.\n",
    "    Therefore, the data is obtained with the Huggingface library and converted to Tensorflow.\n",
    "    :return: train_ds\n",
    "    :return: validation_ds\n",
    "    :return: test_ds\n",
    "    \"\"\"\n",
    "    # How to convert huggingface dataset to tensorflow dataset\n",
    "    # @see https://huggingface.co/docs/datasets/v1.3.0/torch_tensorflow.html#setting-the-format\n",
    "    def convert_hf2tf(\n",
    "            dataset: datasets.DatasetDict,\n",
    "            split: list[str],\n",
    "            columns=['article', 'highlights', 'id',]):\n",
    "        dataset.set_format(\n",
    "            type='tensorflow',\n",
    "            columns=columns\n",
    "        )\n",
    "        l = []\n",
    "        for s in split:\n",
    "            d = dataset[s]\n",
    "            features = {x: d[x] for x in columns}\n",
    "            # .batch(32) is not used to show a simple sampled data below with take(1)\n",
    "            tf_dataset = tf.data.Dataset.from_tensor_slices(features)\n",
    "            l.append(tf_dataset)\n",
    "        return tuple(l)\n",
    "    ds = datasets.load_dataset(\n",
    "        'Samsung/samsum',\n",
    "        trust_remote_code=True\n",
    "    )\n",
    "    train_ds, validation_ds, test_ds = convert_hf2tf(\n",
    "        dataset=ds,\n",
    "        split=['train', 'validation', 'test'],\n",
    "        columns=['id', 'summary', 'dialogue'],\n",
    "    )\n",
    "    return train_ds, validation_ds, test_ds"
   ]
  },
  {
   "cell_type": "markdown",
   "metadata": {},
   "source": [
    "# Prediction"
   ]
  },
  {
   "cell_type": "code",
   "execution_count": 11,
   "metadata": {},
   "outputs": [],
   "source": [
    "def generate_text(\n",
    "        model,\n",
    "        input_text,\n",
    "        max_length=64):\n",
    "    \"\"\"\n",
    "    Generate summarized text\n",
    "    :model: the trained BART model\n",
    "    :input_text: the original text that is summarized\n",
    "    :max_length: the length of the summarized text\n",
    "    \"\"\"\n",
    "    output = model.generate(\n",
    "        input_text,\n",
    "        max_length=max_length\n",
    "    )\n",
    "    return output\n",
    "\n",
    "def generate_prediction_result(\n",
    "        bart_lm,\n",
    "        ds,\n",
    "        max_length=64):\n",
    "    \"\"\"\n",
    "    Generate summarized text from the dataset\n",
    "    :bart_lm: the trained BART model\n",
    "    :ds: the dataset, which is mainly text set, that is summarized\n",
    "    :max_length: the length of the summarized text\n",
    "    \"\"\"\n",
    "    x = []\n",
    "    y_true = []\n",
    "    for row in ds:\n",
    "        x.append(row[\"encoder_text\"].numpy())\n",
    "        y_true.append(row[\"decoder_text\"].numpy())\n",
    "\n",
    "    # The first call to XLA generally takes a bit longer\n",
    "    # because the XLA contains overhead of compilation and optimization.\n",
    "    _ = generate_text(\n",
    "        bart_lm,\n",
    "        \"dummy\",\n",
    "        max_length=max_length\n",
    "    )\n",
    "\n",
    "    y_pred = generate_text(\n",
    "        bart_lm,\n",
    "        ds.map(lambda row: row[\"encoder_text\"]).batch(8),\n",
    "        max_length=max_length,\n",
    "    )\n",
    "    return x, y_true, y_pred\n",
    "\n",
    "def display_sampled_summary(\n",
    "        x,\n",
    "        y_true,\n",
    "        y_pred,\n",
    "        sample=5):\n",
    "    \"\"\"\n",
    "    Line up the actual summarized text.\n",
    "    :x: the original text that is summarized\n",
    "    :y_true: the ground truth value\n",
    "    :y_pred: the generated summarized text\n",
    "    :sample: the number of set to display\n",
    "    \"\"\"\n",
    "    for i in range(sample):\n",
    "        print(\"text:\", x[i])\n",
    "        print(\"y_true:\", y_true[i])\n",
    "        print(\"y_pred:\", y_pred[i])\n",
    "\n",
    "def calculate_rouge_score(y_true, y_pred):\n",
    "    \"\"\"\n",
    "    Calculate the ROUGE scores\n",
    "    :y_true: the ground truth value\n",
    "    :y_pred: the generated summarized text\n",
    "    :returns: ROUGE-1 score\n",
    "    :returns: ROUGE-2 score\n",
    "    :returns: ROUGE-L score\n",
    "    \"\"\"\n",
    "    rouge_n = keras_nlp.metrics.RougeN(order=2)\n",
    "    rouge_2_score = rouge_n(y_true, y_pred)\n",
    "    rouge_n = keras_nlp.metrics.RougeN(order=1)\n",
    "    rouge_1_score = rouge_n(y_true, y_pred)\n",
    "    rouge_l = keras_nlp.metrics.RougeL()\n",
    "    rouge_l_score = rouge_l(y_true, y_pred)\n",
    "    return rouge_1_score, rouge_2_score, rouge_l_score"
   ]
  },
  {
   "cell_type": "markdown",
   "metadata": {},
   "source": [
    "## Model and Training"
   ]
  },
  {
   "cell_type": "code",
   "execution_count": 12,
   "metadata": {},
   "outputs": [],
   "source": [
    "class RougeEvaluator(keras.callbacks.Callback):\n",
    "    \"\"\"\n",
    "    Callback to calculate ROUGE scores for every epoch\n",
    "    \"\"\"\n",
    "    def __init__(\n",
    "            self,\n",
    "            dataset,\n",
    "            max_length):\n",
    "        \"\"\"\n",
    "        :dataset: dataset object that is used for ROUGE evaluation\n",
    "        :max_length: the max length of the summarized text\n",
    "        \"\"\"\n",
    "        self.dataset = dataset\n",
    "        self.max_length = max_length\n",
    "  \n",
    "    def on_epoch_end(self, epoch, logs=None):\n",
    "        _, y_true, y_pred = generate_prediction_result(\n",
    "            bart_lm=self.model,\n",
    "            ds=self.dataset,\n",
    "            max_length=self.max_length\n",
    "        )\n",
    "        rouge_1_score, rouge_2_score, rouge_l_score = calculate_rouge_score(\n",
    "            y_true=y_true,\n",
    "            y_pred=y_pred\n",
    "        )\n",
    "        print(rouge_1_score)\n",
    "        print(rouge_2_score)\n",
    "        print(rouge_l_score)\n",
    "\n",
    "def format_dataset_bart_seq2seq(row):\n",
    "    \"\"\"\n",
    "    BART pre-trained model assumes that\n",
    "    the encoder and decoder text key are \"encoder_text\" and \"decoder_text\", respectively.\n",
    "    \"\"\"\n",
    "    return {\n",
    "        \"encoder_text\": row[\"dialogue\"],\n",
    "        \"decoder_text\": row[\"summary\"]\n",
    "    }\n",
    "    \n",
    "def build_bart_model(\n",
    "    training_data,\n",
    "    validation_data,\n",
    "    encoder_sequence_length=128,  # 128: 75% covered. max is 803.\n",
    "    decoder_sequence_length=64,  # 32: 75% covered. max is 64\n",
    "    learning_rate=5e-5,\n",
    "    weight_decay=0.01,\n",
    "    epsilon=1e-6,\n",
    "    global_clipnorm=1.0,\n",
    "    batch_size=8,\n",
    "    epochs=5,\n",
    "    preset_name=\"bart_base_en\",\n",
    "    verbose=1,\n",
    "    is_saved=False):\n",
    "    \"\"\"\n",
    "    Build the BART model with specified parameters.\n",
    "    :return: model: trained BART model\n",
    "    :return: filepath: model file path if it is saved\n",
    "    :return: history: history object to plot\n",
    "    \"\"\"\n",
    "    now = datetime.datetime.now()\n",
    "    preprocessor = keras_nlp.models.BartSeq2SeqLMPreprocessor.from_preset(\n",
    "        preset_name,\n",
    "        encoder_sequence_length=encoder_sequence_length,\n",
    "        decoder_sequence_length=decoder_sequence_length,\n",
    "    )\n",
    "    bart_lm = keras_nlp.models.BartSeq2SeqLM.from_preset(\n",
    "        preset_name,\n",
    "        preprocessor=preprocessor\n",
    "    )\n",
    "    callbacks = []\n",
    "    # if verbose > 0:\n",
    "    #     bart_lm.summary()\n",
    "    #     if validation_data is not None and not is_running_on_apple_silicon():\n",
    "    #         callbacks.append(RougeEvaluator(\n",
    "    #             dataset=validation_data.map(format_dataset_bart_seq2seq),\n",
    "    #             max_length=decoder_sequence_length,\n",
    "    #         ))\n",
    "\n",
    "    optimizer = keras.optimizers.AdamW(\n",
    "        learning_rate=learning_rate,\n",
    "        weight_decay=weight_decay,\n",
    "        epsilon=epsilon,\n",
    "        global_clipnorm=global_clipnorm,\n",
    "    )\n",
    "\n",
    "    # Exclude layernorm terms and bias terms from weight decay.\n",
    "    optimizer.exclude_from_weight_decay(var_names=[\n",
    "        \"bias\",\n",
    "        \"gamma\",\n",
    "        \"beta\",\n",
    "    ])\n",
    "\n",
    "    bart_lm.compile(\n",
    "        optimizer=optimizer,\n",
    "        loss=keras.losses.SparseCategoricalCrossentropy(from_logits=True),\n",
    "        weighted_metrics=[\n",
    "            \"accuracy\"\n",
    "        ],\n",
    "    )\n",
    "    val_ds = None\n",
    "    if validation_data is not None:\n",
    "        val_ds = validation_data.map(format_dataset_bart_seq2seq).batch(batch_size).cache()\n",
    "    callbacks.append(get_tensorboard_callback(now=now))\n",
    "    history = bart_lm.fit(\n",
    "        training_data.map(format_dataset_bart_seq2seq).batch(batch_size).cache(),\n",
    "        validation_data=val_ds,\n",
    "        epochs=epochs,\n",
    "        verbose=verbose,\n",
    "        callbacks=callbacks,\n",
    "    )\n",
    "\n",
    "    filepath = None\n",
    "    if is_saved:\n",
    "        timestamp = now.strftime('%Y-%m-%d_%H-%M-%S')\n",
    "        if is_running_on_apple_silicon() or is_running_on_intel_mac():\n",
    "            filepath = f'model/summarization_bart_model_{timestamp}.keras'\n",
    "        else:\n",
    "            filepath = f'summarization_bart_model_{timestamp}.keras'\n",
    "        print(f\"Saving to {filepath}\")\n",
    "        bart_lm.save(filepath=filepath)\n",
    "        print(f\"Successfully saved model to {filepath}\")\n",
    "\n",
    "    return bart_lm, filepath, history"
   ]
  },
  {
   "cell_type": "markdown",
   "metadata": {},
   "source": [
    "***"
   ]
  },
  {
   "cell_type": "markdown",
   "metadata": {},
   "source": [
    "# Build"
   ]
  },
  {
   "cell_type": "code",
   "execution_count": 13,
   "metadata": {},
   "outputs": [
    {
     "name": "stderr",
     "output_type": "stream",
     "text": [
      "2024-08-23 10:02:28.819972: I metal_plugin/src/device/metal_device.cc:1154] Metal device set to: Apple M2 Pro\n",
      "2024-08-23 10:02:28.819996: I metal_plugin/src/device/metal_device.cc:296] systemMemory: 32.00 GB\n",
      "2024-08-23 10:02:28.819999: I metal_plugin/src/device/metal_device.cc:313] maxCacheSize: 10.67 GB\n",
      "2024-08-23 10:02:28.820011: I tensorflow/core/common_runtime/pluggable_device/pluggable_device_factory.cc:305] Could not identify NUMA node of platform GPU ID 0, defaulting to 0. Your kernel may not have been built with NUMA support.\n",
      "2024-08-23 10:02:28.820023: I tensorflow/core/common_runtime/pluggable_device/pluggable_device_factory.cc:271] Created TensorFlow device (/job:localhost/replica:0/task:0/device:GPU:0 with 0 MB memory) -> physical PluggableDevice (device: 0, name: METAL, pci bus id: <undefined>)\n"
     ]
    }
   ],
   "source": [
    "train_ds, validation_ds, test_ds = prepare_datasets()"
   ]
  },
  {
   "cell_type": "code",
   "execution_count": 14,
   "metadata": {},
   "outputs": [
    {
     "name": "stderr",
     "output_type": "stream",
     "text": [
      "Downloading from https://www.kaggle.com/api/v1/models/keras/bart/keras/bart_large_en_cnn/2/download/preprocessor.json...\n",
      "Downloading from https://www.kaggle.com/api/v1/models/keras/bart/keras/bart_large_en_cnn/2/download/task.json...\n"
     ]
    },
    {
     "name": "stdout",
     "output_type": "stream",
     "text": [
      "Epoch 1/5\n"
     ]
    },
    {
     "name": "stderr",
     "output_type": "stream",
     "text": [
      "2024-08-23 02:09:49.878070: I tensorflow/core/grappler/optimizers/custom_graph_optimizer_registry.cc:117] Plugin optimizer for device_type GPU is enabled.\n"
     ]
    },
    {
     "name": "stdout",
     "output_type": "stream",
     "text": [
      "\u001b[1m 587/1842\u001b[0m \u001b[32m━━━━━━\u001b[0m\u001b[37m━━━━━━━━━━━━━━\u001b[0m \u001b[1m57:53\u001b[0m 3s/step - accuracy: 2.3886 - loss: 0.8200"
     ]
    },
    {
     "name": "stderr",
     "output_type": "stream",
     "text": [
      "Error: command buffer exited with error status.\n",
      "\tThe Metal Performance Shaders operations encoded on it may not have completed.\n",
      "\tError: \n",
      "\t(null)\n",
      "\tInternal Error (0000000e:Internal Error)\n",
      "\t<AGXG14XFamilyCommandBuffer: 0x6dda9b5e0>\n",
      "    label = <none> \n",
      "    device = <AGXG14SDevice: 0x11ebb7a00>\n",
      "        name = Apple M2 Pro \n",
      "    commandQueue = <AGXG14XFamilyCommandQueue: 0x128809200>\n",
      "        label = <none> \n",
      "        device = <AGXG14SDevice: 0x11ebb7a00>\n",
      "            name = Apple M2 Pro \n",
      "    retainedReferences = 1\n"
     ]
    },
    {
     "name": "stdout",
     "output_type": "stream",
     "text": [
      "\u001b[1m 592/1842\u001b[0m \u001b[32m━━━━━━\u001b[0m\u001b[37m━━━━━━━━━━━━━━\u001b[0m \u001b[1m57:32\u001b[0m 3s/step - accuracy: 2.3734 - loss: 0.8197"
     ]
    },
    {
     "name": "stderr",
     "output_type": "stream",
     "text": [
      "Error: command buffer exited with error status.\n",
      "\tThe Metal Performance Shaders operations encoded on it may not have completed.\n",
      "\tError: \n",
      "\t(null)\n",
      "\tInternal Error (0000000e:Internal Error)\n",
      "\t<AGXG14XFamilyCommandBuffer: 0x6dee41d10>\n",
      "    label = <none> \n",
      "    device = <AGXG14SDevice: 0x11ebb7a00>\n",
      "        name = Apple M2 Pro \n",
      "    commandQueue = <AGXG14XFamilyCommandQueue: 0x128809200>\n",
      "        label = <none> \n",
      "        device = <AGXG14SDevice: 0x11ebb7a00>\n",
      "            name = Apple M2 Pro \n",
      "    retainedReferences = 1\n"
     ]
    },
    {
     "name": "stdout",
     "output_type": "stream",
     "text": [
      "\u001b[1m 600/1842\u001b[0m \u001b[32m━━━━━━\u001b[0m\u001b[37m━━━━━━━━━━━━━━\u001b[0m \u001b[1m56:56\u001b[0m 3s/step - accuracy: 2.3495 - loss: 0.8191"
     ]
    },
    {
     "name": "stderr",
     "output_type": "stream",
     "text": [
      "Error: command buffer exited with error status.\n",
      "\tThe Metal Performance Shaders operations encoded on it may not have completed.\n",
      "\tError: \n",
      "\t(null)\n",
      "\tInternal Error (0000000e:Internal Error)\n",
      "\t<AGXG14XFamilyCommandBuffer: 0x6faf56300>\n",
      "    label = <none> \n",
      "    device = <AGXG14SDevice: 0x11ebb7a00>\n",
      "        name = Apple M2 Pro \n",
      "    commandQueue = <AGXG14XFamilyCommandQueue: 0x128809200>\n",
      "        label = <none> \n",
      "        device = <AGXG14SDevice: 0x11ebb7a00>\n",
      "            name = Apple M2 Pro \n",
      "    retainedReferences = 1\n"
     ]
    },
    {
     "name": "stdout",
     "output_type": "stream",
     "text": [
      "\u001b[1m 622/1842\u001b[0m \u001b[32m━━━━━━\u001b[0m\u001b[37m━━━━━━━━━━━━━━\u001b[0m \u001b[1m55:31\u001b[0m 3s/step - accuracy: 2.2870 - loss: 0.8177"
     ]
    },
    {
     "name": "stderr",
     "output_type": "stream",
     "text": [
      "Error: command buffer exited with error status.\n",
      "\tThe Metal Performance Shaders operations encoded on it may not have completed.\n",
      "\tError: \n",
      "\t(null)\n",
      "\tInternal Error (0000000e:Internal Error)\n",
      "\t<AGXG14XFamilyCommandBuffer: 0x6d394d4f0>\n",
      "    label = <none> \n",
      "    device = <AGXG14SDevice: 0x11ebb7a00>\n",
      "        name = Apple M2 Pro \n",
      "    commandQueue = <AGXG14XFamilyCommandQueue: 0x128809200>\n",
      "        label = <none> \n",
      "        device = <AGXG14SDevice: 0x11ebb7a00>\n",
      "            name = Apple M2 Pro \n",
      "    retainedReferences = 1\n"
     ]
    },
    {
     "name": "stdout",
     "output_type": "stream",
     "text": [
      "\u001b[1m1842/1842\u001b[0m \u001b[32m━━━━━━━━━━━━━━━━━━━━\u001b[0m\u001b[37m\u001b[0m \u001b[1m5172s\u001b[0m 3s/step - accuracy: 1.1627 - loss: 0.7786 - val_accuracy: 0.5839 - val_loss: 0.7042\n",
      "Epoch 2/5\n",
      "\u001b[1m1842/1842\u001b[0m \u001b[32m━━━━━━━━━━━━━━━━━━━━\u001b[0m\u001b[37m\u001b[0m \u001b[1m4364s\u001b[0m 2s/step - accuracy: 0.6203 - loss: 0.6740 - val_accuracy: 0.5897 - val_loss: 0.6944\n",
      "Epoch 3/5\n",
      "\u001b[1m1842/1842\u001b[0m \u001b[32m━━━━━━━━━━━━━━━━━━━━\u001b[0m\u001b[37m\u001b[0m \u001b[1m4139s\u001b[0m 2s/step - accuracy: 0.6411 - loss: 0.6212 - val_accuracy: 0.5880 - val_loss: 0.6970\n",
      "Epoch 4/5\n",
      "\u001b[1m1842/1842\u001b[0m \u001b[32m━━━━━━━━━━━━━━━━━━━━\u001b[0m\u001b[37m\u001b[0m \u001b[1m4066s\u001b[0m 2s/step - accuracy: 0.6601 - loss: 0.5755 - val_accuracy: 0.5899 - val_loss: 0.7017\n",
      "Epoch 5/5\n",
      "\u001b[1m1842/1842\u001b[0m \u001b[32m━━━━━━━━━━━━━━━━━━━━\u001b[0m\u001b[37m\u001b[0m \u001b[1m3810s\u001b[0m 2s/step - accuracy: 0.6773 - loss: 0.5350 - val_accuracy: 0.5859 - val_loss: 0.7108\n",
      "0.6944417953491211 The best number of epocs for the validation loss is 2\n",
      "0.5898776054382324 The best number of epocs for the validation accuracy is 4\n"
     ]
    },
    {
     "data": {
      "image/png": "[encoded data removed]",
      "text/plain": [
       "<Figure size 640x480 with 2 Axes>"
      ]
     },
     "metadata": {},
     "output_type": "display_data"
    },
    {
     "name": "stderr",
     "output_type": "stream",
     "text": [
      "Downloading from https://www.kaggle.com/api/v1/models/keras/bart/keras/bart_large_en_cnn/2/download/preprocessor.json...\n"
     ]
    },
    {
     "name": "stdout",
     "output_type": "stream",
     "text": [
      "The best epoch is 4\n"
     ]
    },
    {
     "name": "stderr",
     "output_type": "stream",
     "text": [
      "Downloading from https://www.kaggle.com/api/v1/models/keras/bart/keras/bart_large_en_cnn/2/download/task.json...\n"
     ]
    }
   ],
   "source": [
    "epochs = 3 if is_running_on_apple_silicon() else 20\n",
    "preset_name = \"bart_base_en\" if is_running_on_apple_silicon() else \"bart_large_en_cnn\"\n",
    "\n",
    "bart_lm, filepath, history = build_bart_model(\n",
    "    training_data=train_ds,\n",
    "    validation_data=validation_ds,\n",
    "    learning_rate=5e-6,\n",
    "    batch_size=8,\n",
    "    epochs=5,\n",
    "    preset_name=\"bart_large_en_cnn\",\n",
    "    is_saved=False,\n",
    ")\n",
    "plot(history=history, keys=[\"loss\", \"accuracy\"])\n",
    "\n",
    "best_epoch = max(\n",
    "    np.argmin(history.history[f\"val_loss\"]),\n",
    "    np.argmax(history.history[f\"val_accuracy\"])\n",
    ")\n",
    "best_epoch = best_epoch + 1\n",
    "print(\"The best epoch is\", best_epoch)\n",
    "bart_lm, filepath, _ = build_bart_model(\n",
    "    training_data=train_ds.concatenate(validation_ds),\n",
    "    validation_data=None,\n",
    "    learning_rate=5e-6,\n",
    "    batch_size=8,\n",
    "    epochs=best_epoch,\n",
    "    preset_name=\"bart_large_en_cnn\",\n",
    "    verbose=0,\n",
    "    is_saved=True,\n",
    ")\n",
    "dialogue, y_true, y_pred = generate_prediction_result(\n",
    "    bart_lm=bart_lm,\n",
    "    ds=test_ds.map(format_dataset_bart_seq2seq),\n",
    ")\n",
    "rouge_1_score, rouge_2_score, rouge_l_score = calculate_rouge_score(\n",
    "    y_true=y_true,\n",
    "    y_pred=y_pred\n",
    ")\n",
    "print(rouge_1_score)\n",
    "print(rouge_2_score)\n",
    "print(rouge_l_score)"
   ]
  },
  {
   "cell_type": "code",
   "execution_count": null,
   "metadata": {},
   "outputs": [
    {
     "data": {
      "image/png": "[encoded data removed]",
      "text/plain": [
       "<Figure size 1600x1600 with 12 Axes>"
      ]
     },
     "metadata": {},
     "output_type": "display_data"
    }
   ],
   "source": [
    "# for i in tfds.as_numpy(test_ds):\n",
    "#     dialogue = i['dialogue']\n",
    "#     break\n",
    "visualize_bart_attention_scores(\n",
    "    preprocessor=bart_lm.preprocessor,\n",
    "    backbone=bart_lm.backbone,\n",
    "    attention_layer=bart_lm.backbone.encoder_transformer_layers[0]._self_attention_layer,\n",
    "    sentence=\"Elvis: I have a car. Suzie: I want to buy it.\",\n",
    ")"
   ]
  },
  {
   "cell_type": "code",
   "execution_count": null,
   "metadata": {},
   "outputs": [],
   "source": [
    "bart_lm, filepath, history = build_bart_model(\n",
    "    training_data=train_ds,\n",
    "    validation_data=validation_ds,\n",
    "    learning_rate=5e-6,\n",
    "    batch_size=8,\n",
    "    epochs=0,\n",
    "    preset_name=\"bart_large_en_cnn\",\n",
    "    is_saved=False,\n",
    ")\n",
    "visualize_bart_attention_scores(\n",
    "    preprocessor=bart_lm.preprocessor,\n",
    "    backbone=bart_lm.backbone,\n",
    "    attention_layer=bart_lm.backbone.encoder_transformer_layers[0]._self_attention_layer,\n",
    "    sentence=\"Elvis: I have a car. Suzie: I want to buy it.\",\n",
    ")"
   ]
  },
  {
   "cell_type": "markdown",
   "metadata": {},
   "source": [
    "***\n",
    "### Note (Experiment Date: 2024-08-09 00:00:00~)\n",
    "\n",
    "- Batch size comparison\n",
    "\n",
    "#### Result\n",
    "\n",
    "batch size | validation loss | validation accuracy | ROUGE-1 | ROUGE-2 | ROUGE-L\n",
    "--- | --- | --- | --- | --- | ---\n",
    "8 | **0.689** | **0.596** | **43.8** | **18.4** | **35.2**\n",
    "16 | 0.693 | 0.591 | 43.3 | 17.9 | 34.6\n",
    "32 | 0.698 | 0.589 | 43.5 | 17.9 | 34.2\n",
    "64 | 0.695 | 0.591 | - (OOM) | - (OOM) | - (OOM)\n",
    "\n",
    "The best batch size is 8. When the batch size was 64, the Out Of Memory (OOM) error happened and the experiment could not be completed."
   ]
  },
  {
   "cell_type": "code",
   "execution_count": null,
   "metadata": {},
   "outputs": [],
   "source": [
    "for batch_size in [8, 16, 32, 64]:\n",
    "    bart_lm, filepath, history = build_bart_model(\n",
    "        training_data=train_ds,\n",
    "        validation_data=validation_ds,\n",
    "        learning_rate=5e-6,\n",
    "        batch_size=batch_size,\n",
    "        epochs=20,\n",
    "        preset_name=\"bart_large_en_cnn\",\n",
    "        is_saved=False,\n",
    "    )\n",
    "    plot(history=history, keys=[\"loss\", \"accuracy\"])\n",
    "\n",
    "    best_epoch = max(\n",
    "        np.argmin(history.history[f\"val_loss\"]),\n",
    "        np.argmax(history.history[f\"val_accuracy\"])\n",
    "    )\n",
    "    best_epoch = best_epoch + 1\n",
    "    print(\"The best epoch is\", best_epoch)\n",
    "    bart_lm, filepath, _ = build_bart_model(\n",
    "        training_data=train_ds.concatenate(validation_ds),\n",
    "        validation_data=None,\n",
    "        learning_rate=5e-6,\n",
    "        batch_size=batch_size,\n",
    "        epochs=best_epoch,\n",
    "        preset_name=\"bart_large_en_cnn\",\n",
    "        verbose=0,\n",
    "        is_saved=False,\n",
    "    )\n",
    "    dialogue, y_true, y_pred = generate_prediction_result(\n",
    "        bart_lm=bart_lm,\n",
    "        ds=test_ds.map(format_dataset_bart_seq2seq),\n",
    "    )\n",
    "    rouge_1_score, rouge_2_score, rouge_l_score = calculate_rouge_score(\n",
    "        y_true=y_true,\n",
    "        y_pred=y_pred\n",
    "    )\n",
    "    print(rouge_1_score)\n",
    "    print(rouge_2_score)\n",
    "    print(rouge_l_score)"
   ]
  },
  {
   "cell_type": "markdown",
   "metadata": {},
   "source": [
    "### Note (Experiment Date: 2024-08-09 00:00:00~)\n",
    "\n",
    "- Pre-trained model comparison\n",
    "\n",
    "The experiments are devided to three because it caused the OOM error when they are executed in a for-loop.\n",
    "\n",
    "#### Result\n",
    "\n",
    "Pre-trained model | validation loss | validation accuracy | ROUGE-1 | ROUGE-2 | ROUGE-L\n",
    "--- | --- | --- | --- | --- | ---\n",
    "bart_base_en | 0.7504980564117432 | 0.5904136300086975 | 41.65521 | 17.03037 | 33.073547\n",
    "bart_large_en | 0.743770956993103 | 0.5882247686386108 | 43.809313 | **19.138442** | **35.18229**\n",
    "bart_large_en_cnn | **0.6905627250671387** | **0.5938532948493958** | **44.075152** | 18.462116 | 35.14399\n",
    "\n",
    "#### Next\n"
   ]
  },
  {
   "cell_type": "code",
   "execution_count": null,
   "metadata": {},
   "outputs": [],
   "source": [
    "for preset_name in ['bart_base_en', 'bart_large_en_cnn', ]: # 'bart_large_en', \n",
    "    bart_lm, filepath, history = build_bart_model(\n",
    "        training_data=train_ds,\n",
    "        validation_data=validation_ds,\n",
    "        learning_rate=5e-6,\n",
    "        epochs=20,\n",
    "        preset_name=preset_name,\n",
    "        is_saved=False,\n",
    "    )\n",
    "    plot(history=history, keys=[\"loss\", \"accuracy\"])\n",
    "\n",
    "    best_epoch = max(\n",
    "        np.argmin(history.history[f\"val_loss\"]),\n",
    "        np.argmax(history.history[f\"val_accuracy\"])\n",
    "    )\n",
    "    best_epoch = best_epoch + 1\n",
    "    print(\"The best epoch is\", best_epoch)\n",
    "    bart_lm, filepath, _ = build_bart_model(\n",
    "        training_data=train_ds.concatenate(validation_ds),\n",
    "        validation_data=None,\n",
    "        learning_rate=5e-6,\n",
    "        epochs=best_epoch,\n",
    "        preset_name=preset_name,\n",
    "        verbose=0,\n",
    "        is_saved=False,\n",
    "    )\n",
    "    dialogue, y_true, y_pred = generate_prediction_result(\n",
    "        bart_lm=bart_lm,\n",
    "        ds=test_ds.map(format_dataset_bart_seq2seq),\n",
    "    )\n",
    "    rouge_1_score, rouge_2_score, rouge_l_score = calculate_rouge_score(\n",
    "        y_true=y_true,\n",
    "        y_pred=y_pred\n",
    "    )\n",
    "    print(rouge_1_score)\n",
    "    print(rouge_2_score)\n",
    "    print(rouge_l_score)"
   ]
  },
  {
   "cell_type": "markdown",
   "metadata": {},
   "source": [
    "### Note (Experiment Date: 2024-08-08 12:52:00~)\n",
    "\n",
    "- Smaller learning rates\n",
    "\n",
    "So far, the performances have not been improved through the training process. Too larger updates of the gradient possibly block the appropriate training. Therefore, the smaller learning rates, such as 1e-5, 5e-6, and 1e-6, are examined in this experiment.\n",
    "\n",
    "#### Result\n",
    "\n",
    "- The learning rates of `1e-5`, `5e-6`, and `1e-6` are better than the learning rate `5e-5`.\n",
    "- `5e-6` is the best.\n",
    "- The best loss or accuracy does not perfectly correspond to the best ROUGE score.\n",
    "\n",
    "The ROUGE metrics do not draw smooth curves in a graph rather than the loss and accuracy metrics and the best points of ROUGE metrics do not indicate the same point.\n",
    "The number of epochs for the maximum accuracy empirically tends to be larger than the number of epochs for the minimum loss, and the point of the accuracy tends to get close to the better ROUGE values.\n",
    "That is why we should stop displaying the ROUGE values in every epoch and build the final model based on accuracy, not directly on the ROUGE values.\n",
    "\n",
    "#### Next\n",
    "\n",
    "- Stop displaying the ROUGE values in every epoch.\n",
    "- Build the final model based on accuracy, not directly on the ROUGE values.\n",
    "- Find the best batch from 8, 16, 32, and 64.\n",
    "- Find the best preset model from `bart_large_en`, `bart_large_en_cnn`, and `bart_base_en`."
   ]
  },
  {
   "cell_type": "code",
   "execution_count": null,
   "metadata": {},
   "outputs": [
    {
     "name": "stdout",
     "output_type": "stream",
     "text": [
      "Downloading from https://www.kaggle.com/api/v1/models/keras/bart/keras/bart_base_en/2/download/metadata.json...\n"
     ]
    },
    {
     "name": "stderr",
     "output_type": "stream",
     "text": [
      "100%|██████████| 141/141 [00:00<00:00, 247kB/s]\n"
     ]
    },
    {
     "name": "stdout",
     "output_type": "stream",
     "text": [
      "Downloading from https://www.kaggle.com/api/v1/models/keras/bart/keras/bart_base_en/2/download/tokenizer.json...\n"
     ]
    },
    {
     "name": "stderr",
     "output_type": "stream",
     "text": [
      "100%|██████████| 448/448 [00:00<00:00, 758kB/s]\n"
     ]
    },
    {
     "name": "stdout",
     "output_type": "stream",
     "text": [
      "Downloading from https://www.kaggle.com/api/v1/models/keras/bart/keras/bart_base_en/2/download/assets/tokenizer/vocabulary.json...\n"
     ]
    },
    {
     "name": "stderr",
     "output_type": "stream",
     "text": [
      "100%|██████████| 0.99M/0.99M [00:01<00:00, 887kB/s]\n"
     ]
    },
    {
     "name": "stdout",
     "output_type": "stream",
     "text": [
      "Downloading from https://www.kaggle.com/api/v1/models/keras/bart/keras/bart_base_en/2/download/assets/tokenizer/merges.txt...\n"
     ]
    },
    {
     "name": "stderr",
     "output_type": "stream",
     "text": [
      "100%|██████████| 446k/446k [00:00<00:00, 473kB/s]\n"
     ]
    },
    {
     "name": "stdout",
     "output_type": "stream",
     "text": [
      "Downloading from https://www.kaggle.com/api/v1/models/keras/bart/keras/bart_base_en/2/download/config.json...\n"
     ]
    },
    {
     "name": "stderr",
     "output_type": "stream",
     "text": [
      "100%|██████████| 483/483 [00:00<00:00, 757kB/s]\n"
     ]
    },
    {
     "name": "stdout",
     "output_type": "stream",
     "text": [
      "Downloading from https://www.kaggle.com/api/v1/models/keras/bart/keras/bart_base_en/2/download/model.weights.h5...\n"
     ]
    },
    {
     "name": "stderr",
     "output_type": "stream",
     "text": [
      "100%|██████████| 532M/532M [00:25<00:00, 21.9MB/s] \n"
     ]
    },
    {
     "data": {
      "text/html": [
       "<pre style=\"white-space:pre;overflow-x:auto;line-height:normal;font-family:Menlo,'DejaVu Sans Mono',consolas,'Courier New',monospace\"><span style=\"font-weight: bold\">Preprocessor: \"bart_seq2_seq_lm_preprocessor\"</span>\n",
       "</pre>\n"
      ],
      "text/plain": [
       "\u001b[1mPreprocessor: \"bart_seq2_seq_lm_preprocessor\"\u001b[0m\n"
      ]
     },
     "metadata": {},
     "output_type": "display_data"
    },
    {
     "data": {
      "text/html": [
       "<pre style=\"white-space:pre;overflow-x:auto;line-height:normal;font-family:Menlo,'DejaVu Sans Mono',consolas,'Courier New',monospace\">┏━━━━━━━━━━━━━━━━━━━━━━━━━━━━━━━━━━━━━━━━━━━━━━━━━━━━┳━━━━━━━━━━━━━━━━━━━━━━━━━━━━━━━━━━━━━━━━━━━━━━━━━━━━━┓\n",
       "┃<span style=\"font-weight: bold\"> Tokenizer (type)                                   </span>┃<span style=\"font-weight: bold\">                                             Vocab # </span>┃\n",
       "┡━━━━━━━━━━━━━━━━━━━━━━━━━━━━━━━━━━━━━━━━━━━━━━━━━━━━╇━━━━━━━━━━━━━━━━━━━━━━━━━━━━━━━━━━━━━━━━━━━━━━━━━━━━━┩\n",
       "│ bart_tokenizer (<span style=\"color: #0087ff; text-decoration-color: #0087ff\">BartTokenizer</span>)                     │                                              <span style=\"color: #00af00; text-decoration-color: #00af00\">50,265</span> │\n",
       "└────────────────────────────────────────────────────┴─────────────────────────────────────────────────────┘\n",
       "</pre>\n"
      ],
      "text/plain": [
       "┏━━━━━━━━━━━━━━━━━━━━━━━━━━━━━━━━━━━━━━━━━━━━━━━━━━━━┳━━━━━━━━━━━━━━━━━━━━━━━━━━━━━━━━━━━━━━━━━━━━━━━━━━━━━┓\n",
       "┃\u001b[1m \u001b[0m\u001b[1mTokenizer (type)                                  \u001b[0m\u001b[1m \u001b[0m┃\u001b[1m \u001b[0m\u001b[1m                                            Vocab #\u001b[0m\u001b[1m \u001b[0m┃\n",
       "┡━━━━━━━━━━━━━━━━━━━━━━━━━━━━━━━━━━━━━━━━━━━━━━━━━━━━╇━━━━━━━━━━━━━━━━━━━━━━━━━━━━━━━━━━━━━━━━━━━━━━━━━━━━━┩\n",
       "│ bart_tokenizer (\u001b[38;5;33mBartTokenizer\u001b[0m)                     │                                              \u001b[38;5;34m50,265\u001b[0m │\n",
       "└────────────────────────────────────────────────────┴─────────────────────────────────────────────────────┘\n"
      ]
     },
     "metadata": {},
     "output_type": "display_data"
    },
    {
     "data": {
      "text/html": [
       "<pre style=\"white-space:pre;overflow-x:auto;line-height:normal;font-family:Menlo,'DejaVu Sans Mono',consolas,'Courier New',monospace\"><span style=\"font-weight: bold\">Model: \"bart_seq2_seq_lm\"</span>\n",
       "</pre>\n"
      ],
      "text/plain": [
       "\u001b[1mModel: \"bart_seq2_seq_lm\"\u001b[0m\n"
      ]
     },
     "metadata": {},
     "output_type": "display_data"
    },
    {
     "data": {
      "text/html": [
       "<pre style=\"white-space:pre;overflow-x:auto;line-height:normal;font-family:Menlo,'DejaVu Sans Mono',consolas,'Courier New',monospace\">┏━━━━━━━━━━━━━━━━━━━━━━━━━━━━━━━┳━━━━━━━━━━━━━━━━━━━━━━━━━━━┳━━━━━━━━━━━━━━━━━┳━━━━━━━━━━━━━━━━━━━━━━━━━━━━┓\n",
       "┃<span style=\"font-weight: bold\"> Layer (type)                  </span>┃<span style=\"font-weight: bold\"> Output Shape              </span>┃<span style=\"font-weight: bold\">         Param # </span>┃<span style=\"font-weight: bold\"> Connected to               </span>┃\n",
       "┡━━━━━━━━━━━━━━━━━━━━━━━━━━━━━━━╇━━━━━━━━━━━━━━━━━━━━━━━━━━━╇━━━━━━━━━━━━━━━━━╇━━━━━━━━━━━━━━━━━━━━━━━━━━━━┩\n",
       "│ decoder_padding_mask          │ (<span style=\"color: #00d7ff; text-decoration-color: #00d7ff\">None</span>, <span style=\"color: #00d7ff; text-decoration-color: #00d7ff\">None</span>)              │               <span style=\"color: #00af00; text-decoration-color: #00af00\">0</span> │ -                          │\n",
       "│ (<span style=\"color: #0087ff; text-decoration-color: #0087ff\">InputLayer</span>)                  │                           │                 │                            │\n",
       "├───────────────────────────────┼───────────────────────────┼─────────────────┼────────────────────────────┤\n",
       "│ decoder_token_ids             │ (<span style=\"color: #00d7ff; text-decoration-color: #00d7ff\">None</span>, <span style=\"color: #00d7ff; text-decoration-color: #00d7ff\">None</span>)              │               <span style=\"color: #00af00; text-decoration-color: #00af00\">0</span> │ -                          │\n",
       "│ (<span style=\"color: #0087ff; text-decoration-color: #0087ff\">InputLayer</span>)                  │                           │                 │                            │\n",
       "├───────────────────────────────┼───────────────────────────┼─────────────────┼────────────────────────────┤\n",
       "│ encoder_padding_mask          │ (<span style=\"color: #00d7ff; text-decoration-color: #00d7ff\">None</span>, <span style=\"color: #00d7ff; text-decoration-color: #00d7ff\">None</span>)              │               <span style=\"color: #00af00; text-decoration-color: #00af00\">0</span> │ -                          │\n",
       "│ (<span style=\"color: #0087ff; text-decoration-color: #0087ff\">InputLayer</span>)                  │                           │                 │                            │\n",
       "├───────────────────────────────┼───────────────────────────┼─────────────────┼────────────────────────────┤\n",
       "│ encoder_token_ids             │ (<span style=\"color: #00d7ff; text-decoration-color: #00d7ff\">None</span>, <span style=\"color: #00d7ff; text-decoration-color: #00d7ff\">None</span>)              │               <span style=\"color: #00af00; text-decoration-color: #00af00\">0</span> │ -                          │\n",
       "│ (<span style=\"color: #0087ff; text-decoration-color: #0087ff\">InputLayer</span>)                  │                           │                 │                            │\n",
       "├───────────────────────────────┼───────────────────────────┼─────────────────┼────────────────────────────┤\n",
       "│ bart_backbone (<span style=\"color: #0087ff; text-decoration-color: #0087ff\">BartBackbone</span>)  │ [(<span style=\"color: #00d7ff; text-decoration-color: #00d7ff\">None</span>, <span style=\"color: #00d7ff; text-decoration-color: #00d7ff\">None</span>, <span style=\"color: #00af00; text-decoration-color: #00af00\">768</span>),       │     <span style=\"color: #00af00; text-decoration-color: #00af00\">139,417,344</span> │ decoder_padding_mask[<span style=\"color: #00af00; text-decoration-color: #00af00\">0</span>][<span style=\"color: #00af00; text-decoration-color: #00af00\">0</span>… │\n",
       "│                               │ (<span style=\"color: #00d7ff; text-decoration-color: #00d7ff\">None</span>, <span style=\"color: #00d7ff; text-decoration-color: #00d7ff\">None</span>, <span style=\"color: #00af00; text-decoration-color: #00af00\">768</span>)]        │                 │ decoder_token_ids[<span style=\"color: #00af00; text-decoration-color: #00af00\">0</span>][<span style=\"color: #00af00; text-decoration-color: #00af00\">0</span>],   │\n",
       "│                               │                           │                 │ encoder_padding_mask[<span style=\"color: #00af00; text-decoration-color: #00af00\">0</span>][<span style=\"color: #00af00; text-decoration-color: #00af00\">0</span>… │\n",
       "│                               │                           │                 │ encoder_token_ids[<span style=\"color: #00af00; text-decoration-color: #00af00\">0</span>][<span style=\"color: #00af00; text-decoration-color: #00af00\">0</span>]    │\n",
       "├───────────────────────────────┼───────────────────────────┼─────────────────┼────────────────────────────┤\n",
       "│ token_embedding               │ (<span style=\"color: #00d7ff; text-decoration-color: #00d7ff\">None</span>, <span style=\"color: #00d7ff; text-decoration-color: #00d7ff\">None</span>, <span style=\"color: #00af00; text-decoration-color: #00af00\">50265</span>)       │      <span style=\"color: #00af00; text-decoration-color: #00af00\">38,603,520</span> │ bart_backbone[<span style=\"color: #00af00; text-decoration-color: #00af00\">0</span>][<span style=\"color: #00af00; text-decoration-color: #00af00\">0</span>]        │\n",
       "│ (<span style=\"color: #0087ff; text-decoration-color: #0087ff\">ReversibleEmbedding</span>)         │                           │                 │                            │\n",
       "└───────────────────────────────┴───────────────────────────┴─────────────────┴────────────────────────────┘\n",
       "</pre>\n"
      ],
      "text/plain": [
       "┏━━━━━━━━━━━━━━━━━━━━━━━━━━━━━━━┳━━━━━━━━━━━━━━━━━━━━━━━━━━━┳━━━━━━━━━━━━━━━━━┳━━━━━━━━━━━━━━━━━━━━━━━━━━━━┓\n",
       "┃\u001b[1m \u001b[0m\u001b[1mLayer (type)                 \u001b[0m\u001b[1m \u001b[0m┃\u001b[1m \u001b[0m\u001b[1mOutput Shape             \u001b[0m\u001b[1m \u001b[0m┃\u001b[1m \u001b[0m\u001b[1m        Param #\u001b[0m\u001b[1m \u001b[0m┃\u001b[1m \u001b[0m\u001b[1mConnected to              \u001b[0m\u001b[1m \u001b[0m┃\n",
       "┡━━━━━━━━━━━━━━━━━━━━━━━━━━━━━━━╇━━━━━━━━━━━━━━━━━━━━━━━━━━━╇━━━━━━━━━━━━━━━━━╇━━━━━━━━━━━━━━━━━━━━━━━━━━━━┩\n",
       "│ decoder_padding_mask          │ (\u001b[38;5;45mNone\u001b[0m, \u001b[38;5;45mNone\u001b[0m)              │               \u001b[38;5;34m0\u001b[0m │ -                          │\n",
       "│ (\u001b[38;5;33mInputLayer\u001b[0m)                  │                           │                 │                            │\n",
       "├───────────────────────────────┼───────────────────────────┼─────────────────┼────────────────────────────┤\n",
       "│ decoder_token_ids             │ (\u001b[38;5;45mNone\u001b[0m, \u001b[38;5;45mNone\u001b[0m)              │               \u001b[38;5;34m0\u001b[0m │ -                          │\n",
       "│ (\u001b[38;5;33mInputLayer\u001b[0m)                  │                           │                 │                            │\n",
       "├───────────────────────────────┼───────────────────────────┼─────────────────┼────────────────────────────┤\n",
       "│ encoder_padding_mask          │ (\u001b[38;5;45mNone\u001b[0m, \u001b[38;5;45mNone\u001b[0m)              │               \u001b[38;5;34m0\u001b[0m │ -                          │\n",
       "│ (\u001b[38;5;33mInputLayer\u001b[0m)                  │                           │                 │                            │\n",
       "├───────────────────────────────┼───────────────────────────┼─────────────────┼────────────────────────────┤\n",
       "│ encoder_token_ids             │ (\u001b[38;5;45mNone\u001b[0m, \u001b[38;5;45mNone\u001b[0m)              │               \u001b[38;5;34m0\u001b[0m │ -                          │\n",
       "│ (\u001b[38;5;33mInputLayer\u001b[0m)                  │                           │                 │                            │\n",
       "├───────────────────────────────┼───────────────────────────┼─────────────────┼────────────────────────────┤\n",
       "│ bart_backbone (\u001b[38;5;33mBartBackbone\u001b[0m)  │ [(\u001b[38;5;45mNone\u001b[0m, \u001b[38;5;45mNone\u001b[0m, \u001b[38;5;34m768\u001b[0m),       │     \u001b[38;5;34m139,417,344\u001b[0m │ decoder_padding_mask[\u001b[38;5;34m0\u001b[0m][\u001b[38;5;34m0\u001b[0m… │\n",
       "│                               │ (\u001b[38;5;45mNone\u001b[0m, \u001b[38;5;45mNone\u001b[0m, \u001b[38;5;34m768\u001b[0m)]        │                 │ decoder_token_ids[\u001b[38;5;34m0\u001b[0m][\u001b[38;5;34m0\u001b[0m],   │\n",
       "│                               │                           │                 │ encoder_padding_mask[\u001b[38;5;34m0\u001b[0m][\u001b[38;5;34m0\u001b[0m… │\n",
       "│                               │                           │                 │ encoder_token_ids[\u001b[38;5;34m0\u001b[0m][\u001b[38;5;34m0\u001b[0m]    │\n",
       "├───────────────────────────────┼───────────────────────────┼─────────────────┼────────────────────────────┤\n",
       "│ token_embedding               │ (\u001b[38;5;45mNone\u001b[0m, \u001b[38;5;45mNone\u001b[0m, \u001b[38;5;34m50265\u001b[0m)       │      \u001b[38;5;34m38,603,520\u001b[0m │ bart_backbone[\u001b[38;5;34m0\u001b[0m][\u001b[38;5;34m0\u001b[0m]        │\n",
       "│ (\u001b[38;5;33mReversibleEmbedding\u001b[0m)         │                           │                 │                            │\n",
       "└───────────────────────────────┴───────────────────────────┴─────────────────┴────────────────────────────┘\n"
      ]
     },
     "metadata": {},
     "output_type": "display_data"
    },
    {
     "data": {
      "text/html": [
       "<pre style=\"white-space:pre;overflow-x:auto;line-height:normal;font-family:Menlo,'DejaVu Sans Mono',consolas,'Courier New',monospace\"><span style=\"font-weight: bold\"> Total params: </span><span style=\"color: #00af00; text-decoration-color: #00af00\">139,417,344</span> (531.83 MB)\n",
       "</pre>\n"
      ],
      "text/plain": [
       "\u001b[1m Total params: \u001b[0m\u001b[38;5;34m139,417,344\u001b[0m (531.83 MB)\n"
      ]
     },
     "metadata": {},
     "output_type": "display_data"
    },
    {
     "data": {
      "text/html": [
       "<pre style=\"white-space:pre;overflow-x:auto;line-height:normal;font-family:Menlo,'DejaVu Sans Mono',consolas,'Courier New',monospace\"><span style=\"font-weight: bold\"> Trainable params: </span><span style=\"color: #00af00; text-decoration-color: #00af00\">139,417,344</span> (531.83 MB)\n",
       "</pre>\n"
      ],
      "text/plain": [
       "\u001b[1m Trainable params: \u001b[0m\u001b[38;5;34m139,417,344\u001b[0m (531.83 MB)\n"
      ]
     },
     "metadata": {},
     "output_type": "display_data"
    },
    {
     "data": {
      "text/html": [
       "<pre style=\"white-space:pre;overflow-x:auto;line-height:normal;font-family:Menlo,'DejaVu Sans Mono',consolas,'Courier New',monospace\"><span style=\"font-weight: bold\"> Non-trainable params: </span><span style=\"color: #00af00; text-decoration-color: #00af00\">0</span> (0.00 B)\n",
       "</pre>\n"
      ],
      "text/plain": [
       "\u001b[1m Non-trainable params: \u001b[0m\u001b[38;5;34m0\u001b[0m (0.00 B)\n"
      ]
     },
     "metadata": {},
     "output_type": "display_data"
    },
    {
     "name": "stdout",
     "output_type": "stream",
     "text": [
      "Epoch 1/20\n"
     ]
    },
    {
     "name": "stderr",
     "output_type": "stream",
     "text": [
      "WARNING: All log messages before absl::InitializeLog() is called are written to STDERR\n",
      "I0000 00:00:1723118782.246710   16859 service.cc:145] XLA service 0x7fd01c002d20 initialized for platform CUDA (this does not guarantee that XLA will be used). Devices:\n",
      "I0000 00:00:1723118782.246824   16859 service.cc:153]   StreamExecutor device (0): Tesla V100-SXM2-16GB, Compute Capability 7.0\n",
      "2024-08-08 12:06:23.719352: I tensorflow/compiler/mlir/tensorflow/utils/dump_mlir_util.cc:268] disabling MLIR crash reproducer, set env var `MLIR_CRASH_REPRODUCER_DIRECTORY` to enable.\n",
      "W0000 00:00:1723118784.578217   16859 assert_op.cc:38] Ignoring Assert operator compile_loss/sparse_categorical_crossentropy/SparseSoftmaxCrossEntropyWithLogits/assert_equal_1/Assert/Assert\n",
      "2024-08-08 12:06:33.533521: I external/local_xla/xla/stream_executor/cuda/cuda_dnn.cc:465] Loaded cuDNN version 8907\n",
      "WARNING: All log messages before absl::InitializeLog() is called are written to STDERR\n",
      "I0000 00:00:1723118879.025783   18360 asm_compiler.cc:369] ptxas warning : Registers are spilled to local memory in function 'triton_gemm_dot_96', 20 bytes spill stores, 20 bytes spill loads\n",
      "\n",
      "I0000 00:00:1723118886.032862   18359 asm_compiler.cc:369] ptxas warning : Registers are spilled to local memory in function 'triton_gemm_dot_96', 1884 bytes spill stores, 1880 bytes spill loads\n",
      "\n",
      "I0000 00:00:1723119012.239408   16859 asm_compiler.cc:369] ptxas warning : Registers are spilled to local memory in function 'input_reduce_fusion_239__3', 16 bytes spill stores, 16 bytes spill loads\n",
      "ptxas warning : Registers are spilled to local memory in function 'input_multiply_reduce_fusion_30', 4 bytes spill stores, 4 bytes spill loads\n",
      "\n",
      "I0000 00:00:1723119012.431604   16859 device_compiler.h:188] Compiled cluster using XLA!  This line is logged at most once for the lifetime of the process.\n"
     ]
    },
    {
     "name": "stdout",
     "output_type": "stream",
     "text": [
      "\u001b[1m1841/1842\u001b[0m \u001b[32m━━━━━━━━━━━━━━━━━━━\u001b[0m\u001b[37m━\u001b[0m \u001b[1m0s\u001b[0m 53ms/step - accuracy: 0.5342 - loss: 0.9082"
     ]
    },
    {
     "name": "stderr",
     "output_type": "stream",
     "text": [
      "W0000 00:00:1723119115.358293   16859 assert_op.cc:38] Ignoring Assert operator compile_loss/sparse_categorical_crossentropy/SparseSoftmaxCrossEntropyWithLogits/assert_equal_1/Assert/Assert\n",
      "I0000 00:00:1723119212.550900   22421 asm_compiler.cc:369] ptxas warning : Registers are spilled to local memory in function 'triton_gemm_dot_96', 20 bytes spill stores, 20 bytes spill loads\n",
      "\n",
      "I0000 00:00:1723119218.349164   22425 asm_compiler.cc:369] ptxas warning : Registers are spilled to local memory in function 'triton_gemm_dot_96', 1884 bytes spill stores, 1880 bytes spill loads\n",
      "\n",
      "I0000 00:00:1723119341.288486   16859 asm_compiler.cc:369] ptxas warning : Registers are spilled to local memory in function 'input_reduce_fusion_615__4', 156 bytes spill stores, 156 bytes spill loads\n",
      "ptxas warning : Registers are spilled to local memory in function 'input_reduce_fusion_244__3', 16 bytes spill stores, 16 bytes spill loads\n",
      "\n"
     ]
    },
    {
     "name": "stdout",
     "output_type": "stream",
     "text": [
      "\b\b\b\b\b\b\b\b\b\b\b\b\b\b\b\b\b\b\b\b\b\b\b\b\b\b\b\b\b\b\b\b\b\b\b\b\b\b\b\b\b\b\b\b\b\b\b\b\b\b\b\b\b\b\b\b\b\b\b\b\b\b\b\b\b\b\b\b\b\b\b\b\b\b\b\b\b\r\n",
      "\u001b[1m1842/1842\u001b[0m \u001b[32m━━━━━━━━━━━━━━━━━━━━\u001b[0m\u001b[37m\u001b[0m \u001b[1m0s\u001b[0m 178ms/step - accuracy: 0.5342 - loss: 0.9082"
     ]
    },
    {
     "name": "stderr",
     "output_type": "stream",
     "text": [
      "W0000 00:00:1723119353.606840   16862 assert_op.cc:38] Ignoring Assert operator compile_loss/sparse_categorical_crossentropy/SparseSoftmaxCrossEntropyWithLogits/assert_equal_1/Assert/Assert\n",
      "W0000 00:00:1723119359.265798   16858 assert_op.cc:38] Ignoring Assert operator compile_loss/sparse_categorical_crossentropy/SparseSoftmaxCrossEntropyWithLogits/assert_equal_1/Assert/Assert\n",
      "I0000 00:00:1723119362.918455   27676 asm_compiler.cc:369] ptxas warning : Registers are spilled to local memory in function 'triton_gemm_dot_96', 20 bytes spill stores, 20 bytes spill loads\n",
      "\n",
      "I0000 00:00:1723119367.874334   27672 asm_compiler.cc:369] ptxas warning : Registers are spilled to local memory in function 'triton_gemm_dot_96', 1884 bytes spill stores, 1880 bytes spill loads\n",
      "\n",
      "2024-08-08 12:16:12.799753: W tensorflow/core/framework/local_rendezvous.cc:404] Local rendezvous is aborting with status: OUT_OF_RANGE: End of sequence\n",
      "I0000 00:00:1723119409.624294   28359 asm_compiler.cc:369] ptxas warning : Registers are spilled to local memory in function 'triton_gemm_dot_327', 4 bytes spill stores, 4 bytes spill loads\n",
      "\n",
      "I0000 00:00:1723119438.508675   28712 asm_compiler.cc:369] ptxas warning : Registers are spilled to local memory in function 'triton_gemm_dot_327', 4 bytes spill stores, 4 bytes spill loads\n",
      "\n",
      "2024-08-08 12:17:28.381348: W tensorflow/core/framework/local_rendezvous.cc:404] Local rendezvous is aborting with status: OUT_OF_RANGE: End of sequence\n"
     ]
    },
    {
     "name": "stdout",
     "output_type": "stream",
     "text": [
      "{'precision': <tf.Tensor: shape=(), dtype=float32, numpy=0.4387288>, 'recall': <tf.Tensor: shape=(), dtype=float32, numpy=0.42913014>, 'f1_score': <tf.Tensor: shape=(), dtype=float32, numpy=0.40412647>}\n",
      "{'precision': <tf.Tensor: shape=(), dtype=float32, numpy=0.17054439>, 'recall': <tf.Tensor: shape=(), dtype=float32, numpy=0.16714211>, 'f1_score': <tf.Tensor: shape=(), dtype=float32, numpy=0.15693523>}\n",
      "{'precision': <tf.Tensor: shape=(), dtype=float32, numpy=0.34206778>, 'recall': <tf.Tensor: shape=(), dtype=float32, numpy=0.33748296>, 'f1_score': <tf.Tensor: shape=(), dtype=float32, numpy=0.3161258>}\n"
     ]
    },
    {
     "name": "stderr",
     "output_type": "stream",
     "text": [
      "2024-08-08 12:17:37.892499: W external/local_tsl/tsl/framework/cpu_allocator_impl.cc:83] Allocation of 9264844800 exceeds 10% of free system memory.\n",
      "2024-08-08 12:17:53.659220: W external/local_tsl/tsl/framework/cpu_allocator_impl.cc:83] Allocation of 9264844800 exceeds 10% of free system memory.\n"
     ]
    },
    {
     "name": "stdout",
     "output_type": "stream",
     "text": [
      "\u001b[1m1842/1842\u001b[0m \u001b[32m━━━━━━━━━━━━━━━━━━━━\u001b[0m\u001b[37m\u001b[0m \u001b[1m753s\u001b[0m 251ms/step - accuracy: 0.5342 - loss: 0.9081 - val_accuracy: 0.5843 - val_loss: 0.7667\n",
      "Epoch 2/20\n",
      "\u001b[1m1842/1842\u001b[0m \u001b[32m━━━━━━━━━━━━━━━━━━━━\u001b[0m\u001b[37m\u001b[0m \u001b[1m0s\u001b[0m 54ms/step - accuracy: 0.5801 - loss: 0.7753"
     ]
    },
    {
     "name": "stderr",
     "output_type": "stream",
     "text": [
      "2024-08-08 12:19:48.564503: W tensorflow/core/framework/local_rendezvous.cc:404] Local rendezvous is aborting with status: OUT_OF_RANGE: End of sequence\n",
      "2024-08-08 12:20:08.543780: W tensorflow/core/framework/local_rendezvous.cc:404] Local rendezvous is aborting with status: OUT_OF_RANGE: End of sequence\n"
     ]
    },
    {
     "name": "stdout",
     "output_type": "stream",
     "text": [
      "{'precision': <tf.Tensor: shape=(), dtype=float32, numpy=0.45097512>, 'recall': <tf.Tensor: shape=(), dtype=float32, numpy=0.43855232>, 'f1_score': <tf.Tensor: shape=(), dtype=float32, numpy=0.415106>}\n",
      "{'precision': <tf.Tensor: shape=(), dtype=float32, numpy=0.18315656>, 'recall': <tf.Tensor: shape=(), dtype=float32, numpy=0.17822267>, 'f1_score': <tf.Tensor: shape=(), dtype=float32, numpy=0.16736944>}\n",
      "{'precision': <tf.Tensor: shape=(), dtype=float32, numpy=0.35604072>, 'recall': <tf.Tensor: shape=(), dtype=float32, numpy=0.3475206>, 'f1_score': <tf.Tensor: shape=(), dtype=float32, numpy=0.32799092>}\n"
     ]
    },
    {
     "name": "stderr",
     "output_type": "stream",
     "text": [
      "2024-08-08 12:20:17.838051: W external/local_tsl/tsl/framework/cpu_allocator_impl.cc:83] Allocation of 9264844800 exceeds 10% of free system memory.\n",
      "2024-08-08 12:20:34.170071: W external/local_tsl/tsl/framework/cpu_allocator_impl.cc:83] Allocation of 9264844800 exceeds 10% of free system memory.\n"
     ]
    },
    {
     "name": "stdout",
     "output_type": "stream",
     "text": [
      "\u001b[1m1842/1842\u001b[0m \u001b[32m━━━━━━━━━━━━━━━━━━━━\u001b[0m\u001b[37m\u001b[0m \u001b[1m161s\u001b[0m 86ms/step - accuracy: 0.5801 - loss: 0.7753 - val_accuracy: 0.5858 - val_loss: 0.7541\n",
      "Epoch 3/20\n",
      "\u001b[1m1841/1842\u001b[0m \u001b[32m━━━━━━━━━━━━━━━━━━━\u001b[0m\u001b[37m━\u001b[0m \u001b[1m0s\u001b[0m 54ms/step - accuracy: 0.6019 - loss: 0.7154"
     ]
    },
    {
     "name": "stderr",
     "output_type": "stream",
     "text": [
      "2024-08-08 12:22:29.316009: W tensorflow/core/framework/local_rendezvous.cc:404] Local rendezvous is aborting with status: OUT_OF_RANGE: End of sequence\n",
      "2024-08-08 12:22:47.571670: W tensorflow/core/framework/local_rendezvous.cc:404] Local rendezvous is aborting with status: OUT_OF_RANGE: End of sequence\n"
     ]
    },
    {
     "name": "stdout",
     "output_type": "stream",
     "text": [
      "{'precision': <tf.Tensor: shape=(), dtype=float32, numpy=0.46028513>, 'recall': <tf.Tensor: shape=(), dtype=float32, numpy=0.4459676>, 'f1_score': <tf.Tensor: shape=(), dtype=float32, numpy=0.4218812>}\n",
      "{'precision': <tf.Tensor: shape=(), dtype=float32, numpy=0.1905342>, 'recall': <tf.Tensor: shape=(), dtype=float32, numpy=0.18771568>, 'f1_score': <tf.Tensor: shape=(), dtype=float32, numpy=0.17409967>}\n",
      "{'precision': <tf.Tensor: shape=(), dtype=float32, numpy=0.36657497>, 'recall': <tf.Tensor: shape=(), dtype=float32, numpy=0.355575>, 'f1_score': <tf.Tensor: shape=(), dtype=float32, numpy=0.33566844>}\n"
     ]
    },
    {
     "name": "stderr",
     "output_type": "stream",
     "text": [
      "2024-08-08 12:22:57.078935: W external/local_tsl/tsl/framework/cpu_allocator_impl.cc:83] Allocation of 9264844800 exceeds 10% of free system memory.\n"
     ]
    },
    {
     "name": "stdout",
     "output_type": "stream",
     "text": [
      "\u001b[1m1842/1842\u001b[0m \u001b[32m━━━━━━━━━━━━━━━━━━━━\u001b[0m\u001b[37m\u001b[0m \u001b[1m158s\u001b[0m 84ms/step - accuracy: 0.6019 - loss: 0.7153 - val_accuracy: 0.5890 - val_loss: 0.7534\n",
      "Epoch 4/20\n",
      "\u001b[1m1841/1842\u001b[0m \u001b[32m━━━━━━━━━━━━━━━━━━━\u001b[0m\u001b[37m━\u001b[0m \u001b[1m0s\u001b[0m 54ms/step - accuracy: 0.6211 - loss: 0.6670"
     ]
    },
    {
     "name": "stderr",
     "output_type": "stream",
     "text": [
      "2024-08-08 12:25:08.873750: W tensorflow/core/framework/local_rendezvous.cc:404] Local rendezvous is aborting with status: OUT_OF_RANGE: End of sequence\n",
      "2024-08-08 12:25:27.941473: W tensorflow/core/framework/local_rendezvous.cc:404] Local rendezvous is aborting with status: OUT_OF_RANGE: End of sequence\n"
     ]
    },
    {
     "name": "stdout",
     "output_type": "stream",
     "text": [
      "{'precision': <tf.Tensor: shape=(), dtype=float32, numpy=0.446803>, 'recall': <tf.Tensor: shape=(), dtype=float32, numpy=0.46714774>, 'f1_score': <tf.Tensor: shape=(), dtype=float32, numpy=0.4280842>}\n",
      "{'precision': <tf.Tensor: shape=(), dtype=float32, numpy=0.18585625>, 'recall': <tf.Tensor: shape=(), dtype=float32, numpy=0.19847505>, 'f1_score': <tf.Tensor: shape=(), dtype=float32, numpy=0.17885026>}\n",
      "{'precision': <tf.Tensor: shape=(), dtype=float32, numpy=0.3552788>, 'recall': <tf.Tensor: shape=(), dtype=float32, numpy=0.37407646>, 'f1_score': <tf.Tensor: shape=(), dtype=float32, numpy=0.3411748>}\n",
      "\u001b[1m1842/1842\u001b[0m \u001b[32m━━━━━━━━━━━━━━━━━━━━\u001b[0m\u001b[37m\u001b[0m \u001b[1m160s\u001b[0m 85ms/step - accuracy: 0.6211 - loss: 0.6670 - val_accuracy: 0.5888 - val_loss: 0.7562\n",
      "Epoch 5/20\n",
      "\u001b[1m1841/1842\u001b[0m \u001b[32m━━━━━━━━━━━━━━━━━━━\u001b[0m\u001b[37m━\u001b[0m \u001b[1m0s\u001b[0m 55ms/step - accuracy: 0.6389 - loss: 0.6249"
     ]
    },
    {
     "name": "stderr",
     "output_type": "stream",
     "text": [
      "2024-08-08 12:27:53.050625: W tensorflow/core/framework/local_rendezvous.cc:404] Local rendezvous is aborting with status: OUT_OF_RANGE: End of sequence\n",
      "2024-08-08 12:28:12.567349: W tensorflow/core/framework/local_rendezvous.cc:404] Local rendezvous is aborting with status: OUT_OF_RANGE: End of sequence\n"
     ]
    },
    {
     "name": "stdout",
     "output_type": "stream",
     "text": [
      "{'precision': <tf.Tensor: shape=(), dtype=float32, numpy=0.4516763>, 'recall': <tf.Tensor: shape=(), dtype=float32, numpy=0.45906654>, 'f1_score': <tf.Tensor: shape=(), dtype=float32, numpy=0.42675704>}\n",
      "{'precision': <tf.Tensor: shape=(), dtype=float32, numpy=0.19106828>, 'recall': <tf.Tensor: shape=(), dtype=float32, numpy=0.19627541>, 'f1_score': <tf.Tensor: shape=(), dtype=float32, numpy=0.18043216>}\n",
      "{'precision': <tf.Tensor: shape=(), dtype=float32, numpy=0.3541053>, 'recall': <tf.Tensor: shape=(), dtype=float32, numpy=0.3634463>, 'f1_score': <tf.Tensor: shape=(), dtype=float32, numpy=0.33622444>}\n",
      "\u001b[1m1842/1842\u001b[0m \u001b[32m━━━━━━━━━━━━━━━━━━━━\u001b[0m\u001b[37m\u001b[0m \u001b[1m165s\u001b[0m 88ms/step - accuracy: 0.6389 - loss: 0.6249 - val_accuracy: 0.5901 - val_loss: 0.7616\n",
      "Epoch 6/20\n",
      "\u001b[1m1841/1842\u001b[0m \u001b[32m━━━━━━━━━━━━━━━━━━━\u001b[0m\u001b[37m━\u001b[0m \u001b[1m0s\u001b[0m 58ms/step - accuracy: 0.6563 - loss: 0.5843"
     ]
    },
    {
     "name": "stderr",
     "output_type": "stream",
     "text": [
      "2024-08-08 12:30:41.471509: W tensorflow/core/framework/local_rendezvous.cc:404] Local rendezvous is aborting with status: OUT_OF_RANGE: End of sequence\n",
      "2024-08-08 12:31:00.340585: W tensorflow/core/framework/local_rendezvous.cc:404] Local rendezvous is aborting with status: OUT_OF_RANGE: End of sequence\n"
     ]
    },
    {
     "name": "stdout",
     "output_type": "stream",
     "text": [
      "{'precision': <tf.Tensor: shape=(), dtype=float32, numpy=0.45219293>, 'recall': <tf.Tensor: shape=(), dtype=float32, numpy=0.4678382>, 'f1_score': <tf.Tensor: shape=(), dtype=float32, numpy=0.43192145>}\n",
      "{'precision': <tf.Tensor: shape=(), dtype=float32, numpy=0.19588242>, 'recall': <tf.Tensor: shape=(), dtype=float32, numpy=0.20931971>, 'f1_score': <tf.Tensor: shape=(), dtype=float32, numpy=0.18914393>}\n",
      "{'precision': <tf.Tensor: shape=(), dtype=float32, numpy=0.359923>, 'recall': <tf.Tensor: shape=(), dtype=float32, numpy=0.3743489>, 'f1_score': <tf.Tensor: shape=(), dtype=float32, numpy=0.3441722>}\n",
      "\u001b[1m1842/1842\u001b[0m \u001b[32m━━━━━━━━━━━━━━━━━━━━\u001b[0m\u001b[37m\u001b[0m \u001b[1m168s\u001b[0m 90ms/step - accuracy: 0.6563 - loss: 0.5843 - val_accuracy: 0.5872 - val_loss: 0.7730\n",
      "Epoch 7/20\n",
      "\u001b[1m1841/1842\u001b[0m \u001b[32m━━━━━━━━━━━━━━━━━━━\u001b[0m\u001b[37m━\u001b[0m \u001b[1m0s\u001b[0m 57ms/step - accuracy: 0.6735 - loss: 0.5472"
     ]
    },
    {
     "name": "stderr",
     "output_type": "stream",
     "text": [
      "2024-08-08 12:33:28.460395: W tensorflow/core/framework/local_rendezvous.cc:404] Local rendezvous is aborting with status: OUT_OF_RANGE: End of sequence\n",
      "2024-08-08 12:33:50.689810: W tensorflow/core/framework/local_rendezvous.cc:404] Local rendezvous is aborting with status: OUT_OF_RANGE: End of sequence\n"
     ]
    },
    {
     "name": "stdout",
     "output_type": "stream",
     "text": [
      "{'precision': <tf.Tensor: shape=(), dtype=float32, numpy=0.44969863>, 'recall': <tf.Tensor: shape=(), dtype=float32, numpy=0.47425866>, 'f1_score': <tf.Tensor: shape=(), dtype=float32, numpy=0.4348548>}\n",
      "{'precision': <tf.Tensor: shape=(), dtype=float32, numpy=0.18957868>, 'recall': <tf.Tensor: shape=(), dtype=float32, numpy=0.20413876>, 'f1_score': <tf.Tensor: shape=(), dtype=float32, numpy=0.18480122>}\n",
      "{'precision': <tf.Tensor: shape=(), dtype=float32, numpy=0.35542905>, 'recall': <tf.Tensor: shape=(), dtype=float32, numpy=0.3780831>, 'f1_score': <tf.Tensor: shape=(), dtype=float32, numpy=0.34500304>}\n",
      "\u001b[1m1842/1842\u001b[0m \u001b[32m━━━━━━━━━━━━━━━━━━━━\u001b[0m\u001b[37m\u001b[0m \u001b[1m170s\u001b[0m 91ms/step - accuracy: 0.6735 - loss: 0.5472 - val_accuracy: 0.5825 - val_loss: 0.7849\n",
      "Epoch 8/20\n",
      "\u001b[1m1841/1842\u001b[0m \u001b[32m━━━━━━━━━━━━━━━━━━━\u001b[0m\u001b[37m━\u001b[0m \u001b[1m0s\u001b[0m 57ms/step - accuracy: 0.6890 - loss: 0.5114"
     ]
    },
    {
     "name": "stderr",
     "output_type": "stream",
     "text": [
      "2024-08-08 12:36:18.701507: W tensorflow/core/framework/local_rendezvous.cc:404] Local rendezvous is aborting with status: OUT_OF_RANGE: End of sequence\n",
      "2024-08-08 12:36:38.226584: W tensorflow/core/framework/local_rendezvous.cc:404] Local rendezvous is aborting with status: OUT_OF_RANGE: End of sequence\n"
     ]
    },
    {
     "name": "stdout",
     "output_type": "stream",
     "text": [
      "{'precision': <tf.Tensor: shape=(), dtype=float32, numpy=0.4448491>, 'recall': <tf.Tensor: shape=(), dtype=float32, numpy=0.4702765>, 'f1_score': <tf.Tensor: shape=(), dtype=float32, numpy=0.42810395>}\n",
      "{'precision': <tf.Tensor: shape=(), dtype=float32, numpy=0.19197054>, 'recall': <tf.Tensor: shape=(), dtype=float32, numpy=0.20419511>, 'f1_score': <tf.Tensor: shape=(), dtype=float32, numpy=0.18391775>}\n",
      "{'precision': <tf.Tensor: shape=(), dtype=float32, numpy=0.35358745>, 'recall': <tf.Tensor: shape=(), dtype=float32, numpy=0.37592423>, 'f1_score': <tf.Tensor: shape=(), dtype=float32, numpy=0.3410238>}\n",
      "\u001b[1m1842/1842\u001b[0m \u001b[32m━━━━━━━━━━━━━━━━━━━━\u001b[0m\u001b[37m\u001b[0m \u001b[1m168s\u001b[0m 89ms/step - accuracy: 0.6890 - loss: 0.5114 - val_accuracy: 0.5829 - val_loss: 0.8026\n",
      "Epoch 9/20\n",
      "\u001b[1m1841/1842\u001b[0m \u001b[32m━━━━━━━━━━━━━━━━━━━\u001b[0m\u001b[37m━\u001b[0m \u001b[1m0s\u001b[0m 58ms/step - accuracy: 0.7053 - loss: 0.4783"
     ]
    },
    {
     "name": "stderr",
     "output_type": "stream",
     "text": [
      "2024-08-08 12:39:06.184372: W tensorflow/core/framework/local_rendezvous.cc:404] Local rendezvous is aborting with status: OUT_OF_RANGE: End of sequence\n",
      "2024-08-08 12:39:25.513108: W tensorflow/core/framework/local_rendezvous.cc:404] Local rendezvous is aborting with status: OUT_OF_RANGE: End of sequence\n"
     ]
    },
    {
     "name": "stdout",
     "output_type": "stream",
     "text": [
      "{'precision': <tf.Tensor: shape=(), dtype=float32, numpy=0.44590506>, 'recall': <tf.Tensor: shape=(), dtype=float32, numpy=0.4739784>, 'f1_score': <tf.Tensor: shape=(), dtype=float32, numpy=0.43180802>}\n",
      "{'precision': <tf.Tensor: shape=(), dtype=float32, numpy=0.18632008>, 'recall': <tf.Tensor: shape=(), dtype=float32, numpy=0.20210053>, 'f1_score': <tf.Tensor: shape=(), dtype=float32, numpy=0.18069103>}\n",
      "{'precision': <tf.Tensor: shape=(), dtype=float32, numpy=0.35266843>, 'recall': <tf.Tensor: shape=(), dtype=float32, numpy=0.37669873>, 'f1_score': <tf.Tensor: shape=(), dtype=float32, numpy=0.34207612>}\n",
      "\u001b[1m1842/1842\u001b[0m \u001b[32m━━━━━━━━━━━━━━━━━━━━\u001b[0m\u001b[37m\u001b[0m \u001b[1m168s\u001b[0m 89ms/step - accuracy: 0.7054 - loss: 0.4783 - val_accuracy: 0.5818 - val_loss: 0.8162\n",
      "Epoch 10/20\n",
      "\u001b[1m1841/1842\u001b[0m \u001b[32m━━━━━━━━━━━━━━━━━━━\u001b[0m\u001b[37m━\u001b[0m \u001b[1m0s\u001b[0m 56ms/step - accuracy: 0.7204 - loss: 0.4479"
     ]
    },
    {
     "name": "stderr",
     "output_type": "stream",
     "text": [
      "2024-08-08 12:41:53.685147: W tensorflow/core/framework/local_rendezvous.cc:404] Local rendezvous is aborting with status: OUT_OF_RANGE: End of sequence\n",
      "2024-08-08 12:42:13.930268: W tensorflow/core/framework/local_rendezvous.cc:404] Local rendezvous is aborting with status: OUT_OF_RANGE: End of sequence\n"
     ]
    },
    {
     "name": "stdout",
     "output_type": "stream",
     "text": [
      "{'precision': <tf.Tensor: shape=(), dtype=float32, numpy=0.45318955>, 'recall': <tf.Tensor: shape=(), dtype=float32, numpy=0.47481644>, 'f1_score': <tf.Tensor: shape=(), dtype=float32, numpy=0.43536896>}\n",
      "{'precision': <tf.Tensor: shape=(), dtype=float32, numpy=0.19471014>, 'recall': <tf.Tensor: shape=(), dtype=float32, numpy=0.20644467>, 'f1_score': <tf.Tensor: shape=(), dtype=float32, numpy=0.18741125>}\n",
      "{'precision': <tf.Tensor: shape=(), dtype=float32, numpy=0.35819724>, 'recall': <tf.Tensor: shape=(), dtype=float32, numpy=0.37732837>, 'f1_score': <tf.Tensor: shape=(), dtype=float32, numpy=0.3446906>}\n",
      "\u001b[1m1842/1842\u001b[0m \u001b[32m━━━━━━━━━━━━━━━━━━━━\u001b[0m\u001b[37m\u001b[0m \u001b[1m168s\u001b[0m 90ms/step - accuracy: 0.7204 - loss: 0.4479 - val_accuracy: 0.5816 - val_loss: 0.8303\n",
      "Epoch 11/20\n",
      "\u001b[1m1841/1842\u001b[0m \u001b[32m━━━━━━━━━━━━━━━━━━━\u001b[0m\u001b[37m━\u001b[0m \u001b[1m0s\u001b[0m 56ms/step - accuracy: 0.7359 - loss: 0.4174"
     ]
    },
    {
     "name": "stderr",
     "output_type": "stream",
     "text": [
      "2024-08-08 12:44:39.708187: W tensorflow/core/framework/local_rendezvous.cc:404] Local rendezvous is aborting with status: OUT_OF_RANGE: End of sequence\n",
      "2024-08-08 12:44:58.963451: W tensorflow/core/framework/local_rendezvous.cc:404] Local rendezvous is aborting with status: OUT_OF_RANGE: End of sequence\n"
     ]
    },
    {
     "name": "stdout",
     "output_type": "stream",
     "text": [
      "{'precision': <tf.Tensor: shape=(), dtype=float32, numpy=0.4625798>, 'recall': <tf.Tensor: shape=(), dtype=float32, numpy=0.4640023>, 'f1_score': <tf.Tensor: shape=(), dtype=float32, numpy=0.43449712>}\n",
      "{'precision': <tf.Tensor: shape=(), dtype=float32, numpy=0.19952413>, 'recall': <tf.Tensor: shape=(), dtype=float32, numpy=0.20406602>, 'f1_score': <tf.Tensor: shape=(), dtype=float32, numpy=0.1880567>}\n",
      "{'precision': <tf.Tensor: shape=(), dtype=float32, numpy=0.36846685>, 'recall': <tf.Tensor: shape=(), dtype=float32, numpy=0.3707542>, 'f1_score': <tf.Tensor: shape=(), dtype=float32, numpy=0.34650946>}\n",
      "\u001b[1m1842/1842\u001b[0m \u001b[32m━━━━━━━━━━━━━━━━━━━━\u001b[0m\u001b[37m\u001b[0m \u001b[1m165s\u001b[0m 88ms/step - accuracy: 0.7359 - loss: 0.4174 - val_accuracy: 0.5778 - val_loss: 0.8532\n",
      "Epoch 12/20\n",
      "\u001b[1m1841/1842\u001b[0m \u001b[32m━━━━━━━━━━━━━━━━━━━\u001b[0m\u001b[37m━\u001b[0m \u001b[1m0s\u001b[0m 57ms/step - accuracy: 0.7500 - loss: 0.3904"
     ]
    },
    {
     "name": "stderr",
     "output_type": "stream",
     "text": [
      "2024-08-08 12:47:25.207668: W tensorflow/core/framework/local_rendezvous.cc:404] Local rendezvous is aborting with status: OUT_OF_RANGE: End of sequence\n",
      "2024-08-08 12:47:49.638330: W tensorflow/core/framework/local_rendezvous.cc:404] Local rendezvous is aborting with status: OUT_OF_RANGE: End of sequence\n"
     ]
    },
    {
     "name": "stdout",
     "output_type": "stream",
     "text": [
      "{'precision': <tf.Tensor: shape=(), dtype=float32, numpy=0.445185>, 'recall': <tf.Tensor: shape=(), dtype=float32, numpy=0.47588974>, 'f1_score': <tf.Tensor: shape=(), dtype=float32, numpy=0.43204352>}\n",
      "{'precision': <tf.Tensor: shape=(), dtype=float32, numpy=0.19069466>, 'recall': <tf.Tensor: shape=(), dtype=float32, numpy=0.20529655>, 'f1_score': <tf.Tensor: shape=(), dtype=float32, numpy=0.18467118>}\n",
      "{'precision': <tf.Tensor: shape=(), dtype=float32, numpy=0.35397208>, 'recall': <tf.Tensor: shape=(), dtype=float32, numpy=0.38028085>, 'f1_score': <tf.Tensor: shape=(), dtype=float32, numpy=0.34409878>}\n",
      "\u001b[1m1842/1842\u001b[0m \u001b[32m━━━━━━━━━━━━━━━━━━━━\u001b[0m\u001b[37m\u001b[0m \u001b[1m170s\u001b[0m 91ms/step - accuracy: 0.7500 - loss: 0.3904 - val_accuracy: 0.5782 - val_loss: 0.8690\n",
      "Epoch 13/20\n",
      "\u001b[1m1841/1842\u001b[0m \u001b[32m━━━━━━━━━━━━━━━━━━━\u001b[0m\u001b[37m━\u001b[0m \u001b[1m0s\u001b[0m 58ms/step - accuracy: 0.7642 - loss: 0.3623"
     ]
    },
    {
     "name": "stderr",
     "output_type": "stream",
     "text": [
      "2024-08-08 12:50:19.221565: W tensorflow/core/framework/local_rendezvous.cc:404] Local rendezvous is aborting with status: OUT_OF_RANGE: End of sequence\n",
      "2024-08-08 12:50:39.340021: W tensorflow/core/framework/local_rendezvous.cc:404] Local rendezvous is aborting with status: OUT_OF_RANGE: End of sequence\n"
     ]
    },
    {
     "name": "stdout",
     "output_type": "stream",
     "text": [
      "{'precision': <tf.Tensor: shape=(), dtype=float32, numpy=0.4554261>, 'recall': <tf.Tensor: shape=(), dtype=float32, numpy=0.4769111>, 'f1_score': <tf.Tensor: shape=(), dtype=float32, numpy=0.4366996>}\n",
      "{'precision': <tf.Tensor: shape=(), dtype=float32, numpy=0.20339556>, 'recall': <tf.Tensor: shape=(), dtype=float32, numpy=0.20844987>, 'f1_score': <tf.Tensor: shape=(), dtype=float32, numpy=0.19195127>}\n",
      "{'precision': <tf.Tensor: shape=(), dtype=float32, numpy=0.36284706>, 'recall': <tf.Tensor: shape=(), dtype=float32, numpy=0.37872252>, 'f1_score': <tf.Tensor: shape=(), dtype=float32, numpy=0.3471967>}\n",
      "\u001b[1m1842/1842\u001b[0m \u001b[32m━━━━━━━━━━━━━━━━━━━━\u001b[0m\u001b[37m\u001b[0m \u001b[1m170s\u001b[0m 90ms/step - accuracy: 0.7642 - loss: 0.3623 - val_accuracy: 0.5763 - val_loss: 0.8851\n",
      "Epoch 14/20\n",
      "\u001b[1m1841/1842\u001b[0m \u001b[32m━━━━━━━━━━━━━━━━━━━\u001b[0m\u001b[37m━\u001b[0m \u001b[1m0s\u001b[0m 58ms/step - accuracy: 0.7787 - loss: 0.3380"
     ]
    },
    {
     "name": "stderr",
     "output_type": "stream",
     "text": [
      "2024-08-08 12:53:07.753235: W tensorflow/core/framework/local_rendezvous.cc:404] Local rendezvous is aborting with status: OUT_OF_RANGE: End of sequence\n",
      "2024-08-08 12:53:28.015214: W tensorflow/core/framework/local_rendezvous.cc:404] Local rendezvous is aborting with status: OUT_OF_RANGE: End of sequence\n"
     ]
    },
    {
     "name": "stdout",
     "output_type": "stream",
     "text": [
      "{'precision': <tf.Tensor: shape=(), dtype=float32, numpy=0.44268945>, 'recall': <tf.Tensor: shape=(), dtype=float32, numpy=0.4816617>, 'f1_score': <tf.Tensor: shape=(), dtype=float32, numpy=0.43416247>}\n",
      "{'precision': <tf.Tensor: shape=(), dtype=float32, numpy=0.18789642>, 'recall': <tf.Tensor: shape=(), dtype=float32, numpy=0.21009396>, 'f1_score': <tf.Tensor: shape=(), dtype=float32, numpy=0.1847103>}\n",
      "{'precision': <tf.Tensor: shape=(), dtype=float32, numpy=0.35146692>, 'recall': <tf.Tensor: shape=(), dtype=float32, numpy=0.3845877>, 'f1_score': <tf.Tensor: shape=(), dtype=float32, numpy=0.3449271>}\n",
      "\u001b[1m1842/1842\u001b[0m \u001b[32m━━━━━━━━━━━━━━━━━━━━\u001b[0m\u001b[37m\u001b[0m \u001b[1m168s\u001b[0m 90ms/step - accuracy: 0.7787 - loss: 0.3380 - val_accuracy: 0.5736 - val_loss: 0.9051\n",
      "Epoch 15/20\n",
      "\u001b[1m1842/1842\u001b[0m \u001b[32m━━━━━━━━━━━━━━━━━━━━\u001b[0m\u001b[37m\u001b[0m \u001b[1m0s\u001b[0m 58ms/step - accuracy: 0.7918 - loss: 0.3144"
     ]
    },
    {
     "name": "stderr",
     "output_type": "stream",
     "text": [
      "2024-08-08 12:55:58.853490: W tensorflow/core/framework/local_rendezvous.cc:404] Local rendezvous is aborting with status: OUT_OF_RANGE: End of sequence\n",
      "2024-08-08 12:56:18.653929: W tensorflow/core/framework/local_rendezvous.cc:404] Local rendezvous is aborting with status: OUT_OF_RANGE: End of sequence\n"
     ]
    },
    {
     "name": "stdout",
     "output_type": "stream",
     "text": [
      "{'precision': <tf.Tensor: shape=(), dtype=float32, numpy=0.45566198>, 'recall': <tf.Tensor: shape=(), dtype=float32, numpy=0.46894184>, 'f1_score': <tf.Tensor: shape=(), dtype=float32, numpy=0.43380588>}\n",
      "{'precision': <tf.Tensor: shape=(), dtype=float32, numpy=0.19321261>, 'recall': <tf.Tensor: shape=(), dtype=float32, numpy=0.20025827>, 'f1_score': <tf.Tensor: shape=(), dtype=float32, numpy=0.18330723>}\n",
      "{'precision': <tf.Tensor: shape=(), dtype=float32, numpy=0.36127478>, 'recall': <tf.Tensor: shape=(), dtype=float32, numpy=0.37358657>, 'f1_score': <tf.Tensor: shape=(), dtype=float32, numpy=0.3444666>}\n",
      "\u001b[1m1842/1842\u001b[0m \u001b[32m━━━━━━━━━━━━━━━━━━━━\u001b[0m\u001b[37m\u001b[0m \u001b[1m171s\u001b[0m 92ms/step - accuracy: 0.7918 - loss: 0.3144 - val_accuracy: 0.5723 - val_loss: 0.9232\n",
      "Epoch 16/20\n",
      "\u001b[1m1841/1842\u001b[0m \u001b[32m━━━━━━━━━━━━━━━━━━━\u001b[0m\u001b[37m━\u001b[0m \u001b[1m0s\u001b[0m 57ms/step - accuracy: 0.8040 - loss: 0.2916"
     ]
    },
    {
     "name": "stderr",
     "output_type": "stream",
     "text": [
      "2024-08-08 12:58:46.785680: W tensorflow/core/framework/local_rendezvous.cc:404] Local rendezvous is aborting with status: OUT_OF_RANGE: End of sequence\n",
      "2024-08-08 12:59:06.610734: W tensorflow/core/framework/local_rendezvous.cc:404] Local rendezvous is aborting with status: OUT_OF_RANGE: End of sequence\n"
     ]
    },
    {
     "name": "stdout",
     "output_type": "stream",
     "text": [
      "{'precision': <tf.Tensor: shape=(), dtype=float32, numpy=0.4466142>, 'recall': <tf.Tensor: shape=(), dtype=float32, numpy=0.47797093>, 'f1_score': <tf.Tensor: shape=(), dtype=float32, numpy=0.43518898>}\n",
      "{'precision': <tf.Tensor: shape=(), dtype=float32, numpy=0.19319369>, 'recall': <tf.Tensor: shape=(), dtype=float32, numpy=0.20719755>, 'f1_score': <tf.Tensor: shape=(), dtype=float32, numpy=0.18696712>}\n",
      "{'precision': <tf.Tensor: shape=(), dtype=float32, numpy=0.35444468>, 'recall': <tf.Tensor: shape=(), dtype=float32, numpy=0.38301113>, 'f1_score': <tf.Tensor: shape=(), dtype=float32, numpy=0.34635183>}\n",
      "\u001b[1m1842/1842\u001b[0m \u001b[32m━━━━━━━━━━━━━━━━━━━━\u001b[0m\u001b[37m\u001b[0m \u001b[1m169s\u001b[0m 90ms/step - accuracy: 0.8041 - loss: 0.2916 - val_accuracy: 0.5704 - val_loss: 0.9420\n",
      "Epoch 17/20\n",
      "\u001b[1m1841/1842\u001b[0m \u001b[32m━━━━━━━━━━━━━━━━━━━\u001b[0m\u001b[37m━\u001b[0m \u001b[1m0s\u001b[0m 57ms/step - accuracy: 0.8177 - loss: 0.2701"
     ]
    },
    {
     "name": "stderr",
     "output_type": "stream",
     "text": [
      "2024-08-08 13:01:33.674816: W tensorflow/core/framework/local_rendezvous.cc:404] Local rendezvous is aborting with status: OUT_OF_RANGE: End of sequence\n",
      "2024-08-08 13:01:56.513531: W tensorflow/core/framework/local_rendezvous.cc:404] Local rendezvous is aborting with status: OUT_OF_RANGE: End of sequence\n"
     ]
    },
    {
     "name": "stdout",
     "output_type": "stream",
     "text": [
      "{'precision': <tf.Tensor: shape=(), dtype=float32, numpy=0.4628625>, 'recall': <tf.Tensor: shape=(), dtype=float32, numpy=0.47960597>, 'f1_score': <tf.Tensor: shape=(), dtype=float32, numpy=0.44502944>}\n",
      "{'precision': <tf.Tensor: shape=(), dtype=float32, numpy=0.2083205>, 'recall': <tf.Tensor: shape=(), dtype=float32, numpy=0.21782245>, 'f1_score': <tf.Tensor: shape=(), dtype=float32, numpy=0.20006889>}\n",
      "{'precision': <tf.Tensor: shape=(), dtype=float32, numpy=0.37220275>, 'recall': <tf.Tensor: shape=(), dtype=float32, numpy=0.38710007>, 'f1_score': <tf.Tensor: shape=(), dtype=float32, numpy=0.35808626>}\n",
      "\u001b[1m1842/1842\u001b[0m \u001b[32m━━━━━━━━━━━━━━━━━━━━\u001b[0m\u001b[37m\u001b[0m \u001b[1m170s\u001b[0m 91ms/step - accuracy: 0.8177 - loss: 0.2701 - val_accuracy: 0.5716 - val_loss: 0.9673\n",
      "Epoch 18/20\n",
      "\u001b[1m1841/1842\u001b[0m \u001b[32m━━━━━━━━━━━━━━━━━━━\u001b[0m\u001b[37m━\u001b[0m \u001b[1m0s\u001b[0m 59ms/step - accuracy: 0.8289 - loss: 0.2514"
     ]
    },
    {
     "name": "stderr",
     "output_type": "stream",
     "text": [
      "2024-08-08 13:04:29.562369: W tensorflow/core/framework/local_rendezvous.cc:404] Local rendezvous is aborting with status: OUT_OF_RANGE: End of sequence\n",
      "2024-08-08 13:04:49.683034: W tensorflow/core/framework/local_rendezvous.cc:404] Local rendezvous is aborting with status: OUT_OF_RANGE: End of sequence\n"
     ]
    },
    {
     "name": "stdout",
     "output_type": "stream",
     "text": [
      "{'precision': <tf.Tensor: shape=(), dtype=float32, numpy=0.4699229>, 'recall': <tf.Tensor: shape=(), dtype=float32, numpy=0.46547097>, 'f1_score': <tf.Tensor: shape=(), dtype=float32, numpy=0.44012526>}\n",
      "{'precision': <tf.Tensor: shape=(), dtype=float32, numpy=0.20766212>, 'recall': <tf.Tensor: shape=(), dtype=float32, numpy=0.20731643>, 'f1_score': <tf.Tensor: shape=(), dtype=float32, numpy=0.19411427>}\n",
      "{'precision': <tf.Tensor: shape=(), dtype=float32, numpy=0.3766949>, 'recall': <tf.Tensor: shape=(), dtype=float32, numpy=0.37423638>, 'f1_score': <tf.Tensor: shape=(), dtype=float32, numpy=0.35285434>}\n",
      "\u001b[1m1842/1842\u001b[0m \u001b[32m━━━━━━━━━━━━━━━━━━━━\u001b[0m\u001b[37m\u001b[0m \u001b[1m173s\u001b[0m 91ms/step - accuracy: 0.8289 - loss: 0.2513 - val_accuracy: 0.5725 - val_loss: 0.9787\n",
      "Epoch 19/20\n",
      "\u001b[1m1841/1842\u001b[0m \u001b[32m━━━━━━━━━━━━━━━━━━━\u001b[0m\u001b[37m━\u001b[0m \u001b[1m0s\u001b[0m 57ms/step - accuracy: 0.8427 - loss: 0.2316"
     ]
    },
    {
     "name": "stderr",
     "output_type": "stream",
     "text": [
      "2024-08-08 13:07:16.546055: W tensorflow/core/framework/local_rendezvous.cc:404] Local rendezvous is aborting with status: OUT_OF_RANGE: End of sequence\n",
      "2024-08-08 13:07:35.882098: W tensorflow/core/framework/local_rendezvous.cc:404] Local rendezvous is aborting with status: OUT_OF_RANGE: End of sequence\n"
     ]
    },
    {
     "name": "stdout",
     "output_type": "stream",
     "text": [
      "{'precision': <tf.Tensor: shape=(), dtype=float32, numpy=0.4547822>, 'recall': <tf.Tensor: shape=(), dtype=float32, numpy=0.47903845>, 'f1_score': <tf.Tensor: shape=(), dtype=float32, numpy=0.43893012>}\n",
      "{'precision': <tf.Tensor: shape=(), dtype=float32, numpy=0.19997206>, 'recall': <tf.Tensor: shape=(), dtype=float32, numpy=0.20973153>, 'f1_score': <tf.Tensor: shape=(), dtype=float32, numpy=0.19113676>}\n",
      "{'precision': <tf.Tensor: shape=(), dtype=float32, numpy=0.3667217>, 'recall': <tf.Tensor: shape=(), dtype=float32, numpy=0.38718155>, 'f1_score': <tf.Tensor: shape=(), dtype=float32, numpy=0.35389712>}\n",
      "\u001b[1m1842/1842\u001b[0m \u001b[32m━━━━━━━━━━━━━━━━━━━━\u001b[0m\u001b[37m\u001b[0m \u001b[1m166s\u001b[0m 89ms/step - accuracy: 0.8427 - loss: 0.2316 - val_accuracy: 0.5655 - val_loss: 1.0079\n",
      "Epoch 20/20\n",
      "\u001b[1m1841/1842\u001b[0m \u001b[32m━━━━━━━━━━━━━━━━━━━\u001b[0m\u001b[37m━\u001b[0m \u001b[1m0s\u001b[0m 57ms/step - accuracy: 0.8533 - loss: 0.2144"
     ]
    },
    {
     "name": "stderr",
     "output_type": "stream",
     "text": [
      "2024-08-08 13:10:07.348420: W tensorflow/core/framework/local_rendezvous.cc:404] Local rendezvous is aborting with status: OUT_OF_RANGE: End of sequence\n",
      "2024-08-08 13:10:28.237716: W tensorflow/core/framework/local_rendezvous.cc:404] Local rendezvous is aborting with status: OUT_OF_RANGE: End of sequence\n"
     ]
    },
    {
     "name": "stdout",
     "output_type": "stream",
     "text": [
      "{'precision': <tf.Tensor: shape=(), dtype=float32, numpy=0.44999364>, 'recall': <tf.Tensor: shape=(), dtype=float32, numpy=0.49020594>, 'f1_score': <tf.Tensor: shape=(), dtype=float32, numpy=0.44193378>}\n",
      "{'precision': <tf.Tensor: shape=(), dtype=float32, numpy=0.19643669>, 'recall': <tf.Tensor: shape=(), dtype=float32, numpy=0.21219717>, 'f1_score': <tf.Tensor: shape=(), dtype=float32, numpy=0.19138086>}\n",
      "{'precision': <tf.Tensor: shape=(), dtype=float32, numpy=0.3545128>, 'recall': <tf.Tensor: shape=(), dtype=float32, numpy=0.38791668>, 'f1_score': <tf.Tensor: shape=(), dtype=float32, numpy=0.34861916>}\n",
      "\u001b[1m1842/1842\u001b[0m \u001b[32m━━━━━━━━━━━━━━━━━━━━\u001b[0m\u001b[37m\u001b[0m \u001b[1m172s\u001b[0m 92ms/step - accuracy: 0.8533 - loss: 0.2144 - val_accuracy: 0.5660 - val_loss: 1.0323\n",
      "0.7534095644950867 The best number of epocs for the validation loss is 3\n",
      "0.5901456475257874 The best number of epocs for the validation accuracy is 5\n"
     ]
    },
    {
     "data": {
      "image/png": "[encoded data removed]",
      "text/plain": [
       "<Figure size 640x480 with 2 Axes>"
      ]
     },
     "metadata": {},
     "output_type": "display_data"
    },
    {
     "data": {
      "text/html": [
       "<pre style=\"white-space:pre;overflow-x:auto;line-height:normal;font-family:Menlo,'DejaVu Sans Mono',consolas,'Courier New',monospace\"><span style=\"font-weight: bold\">Preprocessor: \"bart_seq2_seq_lm_preprocessor_1\"</span>\n",
       "</pre>\n"
      ],
      "text/plain": [
       "\u001b[1mPreprocessor: \"bart_seq2_seq_lm_preprocessor_1\"\u001b[0m\n"
      ]
     },
     "metadata": {},
     "output_type": "display_data"
    },
    {
     "data": {
      "text/html": [
       "<pre style=\"white-space:pre;overflow-x:auto;line-height:normal;font-family:Menlo,'DejaVu Sans Mono',consolas,'Courier New',monospace\">┏━━━━━━━━━━━━━━━━━━━━━━━━━━━━━━━━━━━━━━━━━━━━━━━━━━━━┳━━━━━━━━━━━━━━━━━━━━━━━━━━━━━━━━━━━━━━━━━━━━━━━━━━━━━┓\n",
       "┃<span style=\"font-weight: bold\"> Tokenizer (type)                                   </span>┃<span style=\"font-weight: bold\">                                             Vocab # </span>┃\n",
       "┡━━━━━━━━━━━━━━━━━━━━━━━━━━━━━━━━━━━━━━━━━━━━━━━━━━━━╇━━━━━━━━━━━━━━━━━━━━━━━━━━━━━━━━━━━━━━━━━━━━━━━━━━━━━┩\n",
       "│ bart_tokenizer (<span style=\"color: #0087ff; text-decoration-color: #0087ff\">BartTokenizer</span>)                     │                                              <span style=\"color: #00af00; text-decoration-color: #00af00\">50,265</span> │\n",
       "└────────────────────────────────────────────────────┴─────────────────────────────────────────────────────┘\n",
       "</pre>\n"
      ],
      "text/plain": [
       "┏━━━━━━━━━━━━━━━━━━━━━━━━━━━━━━━━━━━━━━━━━━━━━━━━━━━━┳━━━━━━━━━━━━━━━━━━━━━━━━━━━━━━━━━━━━━━━━━━━━━━━━━━━━━┓\n",
       "┃\u001b[1m \u001b[0m\u001b[1mTokenizer (type)                                  \u001b[0m\u001b[1m \u001b[0m┃\u001b[1m \u001b[0m\u001b[1m                                            Vocab #\u001b[0m\u001b[1m \u001b[0m┃\n",
       "┡━━━━━━━━━━━━━━━━━━━━━━━━━━━━━━━━━━━━━━━━━━━━━━━━━━━━╇━━━━━━━━━━━━━━━━━━━━━━━━━━━━━━━━━━━━━━━━━━━━━━━━━━━━━┩\n",
       "│ bart_tokenizer (\u001b[38;5;33mBartTokenizer\u001b[0m)                     │                                              \u001b[38;5;34m50,265\u001b[0m │\n",
       "└────────────────────────────────────────────────────┴─────────────────────────────────────────────────────┘\n"
      ]
     },
     "metadata": {},
     "output_type": "display_data"
    },
    {
     "data": {
      "text/html": [
       "<pre style=\"white-space:pre;overflow-x:auto;line-height:normal;font-family:Menlo,'DejaVu Sans Mono',consolas,'Courier New',monospace\"><span style=\"font-weight: bold\">Model: \"bart_seq2_seq_lm_1\"</span>\n",
       "</pre>\n"
      ],
      "text/plain": [
       "\u001b[1mModel: \"bart_seq2_seq_lm_1\"\u001b[0m\n"
      ]
     },
     "metadata": {},
     "output_type": "display_data"
    },
    {
     "data": {
      "text/html": [
       "<pre style=\"white-space:pre;overflow-x:auto;line-height:normal;font-family:Menlo,'DejaVu Sans Mono',consolas,'Courier New',monospace\">┏━━━━━━━━━━━━━━━━━━━━━━━━━━━━━━━┳━━━━━━━━━━━━━━━━━━━━━━━━━━━┳━━━━━━━━━━━━━━━━━┳━━━━━━━━━━━━━━━━━━━━━━━━━━━━┓\n",
       "┃<span style=\"font-weight: bold\"> Layer (type)                  </span>┃<span style=\"font-weight: bold\"> Output Shape              </span>┃<span style=\"font-weight: bold\">         Param # </span>┃<span style=\"font-weight: bold\"> Connected to               </span>┃\n",
       "┡━━━━━━━━━━━━━━━━━━━━━━━━━━━━━━━╇━━━━━━━━━━━━━━━━━━━━━━━━━━━╇━━━━━━━━━━━━━━━━━╇━━━━━━━━━━━━━━━━━━━━━━━━━━━━┩\n",
       "│ decoder_padding_mask          │ (<span style=\"color: #00d7ff; text-decoration-color: #00d7ff\">None</span>, <span style=\"color: #00d7ff; text-decoration-color: #00d7ff\">None</span>)              │               <span style=\"color: #00af00; text-decoration-color: #00af00\">0</span> │ -                          │\n",
       "│ (<span style=\"color: #0087ff; text-decoration-color: #0087ff\">InputLayer</span>)                  │                           │                 │                            │\n",
       "├───────────────────────────────┼───────────────────────────┼─────────────────┼────────────────────────────┤\n",
       "│ decoder_token_ids             │ (<span style=\"color: #00d7ff; text-decoration-color: #00d7ff\">None</span>, <span style=\"color: #00d7ff; text-decoration-color: #00d7ff\">None</span>)              │               <span style=\"color: #00af00; text-decoration-color: #00af00\">0</span> │ -                          │\n",
       "│ (<span style=\"color: #0087ff; text-decoration-color: #0087ff\">InputLayer</span>)                  │                           │                 │                            │\n",
       "├───────────────────────────────┼───────────────────────────┼─────────────────┼────────────────────────────┤\n",
       "│ encoder_padding_mask          │ (<span style=\"color: #00d7ff; text-decoration-color: #00d7ff\">None</span>, <span style=\"color: #00d7ff; text-decoration-color: #00d7ff\">None</span>)              │               <span style=\"color: #00af00; text-decoration-color: #00af00\">0</span> │ -                          │\n",
       "│ (<span style=\"color: #0087ff; text-decoration-color: #0087ff\">InputLayer</span>)                  │                           │                 │                            │\n",
       "├───────────────────────────────┼───────────────────────────┼─────────────────┼────────────────────────────┤\n",
       "│ encoder_token_ids             │ (<span style=\"color: #00d7ff; text-decoration-color: #00d7ff\">None</span>, <span style=\"color: #00d7ff; text-decoration-color: #00d7ff\">None</span>)              │               <span style=\"color: #00af00; text-decoration-color: #00af00\">0</span> │ -                          │\n",
       "│ (<span style=\"color: #0087ff; text-decoration-color: #0087ff\">InputLayer</span>)                  │                           │                 │                            │\n",
       "├───────────────────────────────┼───────────────────────────┼─────────────────┼────────────────────────────┤\n",
       "│ bart_backbone (<span style=\"color: #0087ff; text-decoration-color: #0087ff\">BartBackbone</span>)  │ [(<span style=\"color: #00d7ff; text-decoration-color: #00d7ff\">None</span>, <span style=\"color: #00d7ff; text-decoration-color: #00d7ff\">None</span>, <span style=\"color: #00af00; text-decoration-color: #00af00\">768</span>),       │     <span style=\"color: #00af00; text-decoration-color: #00af00\">139,417,344</span> │ decoder_padding_mask[<span style=\"color: #00af00; text-decoration-color: #00af00\">0</span>][<span style=\"color: #00af00; text-decoration-color: #00af00\">0</span>… │\n",
       "│                               │ (<span style=\"color: #00d7ff; text-decoration-color: #00d7ff\">None</span>, <span style=\"color: #00d7ff; text-decoration-color: #00d7ff\">None</span>, <span style=\"color: #00af00; text-decoration-color: #00af00\">768</span>)]        │                 │ decoder_token_ids[<span style=\"color: #00af00; text-decoration-color: #00af00\">0</span>][<span style=\"color: #00af00; text-decoration-color: #00af00\">0</span>],   │\n",
       "│                               │                           │                 │ encoder_padding_mask[<span style=\"color: #00af00; text-decoration-color: #00af00\">0</span>][<span style=\"color: #00af00; text-decoration-color: #00af00\">0</span>… │\n",
       "│                               │                           │                 │ encoder_token_ids[<span style=\"color: #00af00; text-decoration-color: #00af00\">0</span>][<span style=\"color: #00af00; text-decoration-color: #00af00\">0</span>]    │\n",
       "├───────────────────────────────┼───────────────────────────┼─────────────────┼────────────────────────────┤\n",
       "│ token_embedding               │ (<span style=\"color: #00d7ff; text-decoration-color: #00d7ff\">None</span>, <span style=\"color: #00d7ff; text-decoration-color: #00d7ff\">None</span>, <span style=\"color: #00af00; text-decoration-color: #00af00\">50265</span>)       │      <span style=\"color: #00af00; text-decoration-color: #00af00\">38,603,520</span> │ bart_backbone[<span style=\"color: #00af00; text-decoration-color: #00af00\">0</span>][<span style=\"color: #00af00; text-decoration-color: #00af00\">0</span>]        │\n",
       "│ (<span style=\"color: #0087ff; text-decoration-color: #0087ff\">ReversibleEmbedding</span>)         │                           │                 │                            │\n",
       "└───────────────────────────────┴───────────────────────────┴─────────────────┴────────────────────────────┘\n",
       "</pre>\n"
      ],
      "text/plain": [
       "┏━━━━━━━━━━━━━━━━━━━━━━━━━━━━━━━┳━━━━━━━━━━━━━━━━━━━━━━━━━━━┳━━━━━━━━━━━━━━━━━┳━━━━━━━━━━━━━━━━━━━━━━━━━━━━┓\n",
       "┃\u001b[1m \u001b[0m\u001b[1mLayer (type)                 \u001b[0m\u001b[1m \u001b[0m┃\u001b[1m \u001b[0m\u001b[1mOutput Shape             \u001b[0m\u001b[1m \u001b[0m┃\u001b[1m \u001b[0m\u001b[1m        Param #\u001b[0m\u001b[1m \u001b[0m┃\u001b[1m \u001b[0m\u001b[1mConnected to              \u001b[0m\u001b[1m \u001b[0m┃\n",
       "┡━━━━━━━━━━━━━━━━━━━━━━━━━━━━━━━╇━━━━━━━━━━━━━━━━━━━━━━━━━━━╇━━━━━━━━━━━━━━━━━╇━━━━━━━━━━━━━━━━━━━━━━━━━━━━┩\n",
       "│ decoder_padding_mask          │ (\u001b[38;5;45mNone\u001b[0m, \u001b[38;5;45mNone\u001b[0m)              │               \u001b[38;5;34m0\u001b[0m │ -                          │\n",
       "│ (\u001b[38;5;33mInputLayer\u001b[0m)                  │                           │                 │                            │\n",
       "├───────────────────────────────┼───────────────────────────┼─────────────────┼────────────────────────────┤\n",
       "│ decoder_token_ids             │ (\u001b[38;5;45mNone\u001b[0m, \u001b[38;5;45mNone\u001b[0m)              │               \u001b[38;5;34m0\u001b[0m │ -                          │\n",
       "│ (\u001b[38;5;33mInputLayer\u001b[0m)                  │                           │                 │                            │\n",
       "├───────────────────────────────┼───────────────────────────┼─────────────────┼────────────────────────────┤\n",
       "│ encoder_padding_mask          │ (\u001b[38;5;45mNone\u001b[0m, \u001b[38;5;45mNone\u001b[0m)              │               \u001b[38;5;34m0\u001b[0m │ -                          │\n",
       "│ (\u001b[38;5;33mInputLayer\u001b[0m)                  │                           │                 │                            │\n",
       "├───────────────────────────────┼───────────────────────────┼─────────────────┼────────────────────────────┤\n",
       "│ encoder_token_ids             │ (\u001b[38;5;45mNone\u001b[0m, \u001b[38;5;45mNone\u001b[0m)              │               \u001b[38;5;34m0\u001b[0m │ -                          │\n",
       "│ (\u001b[38;5;33mInputLayer\u001b[0m)                  │                           │                 │                            │\n",
       "├───────────────────────────────┼───────────────────────────┼─────────────────┼────────────────────────────┤\n",
       "│ bart_backbone (\u001b[38;5;33mBartBackbone\u001b[0m)  │ [(\u001b[38;5;45mNone\u001b[0m, \u001b[38;5;45mNone\u001b[0m, \u001b[38;5;34m768\u001b[0m),       │     \u001b[38;5;34m139,417,344\u001b[0m │ decoder_padding_mask[\u001b[38;5;34m0\u001b[0m][\u001b[38;5;34m0\u001b[0m… │\n",
       "│                               │ (\u001b[38;5;45mNone\u001b[0m, \u001b[38;5;45mNone\u001b[0m, \u001b[38;5;34m768\u001b[0m)]        │                 │ decoder_token_ids[\u001b[38;5;34m0\u001b[0m][\u001b[38;5;34m0\u001b[0m],   │\n",
       "│                               │                           │                 │ encoder_padding_mask[\u001b[38;5;34m0\u001b[0m][\u001b[38;5;34m0\u001b[0m… │\n",
       "│                               │                           │                 │ encoder_token_ids[\u001b[38;5;34m0\u001b[0m][\u001b[38;5;34m0\u001b[0m]    │\n",
       "├───────────────────────────────┼───────────────────────────┼─────────────────┼────────────────────────────┤\n",
       "│ token_embedding               │ (\u001b[38;5;45mNone\u001b[0m, \u001b[38;5;45mNone\u001b[0m, \u001b[38;5;34m50265\u001b[0m)       │      \u001b[38;5;34m38,603,520\u001b[0m │ bart_backbone[\u001b[38;5;34m0\u001b[0m][\u001b[38;5;34m0\u001b[0m]        │\n",
       "│ (\u001b[38;5;33mReversibleEmbedding\u001b[0m)         │                           │                 │                            │\n",
       "└───────────────────────────────┴───────────────────────────┴─────────────────┴────────────────────────────┘\n"
      ]
     },
     "metadata": {},
     "output_type": "display_data"
    },
    {
     "data": {
      "text/html": [
       "<pre style=\"white-space:pre;overflow-x:auto;line-height:normal;font-family:Menlo,'DejaVu Sans Mono',consolas,'Courier New',monospace\"><span style=\"font-weight: bold\"> Total params: </span><span style=\"color: #00af00; text-decoration-color: #00af00\">139,417,344</span> (531.83 MB)\n",
       "</pre>\n"
      ],
      "text/plain": [
       "\u001b[1m Total params: \u001b[0m\u001b[38;5;34m139,417,344\u001b[0m (531.83 MB)\n"
      ]
     },
     "metadata": {},
     "output_type": "display_data"
    },
    {
     "data": {
      "text/html": [
       "<pre style=\"white-space:pre;overflow-x:auto;line-height:normal;font-family:Menlo,'DejaVu Sans Mono',consolas,'Courier New',monospace\"><span style=\"font-weight: bold\"> Trainable params: </span><span style=\"color: #00af00; text-decoration-color: #00af00\">139,417,344</span> (531.83 MB)\n",
       "</pre>\n"
      ],
      "text/plain": [
       "\u001b[1m Trainable params: \u001b[0m\u001b[38;5;34m139,417,344\u001b[0m (531.83 MB)\n"
      ]
     },
     "metadata": {},
     "output_type": "display_data"
    },
    {
     "data": {
      "text/html": [
       "<pre style=\"white-space:pre;overflow-x:auto;line-height:normal;font-family:Menlo,'DejaVu Sans Mono',consolas,'Courier New',monospace\"><span style=\"font-weight: bold\"> Non-trainable params: </span><span style=\"color: #00af00; text-decoration-color: #00af00\">0</span> (0.00 B)\n",
       "</pre>\n"
      ],
      "text/plain": [
       "\u001b[1m Non-trainable params: \u001b[0m\u001b[38;5;34m0\u001b[0m (0.00 B)\n"
      ]
     },
     "metadata": {},
     "output_type": "display_data"
    },
    {
     "name": "stdout",
     "output_type": "stream",
     "text": [
      "Epoch 1/20\n"
     ]
    },
    {
     "name": "stderr",
     "output_type": "stream",
     "text": [
      "W0000 00:00:1723122732.726651   16856 assert_op.cc:38] Ignoring Assert operator compile_loss/sparse_categorical_crossentropy/SparseSoftmaxCrossEntropyWithLogits/assert_equal_1/Assert/Assert\n"
     ]
    },
    {
     "name": "stdout",
     "output_type": "stream",
     "text": [
      "\u001b[1m1841/1842\u001b[0m \u001b[32m━━━━━━━━━━━━━━━━━━━\u001b[0m\u001b[37m━\u001b[0m \u001b[1m0s\u001b[0m 56ms/step - accuracy: 0.5255 - loss: 0.9377"
     ]
    },
    {
     "name": "stderr",
     "output_type": "stream",
     "text": [
      "W0000 00:00:1723123046.470644   16856 assert_op.cc:38] Ignoring Assert operator compile_loss/sparse_categorical_crossentropy/SparseSoftmaxCrossEntropyWithLogits/assert_equal_1/Assert/Assert\n"
     ]
    },
    {
     "name": "stdout",
     "output_type": "stream",
     "text": [
      "\b\b\b\b\b\b\b\b\b\b\b\b\b\b\b\b\b\b\b\b\b\b\b\b\b\b\b\b\b\b\b\b\b\b\b\b\b\b\b\b\b\b\b\b\b\b\b\b\b\b\b\b\b\b\b\b\b\b\b\b\b\b\b\b\b\b\b\b\b\b\b\b\b\b\b\b\b\r\n",
      "\u001b[1m1842/1842\u001b[0m \u001b[32m━━━━━━━━━━━━━━━━━━━━\u001b[0m\u001b[37m\u001b[0m \u001b[1m0s\u001b[0m 169ms/step - accuracy: 0.5256 - loss: 0.9377"
     ]
    },
    {
     "name": "stderr",
     "output_type": "stream",
     "text": [
      "W0000 00:00:1723123264.349358   16857 assert_op.cc:38] Ignoring Assert operator compile_loss/sparse_categorical_crossentropy/SparseSoftmaxCrossEntropyWithLogits/assert_equal_1/Assert/Assert\n",
      "W0000 00:00:1723123268.974530   16859 assert_op.cc:38] Ignoring Assert operator compile_loss/sparse_categorical_crossentropy/SparseSoftmaxCrossEntropyWithLogits/assert_equal_1/Assert/Assert\n",
      "2024-08-08 13:21:12.812589: W tensorflow/core/framework/local_rendezvous.cc:404] Local rendezvous is aborting with status: OUT_OF_RANGE: End of sequence\n",
      "2024-08-08 13:22:04.710132: W tensorflow/core/framework/local_rendezvous.cc:404] Local rendezvous is aborting with status: OUT_OF_RANGE: End of sequence\n"
     ]
    },
    {
     "name": "stdout",
     "output_type": "stream",
     "text": [
      "{'precision': <tf.Tensor: shape=(), dtype=float32, numpy=0.43222266>, 'recall': <tf.Tensor: shape=(), dtype=float32, numpy=0.42435658>, 'f1_score': <tf.Tensor: shape=(), dtype=float32, numpy=0.39639565>}\n",
      "{'precision': <tf.Tensor: shape=(), dtype=float32, numpy=0.16664067>, 'recall': <tf.Tensor: shape=(), dtype=float32, numpy=0.16634364>, 'f1_score': <tf.Tensor: shape=(), dtype=float32, numpy=0.15274392>}\n",
      "{'precision': <tf.Tensor: shape=(), dtype=float32, numpy=0.33722234>, 'recall': <tf.Tensor: shape=(), dtype=float32, numpy=0.3345518>, 'f1_score': <tf.Tensor: shape=(), dtype=float32, numpy=0.3105506>}\n",
      "\u001b[1m1842/1842\u001b[0m \u001b[32m━━━━━━━━━━━━━━━━━━━━\u001b[0m\u001b[37m\u001b[0m \u001b[1m685s\u001b[0m 225ms/step - accuracy: 0.5256 - loss: 0.9376 - val_accuracy: 0.5759 - val_loss: 0.7814\n",
      "Epoch 2/20\n",
      "\u001b[1m1842/1842\u001b[0m \u001b[32m━━━━━━━━━━━━━━━━━━━━\u001b[0m\u001b[37m\u001b[0m \u001b[1m0s\u001b[0m 54ms/step - accuracy: 0.5696 - loss: 0.8045"
     ]
    },
    {
     "name": "stderr",
     "output_type": "stream",
     "text": [
      "2024-08-08 13:24:26.137466: W tensorflow/core/framework/local_rendezvous.cc:404] Local rendezvous is aborting with status: OUT_OF_RANGE: End of sequence\n",
      "2024-08-08 13:24:46.851606: W tensorflow/core/framework/local_rendezvous.cc:404] Local rendezvous is aborting with status: OUT_OF_RANGE: End of sequence\n"
     ]
    },
    {
     "name": "stdout",
     "output_type": "stream",
     "text": [
      "{'precision': <tf.Tensor: shape=(), dtype=float32, numpy=0.43401274>, 'recall': <tf.Tensor: shape=(), dtype=float32, numpy=0.435518>, 'f1_score': <tf.Tensor: shape=(), dtype=float32, numpy=0.40595815>}\n",
      "{'precision': <tf.Tensor: shape=(), dtype=float32, numpy=0.16717024>, 'recall': <tf.Tensor: shape=(), dtype=float32, numpy=0.17118134>, 'f1_score': <tf.Tensor: shape=(), dtype=float32, numpy=0.1568645>}\n",
      "{'precision': <tf.Tensor: shape=(), dtype=float32, numpy=0.3375277>, 'recall': <tf.Tensor: shape=(), dtype=float32, numpy=0.34060067>, 'f1_score': <tf.Tensor: shape=(), dtype=float32, numpy=0.31597695>}\n",
      "\u001b[1m1842/1842\u001b[0m \u001b[32m━━━━━━━━━━━━━━━━━━━━\u001b[0m\u001b[37m\u001b[0m \u001b[1m163s\u001b[0m 87ms/step - accuracy: 0.5696 - loss: 0.8045 - val_accuracy: 0.5846 - val_loss: 0.7637\n",
      "Epoch 3/20\n",
      "\u001b[1m1841/1842\u001b[0m \u001b[32m━━━━━━━━━━━━━━━━━━━\u001b[0m\u001b[37m━\u001b[0m \u001b[1m0s\u001b[0m 55ms/step - accuracy: 0.5856 - loss: 0.7615"
     ]
    },
    {
     "name": "stderr",
     "output_type": "stream",
     "text": [
      "2024-08-08 13:27:10.897804: W tensorflow/core/framework/local_rendezvous.cc:404] Local rendezvous is aborting with status: OUT_OF_RANGE: End of sequence\n",
      "2024-08-08 13:27:29.574551: W tensorflow/core/framework/local_rendezvous.cc:404] Local rendezvous is aborting with status: OUT_OF_RANGE: End of sequence\n"
     ]
    },
    {
     "name": "stdout",
     "output_type": "stream",
     "text": [
      "{'precision': <tf.Tensor: shape=(), dtype=float32, numpy=0.44260764>, 'recall': <tf.Tensor: shape=(), dtype=float32, numpy=0.45627508>, 'f1_score': <tf.Tensor: shape=(), dtype=float32, numpy=0.41884845>}\n",
      "{'precision': <tf.Tensor: shape=(), dtype=float32, numpy=0.17940056>, 'recall': <tf.Tensor: shape=(), dtype=float32, numpy=0.1878463>, 'f1_score': <tf.Tensor: shape=(), dtype=float32, numpy=0.17026214>}\n",
      "{'precision': <tf.Tensor: shape=(), dtype=float32, numpy=0.3468154>, 'recall': <tf.Tensor: shape=(), dtype=float32, numpy=0.3607731>, 'f1_score': <tf.Tensor: shape=(), dtype=float32, numpy=0.3292834>}\n",
      "\u001b[1m1842/1842\u001b[0m \u001b[32m━━━━━━━━━━━━━━━━━━━━\u001b[0m\u001b[37m\u001b[0m \u001b[1m161s\u001b[0m 86ms/step - accuracy: 0.5856 - loss: 0.7615 - val_accuracy: 0.5874 - val_loss: 0.7568\n",
      "Epoch 4/20\n",
      "\u001b[1m1841/1842\u001b[0m \u001b[32m━━━━━━━━━━━━━━━━━━━\u001b[0m\u001b[37m━\u001b[0m \u001b[1m0s\u001b[0m 54ms/step - accuracy: 0.5967 - loss: 0.7299"
     ]
    },
    {
     "name": "stderr",
     "output_type": "stream",
     "text": [
      "2024-08-08 13:29:49.514997: W tensorflow/core/framework/local_rendezvous.cc:404] Local rendezvous is aborting with status: OUT_OF_RANGE: End of sequence\n",
      "2024-08-08 13:30:08.479564: W tensorflow/core/framework/local_rendezvous.cc:404] Local rendezvous is aborting with status: OUT_OF_RANGE: End of sequence\n"
     ]
    },
    {
     "name": "stdout",
     "output_type": "stream",
     "text": [
      "{'precision': <tf.Tensor: shape=(), dtype=float32, numpy=0.43953255>, 'recall': <tf.Tensor: shape=(), dtype=float32, numpy=0.4595242>, 'f1_score': <tf.Tensor: shape=(), dtype=float32, numpy=0.41718107>}\n",
      "{'precision': <tf.Tensor: shape=(), dtype=float32, numpy=0.17425305>, 'recall': <tf.Tensor: shape=(), dtype=float32, numpy=0.18825543>, 'f1_score': <tf.Tensor: shape=(), dtype=float32, numpy=0.1673446>}\n",
      "{'precision': <tf.Tensor: shape=(), dtype=float32, numpy=0.34748968>, 'recall': <tf.Tensor: shape=(), dtype=float32, numpy=0.363983>, 'f1_score': <tf.Tensor: shape=(), dtype=float32, numpy=0.3299743>}\n",
      "\u001b[1m1842/1842\u001b[0m \u001b[32m━━━━━━━━━━━━━━━━━━━━\u001b[0m\u001b[37m\u001b[0m \u001b[1m159s\u001b[0m 85ms/step - accuracy: 0.5967 - loss: 0.7299 - val_accuracy: 0.5897 - val_loss: 0.7529\n",
      "Epoch 5/20\n",
      "\u001b[1m1841/1842\u001b[0m \u001b[32m━━━━━━━━━━━━━━━━━━━\u001b[0m\u001b[37m━\u001b[0m \u001b[1m0s\u001b[0m 53ms/step - accuracy: 0.6075 - loss: 0.7014"
     ]
    },
    {
     "name": "stderr",
     "output_type": "stream",
     "text": [
      "2024-08-08 13:32:28.900776: W tensorflow/core/framework/local_rendezvous.cc:404] Local rendezvous is aborting with status: OUT_OF_RANGE: End of sequence\n",
      "2024-08-08 13:32:47.911710: W tensorflow/core/framework/local_rendezvous.cc:404] Local rendezvous is aborting with status: OUT_OF_RANGE: End of sequence\n"
     ]
    },
    {
     "name": "stdout",
     "output_type": "stream",
     "text": [
      "{'precision': <tf.Tensor: shape=(), dtype=float32, numpy=0.44070393>, 'recall': <tf.Tensor: shape=(), dtype=float32, numpy=0.4467291>, 'f1_score': <tf.Tensor: shape=(), dtype=float32, numpy=0.41234672>}\n",
      "{'precision': <tf.Tensor: shape=(), dtype=float32, numpy=0.17818703>, 'recall': <tf.Tensor: shape=(), dtype=float32, numpy=0.18478696>, 'f1_score': <tf.Tensor: shape=(), dtype=float32, numpy=0.1668375>}\n",
      "{'precision': <tf.Tensor: shape=(), dtype=float32, numpy=0.34781116>, 'recall': <tf.Tensor: shape=(), dtype=float32, numpy=0.35550237>, 'f1_score': <tf.Tensor: shape=(), dtype=float32, numpy=0.32644644>}\n",
      "\u001b[1m1842/1842\u001b[0m \u001b[32m━━━━━━━━━━━━━━━━━━━━\u001b[0m\u001b[37m\u001b[0m \u001b[1m159s\u001b[0m 85ms/step - accuracy: 0.6075 - loss: 0.7014 - val_accuracy: 0.5911 - val_loss: 0.7516\n",
      "Epoch 6/20\n",
      "\u001b[1m1841/1842\u001b[0m \u001b[32m━━━━━━━━━━━━━━━━━━━\u001b[0m\u001b[37m━\u001b[0m \u001b[1m0s\u001b[0m 54ms/step - accuracy: 0.6189 - loss: 0.6741"
     ]
    },
    {
     "name": "stderr",
     "output_type": "stream",
     "text": [
      "2024-08-08 13:35:08.440064: W tensorflow/core/framework/local_rendezvous.cc:404] Local rendezvous is aborting with status: OUT_OF_RANGE: End of sequence\n",
      "2024-08-08 13:35:30.878856: W tensorflow/core/framework/local_rendezvous.cc:404] Local rendezvous is aborting with status: OUT_OF_RANGE: End of sequence\n"
     ]
    },
    {
     "name": "stdout",
     "output_type": "stream",
     "text": [
      "{'precision': <tf.Tensor: shape=(), dtype=float32, numpy=0.4588024>, 'recall': <tf.Tensor: shape=(), dtype=float32, numpy=0.46389642>, 'f1_score': <tf.Tensor: shape=(), dtype=float32, numpy=0.43153903>}\n",
      "{'precision': <tf.Tensor: shape=(), dtype=float32, numpy=0.19553325>, 'recall': <tf.Tensor: shape=(), dtype=float32, numpy=0.19809681>, 'f1_score': <tf.Tensor: shape=(), dtype=float32, numpy=0.18276814>}\n",
      "{'precision': <tf.Tensor: shape=(), dtype=float32, numpy=0.36477524>, 'recall': <tf.Tensor: shape=(), dtype=float32, numpy=0.36870435>, 'f1_score': <tf.Tensor: shape=(), dtype=float32, numpy=0.34268132>}\n",
      "\u001b[1m1842/1842\u001b[0m \u001b[32m━━━━━━━━━━━━━━━━━━━━\u001b[0m\u001b[37m\u001b[0m \u001b[1m163s\u001b[0m 87ms/step - accuracy: 0.6189 - loss: 0.6741 - val_accuracy: 0.5912 - val_loss: 0.7513\n",
      "Epoch 7/20\n",
      "\u001b[1m1841/1842\u001b[0m \u001b[32m━━━━━━━━━━━━━━━━━━━\u001b[0m\u001b[37m━\u001b[0m \u001b[1m0s\u001b[0m 57ms/step - accuracy: 0.6281 - loss: 0.6501"
     ]
    },
    {
     "name": "stderr",
     "output_type": "stream",
     "text": [
      "2024-08-08 13:37:57.362542: W tensorflow/core/framework/local_rendezvous.cc:404] Local rendezvous is aborting with status: OUT_OF_RANGE: End of sequence\n",
      "2024-08-08 13:38:17.380893: W tensorflow/core/framework/local_rendezvous.cc:404] Local rendezvous is aborting with status: OUT_OF_RANGE: End of sequence\n"
     ]
    },
    {
     "name": "stdout",
     "output_type": "stream",
     "text": [
      "{'precision': <tf.Tensor: shape=(), dtype=float32, numpy=0.44755137>, 'recall': <tf.Tensor: shape=(), dtype=float32, numpy=0.46885186>, 'f1_score': <tf.Tensor: shape=(), dtype=float32, numpy=0.42932814>}\n",
      "{'precision': <tf.Tensor: shape=(), dtype=float32, numpy=0.18662898>, 'recall': <tf.Tensor: shape=(), dtype=float32, numpy=0.19677225>, 'f1_score': <tf.Tensor: shape=(), dtype=float32, numpy=0.17839186>}\n",
      "{'precision': <tf.Tensor: shape=(), dtype=float32, numpy=0.35046285>, 'recall': <tf.Tensor: shape=(), dtype=float32, numpy=0.36920628>, 'f1_score': <tf.Tensor: shape=(), dtype=float32, numpy=0.3367824>}\n",
      "\u001b[1m1842/1842\u001b[0m \u001b[32m━━━━━━━━━━━━━━━━━━━━\u001b[0m\u001b[37m\u001b[0m \u001b[1m167s\u001b[0m 89ms/step - accuracy: 0.6281 - loss: 0.6501 - val_accuracy: 0.5916 - val_loss: 0.7521\n",
      "Epoch 8/20\n",
      "\u001b[1m1841/1842\u001b[0m \u001b[32m━━━━━━━━━━━━━━━━━━━\u001b[0m\u001b[37m━\u001b[0m \u001b[1m0s\u001b[0m 54ms/step - accuracy: 0.6372 - loss: 0.6276"
     ]
    },
    {
     "name": "stderr",
     "output_type": "stream",
     "text": [
      "2024-08-08 13:40:38.531171: W tensorflow/core/framework/local_rendezvous.cc:404] Local rendezvous is aborting with status: OUT_OF_RANGE: End of sequence\n",
      "2024-08-08 13:40:57.623276: W tensorflow/core/framework/local_rendezvous.cc:404] Local rendezvous is aborting with status: OUT_OF_RANGE: End of sequence\n"
     ]
    },
    {
     "name": "stdout",
     "output_type": "stream",
     "text": [
      "{'precision': <tf.Tensor: shape=(), dtype=float32, numpy=0.43794948>, 'recall': <tf.Tensor: shape=(), dtype=float32, numpy=0.47362605>, 'f1_score': <tf.Tensor: shape=(), dtype=float32, numpy=0.42800787>}\n",
      "{'precision': <tf.Tensor: shape=(), dtype=float32, numpy=0.18343747>, 'recall': <tf.Tensor: shape=(), dtype=float32, numpy=0.20195428>, 'f1_score': <tf.Tensor: shape=(), dtype=float32, numpy=0.1798904>}\n",
      "{'precision': <tf.Tensor: shape=(), dtype=float32, numpy=0.34582055>, 'recall': <tf.Tensor: shape=(), dtype=float32, numpy=0.37724584>, 'f1_score': <tf.Tensor: shape=(), dtype=float32, numpy=0.33861095>}\n",
      "\u001b[1m1842/1842\u001b[0m \u001b[32m━━━━━━━━━━━━━━━━━━━━\u001b[0m\u001b[37m\u001b[0m \u001b[1m161s\u001b[0m 86ms/step - accuracy: 0.6372 - loss: 0.6276 - val_accuracy: 0.5887 - val_loss: 0.7608\n",
      "Epoch 9/20\n",
      "\u001b[1m1841/1842\u001b[0m \u001b[32m━━━━━━━━━━━━━━━━━━━\u001b[0m\u001b[37m━\u001b[0m \u001b[1m0s\u001b[0m 54ms/step - accuracy: 0.6471 - loss: 0.6054"
     ]
    },
    {
     "name": "stderr",
     "output_type": "stream",
     "text": [
      "2024-08-08 13:43:19.208084: W tensorflow/core/framework/local_rendezvous.cc:404] Local rendezvous is aborting with status: OUT_OF_RANGE: End of sequence\n",
      "2024-08-08 13:43:37.979156: W tensorflow/core/framework/local_rendezvous.cc:404] Local rendezvous is aborting with status: OUT_OF_RANGE: End of sequence\n"
     ]
    },
    {
     "name": "stdout",
     "output_type": "stream",
     "text": [
      "{'precision': <tf.Tensor: shape=(), dtype=float32, numpy=0.441032>, 'recall': <tf.Tensor: shape=(), dtype=float32, numpy=0.46116862>, 'f1_score': <tf.Tensor: shape=(), dtype=float32, numpy=0.4238787>}\n",
      "{'precision': <tf.Tensor: shape=(), dtype=float32, numpy=0.18429366>, 'recall': <tf.Tensor: shape=(), dtype=float32, numpy=0.19412774>, 'f1_score': <tf.Tensor: shape=(), dtype=float32, numpy=0.17675449>}\n",
      "{'precision': <tf.Tensor: shape=(), dtype=float32, numpy=0.34928823>, 'recall': <tf.Tensor: shape=(), dtype=float32, numpy=0.3655855>, 'f1_score': <tf.Tensor: shape=(), dtype=float32, numpy=0.3356064>}\n",
      "\u001b[1m1842/1842\u001b[0m \u001b[32m━━━━━━━━━━━━━━━━━━━━\u001b[0m\u001b[37m\u001b[0m \u001b[1m159s\u001b[0m 85ms/step - accuracy: 0.6471 - loss: 0.6054 - val_accuracy: 0.5899 - val_loss: 0.7615\n",
      "Epoch 10/20\n",
      "\u001b[1m1841/1842\u001b[0m \u001b[32m━━━━━━━━━━━━━━━━━━━\u001b[0m\u001b[37m━\u001b[0m \u001b[1m0s\u001b[0m 54ms/step - accuracy: 0.6563 - loss: 0.5852"
     ]
    },
    {
     "name": "stderr",
     "output_type": "stream",
     "text": [
      "2024-08-08 13:46:02.932193: W tensorflow/core/framework/local_rendezvous.cc:404] Local rendezvous is aborting with status: OUT_OF_RANGE: End of sequence\n",
      "2024-08-08 13:46:22.966991: W tensorflow/core/framework/local_rendezvous.cc:404] Local rendezvous is aborting with status: OUT_OF_RANGE: End of sequence\n"
     ]
    },
    {
     "name": "stdout",
     "output_type": "stream",
     "text": [
      "{'precision': <tf.Tensor: shape=(), dtype=float32, numpy=0.44143733>, 'recall': <tf.Tensor: shape=(), dtype=float32, numpy=0.48234132>, 'f1_score': <tf.Tensor: shape=(), dtype=float32, numpy=0.4330852>}\n",
      "{'precision': <tf.Tensor: shape=(), dtype=float32, numpy=0.18521099>, 'recall': <tf.Tensor: shape=(), dtype=float32, numpy=0.20380688>, 'f1_score': <tf.Tensor: shape=(), dtype=float32, numpy=0.181126>}\n",
      "{'precision': <tf.Tensor: shape=(), dtype=float32, numpy=0.3480593>, 'recall': <tf.Tensor: shape=(), dtype=float32, numpy=0.3810946>, 'f1_score': <tf.Tensor: shape=(), dtype=float32, numpy=0.34152907>}\n",
      "\u001b[1m1842/1842\u001b[0m \u001b[32m━━━━━━━━━━━━━━━━━━━━\u001b[0m\u001b[37m\u001b[0m \u001b[1m165s\u001b[0m 88ms/step - accuracy: 0.6563 - loss: 0.5852 - val_accuracy: 0.5871 - val_loss: 0.7721\n",
      "Epoch 11/20\n",
      "\u001b[1m1841/1842\u001b[0m \u001b[32m━━━━━━━━━━━━━━━━━━━\u001b[0m\u001b[37m━\u001b[0m \u001b[1m0s\u001b[0m 55ms/step - accuracy: 0.6653 - loss: 0.5645"
     ]
    },
    {
     "name": "stderr",
     "output_type": "stream",
     "text": [
      "2024-08-08 13:48:44.614721: W tensorflow/core/framework/local_rendezvous.cc:404] Local rendezvous is aborting with status: OUT_OF_RANGE: End of sequence\n",
      "2024-08-08 13:49:03.489988: W tensorflow/core/framework/local_rendezvous.cc:404] Local rendezvous is aborting with status: OUT_OF_RANGE: End of sequence\n"
     ]
    },
    {
     "name": "stdout",
     "output_type": "stream",
     "text": [
      "{'precision': <tf.Tensor: shape=(), dtype=float32, numpy=0.44480675>, 'recall': <tf.Tensor: shape=(), dtype=float32, numpy=0.46713242>, 'f1_score': <tf.Tensor: shape=(), dtype=float32, numpy=0.4286413>}\n",
      "{'precision': <tf.Tensor: shape=(), dtype=float32, numpy=0.19219995>, 'recall': <tf.Tensor: shape=(), dtype=float32, numpy=0.20151626>, 'f1_score': <tf.Tensor: shape=(), dtype=float32, numpy=0.18420371>}\n",
      "{'precision': <tf.Tensor: shape=(), dtype=float32, numpy=0.3517056>, 'recall': <tf.Tensor: shape=(), dtype=float32, numpy=0.37173682>, 'f1_score': <tf.Tensor: shape=(), dtype=float32, numpy=0.33990118>}\n",
      "\u001b[1m1842/1842\u001b[0m \u001b[32m━━━━━━━━━━━━━━━━━━━━\u001b[0m\u001b[37m\u001b[0m \u001b[1m161s\u001b[0m 86ms/step - accuracy: 0.6653 - loss: 0.5645 - val_accuracy: 0.5880 - val_loss: 0.7765\n",
      "Epoch 12/20\n",
      "\u001b[1m1841/1842\u001b[0m \u001b[32m━━━━━━━━━━━━━━━━━━━\u001b[0m\u001b[37m━\u001b[0m \u001b[1m0s\u001b[0m 54ms/step - accuracy: 0.6740 - loss: 0.5454"
     ]
    },
    {
     "name": "stderr",
     "output_type": "stream",
     "text": [
      "2024-08-08 13:51:23.032572: W tensorflow/core/framework/local_rendezvous.cc:404] Local rendezvous is aborting with status: OUT_OF_RANGE: End of sequence\n",
      "2024-08-08 13:51:41.863324: W tensorflow/core/framework/local_rendezvous.cc:404] Local rendezvous is aborting with status: OUT_OF_RANGE: End of sequence\n"
     ]
    },
    {
     "name": "stdout",
     "output_type": "stream",
     "text": [
      "{'precision': <tf.Tensor: shape=(), dtype=float32, numpy=0.44879895>, 'recall': <tf.Tensor: shape=(), dtype=float32, numpy=0.47086534>, 'f1_score': <tf.Tensor: shape=(), dtype=float32, numpy=0.4304447>}\n",
      "{'precision': <tf.Tensor: shape=(), dtype=float32, numpy=0.18982261>, 'recall': <tf.Tensor: shape=(), dtype=float32, numpy=0.2045689>, 'f1_score': <tf.Tensor: shape=(), dtype=float32, numpy=0.18322581>}\n",
      "{'precision': <tf.Tensor: shape=(), dtype=float32, numpy=0.35432258>, 'recall': <tf.Tensor: shape=(), dtype=float32, numpy=0.3756777>, 'f1_score': <tf.Tensor: shape=(), dtype=float32, numpy=0.34108934>}\n",
      "\u001b[1m1842/1842\u001b[0m \u001b[32m━━━━━━━━━━━━━━━━━━━━\u001b[0m\u001b[37m\u001b[0m \u001b[1m159s\u001b[0m 85ms/step - accuracy: 0.6740 - loss: 0.5454 - val_accuracy: 0.5885 - val_loss: 0.7821\n",
      "Epoch 13/20\n",
      "\u001b[1m1841/1842\u001b[0m \u001b[32m━━━━━━━━━━━━━━━━━━━\u001b[0m\u001b[37m━\u001b[0m \u001b[1m0s\u001b[0m 57ms/step - accuracy: 0.6820 - loss: 0.5264"
     ]
    },
    {
     "name": "stderr",
     "output_type": "stream",
     "text": [
      "2024-08-08 13:54:08.597513: W tensorflow/core/framework/local_rendezvous.cc:404] Local rendezvous is aborting with status: OUT_OF_RANGE: End of sequence\n",
      "2024-08-08 13:54:27.763837: W tensorflow/core/framework/local_rendezvous.cc:404] Local rendezvous is aborting with status: OUT_OF_RANGE: End of sequence\n"
     ]
    },
    {
     "name": "stdout",
     "output_type": "stream",
     "text": [
      "{'precision': <tf.Tensor: shape=(), dtype=float32, numpy=0.44695243>, 'recall': <tf.Tensor: shape=(), dtype=float32, numpy=0.46449906>, 'f1_score': <tf.Tensor: shape=(), dtype=float32, numpy=0.42828107>}\n",
      "{'precision': <tf.Tensor: shape=(), dtype=float32, numpy=0.18577033>, 'recall': <tf.Tensor: shape=(), dtype=float32, numpy=0.19510053>, 'f1_score': <tf.Tensor: shape=(), dtype=float32, numpy=0.17852472>}\n",
      "{'precision': <tf.Tensor: shape=(), dtype=float32, numpy=0.3524653>, 'recall': <tf.Tensor: shape=(), dtype=float32, numpy=0.36822826>, 'f1_score': <tf.Tensor: shape=(), dtype=float32, numpy=0.33863714>}\n",
      "\u001b[1m1842/1842\u001b[0m \u001b[32m━━━━━━━━━━━━━━━━━━━━\u001b[0m\u001b[37m\u001b[0m \u001b[1m165s\u001b[0m 88ms/step - accuracy: 0.6820 - loss: 0.5264 - val_accuracy: 0.5863 - val_loss: 0.7895\n",
      "Epoch 14/20\n",
      "\u001b[1m1841/1842\u001b[0m \u001b[32m━━━━━━━━━━━━━━━━━━━\u001b[0m\u001b[37m━\u001b[0m \u001b[1m0s\u001b[0m 60ms/step - accuracy: 0.6909 - loss: 0.5076"
     ]
    },
    {
     "name": "stderr",
     "output_type": "stream",
     "text": [
      "2024-08-08 13:57:03.565236: W tensorflow/core/framework/local_rendezvous.cc:404] Local rendezvous is aborting with status: OUT_OF_RANGE: End of sequence\n",
      "2024-08-08 13:57:24.023202: W tensorflow/core/framework/local_rendezvous.cc:404] Local rendezvous is aborting with status: OUT_OF_RANGE: End of sequence\n"
     ]
    },
    {
     "name": "stdout",
     "output_type": "stream",
     "text": [
      "{'precision': <tf.Tensor: shape=(), dtype=float32, numpy=0.451572>, 'recall': <tf.Tensor: shape=(), dtype=float32, numpy=0.48069635>, 'f1_score': <tf.Tensor: shape=(), dtype=float32, numpy=0.43596628>}\n",
      "{'precision': <tf.Tensor: shape=(), dtype=float32, numpy=0.19708082>, 'recall': <tf.Tensor: shape=(), dtype=float32, numpy=0.20980823>, 'f1_score': <tf.Tensor: shape=(), dtype=float32, numpy=0.1890841>}\n",
      "{'precision': <tf.Tensor: shape=(), dtype=float32, numpy=0.35788158>, 'recall': <tf.Tensor: shape=(), dtype=float32, numpy=0.38251552>, 'f1_score': <tf.Tensor: shape=(), dtype=float32, numpy=0.34567687>}\n",
      "\u001b[1m1842/1842\u001b[0m \u001b[32m━━━━━━━━━━━━━━━━━━━━\u001b[0m\u001b[37m\u001b[0m \u001b[1m177s\u001b[0m 94ms/step - accuracy: 0.6909 - loss: 0.5076 - val_accuracy: 0.5863 - val_loss: 0.8002\n",
      "Epoch 15/20\n",
      "\u001b[1m1842/1842\u001b[0m \u001b[32m━━━━━━━━━━━━━━━━━━━━\u001b[0m\u001b[37m\u001b[0m \u001b[1m0s\u001b[0m 59ms/step - accuracy: 0.6990 - loss: 0.4909"
     ]
    },
    {
     "name": "stderr",
     "output_type": "stream",
     "text": [
      "2024-08-08 13:59:55.343070: W tensorflow/core/framework/local_rendezvous.cc:404] Local rendezvous is aborting with status: OUT_OF_RANGE: End of sequence\n",
      "2024-08-08 14:00:15.415013: W tensorflow/core/framework/local_rendezvous.cc:404] Local rendezvous is aborting with status: OUT_OF_RANGE: End of sequence\n"
     ]
    },
    {
     "name": "stdout",
     "output_type": "stream",
     "text": [
      "{'precision': <tf.Tensor: shape=(), dtype=float32, numpy=0.44741833>, 'recall': <tf.Tensor: shape=(), dtype=float32, numpy=0.484974>, 'f1_score': <tf.Tensor: shape=(), dtype=float32, numpy=0.43874294>}\n",
      "{'precision': <tf.Tensor: shape=(), dtype=float32, numpy=0.1918001>, 'recall': <tf.Tensor: shape=(), dtype=float32, numpy=0.2080611>, 'f1_score': <tf.Tensor: shape=(), dtype=float32, numpy=0.1863492>}\n",
      "{'precision': <tf.Tensor: shape=(), dtype=float32, numpy=0.35447857>, 'recall': <tf.Tensor: shape=(), dtype=float32, numpy=0.38610822>, 'f1_score': <tf.Tensor: shape=(), dtype=float32, numpy=0.34792632>}\n",
      "\u001b[1m1842/1842\u001b[0m \u001b[32m━━━━━━━━━━━━━━━━━━━━\u001b[0m\u001b[37m\u001b[0m \u001b[1m172s\u001b[0m 92ms/step - accuracy: 0.6990 - loss: 0.4909 - val_accuracy: 0.5851 - val_loss: 0.8079\n",
      "Epoch 16/20\n",
      "\u001b[1m1841/1842\u001b[0m \u001b[32m━━━━━━━━━━━━━━━━━━━\u001b[0m\u001b[37m━\u001b[0m \u001b[1m0s\u001b[0m 58ms/step - accuracy: 0.7084 - loss: 0.4732"
     ]
    },
    {
     "name": "stderr",
     "output_type": "stream",
     "text": [
      "2024-08-08 14:02:45.231977: W tensorflow/core/framework/local_rendezvous.cc:404] Local rendezvous is aborting with status: OUT_OF_RANGE: End of sequence\n",
      "2024-08-08 14:03:04.532019: W tensorflow/core/framework/local_rendezvous.cc:404] Local rendezvous is aborting with status: OUT_OF_RANGE: End of sequence\n"
     ]
    },
    {
     "name": "stdout",
     "output_type": "stream",
     "text": [
      "{'precision': <tf.Tensor: shape=(), dtype=float32, numpy=0.45851448>, 'recall': <tf.Tensor: shape=(), dtype=float32, numpy=0.47302866>, 'f1_score': <tf.Tensor: shape=(), dtype=float32, numpy=0.43596268>}\n",
      "{'precision': <tf.Tensor: shape=(), dtype=float32, numpy=0.20336865>, 'recall': <tf.Tensor: shape=(), dtype=float32, numpy=0.20593432>, 'f1_score': <tf.Tensor: shape=(), dtype=float32, numpy=0.19068366>}\n",
      "{'precision': <tf.Tensor: shape=(), dtype=float32, numpy=0.36511847>, 'recall': <tf.Tensor: shape=(), dtype=float32, numpy=0.376369>, 'f1_score': <tf.Tensor: shape=(), dtype=float32, numpy=0.34690666>}\n",
      "\u001b[1m1842/1842\u001b[0m \u001b[32m━━━━━━━━━━━━━━━━━━━━\u001b[0m\u001b[37m\u001b[0m \u001b[1m169s\u001b[0m 90ms/step - accuracy: 0.7084 - loss: 0.4732 - val_accuracy: 0.5826 - val_loss: 0.8174\n",
      "Epoch 17/20\n",
      "\u001b[1m1841/1842\u001b[0m \u001b[32m━━━━━━━━━━━━━━━━━━━\u001b[0m\u001b[37m━\u001b[0m \u001b[1m0s\u001b[0m 55ms/step - accuracy: 0.7165 - loss: 0.4557"
     ]
    },
    {
     "name": "stderr",
     "output_type": "stream",
     "text": [
      "2024-08-08 14:05:27.540723: W tensorflow/core/framework/local_rendezvous.cc:404] Local rendezvous is aborting with status: OUT_OF_RANGE: End of sequence\n",
      "2024-08-08 14:05:51.416129: W tensorflow/core/framework/local_rendezvous.cc:404] Local rendezvous is aborting with status: OUT_OF_RANGE: End of sequence\n"
     ]
    },
    {
     "name": "stdout",
     "output_type": "stream",
     "text": [
      "{'precision': <tf.Tensor: shape=(), dtype=float32, numpy=0.43939257>, 'recall': <tf.Tensor: shape=(), dtype=float32, numpy=0.47972375>, 'f1_score': <tf.Tensor: shape=(), dtype=float32, numpy=0.4306153>}\n",
      "{'precision': <tf.Tensor: shape=(), dtype=float32, numpy=0.1848299>, 'recall': <tf.Tensor: shape=(), dtype=float32, numpy=0.2020111>, 'f1_score': <tf.Tensor: shape=(), dtype=float32, numpy=0.18028127>}\n",
      "{'precision': <tf.Tensor: shape=(), dtype=float32, numpy=0.34979904>, 'recall': <tf.Tensor: shape=(), dtype=float32, numpy=0.3814414>, 'f1_score': <tf.Tensor: shape=(), dtype=float32, numpy=0.34248638>}\n",
      "\u001b[1m1842/1842\u001b[0m \u001b[32m━━━━━━━━━━━━━━━━━━━━\u001b[0m\u001b[37m\u001b[0m \u001b[1m168s\u001b[0m 90ms/step - accuracy: 0.7165 - loss: 0.4557 - val_accuracy: 0.5805 - val_loss: 0.8280\n",
      "Epoch 18/20\n",
      "\u001b[1m1841/1842\u001b[0m \u001b[32m━━━━━━━━━━━━━━━━━━━\u001b[0m\u001b[37m━\u001b[0m \u001b[1m0s\u001b[0m 55ms/step - accuracy: 0.7236 - loss: 0.4402"
     ]
    },
    {
     "name": "stderr",
     "output_type": "stream",
     "text": [
      "2024-08-08 14:08:16.859126: W tensorflow/core/framework/local_rendezvous.cc:404] Local rendezvous is aborting with status: OUT_OF_RANGE: End of sequence\n",
      "2024-08-08 14:08:37.469581: W tensorflow/core/framework/local_rendezvous.cc:404] Local rendezvous is aborting with status: OUT_OF_RANGE: End of sequence\n"
     ]
    },
    {
     "name": "stdout",
     "output_type": "stream",
     "text": [
      "{'precision': <tf.Tensor: shape=(), dtype=float32, numpy=0.44809654>, 'recall': <tf.Tensor: shape=(), dtype=float32, numpy=0.48371297>, 'f1_score': <tf.Tensor: shape=(), dtype=float32, numpy=0.43738872>}\n",
      "{'precision': <tf.Tensor: shape=(), dtype=float32, numpy=0.1918995>, 'recall': <tf.Tensor: shape=(), dtype=float32, numpy=0.20841755>, 'f1_score': <tf.Tensor: shape=(), dtype=float32, numpy=0.1872984>}\n",
      "{'precision': <tf.Tensor: shape=(), dtype=float32, numpy=0.3534584>, 'recall': <tf.Tensor: shape=(), dtype=float32, numpy=0.38277853>, 'f1_score': <tf.Tensor: shape=(), dtype=float32, numpy=0.34517154>}\n",
      "\u001b[1m1842/1842\u001b[0m \u001b[32m━━━━━━━━━━━━━━━━━━━━\u001b[0m\u001b[37m\u001b[0m \u001b[1m164s\u001b[0m 87ms/step - accuracy: 0.7236 - loss: 0.4402 - val_accuracy: 0.5805 - val_loss: 0.8397\n",
      "Epoch 19/20\n",
      "\u001b[1m1841/1842\u001b[0m \u001b[32m━━━━━━━━━━━━━━━━━━━\u001b[0m\u001b[37m━\u001b[0m \u001b[1m0s\u001b[0m 54ms/step - accuracy: 0.7325 - loss: 0.4241"
     ]
    },
    {
     "name": "stderr",
     "output_type": "stream",
     "text": [
      "2024-08-08 14:10:59.034929: W tensorflow/core/framework/local_rendezvous.cc:404] Local rendezvous is aborting with status: OUT_OF_RANGE: End of sequence\n",
      "2024-08-08 14:11:18.495441: W tensorflow/core/framework/local_rendezvous.cc:404] Local rendezvous is aborting with status: OUT_OF_RANGE: End of sequence\n"
     ]
    },
    {
     "name": "stdout",
     "output_type": "stream",
     "text": [
      "{'precision': <tf.Tensor: shape=(), dtype=float32, numpy=0.4500047>, 'recall': <tf.Tensor: shape=(), dtype=float32, numpy=0.48505858>, 'f1_score': <tf.Tensor: shape=(), dtype=float32, numpy=0.43942824>}\n",
      "{'precision': <tf.Tensor: shape=(), dtype=float32, numpy=0.19946414>, 'recall': <tf.Tensor: shape=(), dtype=float32, numpy=0.21611549>, 'f1_score': <tf.Tensor: shape=(), dtype=float32, numpy=0.19417097>}\n",
      "{'precision': <tf.Tensor: shape=(), dtype=float32, numpy=0.3557153>, 'recall': <tf.Tensor: shape=(), dtype=float32, numpy=0.3840279>, 'f1_score': <tf.Tensor: shape=(), dtype=float32, numpy=0.3474771>}\n",
      "\u001b[1m1842/1842\u001b[0m \u001b[32m━━━━━━━━━━━━━━━━━━━━\u001b[0m\u001b[37m\u001b[0m \u001b[1m162s\u001b[0m 86ms/step - accuracy: 0.7325 - loss: 0.4241 - val_accuracy: 0.5812 - val_loss: 0.8481\n",
      "Epoch 20/20\n",
      "\u001b[1m1841/1842\u001b[0m \u001b[32m━━━━━━━━━━━━━━━━━━━\u001b[0m\u001b[37m━\u001b[0m \u001b[1m0s\u001b[0m 54ms/step - accuracy: 0.7400 - loss: 0.4083"
     ]
    },
    {
     "name": "stderr",
     "output_type": "stream",
     "text": [
      "2024-08-08 14:13:40.800244: W tensorflow/core/framework/local_rendezvous.cc:404] Local rendezvous is aborting with status: OUT_OF_RANGE: End of sequence\n",
      "2024-08-08 14:14:00.026528: W tensorflow/core/framework/local_rendezvous.cc:404] Local rendezvous is aborting with status: OUT_OF_RANGE: End of sequence\n"
     ]
    },
    {
     "name": "stdout",
     "output_type": "stream",
     "text": [
      "{'precision': <tf.Tensor: shape=(), dtype=float32, numpy=0.4504134>, 'recall': <tf.Tensor: shape=(), dtype=float32, numpy=0.4663264>, 'f1_score': <tf.Tensor: shape=(), dtype=float32, numpy=0.43114877>}\n",
      "{'precision': <tf.Tensor: shape=(), dtype=float32, numpy=0.19136064>, 'recall': <tf.Tensor: shape=(), dtype=float32, numpy=0.20131849>, 'f1_score': <tf.Tensor: shape=(), dtype=float32, numpy=0.18388821>}\n",
      "{'precision': <tf.Tensor: shape=(), dtype=float32, numpy=0.35838175>, 'recall': <tf.Tensor: shape=(), dtype=float32, numpy=0.37415498>, 'f1_score': <tf.Tensor: shape=(), dtype=float32, numpy=0.34424084>}\n",
      "\u001b[1m1842/1842\u001b[0m \u001b[32m━━━━━━━━━━━━━━━━━━━━\u001b[0m\u001b[37m\u001b[0m \u001b[1m161s\u001b[0m 86ms/step - accuracy: 0.7400 - loss: 0.4083 - val_accuracy: 0.5791 - val_loss: 0.8519\n",
      "0.7512573599815369 The best number of epocs for the validation loss is 6\n",
      "0.5915750861167908 The best number of epocs for the validation accuracy is 7\n"
     ]
    },
    {
     "data": {
      "image/png": "[encoded data removed]",
      "text/plain": [
       "<Figure size 640x480 with 2 Axes>"
      ]
     },
     "metadata": {},
     "output_type": "display_data"
    },
    {
     "data": {
      "text/html": [
       "<pre style=\"white-space:pre;overflow-x:auto;line-height:normal;font-family:Menlo,'DejaVu Sans Mono',consolas,'Courier New',monospace\"><span style=\"font-weight: bold\">Preprocessor: \"bart_seq2_seq_lm_preprocessor_2\"</span>\n",
       "</pre>\n"
      ],
      "text/plain": [
       "\u001b[1mPreprocessor: \"bart_seq2_seq_lm_preprocessor_2\"\u001b[0m\n"
      ]
     },
     "metadata": {},
     "output_type": "display_data"
    },
    {
     "data": {
      "text/html": [
       "<pre style=\"white-space:pre;overflow-x:auto;line-height:normal;font-family:Menlo,'DejaVu Sans Mono',consolas,'Courier New',monospace\">┏━━━━━━━━━━━━━━━━━━━━━━━━━━━━━━━━━━━━━━━━━━━━━━━━━━━━┳━━━━━━━━━━━━━━━━━━━━━━━━━━━━━━━━━━━━━━━━━━━━━━━━━━━━━┓\n",
       "┃<span style=\"font-weight: bold\"> Tokenizer (type)                                   </span>┃<span style=\"font-weight: bold\">                                             Vocab # </span>┃\n",
       "┡━━━━━━━━━━━━━━━━━━━━━━━━━━━━━━━━━━━━━━━━━━━━━━━━━━━━╇━━━━━━━━━━━━━━━━━━━━━━━━━━━━━━━━━━━━━━━━━━━━━━━━━━━━━┩\n",
       "│ bart_tokenizer (<span style=\"color: #0087ff; text-decoration-color: #0087ff\">BartTokenizer</span>)                     │                                              <span style=\"color: #00af00; text-decoration-color: #00af00\">50,265</span> │\n",
       "└────────────────────────────────────────────────────┴─────────────────────────────────────────────────────┘\n",
       "</pre>\n"
      ],
      "text/plain": [
       "┏━━━━━━━━━━━━━━━━━━━━━━━━━━━━━━━━━━━━━━━━━━━━━━━━━━━━┳━━━━━━━━━━━━━━━━━━━━━━━━━━━━━━━━━━━━━━━━━━━━━━━━━━━━━┓\n",
       "┃\u001b[1m \u001b[0m\u001b[1mTokenizer (type)                                  \u001b[0m\u001b[1m \u001b[0m┃\u001b[1m \u001b[0m\u001b[1m                                            Vocab #\u001b[0m\u001b[1m \u001b[0m┃\n",
       "┡━━━━━━━━━━━━━━━━━━━━━━━━━━━━━━━━━━━━━━━━━━━━━━━━━━━━╇━━━━━━━━━━━━━━━━━━━━━━━━━━━━━━━━━━━━━━━━━━━━━━━━━━━━━┩\n",
       "│ bart_tokenizer (\u001b[38;5;33mBartTokenizer\u001b[0m)                     │                                              \u001b[38;5;34m50,265\u001b[0m │\n",
       "└────────────────────────────────────────────────────┴─────────────────────────────────────────────────────┘\n"
      ]
     },
     "metadata": {},
     "output_type": "display_data"
    },
    {
     "data": {
      "text/html": [
       "<pre style=\"white-space:pre;overflow-x:auto;line-height:normal;font-family:Menlo,'DejaVu Sans Mono',consolas,'Courier New',monospace\"><span style=\"font-weight: bold\">Model: \"bart_seq2_seq_lm_2\"</span>\n",
       "</pre>\n"
      ],
      "text/plain": [
       "\u001b[1mModel: \"bart_seq2_seq_lm_2\"\u001b[0m\n"
      ]
     },
     "metadata": {},
     "output_type": "display_data"
    },
    {
     "data": {
      "text/html": [
       "<pre style=\"white-space:pre;overflow-x:auto;line-height:normal;font-family:Menlo,'DejaVu Sans Mono',consolas,'Courier New',monospace\">┏━━━━━━━━━━━━━━━━━━━━━━━━━━━━━━━┳━━━━━━━━━━━━━━━━━━━━━━━━━━━┳━━━━━━━━━━━━━━━━━┳━━━━━━━━━━━━━━━━━━━━━━━━━━━━┓\n",
       "┃<span style=\"font-weight: bold\"> Layer (type)                  </span>┃<span style=\"font-weight: bold\"> Output Shape              </span>┃<span style=\"font-weight: bold\">         Param # </span>┃<span style=\"font-weight: bold\"> Connected to               </span>┃\n",
       "┡━━━━━━━━━━━━━━━━━━━━━━━━━━━━━━━╇━━━━━━━━━━━━━━━━━━━━━━━━━━━╇━━━━━━━━━━━━━━━━━╇━━━━━━━━━━━━━━━━━━━━━━━━━━━━┩\n",
       "│ decoder_padding_mask          │ (<span style=\"color: #00d7ff; text-decoration-color: #00d7ff\">None</span>, <span style=\"color: #00d7ff; text-decoration-color: #00d7ff\">None</span>)              │               <span style=\"color: #00af00; text-decoration-color: #00af00\">0</span> │ -                          │\n",
       "│ (<span style=\"color: #0087ff; text-decoration-color: #0087ff\">InputLayer</span>)                  │                           │                 │                            │\n",
       "├───────────────────────────────┼───────────────────────────┼─────────────────┼────────────────────────────┤\n",
       "│ decoder_token_ids             │ (<span style=\"color: #00d7ff; text-decoration-color: #00d7ff\">None</span>, <span style=\"color: #00d7ff; text-decoration-color: #00d7ff\">None</span>)              │               <span style=\"color: #00af00; text-decoration-color: #00af00\">0</span> │ -                          │\n",
       "│ (<span style=\"color: #0087ff; text-decoration-color: #0087ff\">InputLayer</span>)                  │                           │                 │                            │\n",
       "├───────────────────────────────┼───────────────────────────┼─────────────────┼────────────────────────────┤\n",
       "│ encoder_padding_mask          │ (<span style=\"color: #00d7ff; text-decoration-color: #00d7ff\">None</span>, <span style=\"color: #00d7ff; text-decoration-color: #00d7ff\">None</span>)              │               <span style=\"color: #00af00; text-decoration-color: #00af00\">0</span> │ -                          │\n",
       "│ (<span style=\"color: #0087ff; text-decoration-color: #0087ff\">InputLayer</span>)                  │                           │                 │                            │\n",
       "├───────────────────────────────┼───────────────────────────┼─────────────────┼────────────────────────────┤\n",
       "│ encoder_token_ids             │ (<span style=\"color: #00d7ff; text-decoration-color: #00d7ff\">None</span>, <span style=\"color: #00d7ff; text-decoration-color: #00d7ff\">None</span>)              │               <span style=\"color: #00af00; text-decoration-color: #00af00\">0</span> │ -                          │\n",
       "│ (<span style=\"color: #0087ff; text-decoration-color: #0087ff\">InputLayer</span>)                  │                           │                 │                            │\n",
       "├───────────────────────────────┼───────────────────────────┼─────────────────┼────────────────────────────┤\n",
       "│ bart_backbone (<span style=\"color: #0087ff; text-decoration-color: #0087ff\">BartBackbone</span>)  │ [(<span style=\"color: #00d7ff; text-decoration-color: #00d7ff\">None</span>, <span style=\"color: #00d7ff; text-decoration-color: #00d7ff\">None</span>, <span style=\"color: #00af00; text-decoration-color: #00af00\">768</span>),       │     <span style=\"color: #00af00; text-decoration-color: #00af00\">139,417,344</span> │ decoder_padding_mask[<span style=\"color: #00af00; text-decoration-color: #00af00\">0</span>][<span style=\"color: #00af00; text-decoration-color: #00af00\">0</span>… │\n",
       "│                               │ (<span style=\"color: #00d7ff; text-decoration-color: #00d7ff\">None</span>, <span style=\"color: #00d7ff; text-decoration-color: #00d7ff\">None</span>, <span style=\"color: #00af00; text-decoration-color: #00af00\">768</span>)]        │                 │ decoder_token_ids[<span style=\"color: #00af00; text-decoration-color: #00af00\">0</span>][<span style=\"color: #00af00; text-decoration-color: #00af00\">0</span>],   │\n",
       "│                               │                           │                 │ encoder_padding_mask[<span style=\"color: #00af00; text-decoration-color: #00af00\">0</span>][<span style=\"color: #00af00; text-decoration-color: #00af00\">0</span>… │\n",
       "│                               │                           │                 │ encoder_token_ids[<span style=\"color: #00af00; text-decoration-color: #00af00\">0</span>][<span style=\"color: #00af00; text-decoration-color: #00af00\">0</span>]    │\n",
       "├───────────────────────────────┼───────────────────────────┼─────────────────┼────────────────────────────┤\n",
       "│ token_embedding               │ (<span style=\"color: #00d7ff; text-decoration-color: #00d7ff\">None</span>, <span style=\"color: #00d7ff; text-decoration-color: #00d7ff\">None</span>, <span style=\"color: #00af00; text-decoration-color: #00af00\">50265</span>)       │      <span style=\"color: #00af00; text-decoration-color: #00af00\">38,603,520</span> │ bart_backbone[<span style=\"color: #00af00; text-decoration-color: #00af00\">0</span>][<span style=\"color: #00af00; text-decoration-color: #00af00\">0</span>]        │\n",
       "│ (<span style=\"color: #0087ff; text-decoration-color: #0087ff\">ReversibleEmbedding</span>)         │                           │                 │                            │\n",
       "└───────────────────────────────┴───────────────────────────┴─────────────────┴────────────────────────────┘\n",
       "</pre>\n"
      ],
      "text/plain": [
       "┏━━━━━━━━━━━━━━━━━━━━━━━━━━━━━━━┳━━━━━━━━━━━━━━━━━━━━━━━━━━━┳━━━━━━━━━━━━━━━━━┳━━━━━━━━━━━━━━━━━━━━━━━━━━━━┓\n",
       "┃\u001b[1m \u001b[0m\u001b[1mLayer (type)                 \u001b[0m\u001b[1m \u001b[0m┃\u001b[1m \u001b[0m\u001b[1mOutput Shape             \u001b[0m\u001b[1m \u001b[0m┃\u001b[1m \u001b[0m\u001b[1m        Param #\u001b[0m\u001b[1m \u001b[0m┃\u001b[1m \u001b[0m\u001b[1mConnected to              \u001b[0m\u001b[1m \u001b[0m┃\n",
       "┡━━━━━━━━━━━━━━━━━━━━━━━━━━━━━━━╇━━━━━━━━━━━━━━━━━━━━━━━━━━━╇━━━━━━━━━━━━━━━━━╇━━━━━━━━━━━━━━━━━━━━━━━━━━━━┩\n",
       "│ decoder_padding_mask          │ (\u001b[38;5;45mNone\u001b[0m, \u001b[38;5;45mNone\u001b[0m)              │               \u001b[38;5;34m0\u001b[0m │ -                          │\n",
       "│ (\u001b[38;5;33mInputLayer\u001b[0m)                  │                           │                 │                            │\n",
       "├───────────────────────────────┼───────────────────────────┼─────────────────┼────────────────────────────┤\n",
       "│ decoder_token_ids             │ (\u001b[38;5;45mNone\u001b[0m, \u001b[38;5;45mNone\u001b[0m)              │               \u001b[38;5;34m0\u001b[0m │ -                          │\n",
       "│ (\u001b[38;5;33mInputLayer\u001b[0m)                  │                           │                 │                            │\n",
       "├───────────────────────────────┼───────────────────────────┼─────────────────┼────────────────────────────┤\n",
       "│ encoder_padding_mask          │ (\u001b[38;5;45mNone\u001b[0m, \u001b[38;5;45mNone\u001b[0m)              │               \u001b[38;5;34m0\u001b[0m │ -                          │\n",
       "│ (\u001b[38;5;33mInputLayer\u001b[0m)                  │                           │                 │                            │\n",
       "├───────────────────────────────┼───────────────────────────┼─────────────────┼────────────────────────────┤\n",
       "│ encoder_token_ids             │ (\u001b[38;5;45mNone\u001b[0m, \u001b[38;5;45mNone\u001b[0m)              │               \u001b[38;5;34m0\u001b[0m │ -                          │\n",
       "│ (\u001b[38;5;33mInputLayer\u001b[0m)                  │                           │                 │                            │\n",
       "├───────────────────────────────┼───────────────────────────┼─────────────────┼────────────────────────────┤\n",
       "│ bart_backbone (\u001b[38;5;33mBartBackbone\u001b[0m)  │ [(\u001b[38;5;45mNone\u001b[0m, \u001b[38;5;45mNone\u001b[0m, \u001b[38;5;34m768\u001b[0m),       │     \u001b[38;5;34m139,417,344\u001b[0m │ decoder_padding_mask[\u001b[38;5;34m0\u001b[0m][\u001b[38;5;34m0\u001b[0m… │\n",
       "│                               │ (\u001b[38;5;45mNone\u001b[0m, \u001b[38;5;45mNone\u001b[0m, \u001b[38;5;34m768\u001b[0m)]        │                 │ decoder_token_ids[\u001b[38;5;34m0\u001b[0m][\u001b[38;5;34m0\u001b[0m],   │\n",
       "│                               │                           │                 │ encoder_padding_mask[\u001b[38;5;34m0\u001b[0m][\u001b[38;5;34m0\u001b[0m… │\n",
       "│                               │                           │                 │ encoder_token_ids[\u001b[38;5;34m0\u001b[0m][\u001b[38;5;34m0\u001b[0m]    │\n",
       "├───────────────────────────────┼───────────────────────────┼─────────────────┼────────────────────────────┤\n",
       "│ token_embedding               │ (\u001b[38;5;45mNone\u001b[0m, \u001b[38;5;45mNone\u001b[0m, \u001b[38;5;34m50265\u001b[0m)       │      \u001b[38;5;34m38,603,520\u001b[0m │ bart_backbone[\u001b[38;5;34m0\u001b[0m][\u001b[38;5;34m0\u001b[0m]        │\n",
       "│ (\u001b[38;5;33mReversibleEmbedding\u001b[0m)         │                           │                 │                            │\n",
       "└───────────────────────────────┴───────────────────────────┴─────────────────┴────────────────────────────┘\n"
      ]
     },
     "metadata": {},
     "output_type": "display_data"
    },
    {
     "data": {
      "text/html": [
       "<pre style=\"white-space:pre;overflow-x:auto;line-height:normal;font-family:Menlo,'DejaVu Sans Mono',consolas,'Courier New',monospace\"><span style=\"font-weight: bold\"> Total params: </span><span style=\"color: #00af00; text-decoration-color: #00af00\">139,417,344</span> (531.83 MB)\n",
       "</pre>\n"
      ],
      "text/plain": [
       "\u001b[1m Total params: \u001b[0m\u001b[38;5;34m139,417,344\u001b[0m (531.83 MB)\n"
      ]
     },
     "metadata": {},
     "output_type": "display_data"
    },
    {
     "data": {
      "text/html": [
       "<pre style=\"white-space:pre;overflow-x:auto;line-height:normal;font-family:Menlo,'DejaVu Sans Mono',consolas,'Courier New',monospace\"><span style=\"font-weight: bold\"> Trainable params: </span><span style=\"color: #00af00; text-decoration-color: #00af00\">139,417,344</span> (531.83 MB)\n",
       "</pre>\n"
      ],
      "text/plain": [
       "\u001b[1m Trainable params: \u001b[0m\u001b[38;5;34m139,417,344\u001b[0m (531.83 MB)\n"
      ]
     },
     "metadata": {},
     "output_type": "display_data"
    },
    {
     "data": {
      "text/html": [
       "<pre style=\"white-space:pre;overflow-x:auto;line-height:normal;font-family:Menlo,'DejaVu Sans Mono',consolas,'Courier New',monospace\"><span style=\"font-weight: bold\"> Non-trainable params: </span><span style=\"color: #00af00; text-decoration-color: #00af00\">0</span> (0.00 B)\n",
       "</pre>\n"
      ],
      "text/plain": [
       "\u001b[1m Non-trainable params: \u001b[0m\u001b[38;5;34m0\u001b[0m (0.00 B)\n"
      ]
     },
     "metadata": {},
     "output_type": "display_data"
    },
    {
     "name": "stdout",
     "output_type": "stream",
     "text": [
      "Epoch 1/20\n"
     ]
    },
    {
     "name": "stderr",
     "output_type": "stream",
     "text": [
      "W0000 00:00:1723126547.566834   16861 assert_op.cc:38] Ignoring Assert operator compile_loss/sparse_categorical_crossentropy/SparseSoftmaxCrossEntropyWithLogits/assert_equal_1/Assert/Assert\n"
     ]
    },
    {
     "name": "stdout",
     "output_type": "stream",
     "text": [
      "\u001b[1m1841/1842\u001b[0m \u001b[32m━━━━━━━━━━━━━━━━━━━\u001b[0m\u001b[37m━\u001b[0m \u001b[1m0s\u001b[0m 58ms/step - accuracy: 0.4952 - loss: 1.0598"
     ]
    },
    {
     "name": "stderr",
     "output_type": "stream",
     "text": [
      "W0000 00:00:1723126858.661001   16856 assert_op.cc:38] Ignoring Assert operator compile_loss/sparse_categorical_crossentropy/SparseSoftmaxCrossEntropyWithLogits/assert_equal_1/Assert/Assert\n"
     ]
    },
    {
     "name": "stdout",
     "output_type": "stream",
     "text": [
      "\b\b\b\b\b\b\b\b\b\b\b\b\b\b\b\b\b\b\b\b\b\b\b\b\b\b\b\b\b\b\b\b\b\b\b\b\b\b\b\b\b\b\b\b\b\b\b\b\b\b\b\b\b\b\b\b\b\b\b\b\b\b\b\b\b\b\b\b\b\b\b\b\b\b\b\b\b\r\n",
      "\u001b[1m1842/1842\u001b[0m \u001b[32m━━━━━━━━━━━━━━━━━━━━\u001b[0m\u001b[37m\u001b[0m \u001b[1m0s\u001b[0m 173ms/step - accuracy: 0.4952 - loss: 1.0598"
     ]
    },
    {
     "name": "stderr",
     "output_type": "stream",
     "text": [
      "W0000 00:00:1723127079.330610   16862 assert_op.cc:38] Ignoring Assert operator compile_loss/sparse_categorical_crossentropy/SparseSoftmaxCrossEntropyWithLogits/assert_equal_1/Assert/Assert\n",
      "W0000 00:00:1723127084.055975   16861 assert_op.cc:38] Ignoring Assert operator compile_loss/sparse_categorical_crossentropy/SparseSoftmaxCrossEntropyWithLogits/assert_equal_1/Assert/Assert\n",
      "2024-08-08 14:24:47.954153: W tensorflow/core/framework/local_rendezvous.cc:404] Local rendezvous is aborting with status: OUT_OF_RANGE: End of sequence\n",
      "2024-08-08 14:25:40.670901: W tensorflow/core/framework/local_rendezvous.cc:404] Local rendezvous is aborting with status: OUT_OF_RANGE: End of sequence\n"
     ]
    },
    {
     "name": "stdout",
     "output_type": "stream",
     "text": [
      "{'precision': <tf.Tensor: shape=(), dtype=float32, numpy=0.41791752>, 'recall': <tf.Tensor: shape=(), dtype=float32, numpy=0.3908447>, 'f1_score': <tf.Tensor: shape=(), dtype=float32, numpy=0.36944577>}\n",
      "{'precision': <tf.Tensor: shape=(), dtype=float32, numpy=0.14875391>, 'recall': <tf.Tensor: shape=(), dtype=float32, numpy=0.13962603>, 'f1_score': <tf.Tensor: shape=(), dtype=float32, numpy=0.1297835>}\n",
      "{'precision': <tf.Tensor: shape=(), dtype=float32, numpy=0.32087716>, 'recall': <tf.Tensor: shape=(), dtype=float32, numpy=0.30210775>, 'f1_score': <tf.Tensor: shape=(), dtype=float32, numpy=0.2839765>}\n",
      "\u001b[1m1842/1842\u001b[0m \u001b[32m━━━━━━━━━━━━━━━━━━━━\u001b[0m\u001b[37m\u001b[0m \u001b[1m685s\u001b[0m 228ms/step - accuracy: 0.4952 - loss: 1.0597 - val_accuracy: 0.5534 - val_loss: 0.8282\n",
      "Epoch 2/20\n",
      "\u001b[1m1842/1842\u001b[0m \u001b[32m━━━━━━━━━━━━━━━━━━━━\u001b[0m\u001b[37m\u001b[0m \u001b[1m0s\u001b[0m 60ms/step - accuracy: 0.5451 - loss: 0.8688"
     ]
    },
    {
     "name": "stderr",
     "output_type": "stream",
     "text": [
      "2024-08-08 14:28:14.000907: W tensorflow/core/framework/local_rendezvous.cc:404] Local rendezvous is aborting with status: OUT_OF_RANGE: End of sequence\n",
      "2024-08-08 14:28:32.111441: W tensorflow/core/framework/local_rendezvous.cc:404] Local rendezvous is aborting with status: OUT_OF_RANGE: End of sequence\n"
     ]
    },
    {
     "name": "stdout",
     "output_type": "stream",
     "text": [
      "{'precision': <tf.Tensor: shape=(), dtype=float32, numpy=0.42756948>, 'recall': <tf.Tensor: shape=(), dtype=float32, numpy=0.41499564>, 'f1_score': <tf.Tensor: shape=(), dtype=float32, numpy=0.3912398>}\n",
      "{'precision': <tf.Tensor: shape=(), dtype=float32, numpy=0.16165695>, 'recall': <tf.Tensor: shape=(), dtype=float32, numpy=0.16182952>, 'f1_score': <tf.Tensor: shape=(), dtype=float32, numpy=0.14900061>}\n",
      "{'precision': <tf.Tensor: shape=(), dtype=float32, numpy=0.33643368>, 'recall': <tf.Tensor: shape=(), dtype=float32, numpy=0.3291893>, 'f1_score': <tf.Tensor: shape=(), dtype=float32, numpy=0.3086804>}\n",
      "\u001b[1m1842/1842\u001b[0m \u001b[32m━━━━━━━━━━━━━━━━━━━━\u001b[0m\u001b[37m\u001b[0m \u001b[1m172s\u001b[0m 91ms/step - accuracy: 0.5451 - loss: 0.8688 - val_accuracy: 0.5644 - val_loss: 0.8064\n",
      "Epoch 3/20\n",
      "\u001b[1m1841/1842\u001b[0m \u001b[32m━━━━━━━━━━━━━━━━━━━\u001b[0m\u001b[37m━\u001b[0m \u001b[1m0s\u001b[0m 60ms/step - accuracy: 0.5540 - loss: 0.8426"
     ]
    },
    {
     "name": "stderr",
     "output_type": "stream",
     "text": [
      "2024-08-08 14:31:07.254929: W tensorflow/core/framework/local_rendezvous.cc:404] Local rendezvous is aborting with status: OUT_OF_RANGE: End of sequence\n",
      "2024-08-08 14:31:26.093215: W tensorflow/core/framework/local_rendezvous.cc:404] Local rendezvous is aborting with status: OUT_OF_RANGE: End of sequence\n"
     ]
    },
    {
     "name": "stdout",
     "output_type": "stream",
     "text": [
      "{'precision': <tf.Tensor: shape=(), dtype=float32, numpy=0.4330308>, 'recall': <tf.Tensor: shape=(), dtype=float32, numpy=0.41632742>, 'f1_score': <tf.Tensor: shape=(), dtype=float32, numpy=0.39307097>}\n",
      "{'precision': <tf.Tensor: shape=(), dtype=float32, numpy=0.15962343>, 'recall': <tf.Tensor: shape=(), dtype=float32, numpy=0.15638843>, 'f1_score': <tf.Tensor: shape=(), dtype=float32, numpy=0.14464438>}\n",
      "{'precision': <tf.Tensor: shape=(), dtype=float32, numpy=0.33716726>, 'recall': <tf.Tensor: shape=(), dtype=float32, numpy=0.32504418>, 'f1_score': <tf.Tensor: shape=(), dtype=float32, numpy=0.30552366>}\n",
      "\u001b[1m1842/1842\u001b[0m \u001b[32m━━━━━━━━━━━━━━━━━━━━\u001b[0m\u001b[37m\u001b[0m \u001b[1m174s\u001b[0m 93ms/step - accuracy: 0.5540 - loss: 0.8426 - val_accuracy: 0.5700 - val_loss: 0.7944\n",
      "Epoch 4/20\n",
      "\u001b[1m1841/1842\u001b[0m \u001b[32m━━━━━━━━━━━━━━━━━━━\u001b[0m\u001b[37m━\u001b[0m \u001b[1m0s\u001b[0m 59ms/step - accuracy: 0.5605 - loss: 0.8255"
     ]
    },
    {
     "name": "stderr",
     "output_type": "stream",
     "text": [
      "2024-08-08 14:33:57.021463: W tensorflow/core/framework/local_rendezvous.cc:404] Local rendezvous is aborting with status: OUT_OF_RANGE: End of sequence\n",
      "2024-08-08 14:34:15.599694: W tensorflow/core/framework/local_rendezvous.cc:404] Local rendezvous is aborting with status: OUT_OF_RANGE: End of sequence\n"
     ]
    },
    {
     "name": "stdout",
     "output_type": "stream",
     "text": [
      "{'precision': <tf.Tensor: shape=(), dtype=float32, numpy=0.44268665>, 'recall': <tf.Tensor: shape=(), dtype=float32, numpy=0.42132393>, 'f1_score': <tf.Tensor: shape=(), dtype=float32, numpy=0.4013494>}\n",
      "{'precision': <tf.Tensor: shape=(), dtype=float32, numpy=0.17429194>, 'recall': <tf.Tensor: shape=(), dtype=float32, numpy=0.1660634>, 'f1_score': <tf.Tensor: shape=(), dtype=float32, numpy=0.15731376>}\n",
      "{'precision': <tf.Tensor: shape=(), dtype=float32, numpy=0.34823817>, 'recall': <tf.Tensor: shape=(), dtype=float32, numpy=0.33282977>, 'f1_score': <tf.Tensor: shape=(), dtype=float32, numpy=0.31601635>}\n",
      "\u001b[1m1842/1842\u001b[0m \u001b[32m━━━━━━━━━━━━━━━━━━━━\u001b[0m\u001b[37m\u001b[0m \u001b[1m170s\u001b[0m 90ms/step - accuracy: 0.5605 - loss: 0.8255 - val_accuracy: 0.5742 - val_loss: 0.7860\n",
      "Epoch 5/20\n",
      "\u001b[1m1841/1842\u001b[0m \u001b[32m━━━━━━━━━━━━━━━━━━━\u001b[0m\u001b[37m━\u001b[0m \u001b[1m0s\u001b[0m 60ms/step - accuracy: 0.5667 - loss: 0.8106"
     ]
    },
    {
     "name": "stderr",
     "output_type": "stream",
     "text": [
      "2024-08-08 14:36:47.581665: W tensorflow/core/framework/local_rendezvous.cc:404] Local rendezvous is aborting with status: OUT_OF_RANGE: End of sequence\n",
      "2024-08-08 14:37:05.920887: W tensorflow/core/framework/local_rendezvous.cc:404] Local rendezvous is aborting with status: OUT_OF_RANGE: End of sequence\n"
     ]
    },
    {
     "name": "stdout",
     "output_type": "stream",
     "text": [
      "{'precision': <tf.Tensor: shape=(), dtype=float32, numpy=0.4458177>, 'recall': <tf.Tensor: shape=(), dtype=float32, numpy=0.42647338>, 'f1_score': <tf.Tensor: shape=(), dtype=float32, numpy=0.4070541>}\n",
      "{'precision': <tf.Tensor: shape=(), dtype=float32, numpy=0.17078806>, 'recall': <tf.Tensor: shape=(), dtype=float32, numpy=0.16888773>, 'f1_score': <tf.Tensor: shape=(), dtype=float32, numpy=0.15745376>}\n",
      "{'precision': <tf.Tensor: shape=(), dtype=float32, numpy=0.3488235>, 'recall': <tf.Tensor: shape=(), dtype=float32, numpy=0.33661067>, 'f1_score': <tf.Tensor: shape=(), dtype=float32, numpy=0.31969625>}\n",
      "\u001b[1m1842/1842\u001b[0m \u001b[32m━━━━━━━━━━━━━━━━━━━━\u001b[0m\u001b[37m\u001b[0m \u001b[1m170s\u001b[0m 91ms/step - accuracy: 0.5667 - loss: 0.8106 - val_accuracy: 0.5768 - val_loss: 0.7798\n",
      "Epoch 6/20\n",
      "\u001b[1m1841/1842\u001b[0m \u001b[32m━━━━━━━━━━━━━━━━━━━\u001b[0m\u001b[37m━\u001b[0m \u001b[1m0s\u001b[0m 58ms/step - accuracy: 0.5703 - loss: 0.7994"
     ]
    },
    {
     "name": "stderr",
     "output_type": "stream",
     "text": [
      "2024-08-08 14:39:34.357306: W tensorflow/core/framework/local_rendezvous.cc:404] Local rendezvous is aborting with status: OUT_OF_RANGE: End of sequence\n",
      "2024-08-08 14:39:52.706979: W tensorflow/core/framework/local_rendezvous.cc:404] Local rendezvous is aborting with status: OUT_OF_RANGE: End of sequence\n"
     ]
    },
    {
     "name": "stdout",
     "output_type": "stream",
     "text": [
      "{'precision': <tf.Tensor: shape=(), dtype=float32, numpy=0.43662992>, 'recall': <tf.Tensor: shape=(), dtype=float32, numpy=0.4319689>, 'f1_score': <tf.Tensor: shape=(), dtype=float32, numpy=0.40392858>}\n",
      "{'precision': <tf.Tensor: shape=(), dtype=float32, numpy=0.17100412>, 'recall': <tf.Tensor: shape=(), dtype=float32, numpy=0.17135504>, 'f1_score': <tf.Tensor: shape=(), dtype=float32, numpy=0.15822515>}\n",
      "{'precision': <tf.Tensor: shape=(), dtype=float32, numpy=0.34417292>, 'recall': <tf.Tensor: shape=(), dtype=float32, numpy=0.34323722>, 'f1_score': <tf.Tensor: shape=(), dtype=float32, numpy=0.31927538>}\n",
      "\u001b[1m1842/1842\u001b[0m \u001b[32m━━━━━━━━━━━━━━━━━━━━\u001b[0m\u001b[37m\u001b[0m \u001b[1m167s\u001b[0m 89ms/step - accuracy: 0.5703 - loss: 0.7994 - val_accuracy: 0.5783 - val_loss: 0.7751\n",
      "Epoch 7/20\n",
      "\u001b[1m1841/1842\u001b[0m \u001b[32m━━━━━━━━━━━━━━━━━━━\u001b[0m\u001b[37m━\u001b[0m \u001b[1m0s\u001b[0m 58ms/step - accuracy: 0.5746 - loss: 0.7881"
     ]
    },
    {
     "name": "stderr",
     "output_type": "stream",
     "text": [
      "2024-08-08 14:42:21.010340: W tensorflow/core/framework/local_rendezvous.cc:404] Local rendezvous is aborting with status: OUT_OF_RANGE: End of sequence\n",
      "2024-08-08 14:42:44.398267: W tensorflow/core/framework/local_rendezvous.cc:404] Local rendezvous is aborting with status: OUT_OF_RANGE: End of sequence\n"
     ]
    },
    {
     "name": "stdout",
     "output_type": "stream",
     "text": [
      "{'precision': <tf.Tensor: shape=(), dtype=float32, numpy=0.4406556>, 'recall': <tf.Tensor: shape=(), dtype=float32, numpy=0.4316198>, 'f1_score': <tf.Tensor: shape=(), dtype=float32, numpy=0.40499672>}\n",
      "{'precision': <tf.Tensor: shape=(), dtype=float32, numpy=0.17107219>, 'recall': <tf.Tensor: shape=(), dtype=float32, numpy=0.17352144>, 'f1_score': <tf.Tensor: shape=(), dtype=float32, numpy=0.15848958>}\n",
      "{'precision': <tf.Tensor: shape=(), dtype=float32, numpy=0.3469915>, 'recall': <tf.Tensor: shape=(), dtype=float32, numpy=0.34336665>, 'f1_score': <tf.Tensor: shape=(), dtype=float32, numpy=0.32026815>}\n",
      "\u001b[1m1842/1842\u001b[0m \u001b[32m━━━━━━━━━━━━━━━━━━━━\u001b[0m\u001b[37m\u001b[0m \u001b[1m172s\u001b[0m 92ms/step - accuracy: 0.5746 - loss: 0.7881 - val_accuracy: 0.5798 - val_loss: 0.7714\n",
      "Epoch 8/20\n",
      "\u001b[1m1841/1842\u001b[0m \u001b[32m━━━━━━━━━━━━━━━━━━━\u001b[0m\u001b[37m━\u001b[0m \u001b[1m0s\u001b[0m 58ms/step - accuracy: 0.5778 - loss: 0.7788"
     ]
    },
    {
     "name": "stderr",
     "output_type": "stream",
     "text": [
      "2024-08-08 14:45:14.264288: W tensorflow/core/framework/local_rendezvous.cc:404] Local rendezvous is aborting with status: OUT_OF_RANGE: End of sequence\n",
      "2024-08-08 14:45:33.004087: W tensorflow/core/framework/local_rendezvous.cc:404] Local rendezvous is aborting with status: OUT_OF_RANGE: End of sequence\n"
     ]
    },
    {
     "name": "stdout",
     "output_type": "stream",
     "text": [
      "{'precision': <tf.Tensor: shape=(), dtype=float32, numpy=0.4453753>, 'recall': <tf.Tensor: shape=(), dtype=float32, numpy=0.43980795>, 'f1_score': <tf.Tensor: shape=(), dtype=float32, numpy=0.412732>}\n",
      "{'precision': <tf.Tensor: shape=(), dtype=float32, numpy=0.17578761>, 'recall': <tf.Tensor: shape=(), dtype=float32, numpy=0.1815278>, 'f1_score': <tf.Tensor: shape=(), dtype=float32, numpy=0.16467197>}\n",
      "{'precision': <tf.Tensor: shape=(), dtype=float32, numpy=0.34871218>, 'recall': <tf.Tensor: shape=(), dtype=float32, numpy=0.3482497>, 'f1_score': <tf.Tensor: shape=(), dtype=float32, numpy=0.32450262>}\n",
      "\u001b[1m1842/1842\u001b[0m \u001b[32m━━━━━━━━━━━━━━━━━━━━\u001b[0m\u001b[37m\u001b[0m \u001b[1m168s\u001b[0m 90ms/step - accuracy: 0.5778 - loss: 0.7788 - val_accuracy: 0.5808 - val_loss: 0.7689\n",
      "Epoch 9/20\n",
      "\u001b[1m1841/1842\u001b[0m \u001b[32m━━━━━━━━━━━━━━━━━━━\u001b[0m\u001b[37m━\u001b[0m \u001b[1m0s\u001b[0m 58ms/step - accuracy: 0.5815 - loss: 0.7698"
     ]
    },
    {
     "name": "stderr",
     "output_type": "stream",
     "text": [
      "2024-08-08 14:48:02.347020: W tensorflow/core/framework/local_rendezvous.cc:404] Local rendezvous is aborting with status: OUT_OF_RANGE: End of sequence\n",
      "2024-08-08 14:48:21.670691: W tensorflow/core/framework/local_rendezvous.cc:404] Local rendezvous is aborting with status: OUT_OF_RANGE: End of sequence\n"
     ]
    },
    {
     "name": "stdout",
     "output_type": "stream",
     "text": [
      "{'precision': <tf.Tensor: shape=(), dtype=float32, numpy=0.44164193>, 'recall': <tf.Tensor: shape=(), dtype=float32, numpy=0.44475752>, 'f1_score': <tf.Tensor: shape=(), dtype=float32, numpy=0.4146651>}\n",
      "{'precision': <tf.Tensor: shape=(), dtype=float32, numpy=0.1737833>, 'recall': <tf.Tensor: shape=(), dtype=float32, numpy=0.17875992>, 'f1_score': <tf.Tensor: shape=(), dtype=float32, numpy=0.1644013>}\n",
      "{'precision': <tf.Tensor: shape=(), dtype=float32, numpy=0.34522822>, 'recall': <tf.Tensor: shape=(), dtype=float32, numpy=0.35023662>, 'f1_score': <tf.Tensor: shape=(), dtype=float32, numpy=0.32514915>}\n",
      "\u001b[1m1842/1842\u001b[0m \u001b[32m━━━━━━━━━━━━━━━━━━━━\u001b[0m\u001b[37m\u001b[0m \u001b[1m169s\u001b[0m 90ms/step - accuracy: 0.5815 - loss: 0.7698 - val_accuracy: 0.5832 - val_loss: 0.7656\n",
      "Epoch 10/20\n",
      "\u001b[1m1841/1842\u001b[0m \u001b[32m━━━━━━━━━━━━━━━━━━━\u001b[0m\u001b[37m━\u001b[0m \u001b[1m0s\u001b[0m 61ms/step - accuracy: 0.5854 - loss: 0.7604"
     ]
    },
    {
     "name": "stderr",
     "output_type": "stream",
     "text": [
      "2024-08-08 14:50:56.882326: W tensorflow/core/framework/local_rendezvous.cc:404] Local rendezvous is aborting with status: OUT_OF_RANGE: End of sequence\n",
      "2024-08-08 14:51:16.019417: W tensorflow/core/framework/local_rendezvous.cc:404] Local rendezvous is aborting with status: OUT_OF_RANGE: End of sequence\n"
     ]
    },
    {
     "name": "stdout",
     "output_type": "stream",
     "text": [
      "{'precision': <tf.Tensor: shape=(), dtype=float32, numpy=0.4575924>, 'recall': <tf.Tensor: shape=(), dtype=float32, numpy=0.43926734>, 'f1_score': <tf.Tensor: shape=(), dtype=float32, numpy=0.4186241>}\n",
      "{'precision': <tf.Tensor: shape=(), dtype=float32, numpy=0.18367189>, 'recall': <tf.Tensor: shape=(), dtype=float32, numpy=0.1773209>, 'f1_score': <tf.Tensor: shape=(), dtype=float32, numpy=0.16777973>}\n",
      "{'precision': <tf.Tensor: shape=(), dtype=float32, numpy=0.35891545>, 'recall': <tf.Tensor: shape=(), dtype=float32, numpy=0.34810546>, 'f1_score': <tf.Tensor: shape=(), dtype=float32, numpy=0.32968462>}\n",
      "\u001b[1m1842/1842\u001b[0m \u001b[32m━━━━━━━━━━━━━━━━━━━━\u001b[0m\u001b[37m\u001b[0m \u001b[1m175s\u001b[0m 93ms/step - accuracy: 0.5854 - loss: 0.7603 - val_accuracy: 0.5851 - val_loss: 0.7627\n",
      "Epoch 11/20\n",
      "\u001b[1m1841/1842\u001b[0m \u001b[32m━━━━━━━━━━━━━━━━━━━\u001b[0m\u001b[37m━\u001b[0m \u001b[1m0s\u001b[0m 61ms/step - accuracy: 0.5879 - loss: 0.7542"
     ]
    },
    {
     "name": "stderr",
     "output_type": "stream",
     "text": [
      "2024-08-08 14:53:52.259239: W tensorflow/core/framework/local_rendezvous.cc:404] Local rendezvous is aborting with status: OUT_OF_RANGE: End of sequence\n",
      "2024-08-08 14:54:11.657429: W tensorflow/core/framework/local_rendezvous.cc:404] Local rendezvous is aborting with status: OUT_OF_RANGE: End of sequence\n"
     ]
    },
    {
     "name": "stdout",
     "output_type": "stream",
     "text": [
      "{'precision': <tf.Tensor: shape=(), dtype=float32, numpy=0.44573218>, 'recall': <tf.Tensor: shape=(), dtype=float32, numpy=0.4359546>, 'f1_score': <tf.Tensor: shape=(), dtype=float32, numpy=0.4127019>}\n",
      "{'precision': <tf.Tensor: shape=(), dtype=float32, numpy=0.18089122>, 'recall': <tf.Tensor: shape=(), dtype=float32, numpy=0.18035346>, 'f1_score': <tf.Tensor: shape=(), dtype=float32, numpy=0.16774179>}\n",
      "{'precision': <tf.Tensor: shape=(), dtype=float32, numpy=0.34881562>, 'recall': <tf.Tensor: shape=(), dtype=float32, numpy=0.3440367>, 'f1_score': <tf.Tensor: shape=(), dtype=float32, numpy=0.3238558>}\n",
      "\u001b[1m1842/1842\u001b[0m \u001b[32m━━━━━━━━━━━━━━━━━━━━\u001b[0m\u001b[37m\u001b[0m \u001b[1m175s\u001b[0m 93ms/step - accuracy: 0.5879 - loss: 0.7542 - val_accuracy: 0.5859 - val_loss: 0.7612\n",
      "Epoch 12/20\n",
      "\u001b[1m1841/1842\u001b[0m \u001b[32m━━━━━━━━━━━━━━━━━━━\u001b[0m\u001b[37m━\u001b[0m \u001b[1m0s\u001b[0m 61ms/step - accuracy: 0.5905 - loss: 0.7459"
     ]
    },
    {
     "name": "stderr",
     "output_type": "stream",
     "text": [
      "2024-08-08 14:56:51.148120: W tensorflow/core/framework/local_rendezvous.cc:404] Local rendezvous is aborting with status: OUT_OF_RANGE: End of sequence\n",
      "2024-08-08 14:57:11.128107: W tensorflow/core/framework/local_rendezvous.cc:404] Local rendezvous is aborting with status: OUT_OF_RANGE: End of sequence\n"
     ]
    },
    {
     "name": "stdout",
     "output_type": "stream",
     "text": [
      "{'precision': <tf.Tensor: shape=(), dtype=float32, numpy=0.4493873>, 'recall': <tf.Tensor: shape=(), dtype=float32, numpy=0.43980938>, 'f1_score': <tf.Tensor: shape=(), dtype=float32, numpy=0.4139019>}\n",
      "{'precision': <tf.Tensor: shape=(), dtype=float32, numpy=0.18010135>, 'recall': <tf.Tensor: shape=(), dtype=float32, numpy=0.17637236>, 'f1_score': <tf.Tensor: shape=(), dtype=float32, numpy=0.16475292>}\n",
      "{'precision': <tf.Tensor: shape=(), dtype=float32, numpy=0.35235047>, 'recall': <tf.Tensor: shape=(), dtype=float32, numpy=0.3464105>, 'f1_score': <tf.Tensor: shape=(), dtype=float32, numpy=0.32473665>}\n",
      "\u001b[1m1842/1842\u001b[0m \u001b[32m━━━━━━━━━━━━━━━━━━━━\u001b[0m\u001b[37m\u001b[0m \u001b[1m179s\u001b[0m 96ms/step - accuracy: 0.5905 - loss: 0.7459 - val_accuracy: 0.5861 - val_loss: 0.7597\n",
      "Epoch 13/20\n",
      "\u001b[1m1842/1842\u001b[0m \u001b[32m━━━━━━━━━━━━━━━━━━━━\u001b[0m\u001b[37m\u001b[0m \u001b[1m0s\u001b[0m 61ms/step - accuracy: 0.5944 - loss: 0.7370"
     ]
    },
    {
     "name": "stderr",
     "output_type": "stream",
     "text": [
      "2024-08-08 14:59:46.377580: W tensorflow/core/framework/local_rendezvous.cc:404] Local rendezvous is aborting with status: OUT_OF_RANGE: End of sequence\n",
      "2024-08-08 15:00:05.536264: W tensorflow/core/framework/local_rendezvous.cc:404] Local rendezvous is aborting with status: OUT_OF_RANGE: End of sequence\n"
     ]
    },
    {
     "name": "stdout",
     "output_type": "stream",
     "text": [
      "{'precision': <tf.Tensor: shape=(), dtype=float32, numpy=0.45611215>, 'recall': <tf.Tensor: shape=(), dtype=float32, numpy=0.4468508>, 'f1_score': <tf.Tensor: shape=(), dtype=float32, numpy=0.4221129>}\n",
      "{'precision': <tf.Tensor: shape=(), dtype=float32, numpy=0.18798019>, 'recall': <tf.Tensor: shape=(), dtype=float32, numpy=0.1848344>, 'f1_score': <tf.Tensor: shape=(), dtype=float32, numpy=0.1730464>}\n",
      "{'precision': <tf.Tensor: shape=(), dtype=float32, numpy=0.36269265>, 'recall': <tf.Tensor: shape=(), dtype=float32, numpy=0.3570571>, 'f1_score': <tf.Tensor: shape=(), dtype=float32, numpy=0.33642548>}\n",
      "\u001b[1m1842/1842\u001b[0m \u001b[32m━━━━━━━━━━━━━━━━━━━━\u001b[0m\u001b[37m\u001b[0m \u001b[1m175s\u001b[0m 93ms/step - accuracy: 0.5944 - loss: 0.7370 - val_accuracy: 0.5868 - val_loss: 0.7579\n",
      "Epoch 14/20\n",
      "\u001b[1m1841/1842\u001b[0m \u001b[32m━━━━━━━━━━━━━━━━━━━\u001b[0m\u001b[37m━\u001b[0m \u001b[1m0s\u001b[0m 61ms/step - accuracy: 0.5972 - loss: 0.7311"
     ]
    },
    {
     "name": "stderr",
     "output_type": "stream",
     "text": [
      "2024-08-08 15:02:39.701701: W tensorflow/core/framework/local_rendezvous.cc:404] Local rendezvous is aborting with status: OUT_OF_RANGE: End of sequence\n",
      "2024-08-08 15:02:58.555595: W tensorflow/core/framework/local_rendezvous.cc:404] Local rendezvous is aborting with status: OUT_OF_RANGE: End of sequence\n"
     ]
    },
    {
     "name": "stdout",
     "output_type": "stream",
     "text": [
      "{'precision': <tf.Tensor: shape=(), dtype=float32, numpy=0.45362756>, 'recall': <tf.Tensor: shape=(), dtype=float32, numpy=0.44166845>, 'f1_score': <tf.Tensor: shape=(), dtype=float32, numpy=0.4180188>}\n",
      "{'precision': <tf.Tensor: shape=(), dtype=float32, numpy=0.18184929>, 'recall': <tf.Tensor: shape=(), dtype=float32, numpy=0.1841556>, 'f1_score': <tf.Tensor: shape=(), dtype=float32, numpy=0.16980223>}\n",
      "{'precision': <tf.Tensor: shape=(), dtype=float32, numpy=0.35693532>, 'recall': <tf.Tensor: shape=(), dtype=float32, numpy=0.3517372>, 'f1_score': <tf.Tensor: shape=(), dtype=float32, numpy=0.3304634>}\n",
      "\u001b[1m1842/1842\u001b[0m \u001b[32m━━━━━━━━━━━━━━━━━━━━\u001b[0m\u001b[37m\u001b[0m \u001b[1m173s\u001b[0m 92ms/step - accuracy: 0.5972 - loss: 0.7311 - val_accuracy: 0.5874 - val_loss: 0.7563\n",
      "Epoch 15/20\n",
      "\u001b[1m1842/1842\u001b[0m \u001b[32m━━━━━━━━━━━━━━━━━━━━\u001b[0m\u001b[37m\u001b[0m \u001b[1m0s\u001b[0m 57ms/step - accuracy: 0.5986 - loss: 0.7253"
     ]
    },
    {
     "name": "stderr",
     "output_type": "stream",
     "text": [
      "2024-08-08 15:05:28.262599: W tensorflow/core/framework/local_rendezvous.cc:404] Local rendezvous is aborting with status: OUT_OF_RANGE: End of sequence\n",
      "2024-08-08 15:05:47.963352: W tensorflow/core/framework/local_rendezvous.cc:404] Local rendezvous is aborting with status: OUT_OF_RANGE: End of sequence\n"
     ]
    },
    {
     "name": "stdout",
     "output_type": "stream",
     "text": [
      "{'precision': <tf.Tensor: shape=(), dtype=float32, numpy=0.46175587>, 'recall': <tf.Tensor: shape=(), dtype=float32, numpy=0.44063202>, 'f1_score': <tf.Tensor: shape=(), dtype=float32, numpy=0.42139265>}\n",
      "{'precision': <tf.Tensor: shape=(), dtype=float32, numpy=0.18368043>, 'recall': <tf.Tensor: shape=(), dtype=float32, numpy=0.18170793>, 'f1_score': <tf.Tensor: shape=(), dtype=float32, numpy=0.16991416>}\n",
      "{'precision': <tf.Tensor: shape=(), dtype=float32, numpy=0.36257687>, 'recall': <tf.Tensor: shape=(), dtype=float32, numpy=0.35021752>, 'f1_score': <tf.Tensor: shape=(), dtype=float32, numpy=0.33277932>}\n",
      "\u001b[1m1842/1842\u001b[0m \u001b[32m━━━━━━━━━━━━━━━━━━━━\u001b[0m\u001b[37m\u001b[0m \u001b[1m169s\u001b[0m 90ms/step - accuracy: 0.5986 - loss: 0.7253 - val_accuracy: 0.5881 - val_loss: 0.7557\n",
      "Epoch 16/20\n",
      "\u001b[1m1841/1842\u001b[0m \u001b[32m━━━━━━━━━━━━━━━━━━━\u001b[0m\u001b[37m━\u001b[0m \u001b[1m0s\u001b[0m 55ms/step - accuracy: 0.6019 - loss: 0.7183"
     ]
    },
    {
     "name": "stderr",
     "output_type": "stream",
     "text": [
      "2024-08-08 15:08:10.154937: W tensorflow/core/framework/local_rendezvous.cc:404] Local rendezvous is aborting with status: OUT_OF_RANGE: End of sequence\n",
      "2024-08-08 15:08:28.534938: W tensorflow/core/framework/local_rendezvous.cc:404] Local rendezvous is aborting with status: OUT_OF_RANGE: End of sequence\n"
     ]
    },
    {
     "name": "stdout",
     "output_type": "stream",
     "text": [
      "{'precision': <tf.Tensor: shape=(), dtype=float32, numpy=0.45633844>, 'recall': <tf.Tensor: shape=(), dtype=float32, numpy=0.45157945>, 'f1_score': <tf.Tensor: shape=(), dtype=float32, numpy=0.42642918>}\n",
      "{'precision': <tf.Tensor: shape=(), dtype=float32, numpy=0.18421026>, 'recall': <tf.Tensor: shape=(), dtype=float32, numpy=0.18367101>, 'f1_score': <tf.Tensor: shape=(), dtype=float32, numpy=0.17163925>}\n",
      "{'precision': <tf.Tensor: shape=(), dtype=float32, numpy=0.36056477>, 'recall': <tf.Tensor: shape=(), dtype=float32, numpy=0.35837054>, 'f1_score': <tf.Tensor: shape=(), dtype=float32, numpy=0.3372834>}\n",
      "\u001b[1m1842/1842\u001b[0m \u001b[32m━━━━━━━━━━━━━━━━━━━━\u001b[0m\u001b[37m\u001b[0m \u001b[1m160s\u001b[0m 86ms/step - accuracy: 0.6019 - loss: 0.7183 - val_accuracy: 0.5884 - val_loss: 0.7546\n",
      "Epoch 17/20\n",
      "\u001b[1m1841/1842\u001b[0m \u001b[32m━━━━━━━━━━━━━━━━━━━\u001b[0m\u001b[37m━\u001b[0m \u001b[1m0s\u001b[0m 54ms/step - accuracy: 0.6038 - loss: 0.7118"
     ]
    },
    {
     "name": "stderr",
     "output_type": "stream",
     "text": [
      "2024-08-08 15:10:54.901009: W tensorflow/core/framework/local_rendezvous.cc:404] Local rendezvous is aborting with status: OUT_OF_RANGE: End of sequence\n",
      "2024-08-08 15:11:14.722303: W tensorflow/core/framework/local_rendezvous.cc:404] Local rendezvous is aborting with status: OUT_OF_RANGE: End of sequence\n"
     ]
    },
    {
     "name": "stdout",
     "output_type": "stream",
     "text": [
      "{'precision': <tf.Tensor: shape=(), dtype=float32, numpy=0.46064687>, 'recall': <tf.Tensor: shape=(), dtype=float32, numpy=0.45294297>, 'f1_score': <tf.Tensor: shape=(), dtype=float32, numpy=0.42669365>}\n",
      "{'precision': <tf.Tensor: shape=(), dtype=float32, numpy=0.19326055>, 'recall': <tf.Tensor: shape=(), dtype=float32, numpy=0.19151129>, 'f1_score': <tf.Tensor: shape=(), dtype=float32, numpy=0.17826505>}\n",
      "{'precision': <tf.Tensor: shape=(), dtype=float32, numpy=0.36705402>, 'recall': <tf.Tensor: shape=(), dtype=float32, numpy=0.3609194>, 'f1_score': <tf.Tensor: shape=(), dtype=float32, numpy=0.33954948>}\n",
      "\u001b[1m1842/1842\u001b[0m \u001b[32m━━━━━━━━━━━━━━━━━━━━\u001b[0m\u001b[37m\u001b[0m \u001b[1m168s\u001b[0m 90ms/step - accuracy: 0.6038 - loss: 0.7118 - val_accuracy: 0.5889 - val_loss: 0.7541\n",
      "Epoch 18/20\n",
      "\u001b[1m1841/1842\u001b[0m \u001b[32m━━━━━━━━━━━━━━━━━━━\u001b[0m\u001b[37m━\u001b[0m \u001b[1m0s\u001b[0m 54ms/step - accuracy: 0.6070 - loss: 0.7052"
     ]
    },
    {
     "name": "stderr",
     "output_type": "stream",
     "text": [
      "2024-08-08 15:13:38.281865: W tensorflow/core/framework/local_rendezvous.cc:404] Local rendezvous is aborting with status: OUT_OF_RANGE: End of sequence\n",
      "2024-08-08 15:13:57.010148: W tensorflow/core/framework/local_rendezvous.cc:404] Local rendezvous is aborting with status: OUT_OF_RANGE: End of sequence\n"
     ]
    },
    {
     "name": "stdout",
     "output_type": "stream",
     "text": [
      "{'precision': <tf.Tensor: shape=(), dtype=float32, numpy=0.4562745>, 'recall': <tf.Tensor: shape=(), dtype=float32, numpy=0.44752476>, 'f1_score': <tf.Tensor: shape=(), dtype=float32, numpy=0.42258444>}\n",
      "{'precision': <tf.Tensor: shape=(), dtype=float32, numpy=0.1888778>, 'recall': <tf.Tensor: shape=(), dtype=float32, numpy=0.18883617>, 'f1_score': <tf.Tensor: shape=(), dtype=float32, numpy=0.17599723>}\n",
      "{'precision': <tf.Tensor: shape=(), dtype=float32, numpy=0.35941365>, 'recall': <tf.Tensor: shape=(), dtype=float32, numpy=0.35421488>, 'f1_score': <tf.Tensor: shape=(), dtype=float32, numpy=0.33347613>}\n",
      "\u001b[1m1842/1842\u001b[0m \u001b[32m━━━━━━━━━━━━━━━━━━━━\u001b[0m\u001b[37m\u001b[0m \u001b[1m161s\u001b[0m 86ms/step - accuracy: 0.6070 - loss: 0.7052 - val_accuracy: 0.5896 - val_loss: 0.7539\n",
      "Epoch 19/20\n",
      "\u001b[1m1841/1842\u001b[0m \u001b[32m━━━━━━━━━━━━━━━━━━━\u001b[0m\u001b[37m━\u001b[0m \u001b[1m0s\u001b[0m 55ms/step - accuracy: 0.6084 - loss: 0.6994"
     ]
    },
    {
     "name": "stderr",
     "output_type": "stream",
     "text": [
      "2024-08-08 15:16:19.960426: W tensorflow/core/framework/local_rendezvous.cc:404] Local rendezvous is aborting with status: OUT_OF_RANGE: End of sequence\n",
      "2024-08-08 15:16:38.224661: W tensorflow/core/framework/local_rendezvous.cc:404] Local rendezvous is aborting with status: OUT_OF_RANGE: End of sequence\n"
     ]
    },
    {
     "name": "stdout",
     "output_type": "stream",
     "text": [
      "{'precision': <tf.Tensor: shape=(), dtype=float32, numpy=0.4577244>, 'recall': <tf.Tensor: shape=(), dtype=float32, numpy=0.4425816>, 'f1_score': <tf.Tensor: shape=(), dtype=float32, numpy=0.4210778>}\n",
      "{'precision': <tf.Tensor: shape=(), dtype=float32, numpy=0.18900166>, 'recall': <tf.Tensor: shape=(), dtype=float32, numpy=0.18431038>, 'f1_score': <tf.Tensor: shape=(), dtype=float32, numpy=0.17386019>}\n",
      "{'precision': <tf.Tensor: shape=(), dtype=float32, numpy=0.36286753>, 'recall': <tf.Tensor: shape=(), dtype=float32, numpy=0.35184857>, 'f1_score': <tf.Tensor: shape=(), dtype=float32, numpy=0.33393154>}\n",
      "\u001b[1m1842/1842\u001b[0m \u001b[32m━━━━━━━━━━━━━━━━━━━━\u001b[0m\u001b[37m\u001b[0m \u001b[1m162s\u001b[0m 86ms/step - accuracy: 0.6084 - loss: 0.6994 - val_accuracy: 0.5895 - val_loss: 0.7534\n",
      "Epoch 20/20\n",
      "\u001b[1m1841/1842\u001b[0m \u001b[32m━━━━━━━━━━━━━━━━━━━\u001b[0m\u001b[37m━\u001b[0m \u001b[1m0s\u001b[0m 55ms/step - accuracy: 0.6105 - loss: 0.6941"
     ]
    },
    {
     "name": "stderr",
     "output_type": "stream",
     "text": [
      "2024-08-08 15:19:01.844938: W tensorflow/core/framework/local_rendezvous.cc:404] Local rendezvous is aborting with status: OUT_OF_RANGE: End of sequence\n",
      "2024-08-08 15:19:20.337782: W tensorflow/core/framework/local_rendezvous.cc:404] Local rendezvous is aborting with status: OUT_OF_RANGE: End of sequence\n"
     ]
    },
    {
     "name": "stdout",
     "output_type": "stream",
     "text": [
      "{'precision': <tf.Tensor: shape=(), dtype=float32, numpy=0.45091185>, 'recall': <tf.Tensor: shape=(), dtype=float32, numpy=0.45296562>, 'f1_score': <tf.Tensor: shape=(), dtype=float32, numpy=0.42245415>}\n",
      "{'precision': <tf.Tensor: shape=(), dtype=float32, numpy=0.18317097>, 'recall': <tf.Tensor: shape=(), dtype=float32, numpy=0.18714455>, 'f1_score': <tf.Tensor: shape=(), dtype=float32, numpy=0.1724192>}\n",
      "{'precision': <tf.Tensor: shape=(), dtype=float32, numpy=0.3568068>, 'recall': <tf.Tensor: shape=(), dtype=float32, numpy=0.36025295>, 'f1_score': <tf.Tensor: shape=(), dtype=float32, numpy=0.33491778>}\n",
      "\u001b[1m1842/1842\u001b[0m \u001b[32m━━━━━━━━━━━━━━━━━━━━\u001b[0m\u001b[37m\u001b[0m \u001b[1m162s\u001b[0m 87ms/step - accuracy: 0.6105 - loss: 0.6941 - val_accuracy: 0.5891 - val_loss: 0.7536\n",
      "0.7534153461456299 The best number of epocs for the validation loss is 19\n",
      "0.5895649194717407 The best number of epocs for the validation accuracy is 18\n"
     ]
    },
    {
     "data": {
      "image/png": "[encoded data removed]",
      "text/plain": [
       "<Figure size 640x480 with 2 Axes>"
      ]
     },
     "metadata": {},
     "output_type": "display_data"
    }
   ],
   "source": [
    "for learning_rate in [1e-5, 5e-6, 1e-6]:\n",
    "    bart_lm, filepath, history = build_bart_model(\n",
    "        training_data=train_ds,\n",
    "        validation_data=validation_ds,\n",
    "        learning_rate=learning_rate,\n",
    "        epochs=20,\n",
    "        is_saved=False,\n",
    "    )\n",
    "    plot(history=history, keys=[\"loss\", \"accuracy\"])\n"
   ]
  },
  {
   "cell_type": "markdown",
   "metadata": {},
   "source": [
    "### Note (Experiment Date: 2024-08-02 13:52:00~)\n",
    "\n",
    "- BART with pretrained model\n",
    "\n",
    "#### Result\n",
    "\n",
    "- Unexpectedly, `bart_base_en` model marked slightly better ROUGE score.\n",
    "\n",
    "_ | ROUGE-1 | ROUGE-2 | ROUGE-L\n",
    "--- | --- | --- | ---\n",
    "bart_large_en | 39.6 | 16.2 | 31.4\n",
    "bart_large_en_cnn | 41.2 | 16.7 | 33.1\n",
    "bart_base_en | 42.1 | 18.1 | 34.3\n",
    "\n",
    "#### Next\n",
    "\n",
    "- Calculate each ROUGE score for every epoch because it is not always that the highest accuracy or the least loss makes the best ROUGE.\n",
    "- Parameter-tuning of optimizer, even though it seems hard to improve the ROUGE score because training did not improve the validation loss and accuracy.\n",
    "- Bare Transformer model with the best number of epochs."
   ]
  },
  {
   "cell_type": "markdown",
   "metadata": {},
   "source": [
    "#### bart_large_en"
   ]
  },
  {
   "cell_type": "code",
   "execution_count": null,
   "metadata": {},
   "outputs": [],
   "source": [
    "bart_lm, filepath, history = build_bart_model(\n",
    "    training_data=train_ds,\n",
    "    validation_data=validation_ds,\n",
    "    preset_name=\"bart_large_en\",\n",
    "    is_saved=False,\n",
    ")\n",
    "plot(history=history, keys=[\"loss\", \"accuracy\"])\n",
    "\n",
    "best_epoch = max(np.argmin(history.history[f\"val_loss\"]), np.argmax(history.history[f\"val_accuracy\"]))\n",
    "best_epoch = best_epoch + 1\n",
    "print(\"The best epoch is\", best_epoch)\n",
    "bart_lm, filepath, _ = build_bart_model(\n",
    "    training_data=train_ds.concatenate(validation_ds),\n",
    "    validation_data=None,\n",
    "    epochs=best_epoch,\n",
    "    preset_name=\"bart_large_en\",\n",
    "    verbose=0,\n",
    "    is_saved=False,\n",
    ")"
   ]
  },
  {
   "cell_type": "code",
   "execution_count": null,
   "metadata": {},
   "outputs": [
    {
     "name": "stdout",
     "output_type": "stream",
     "text": [
      "Dialogue: b\"Hannah: Hey, do you have Betty's number?\\nAmanda: Lemme check\\nHannah: <file_gif>\\nAmanda: Sorry, can't find it.\\nAmanda: Ask Larry\\nAmanda: He called her last time we were at the park together\\nHannah: I don't know him well\\nHannah: <file_gif>\\nAmanda: Don't be shy, he's very nice\\nHannah: If you say so..\\nHannah: I'd rather you texted him\\nAmanda: Just text him \\xf0\\x9f\\x99\\x82\\nHannah: Urgh.. Alright\\nHannah: Bye\\nAmanda: Bye bye\"\n",
      "Generated Summary: Betty's number is not in Amanda's possession and Hannah will ask Larry if she could get it for Betty. Hannah is not sure about Betty. Hannah will let Amanda know when she can talk with her. Hannah will text him about the situation.\n",
      "Ground Truth Summary: b\"Hannah needs Betty's number but Amanda doesn't have it. She needs to contact Larry.\"\n",
      "=============================\n",
      "Dialogue: b\"Eric: MACHINE!\\r\\nRob: That's so gr8!\\r\\nEric: I know! And shows how Americans see Russian ;)\\r\\nRob: And it's really funny!\\r\\nEric: I know! I especially like the train part!\\r\\nRob: Hahaha! No one talks to the machine like that!\\r\\nEric: Is this his only stand-up?\\r\\nRob: Idk. I'll check.\\r\\nEric: Sure.\\r\\nRob: Turns out no! There are some of his stand-ups on youtube.\\r\\nEric: Gr8! I'll watch them now!\\r\\nRob: Me too!\\r\\nEric: MACHINE!\\r\\nRob: MACHINE!\\r\\nEric: TTYL?\\r\\nRob: Sure :)\"\n",
      "Generated Summary: Eric finds Russian stand-up funny. There are stand-up stand-up on youtube. Rob and Eric are talking about the Russian stand-up comedy on YouTube.\n",
      "Ground Truth Summary: b'Eric and Rob are going to watch a stand-up on youtube.'\n",
      "=============================\n",
      "Dialogue: b\"Lenny: Babe, can you help me with something?\\r\\nBob: Sure, what's up?\\r\\nLenny: Which one should I pick?\\r\\nBob: Send me photos\\r\\nLenny:  <file_photo>\\r\\nLenny:  <file_photo>\\r\\nLenny:  <file_photo>\\r\\nBob: I like the first ones best\\r\\nLenny: But I already have purple trousers. Does it make sense to have two pairs?\\r\\nBob: I have four black pairs :D :D\\r\\nLenny: yeah, but shouldn't I pick a different color?\\r\\nBob: what matters is what you'll give you the most outfit options\\r\\nLenny: So I guess I'll buy the first or the third pair then\\r\\nBob: Pick the best quality then\\r\\nLenny: ur right, thx\\r\\nBob: no prob :)\"\n",
      "Generated Summary: Lenny is looking for a pair of pants to buy. Bob helps her pick a pair of purple trousers. Bob is going to help Lenny choose the best one.\n",
      "Ground Truth Summary: b\"Lenny can't decide which trousers to buy. Bob advised Lenny on that topic. Lenny goes with Bob's advice to pick the trousers that are of best quality.\"\n",
      "=============================\n",
      "Dialogue: b\"Will: hey babe, what do you want for dinner tonight?\\r\\nEmma:  gah, don't even worry about it tonight\\r\\nWill: what do you mean? everything ok?\\r\\nEmma: not really, but it's ok, don't worry about cooking though, I'm not hungry\\r\\nWill: Well what time will you be home?\\r\\nEmma: soon, hopefully\\r\\nWill: you sure? Maybe you want me to pick you up?\\r\\nEmma: no no it's alright. I'll be home soon, i'll tell you when I get home. \\r\\nWill: Alright, love you. \\r\\nEmma: love you too. \"\n",
      "Generated Summary: \n",
      "Ground Truth Summary: b'Emma will be home soon and she will let Will know.'\n",
      "=============================\n",
      "Dialogue: b'Ollie: Hi , are you in Warsaw\\r\\nJane: yes, just back! Btw are you free for diner the 19th?\\r\\nOllie: nope!\\r\\nJane: and the  18th?\\r\\nOllie: nope, we have this party and you must be there, remember?\\r\\nJane: oh right! i lost my calendar..  thanks for reminding me\\r\\nOllie: we have lunch this week?\\r\\nJane: with pleasure!\\r\\nOllie: friday?\\r\\nJane: ok\\r\\nJane: what do you mean \" we don\\'t have any more whisky!\" lol..\\r\\nOllie: what!!!\\r\\nJane: you just call me and the all thing i heard was that sentence about whisky... what\\'s wrong with you?\\r\\nOllie: oh oh... very strange! i have to be carefull may be there is some spy in my mobile! lol\\r\\nJane: dont\\' worry, we\\'ll check on friday.\\r\\nOllie: don\\'t forget to bring some sun with you\\r\\nJane: I can\\'t wait to be in Morocco..\\r\\nOllie: enjoy and see you friday\\r\\nJane: sorry Ollie, i\\'m very busy, i won\\'t have time for lunch  tomorrow, but may be at 6pm after my courses?this trip to Morocco was so nice, but time consuming!\\r\\nOllie: ok for tea!\\r\\nJane: I\\'m on my way..\\r\\nOllie: tea is ready, did you bring the pastries?\\r\\nJane: I already ate them all... see you in a minute\\r\\nOllie: ok'\n",
      "Generated Summary: Ollie wants the 19th to be his birthday party. Jane lost her calendar and won't join. They will have lunch on Friday.\n",
      "Ground Truth Summary: b\"Jane is in Warsaw. Ollie and Jane has a party. Jane lost her calendar. They will get a lunch this week on Friday. Ollie accidentally called Jane and talked about whisky. Jane cancels lunch. They'll meet for a tea at 6 pm.\"\n",
      "=============================\n"
     ]
    }
   ],
   "source": [
    "dialogue, y_true, y_pred = generate_prediction_result(\n",
    "    bart_lm=bart_lm,\n",
    "    ds=test_ds.map(format_dataset_bart_seq2seq),\n",
    ")\n",
    "display_sampled_summary(\n",
    "    x=dialogue,\n",
    "    y_true=y_true,\n",
    "    y_pred=y_pred\n",
    ")"
   ]
  },
  {
   "cell_type": "code",
   "execution_count": null,
   "metadata": {},
   "outputs": [
    {
     "data": {
      "text/plain": [
       "({'precision': <tf.Tensor: shape=(), dtype=float32, numpy=0.4121847>,\n",
       "  'recall': <tf.Tensor: shape=(), dtype=float32, numpy=0.44109234>,\n",
       "  'f1_score': <tf.Tensor: shape=(), dtype=float32, numpy=0.39567354>},\n",
       " {'precision': <tf.Tensor: shape=(), dtype=float32, numpy=0.1710483>,\n",
       "  'recall': <tf.Tensor: shape=(), dtype=float32, numpy=0.18096353>,\n",
       "  'f1_score': <tf.Tensor: shape=(), dtype=float32, numpy=0.16223642>},\n",
       " {'precision': <tf.Tensor: shape=(), dtype=float32, numpy=0.32824823>,\n",
       "  'recall': <tf.Tensor: shape=(), dtype=float32, numpy=0.35013813>,\n",
       "  'f1_score': <tf.Tensor: shape=(), dtype=float32, numpy=0.31380486>})"
      ]
     },
     "metadata": {},
     "output_type": "display_data"
    }
   ],
   "source": [
    "calculate_rouge_score(\n",
    "    y_true=y_true,\n",
    "    y_pred=y_pred\n",
    ")"
   ]
  },
  {
   "cell_type": "markdown",
   "metadata": {},
   "source": [
    "#### bart_large_en_cnn"
   ]
  },
  {
   "cell_type": "code",
   "execution_count": null,
   "metadata": {},
   "outputs": [
    {
     "data": {
      "text/html": [
       "<pre style=\"white-space:pre;overflow-x:auto;line-height:normal;font-family:Menlo,'DejaVu Sans Mono',consolas,'Courier New',monospace\"><span style=\"font-weight: bold\">Preprocessor: \"bart_seq2_seq_lm_preprocessor\"</span>\n",
       "</pre>\n"
      ],
      "text/plain": [
       "\u001b[1mPreprocessor: \"bart_seq2_seq_lm_preprocessor\"\u001b[0m\n"
      ]
     },
     "metadata": {},
     "output_type": "display_data"
    },
    {
     "data": {
      "text/html": [
       "<pre style=\"white-space:pre;overflow-x:auto;line-height:normal;font-family:Menlo,'DejaVu Sans Mono',consolas,'Courier New',monospace\">┏━━━━━━━━━━━━━━━━━━━━━━━━━━━━━━━━━━━━━━━━━━━━━━━━━━━━┳━━━━━━━━━━━━━━━━━━━━━━━━━━━━━━━━━━━━━━━━━━━━━━━━━━━━━┓\n",
       "┃<span style=\"font-weight: bold\"> Tokenizer (type)                                   </span>┃<span style=\"font-weight: bold\">                                             Vocab # </span>┃\n",
       "┡━━━━━━━━━━━━━━━━━━━━━━━━━━━━━━━━━━━━━━━━━━━━━━━━━━━━╇━━━━━━━━━━━━━━━━━━━━━━━━━━━━━━━━━━━━━━━━━━━━━━━━━━━━━┩\n",
       "│ bart_tokenizer (<span style=\"color: #0087ff; text-decoration-color: #0087ff\">BartTokenizer</span>)                     │                                              <span style=\"color: #00af00; text-decoration-color: #00af00\">50,265</span> │\n",
       "└────────────────────────────────────────────────────┴─────────────────────────────────────────────────────┘\n",
       "</pre>\n"
      ],
      "text/plain": [
       "┏━━━━━━━━━━━━━━━━━━━━━━━━━━━━━━━━━━━━━━━━━━━━━━━━━━━━┳━━━━━━━━━━━━━━━━━━━━━━━━━━━━━━━━━━━━━━━━━━━━━━━━━━━━━┓\n",
       "┃\u001b[1m \u001b[0m\u001b[1mTokenizer (type)                                  \u001b[0m\u001b[1m \u001b[0m┃\u001b[1m \u001b[0m\u001b[1m                                            Vocab #\u001b[0m\u001b[1m \u001b[0m┃\n",
       "┡━━━━━━━━━━━━━━━━━━━━━━━━━━━━━━━━━━━━━━━━━━━━━━━━━━━━╇━━━━━━━━━━━━━━━━━━━━━━━━━━━━━━━━━━━━━━━━━━━━━━━━━━━━━┩\n",
       "│ bart_tokenizer (\u001b[38;5;33mBartTokenizer\u001b[0m)                     │                                              \u001b[38;5;34m50,265\u001b[0m │\n",
       "└────────────────────────────────────────────────────┴─────────────────────────────────────────────────────┘\n"
      ]
     },
     "metadata": {},
     "output_type": "display_data"
    },
    {
     "data": {
      "text/html": [
       "<pre style=\"white-space:pre;overflow-x:auto;line-height:normal;font-family:Menlo,'DejaVu Sans Mono',consolas,'Courier New',monospace\"><span style=\"font-weight: bold\">Model: \"bart_seq2_seq_lm\"</span>\n",
       "</pre>\n"
      ],
      "text/plain": [
       "\u001b[1mModel: \"bart_seq2_seq_lm\"\u001b[0m\n"
      ]
     },
     "metadata": {},
     "output_type": "display_data"
    },
    {
     "data": {
      "text/html": [
       "<pre style=\"white-space:pre;overflow-x:auto;line-height:normal;font-family:Menlo,'DejaVu Sans Mono',consolas,'Courier New',monospace\">┏━━━━━━━━━━━━━━━━━━━━━━━━━━━━━━━┳━━━━━━━━━━━━━━━━━━━━━━━━━━━┳━━━━━━━━━━━━━━━━━┳━━━━━━━━━━━━━━━━━━━━━━━━━━━━┓\n",
       "┃<span style=\"font-weight: bold\"> Layer (type)                  </span>┃<span style=\"font-weight: bold\"> Output Shape              </span>┃<span style=\"font-weight: bold\">         Param # </span>┃<span style=\"font-weight: bold\"> Connected to               </span>┃\n",
       "┡━━━━━━━━━━━━━━━━━━━━━━━━━━━━━━━╇━━━━━━━━━━━━━━━━━━━━━━━━━━━╇━━━━━━━━━━━━━━━━━╇━━━━━━━━━━━━━━━━━━━━━━━━━━━━┩\n",
       "│ decoder_padding_mask          │ (<span style=\"color: #00d7ff; text-decoration-color: #00d7ff\">None</span>, <span style=\"color: #00d7ff; text-decoration-color: #00d7ff\">None</span>)              │               <span style=\"color: #00af00; text-decoration-color: #00af00\">0</span> │ -                          │\n",
       "│ (<span style=\"color: #0087ff; text-decoration-color: #0087ff\">InputLayer</span>)                  │                           │                 │                            │\n",
       "├───────────────────────────────┼───────────────────────────┼─────────────────┼────────────────────────────┤\n",
       "│ decoder_token_ids             │ (<span style=\"color: #00d7ff; text-decoration-color: #00d7ff\">None</span>, <span style=\"color: #00d7ff; text-decoration-color: #00d7ff\">None</span>)              │               <span style=\"color: #00af00; text-decoration-color: #00af00\">0</span> │ -                          │\n",
       "│ (<span style=\"color: #0087ff; text-decoration-color: #0087ff\">InputLayer</span>)                  │                           │                 │                            │\n",
       "├───────────────────────────────┼───────────────────────────┼─────────────────┼────────────────────────────┤\n",
       "│ encoder_padding_mask          │ (<span style=\"color: #00d7ff; text-decoration-color: #00d7ff\">None</span>, <span style=\"color: #00d7ff; text-decoration-color: #00d7ff\">None</span>)              │               <span style=\"color: #00af00; text-decoration-color: #00af00\">0</span> │ -                          │\n",
       "│ (<span style=\"color: #0087ff; text-decoration-color: #0087ff\">InputLayer</span>)                  │                           │                 │                            │\n",
       "├───────────────────────────────┼───────────────────────────┼─────────────────┼────────────────────────────┤\n",
       "│ encoder_token_ids             │ (<span style=\"color: #00d7ff; text-decoration-color: #00d7ff\">None</span>, <span style=\"color: #00d7ff; text-decoration-color: #00d7ff\">None</span>)              │               <span style=\"color: #00af00; text-decoration-color: #00af00\">0</span> │ -                          │\n",
       "│ (<span style=\"color: #0087ff; text-decoration-color: #0087ff\">InputLayer</span>)                  │                           │                 │                            │\n",
       "├───────────────────────────────┼───────────────────────────┼─────────────────┼────────────────────────────┤\n",
       "│ bart_backbone (<span style=\"color: #0087ff; text-decoration-color: #0087ff\">BartBackbone</span>)  │ [(<span style=\"color: #00d7ff; text-decoration-color: #00d7ff\">None</span>, <span style=\"color: #00d7ff; text-decoration-color: #00d7ff\">None</span>, <span style=\"color: #00af00; text-decoration-color: #00af00\">1024</span>),      │     <span style=\"color: #00af00; text-decoration-color: #00af00\">406,286,336</span> │ decoder_padding_mask[<span style=\"color: #00af00; text-decoration-color: #00af00\">0</span>][<span style=\"color: #00af00; text-decoration-color: #00af00\">0</span>… │\n",
       "│                               │ (<span style=\"color: #00d7ff; text-decoration-color: #00d7ff\">None</span>, <span style=\"color: #00d7ff; text-decoration-color: #00d7ff\">None</span>, <span style=\"color: #00af00; text-decoration-color: #00af00\">1024</span>)]       │                 │ decoder_token_ids[<span style=\"color: #00af00; text-decoration-color: #00af00\">0</span>][<span style=\"color: #00af00; text-decoration-color: #00af00\">0</span>],   │\n",
       "│                               │                           │                 │ encoder_padding_mask[<span style=\"color: #00af00; text-decoration-color: #00af00\">0</span>][<span style=\"color: #00af00; text-decoration-color: #00af00\">0</span>… │\n",
       "│                               │                           │                 │ encoder_token_ids[<span style=\"color: #00af00; text-decoration-color: #00af00\">0</span>][<span style=\"color: #00af00; text-decoration-color: #00af00\">0</span>]    │\n",
       "├───────────────────────────────┼───────────────────────────┼─────────────────┼────────────────────────────┤\n",
       "│ token_embedding               │ (<span style=\"color: #00d7ff; text-decoration-color: #00d7ff\">None</span>, <span style=\"color: #00d7ff; text-decoration-color: #00d7ff\">None</span>, <span style=\"color: #00af00; text-decoration-color: #00af00\">50264</span>)       │      <span style=\"color: #00af00; text-decoration-color: #00af00\">51,470,336</span> │ bart_backbone[<span style=\"color: #00af00; text-decoration-color: #00af00\">0</span>][<span style=\"color: #00af00; text-decoration-color: #00af00\">0</span>]        │\n",
       "│ (<span style=\"color: #0087ff; text-decoration-color: #0087ff\">ReversibleEmbedding</span>)         │                           │                 │                            │\n",
       "└───────────────────────────────┴───────────────────────────┴─────────────────┴────────────────────────────┘\n",
       "</pre>\n"
      ],
      "text/plain": [
       "┏━━━━━━━━━━━━━━━━━━━━━━━━━━━━━━━┳━━━━━━━━━━━━━━━━━━━━━━━━━━━┳━━━━━━━━━━━━━━━━━┳━━━━━━━━━━━━━━━━━━━━━━━━━━━━┓\n",
       "┃\u001b[1m \u001b[0m\u001b[1mLayer (type)                 \u001b[0m\u001b[1m \u001b[0m┃\u001b[1m \u001b[0m\u001b[1mOutput Shape             \u001b[0m\u001b[1m \u001b[0m┃\u001b[1m \u001b[0m\u001b[1m        Param #\u001b[0m\u001b[1m \u001b[0m┃\u001b[1m \u001b[0m\u001b[1mConnected to              \u001b[0m\u001b[1m \u001b[0m┃\n",
       "┡━━━━━━━━━━━━━━━━━━━━━━━━━━━━━━━╇━━━━━━━━━━━━━━━━━━━━━━━━━━━╇━━━━━━━━━━━━━━━━━╇━━━━━━━━━━━━━━━━━━━━━━━━━━━━┩\n",
       "│ decoder_padding_mask          │ (\u001b[38;5;45mNone\u001b[0m, \u001b[38;5;45mNone\u001b[0m)              │               \u001b[38;5;34m0\u001b[0m │ -                          │\n",
       "│ (\u001b[38;5;33mInputLayer\u001b[0m)                  │                           │                 │                            │\n",
       "├───────────────────────────────┼───────────────────────────┼─────────────────┼────────────────────────────┤\n",
       "│ decoder_token_ids             │ (\u001b[38;5;45mNone\u001b[0m, \u001b[38;5;45mNone\u001b[0m)              │               \u001b[38;5;34m0\u001b[0m │ -                          │\n",
       "│ (\u001b[38;5;33mInputLayer\u001b[0m)                  │                           │                 │                            │\n",
       "├───────────────────────────────┼───────────────────────────┼─────────────────┼────────────────────────────┤\n",
       "│ encoder_padding_mask          │ (\u001b[38;5;45mNone\u001b[0m, \u001b[38;5;45mNone\u001b[0m)              │               \u001b[38;5;34m0\u001b[0m │ -                          │\n",
       "│ (\u001b[38;5;33mInputLayer\u001b[0m)                  │                           │                 │                            │\n",
       "├───────────────────────────────┼───────────────────────────┼─────────────────┼────────────────────────────┤\n",
       "│ encoder_token_ids             │ (\u001b[38;5;45mNone\u001b[0m, \u001b[38;5;45mNone\u001b[0m)              │               \u001b[38;5;34m0\u001b[0m │ -                          │\n",
       "│ (\u001b[38;5;33mInputLayer\u001b[0m)                  │                           │                 │                            │\n",
       "├───────────────────────────────┼───────────────────────────┼─────────────────┼────────────────────────────┤\n",
       "│ bart_backbone (\u001b[38;5;33mBartBackbone\u001b[0m)  │ [(\u001b[38;5;45mNone\u001b[0m, \u001b[38;5;45mNone\u001b[0m, \u001b[38;5;34m1024\u001b[0m),      │     \u001b[38;5;34m406,286,336\u001b[0m │ decoder_padding_mask[\u001b[38;5;34m0\u001b[0m][\u001b[38;5;34m0\u001b[0m… │\n",
       "│                               │ (\u001b[38;5;45mNone\u001b[0m, \u001b[38;5;45mNone\u001b[0m, \u001b[38;5;34m1024\u001b[0m)]       │                 │ decoder_token_ids[\u001b[38;5;34m0\u001b[0m][\u001b[38;5;34m0\u001b[0m],   │\n",
       "│                               │                           │                 │ encoder_padding_mask[\u001b[38;5;34m0\u001b[0m][\u001b[38;5;34m0\u001b[0m… │\n",
       "│                               │                           │                 │ encoder_token_ids[\u001b[38;5;34m0\u001b[0m][\u001b[38;5;34m0\u001b[0m]    │\n",
       "├───────────────────────────────┼───────────────────────────┼─────────────────┼────────────────────────────┤\n",
       "│ token_embedding               │ (\u001b[38;5;45mNone\u001b[0m, \u001b[38;5;45mNone\u001b[0m, \u001b[38;5;34m50264\u001b[0m)       │      \u001b[38;5;34m51,470,336\u001b[0m │ bart_backbone[\u001b[38;5;34m0\u001b[0m][\u001b[38;5;34m0\u001b[0m]        │\n",
       "│ (\u001b[38;5;33mReversibleEmbedding\u001b[0m)         │                           │                 │                            │\n",
       "└───────────────────────────────┴───────────────────────────┴─────────────────┴────────────────────────────┘\n"
      ]
     },
     "metadata": {},
     "output_type": "display_data"
    },
    {
     "data": {
      "text/html": [
       "<pre style=\"white-space:pre;overflow-x:auto;line-height:normal;font-family:Menlo,'DejaVu Sans Mono',consolas,'Courier New',monospace\"><span style=\"font-weight: bold\"> Total params: </span><span style=\"color: #00af00; text-decoration-color: #00af00\">406,286,336</span> (1.51 GB)\n",
       "</pre>\n"
      ],
      "text/plain": [
       "\u001b[1m Total params: \u001b[0m\u001b[38;5;34m406,286,336\u001b[0m (1.51 GB)\n"
      ]
     },
     "metadata": {},
     "output_type": "display_data"
    },
    {
     "data": {
      "text/html": [
       "<pre style=\"white-space:pre;overflow-x:auto;line-height:normal;font-family:Menlo,'DejaVu Sans Mono',consolas,'Courier New',monospace\"><span style=\"font-weight: bold\"> Trainable params: </span><span style=\"color: #00af00; text-decoration-color: #00af00\">406,286,336</span> (1.51 GB)\n",
       "</pre>\n"
      ],
      "text/plain": [
       "\u001b[1m Trainable params: \u001b[0m\u001b[38;5;34m406,286,336\u001b[0m (1.51 GB)\n"
      ]
     },
     "metadata": {},
     "output_type": "display_data"
    },
    {
     "data": {
      "text/html": [
       "<pre style=\"white-space:pre;overflow-x:auto;line-height:normal;font-family:Menlo,'DejaVu Sans Mono',consolas,'Courier New',monospace\"><span style=\"font-weight: bold\"> Non-trainable params: </span><span style=\"color: #00af00; text-decoration-color: #00af00\">0</span> (0.00 B)\n",
       "</pre>\n"
      ],
      "text/plain": [
       "\u001b[1m Non-trainable params: \u001b[0m\u001b[38;5;34m0\u001b[0m (0.00 B)\n"
      ]
     },
     "metadata": {},
     "output_type": "display_data"
    },
    {
     "name": "stdout",
     "output_type": "stream",
     "text": [
      "Epoch 1/5\n"
     ]
    },
    {
     "name": "stderr",
     "output_type": "stream",
     "text": [
      "WARNING: All log messages before absl::InitializeLog() is called are written to STDERR\n",
      "I0000 00:00:1723039751.564694   17621 service.cc:145] XLA service 0x7feaac012e00 initialized for platform CUDA (this does not guarantee that XLA will be used). Devices:\n",
      "I0000 00:00:1723039751.564836   17621 service.cc:153]   StreamExecutor device (0): Tesla V100-SXM2-16GB, Compute Capability 7.0\n",
      "2024-08-07 14:09:14.493745: I tensorflow/compiler/mlir/tensorflow/utils/dump_mlir_util.cc:268] disabling MLIR crash reproducer, set env var `MLIR_CRASH_REPRODUCER_DIRECTORY` to enable.\n",
      "W0000 00:00:1723039756.114154   17621 assert_op.cc:38] Ignoring Assert operator compile_loss/sparse_categorical_crossentropy/SparseSoftmaxCrossEntropyWithLogits/assert_equal_1/Assert/Assert\n",
      "2024-08-07 14:09:29.662078: I external/local_xla/xla/stream_executor/cuda/cuda_dnn.cc:465] Loaded cuDNN version 8907\n",
      "WARNING: All log messages before absl::InitializeLog() is called are written to STDERR\n",
      "I0000 00:00:1723039899.313737   19539 asm_compiler.cc:369] ptxas warning : Registers are spilled to local memory in function 'triton_gemm_dot_739', 452 bytes spill stores, 700 bytes spill loads\n",
      "\n",
      "I0000 00:00:1723039902.331099   19543 asm_compiler.cc:369] ptxas warning : Registers are spilled to local memory in function 'triton_gemm_dot_314', 496 bytes spill stores, 760 bytes spill loads\n",
      "\n",
      "I0000 00:00:1723039903.088639   19545 asm_compiler.cc:369] ptxas warning : Registers are spilled to local memory in function 'triton_gemm_dot_198', 8 bytes spill stores, 8 bytes spill loads\n",
      "\n",
      "I0000 00:00:1723039903.799024   19542 asm_compiler.cc:369] ptxas warning : Registers are spilled to local memory in function 'triton_gemm_dot_314', 8 bytes spill stores, 8 bytes spill loads\n",
      "\n",
      "I0000 00:00:1723039907.232032   19540 asm_compiler.cc:369] ptxas warning : Registers are spilled to local memory in function 'triton_gemm_dot_192', 1884 bytes spill stores, 1880 bytes spill loads\n",
      "\n",
      "I0000 00:00:1723039907.982440   19544 asm_compiler.cc:369] ptxas warning : Registers are spilled to local memory in function 'triton_gemm_dot_692', 452 bytes spill stores, 700 bytes spill loads\n",
      "\n",
      "I0000 00:00:1723040177.601266   17621 device_compiler.h:188] Compiled cluster using XLA!  This line is logged at most once for the lifetime of the process.\n"
     ]
    },
    {
     "name": "stdout",
     "output_type": "stream",
     "text": [
      "\u001b[1m1841/1842\u001b[0m \u001b[32m━━━━━━━━━━━━━━━━━━━\u001b[0m\u001b[37m━\u001b[0m \u001b[1m0s\u001b[0m 121ms/step - accuracy: 0.5682 - loss: 0.8171"
     ]
    },
    {
     "name": "stderr",
     "output_type": "stream",
     "text": [
      "W0000 00:00:1723040405.032939   17621 assert_op.cc:38] Ignoring Assert operator compile_loss/sparse_categorical_crossentropy/SparseSoftmaxCrossEntropyWithLogits/assert_equal_1/Assert/Assert\n",
      "I0000 00:00:1723040556.522585   27612 asm_compiler.cc:369] ptxas warning : Registers are spilled to local memory in function 'triton_gemm_dot_198', 8 bytes spill stores, 8 bytes spill loads\n",
      "\n",
      "I0000 00:00:1723040557.146435   27613 asm_compiler.cc:369] ptxas warning : Registers are spilled to local memory in function 'triton_gemm_dot_810', 452 bytes spill stores, 700 bytes spill loads\n",
      "\n",
      "I0000 00:00:1723040558.922157   27617 asm_compiler.cc:369] ptxas warning : Registers are spilled to local memory in function 'triton_gemm_dot_314', 8 bytes spill stores, 8 bytes spill loads\n",
      "\n",
      "I0000 00:00:1723040562.586773   27617 asm_compiler.cc:369] ptxas warning : Registers are spilled to local memory in function 'triton_gemm_dot_763', 452 bytes spill stores, 700 bytes spill loads\n",
      "\n",
      "I0000 00:00:1723040562.883024   27616 asm_compiler.cc:369] ptxas warning : Registers are spilled to local memory in function 'triton_gemm_dot_314', 496 bytes spill stores, 760 bytes spill loads\n",
      "\n",
      "I0000 00:00:1723040566.783106   27614 asm_compiler.cc:369] ptxas warning : Registers are spilled to local memory in function 'triton_gemm_dot_192', 1884 bytes spill stores, 1880 bytes spill loads\n",
      "\n"
     ]
    },
    {
     "name": "stdout",
     "output_type": "stream",
     "text": [
      "\b\b\b\b\b\b\b\b\b\b\b\b\b\b\b\b\b\b\b\b\b\b\b\b\b\b\b\b\b\b\b\b\b\b\b\b\b\b\b\b\b\b\b\b\b\b\b\b\b\b\b\b\b\b\b\b\b\b\b\b\b\b\b\b\b\b\b\b\b\b\b\b\b\b\b\b\b\b\r\n",
      "\u001b[1m1842/1842\u001b[0m \u001b[32m━━━━━━━━━━━━━━━━━━━━\u001b[0m\u001b[37m\u001b[0m \u001b[1m0s\u001b[0m 366ms/step - accuracy: 0.5682 - loss: 0.8171"
     ]
    },
    {
     "name": "stderr",
     "output_type": "stream",
     "text": [
      "W0000 00:00:1723040866.679881   17617 assert_op.cc:38] Ignoring Assert operator compile_loss/sparse_categorical_crossentropy/SparseSoftmaxCrossEntropyWithLogits/assert_equal_1/Assert/Assert\n",
      "W0000 00:00:1723040874.151060   17621 assert_op.cc:38] Ignoring Assert operator compile_loss/sparse_categorical_crossentropy/SparseSoftmaxCrossEntropyWithLogits/assert_equal_1/Assert/Assert\n",
      "I0000 00:00:1723040877.936740     803 asm_compiler.cc:369] ptxas warning : Registers are spilled to local memory in function 'triton_gemm_dot_278', 452 bytes spill stores, 700 bytes spill loads\n",
      "\n",
      "I0000 00:00:1723040880.270306     801 asm_compiler.cc:369] ptxas warning : Registers are spilled to local memory in function 'triton_gemm_dot_231', 452 bytes spill stores, 700 bytes spill loads\n",
      "\n",
      "I0000 00:00:1723040885.594276     798 asm_compiler.cc:369] ptxas warning : Registers are spilled to local memory in function 'triton_gemm_dot_192', 1884 bytes spill stores, 1880 bytes spill loads\n",
      "\n"
     ]
    },
    {
     "name": "stdout",
     "output_type": "stream",
     "text": [
      "\u001b[1m1842/1842\u001b[0m \u001b[32m━━━━━━━━━━━━━━━━━━━━\u001b[0m\u001b[37m\u001b[0m \u001b[1m1253s\u001b[0m 387ms/step - accuracy: 0.5682 - loss: 0.8171 - val_accuracy: 0.5757 - val_loss: 0.7771\n",
      "Epoch 2/5\n",
      "\u001b[1m1842/1842\u001b[0m \u001b[32m━━━━━━━━━━━━━━━━━━━━\u001b[0m\u001b[37m\u001b[0m \u001b[1m227s\u001b[0m 122ms/step - accuracy: 0.6421 - loss: 0.6159 - val_accuracy: 0.5651 - val_loss: 0.7857\n",
      "Epoch 3/5\n",
      "\u001b[1m1842/1842\u001b[0m \u001b[32m━━━━━━━━━━━━━━━━━━━━\u001b[0m\u001b[37m\u001b[0m \u001b[1m227s\u001b[0m 122ms/step - accuracy: 0.7067 - loss: 0.4662 - val_accuracy: 0.5645 - val_loss: 0.8564\n",
      "Epoch 4/5\n",
      "\u001b[1m1842/1842\u001b[0m \u001b[32m━━━━━━━━━━━━━━━━━━━━\u001b[0m\u001b[37m\u001b[0m \u001b[1m232s\u001b[0m 124ms/step - accuracy: 0.7625 - loss: 0.3580 - val_accuracy: 0.5440 - val_loss: 0.9714\n",
      "Epoch 5/5\n",
      "\u001b[1m1842/1842\u001b[0m \u001b[32m━━━━━━━━━━━━━━━━━━━━\u001b[0m\u001b[37m\u001b[0m \u001b[1m229s\u001b[0m 123ms/step - accuracy: 0.8064 - loss: 0.2773 - val_accuracy: 0.5487 - val_loss: 1.0180\n",
      "0.7771388292312622 The best number of epocs for the validation loss is 1\n",
      "0.5757169723510742 The best number of epocs for the validation accuracy is 1\n"
     ]
    },
    {
     "data": {
      "image/png": "[encoded data removed]",
      "text/plain": [
       "<Figure size 640x480 with 2 Axes>"
      ]
     },
     "metadata": {},
     "output_type": "display_data"
    },
    {
     "name": "stdout",
     "output_type": "stream",
     "text": [
      "The best epoch is 1\n"
     ]
    },
    {
     "name": "stderr",
     "output_type": "stream",
     "text": [
      "W0000 00:00:1723041939.068717   17620 assert_op.cc:38] Ignoring Assert operator compile_loss/sparse_categorical_crossentropy/SparseSoftmaxCrossEntropyWithLogits/assert_equal_1/Assert/Assert\n",
      "W0000 00:00:1723042571.643959   17620 assert_op.cc:38] Ignoring Assert operator compile_loss/sparse_categorical_crossentropy/SparseSoftmaxCrossEntropyWithLogits/assert_equal_1/Assert/Assert\n",
      "I0000 00:00:1723042718.712457   22462 asm_compiler.cc:369] ptxas warning : Registers are spilled to local memory in function 'triton_gemm_dot_198', 8 bytes spill stores, 8 bytes spill loads\n",
      "\n",
      "I0000 00:00:1723042720.306850   22456 asm_compiler.cc:369] ptxas warning : Registers are spilled to local memory in function 'triton_gemm_dot_810', 452 bytes spill stores, 700 bytes spill loads\n",
      "\n",
      "I0000 00:00:1723042721.355270   22462 asm_compiler.cc:369] ptxas warning : Registers are spilled to local memory in function 'triton_gemm_dot_763', 452 bytes spill stores, 700 bytes spill loads\n",
      "\n",
      "I0000 00:00:1723042721.829958   22457 asm_compiler.cc:369] ptxas warning : Registers are spilled to local memory in function 'triton_gemm_dot_314', 496 bytes spill stores, 760 bytes spill loads\n",
      "\n",
      "I0000 00:00:1723042722.781605   22462 asm_compiler.cc:369] ptxas warning : Registers are spilled to local memory in function 'triton_gemm_dot_314', 8 bytes spill stores, 8 bytes spill loads\n",
      "\n",
      "I0000 00:00:1723042730.096276   22461 asm_compiler.cc:369] ptxas warning : Registers are spilled to local memory in function 'triton_gemm_dot_192', 1884 bytes spill stores, 1880 bytes spill loads\n",
      "\n",
      "I0000 00:00:1723042998.290005   17620 asm_compiler.cc:369] ptxas warning : Registers are spilled to local memory in function 'input_reduce_fusion_1060__3', 20 bytes spill stores, 20 bytes spill loads\n",
      "\n"
     ]
    }
   ],
   "source": [
    "bart_lm, filepath, history = build_bart_model(\n",
    "    training_data=train_ds,\n",
    "    validation_data=validation_ds,\n",
    "    preset_name=\"bart_large_en_cnn\",\n",
    "    is_saved=False,\n",
    ")\n",
    "plot(history=history, keys=[\"loss\", \"accuracy\"])\n",
    "\n",
    "best_epoch = max(np.argmin(history.history[f\"val_loss\"]), np.argmax(history.history[f\"val_accuracy\"]))\n",
    "best_epoch = best_epoch + 1\n",
    "print(\"The best epoch is\", best_epoch)\n",
    "bart_lm, filepath, _ = build_bart_model(\n",
    "    training_data=train_ds.concatenate(validation_ds),\n",
    "    validation_data=None,\n",
    "    epochs=best_epoch,\n",
    "    preset_name=\"bart_large_en_cnn\",\n",
    "    verbose=0,\n",
    "    is_saved=False,\n",
    ")"
   ]
  },
  {
   "cell_type": "code",
   "execution_count": null,
   "metadata": {},
   "outputs": [
    {
     "name": "stdout",
     "output_type": "stream",
     "text": [
      "Dialogue: b\"Hannah: Hey, do you have Betty's number?\\nAmanda: Lemme check\\nHannah: <file_gif>\\nAmanda: Sorry, can't find it.\\nAmanda: Ask Larry\\nAmanda: He called her last time we were at the park together\\nHannah: I don't know him well\\nHannah: <file_gif>\\nAmanda: Don't be shy, he's very nice\\nHannah: If you say so..\\nHannah: I'd rather you texted him\\nAmanda: Just text him \\xf0\\x9f\\x99\\x82\\nHannah: Urgh.. Alright\\nHannah: Bye\\nAmanda: Bye bye\"\n",
      "Generated Summary: Hannah is looking for Betty's number. Amanda will text Larry. Hannah has a cold.\n",
      "Ground Truth Summary: b\"Hannah needs Betty's number but Amanda doesn't have it. She needs to contact Larry.\"\n",
      "=============================\n",
      "Dialogue: b\"Eric: MACHINE!\\r\\nRob: That's so gr8!\\r\\nEric: I know! And shows how Americans see Russian ;)\\r\\nRob: And it's really funny!\\r\\nEric: I know! I especially like the train part!\\r\\nRob: Hahaha! No one talks to the machine like that!\\r\\nEric: Is this his only stand-up?\\r\\nRob: Idk. I'll check.\\r\\nEric: Sure.\\r\\nRob: Turns out no! There are some of his stand-ups on youtube.\\r\\nEric: Gr8! I'll watch them now!\\r\\nRob: Me too!\\r\\nEric: MACHINE!\\r\\nRob: MACHINE!\\r\\nEric: TTYL?\\r\\nRob: Sure :)\"\n",
      "Generated Summary: Eric likes Russian comedy and Rob finds some of his stand-ups on youtube funny.\n",
      "Ground Truth Summary: b'Eric and Rob are going to watch a stand-up on youtube.'\n",
      "=============================\n",
      "Dialogue: b\"Lenny: Babe, can you help me with something?\\r\\nBob: Sure, what's up?\\r\\nLenny: Which one should I pick?\\r\\nBob: Send me photos\\r\\nLenny:  <file_photo>\\r\\nLenny:  <file_photo>\\r\\nLenny:  <file_photo>\\r\\nBob: I like the first ones best\\r\\nLenny: But I already have purple trousers. Does it make sense to have two pairs?\\r\\nBob: I have four black pairs :D :D\\r\\nLenny: yeah, but shouldn't I pick a different color?\\r\\nBob: what matters is what you'll give you the most outfit options\\r\\nLenny: So I guess I'll buy the first or the third pair then\\r\\nBob: Pick the best quality then\\r\\nLenny: ur right, thx\\r\\nBob: no prob :)\"\n",
      "Generated Summary: Bob helps Lenny to pick a pair of purple trousers for her job.\n",
      "Ground Truth Summary: b\"Lenny can't decide which trousers to buy. Bob advised Lenny on that topic. Lenny goes with Bob's advice to pick the trousers that are of best quality.\"\n",
      "=============================\n",
      "Dialogue: b\"Will: hey babe, what do you want for dinner tonight?\\r\\nEmma:  gah, don't even worry about it tonight\\r\\nWill: what do you mean? everything ok?\\r\\nEmma: not really, but it's ok, don't worry about cooking though, I'm not hungry\\r\\nWill: Well what time will you be home?\\r\\nEmma: soon, hopefully\\r\\nWill: you sure? Maybe you want me to pick you up?\\r\\nEmma: no no it's alright. I'll be home soon, i'll tell you when I get home. \\r\\nWill: Alright, love you. \\r\\nEmma: love you too. \"\n",
      "Generated Summary: Emma will be home at 7. Will doesn't want to drive his car to the restaurant, because he doesn't have time.\n",
      "Ground Truth Summary: b'Emma will be home soon and she will let Will know.'\n",
      "=============================\n",
      "Dialogue: b'Ollie: Hi , are you in Warsaw\\r\\nJane: yes, just back! Btw are you free for diner the 19th?\\r\\nOllie: nope!\\r\\nJane: and the  18th?\\r\\nOllie: nope, we have this party and you must be there, remember?\\r\\nJane: oh right! i lost my calendar..  thanks for reminding me\\r\\nOllie: we have lunch this week?\\r\\nJane: with pleasure!\\r\\nOllie: friday?\\r\\nJane: ok\\r\\nJane: what do you mean \" we don\\'t have any more whisky!\" lol..\\r\\nOllie: what!!!\\r\\nJane: you just call me and the all thing i heard was that sentence about whisky... what\\'s wrong with you?\\r\\nOllie: oh oh... very strange! i have to be carefull may be there is some spy in my mobile! lol\\r\\nJane: dont\\' worry, we\\'ll check on friday.\\r\\nOllie: don\\'t forget to bring some sun with you\\r\\nJane: I can\\'t wait to be in Morocco..\\r\\nOllie: enjoy and see you friday\\r\\nJane: sorry Ollie, i\\'m very busy, i won\\'t have time for lunch  tomorrow, but may be at 6pm after my courses?this trip to Morocco was so nice, but time consuming!\\r\\nOllie: ok for tea!\\r\\nJane: I\\'m on my way..\\r\\nOllie: tea is ready, did you bring the pastries?\\r\\nJane: I already ate them all... see you in a minute\\r\\nOllie: ok'\n",
      "Generated Summary: Ollie and Jane will eat a burger and a beer at a new place in Warsaw. They will meet up on Friday and the place should be open at 5 pm. Ollie is coming home tomorrow afternoon, so Jane can't join.\n",
      "Ground Truth Summary: b\"Jane is in Warsaw. Ollie and Jane has a party. Jane lost her calendar. They will get a lunch this week on Friday. Ollie accidentally called Jane and talked about whisky. Jane cancels lunch. They'll meet for a tea at 6 pm.\"\n",
      "=============================\n"
     ]
    }
   ],
   "source": [
    "dialogue, y_true, y_pred = generate_prediction_result(\n",
    "    bart_lm=bart_lm,\n",
    "    ds=test_ds.map(format_dataset_bart_seq2seq),\n",
    ")\n",
    "display_sampled_summary(\n",
    "    x=dialogue,\n",
    "    y_true=y_true,\n",
    "    y_pred=y_pred\n",
    ")"
   ]
  },
  {
   "cell_type": "code",
   "execution_count": null,
   "metadata": {},
   "outputs": [
    {
     "data": {
      "text/plain": [
       "({'precision': <tf.Tensor: shape=(), dtype=float32, numpy=0.45377052>,\n",
       "  'recall': <tf.Tensor: shape=(), dtype=float32, numpy=0.43094596>,\n",
       "  'f1_score': <tf.Tensor: shape=(), dtype=float32, numpy=0.41213316>},\n",
       " {'precision': <tf.Tensor: shape=(), dtype=float32, numpy=0.18619569>,\n",
       "  'recall': <tf.Tensor: shape=(), dtype=float32, numpy=0.175663>,\n",
       "  'f1_score': <tf.Tensor: shape=(), dtype=float32, numpy=0.16733189>},\n",
       " {'precision': <tf.Tensor: shape=(), dtype=float32, numpy=0.36458507>,\n",
       "  'recall': <tf.Tensor: shape=(), dtype=float32, numpy=0.3471443>,\n",
       "  'f1_score': <tf.Tensor: shape=(), dtype=float32, numpy=0.33139962>})"
      ]
     },
     "metadata": {},
     "output_type": "display_data"
    }
   ],
   "source": [
    "calculate_rouge_score(\n",
    "    y_true=y_true,\n",
    "    y_pred=y_pred\n",
    ")"
   ]
  },
  {
   "cell_type": "markdown",
   "metadata": {},
   "source": [
    "#### bart_base_en"
   ]
  },
  {
   "cell_type": "code",
   "execution_count": null,
   "metadata": {},
   "outputs": [
    {
     "name": "stdout",
     "output_type": "stream",
     "text": [
      "Downloading from https://www.kaggle.com/api/v1/models/keras/bart/keras/bart_base_en/2/download/metadata.json...\n"
     ]
    },
    {
     "name": "stderr",
     "output_type": "stream",
     "text": [
      "100%|██████████| 141/141 [00:00<00:00, 267kB/s]\n"
     ]
    },
    {
     "name": "stdout",
     "output_type": "stream",
     "text": [
      "Downloading from https://www.kaggle.com/api/v1/models/keras/bart/keras/bart_base_en/2/download/tokenizer.json...\n"
     ]
    },
    {
     "name": "stderr",
     "output_type": "stream",
     "text": [
      "100%|██████████| 448/448 [00:00<00:00, 1.87MB/s]\n"
     ]
    },
    {
     "name": "stdout",
     "output_type": "stream",
     "text": [
      "Downloading from https://www.kaggle.com/api/v1/models/keras/bart/keras/bart_base_en/2/download/assets/tokenizer/vocabulary.json...\n"
     ]
    },
    {
     "name": "stderr",
     "output_type": "stream",
     "text": [
      "100%|██████████| 0.99M/0.99M [00:01<00:00, 884kB/s]\n"
     ]
    },
    {
     "name": "stdout",
     "output_type": "stream",
     "text": [
      "Downloading from https://www.kaggle.com/api/v1/models/keras/bart/keras/bart_base_en/2/download/assets/tokenizer/merges.txt...\n"
     ]
    },
    {
     "name": "stderr",
     "output_type": "stream",
     "text": [
      "100%|██████████| 446k/446k [00:00<00:00, 491kB/s]\n"
     ]
    },
    {
     "name": "stdout",
     "output_type": "stream",
     "text": [
      "Downloading from https://www.kaggle.com/api/v1/models/keras/bart/keras/bart_base_en/2/download/config.json...\n"
     ]
    },
    {
     "name": "stderr",
     "output_type": "stream",
     "text": [
      "100%|██████████| 483/483 [00:00<00:00, 948kB/s]\n"
     ]
    },
    {
     "name": "stdout",
     "output_type": "stream",
     "text": [
      "Downloading from https://www.kaggle.com/api/v1/models/keras/bart/keras/bart_base_en/2/download/model.weights.h5...\n"
     ]
    },
    {
     "name": "stderr",
     "output_type": "stream",
     "text": [
      "100%|██████████| 532M/532M [00:25<00:00, 22.0MB/s] \n"
     ]
    },
    {
     "data": {
      "text/html": [
       "<pre style=\"white-space:pre;overflow-x:auto;line-height:normal;font-family:Menlo,'DejaVu Sans Mono',consolas,'Courier New',monospace\"><span style=\"font-weight: bold\">Preprocessor: \"bart_seq2_seq_lm_preprocessor_2\"</span>\n",
       "</pre>\n"
      ],
      "text/plain": [
       "\u001b[1mPreprocessor: \"bart_seq2_seq_lm_preprocessor_2\"\u001b[0m\n"
      ]
     },
     "metadata": {},
     "output_type": "display_data"
    },
    {
     "data": {
      "text/html": [
       "<pre style=\"white-space:pre;overflow-x:auto;line-height:normal;font-family:Menlo,'DejaVu Sans Mono',consolas,'Courier New',monospace\">┏━━━━━━━━━━━━━━━━━━━━━━━━━━━━━━━━━━━━━━━━━━━━━━━━━━━━┳━━━━━━━━━━━━━━━━━━━━━━━━━━━━━━━━━━━━━━━━━━━━━━━━━━━━━┓\n",
       "┃<span style=\"font-weight: bold\"> Tokenizer (type)                                   </span>┃<span style=\"font-weight: bold\">                                             Vocab # </span>┃\n",
       "┡━━━━━━━━━━━━━━━━━━━━━━━━━━━━━━━━━━━━━━━━━━━━━━━━━━━━╇━━━━━━━━━━━━━━━━━━━━━━━━━━━━━━━━━━━━━━━━━━━━━━━━━━━━━┩\n",
       "│ bart_tokenizer (<span style=\"color: #0087ff; text-decoration-color: #0087ff\">BartTokenizer</span>)                     │                                              <span style=\"color: #00af00; text-decoration-color: #00af00\">50,265</span> │\n",
       "└────────────────────────────────────────────────────┴─────────────────────────────────────────────────────┘\n",
       "</pre>\n"
      ],
      "text/plain": [
       "┏━━━━━━━━━━━━━━━━━━━━━━━━━━━━━━━━━━━━━━━━━━━━━━━━━━━━┳━━━━━━━━━━━━━━━━━━━━━━━━━━━━━━━━━━━━━━━━━━━━━━━━━━━━━┓\n",
       "┃\u001b[1m \u001b[0m\u001b[1mTokenizer (type)                                  \u001b[0m\u001b[1m \u001b[0m┃\u001b[1m \u001b[0m\u001b[1m                                            Vocab #\u001b[0m\u001b[1m \u001b[0m┃\n",
       "┡━━━━━━━━━━━━━━━━━━━━━━━━━━━━━━━━━━━━━━━━━━━━━━━━━━━━╇━━━━━━━━━━━━━━━━━━━━━━━━━━━━━━━━━━━━━━━━━━━━━━━━━━━━━┩\n",
       "│ bart_tokenizer (\u001b[38;5;33mBartTokenizer\u001b[0m)                     │                                              \u001b[38;5;34m50,265\u001b[0m │\n",
       "└────────────────────────────────────────────────────┴─────────────────────────────────────────────────────┘\n"
      ]
     },
     "metadata": {},
     "output_type": "display_data"
    },
    {
     "data": {
      "text/html": [
       "<pre style=\"white-space:pre;overflow-x:auto;line-height:normal;font-family:Menlo,'DejaVu Sans Mono',consolas,'Courier New',monospace\"><span style=\"font-weight: bold\">Model: \"bart_seq2_seq_lm_2\"</span>\n",
       "</pre>\n"
      ],
      "text/plain": [
       "\u001b[1mModel: \"bart_seq2_seq_lm_2\"\u001b[0m\n"
      ]
     },
     "metadata": {},
     "output_type": "display_data"
    },
    {
     "data": {
      "text/html": [
       "<pre style=\"white-space:pre;overflow-x:auto;line-height:normal;font-family:Menlo,'DejaVu Sans Mono',consolas,'Courier New',monospace\">┏━━━━━━━━━━━━━━━━━━━━━━━━━━━━━━━┳━━━━━━━━━━━━━━━━━━━━━━━━━━━┳━━━━━━━━━━━━━━━━━┳━━━━━━━━━━━━━━━━━━━━━━━━━━━━┓\n",
       "┃<span style=\"font-weight: bold\"> Layer (type)                  </span>┃<span style=\"font-weight: bold\"> Output Shape              </span>┃<span style=\"font-weight: bold\">         Param # </span>┃<span style=\"font-weight: bold\"> Connected to               </span>┃\n",
       "┡━━━━━━━━━━━━━━━━━━━━━━━━━━━━━━━╇━━━━━━━━━━━━━━━━━━━━━━━━━━━╇━━━━━━━━━━━━━━━━━╇━━━━━━━━━━━━━━━━━━━━━━━━━━━━┩\n",
       "│ decoder_padding_mask          │ (<span style=\"color: #00d7ff; text-decoration-color: #00d7ff\">None</span>, <span style=\"color: #00d7ff; text-decoration-color: #00d7ff\">None</span>)              │               <span style=\"color: #00af00; text-decoration-color: #00af00\">0</span> │ -                          │\n",
       "│ (<span style=\"color: #0087ff; text-decoration-color: #0087ff\">InputLayer</span>)                  │                           │                 │                            │\n",
       "├───────────────────────────────┼───────────────────────────┼─────────────────┼────────────────────────────┤\n",
       "│ decoder_token_ids             │ (<span style=\"color: #00d7ff; text-decoration-color: #00d7ff\">None</span>, <span style=\"color: #00d7ff; text-decoration-color: #00d7ff\">None</span>)              │               <span style=\"color: #00af00; text-decoration-color: #00af00\">0</span> │ -                          │\n",
       "│ (<span style=\"color: #0087ff; text-decoration-color: #0087ff\">InputLayer</span>)                  │                           │                 │                            │\n",
       "├───────────────────────────────┼───────────────────────────┼─────────────────┼────────────────────────────┤\n",
       "│ encoder_padding_mask          │ (<span style=\"color: #00d7ff; text-decoration-color: #00d7ff\">None</span>, <span style=\"color: #00d7ff; text-decoration-color: #00d7ff\">None</span>)              │               <span style=\"color: #00af00; text-decoration-color: #00af00\">0</span> │ -                          │\n",
       "│ (<span style=\"color: #0087ff; text-decoration-color: #0087ff\">InputLayer</span>)                  │                           │                 │                            │\n",
       "├───────────────────────────────┼───────────────────────────┼─────────────────┼────────────────────────────┤\n",
       "│ encoder_token_ids             │ (<span style=\"color: #00d7ff; text-decoration-color: #00d7ff\">None</span>, <span style=\"color: #00d7ff; text-decoration-color: #00d7ff\">None</span>)              │               <span style=\"color: #00af00; text-decoration-color: #00af00\">0</span> │ -                          │\n",
       "│ (<span style=\"color: #0087ff; text-decoration-color: #0087ff\">InputLayer</span>)                  │                           │                 │                            │\n",
       "├───────────────────────────────┼───────────────────────────┼─────────────────┼────────────────────────────┤\n",
       "│ bart_backbone (<span style=\"color: #0087ff; text-decoration-color: #0087ff\">BartBackbone</span>)  │ [(<span style=\"color: #00d7ff; text-decoration-color: #00d7ff\">None</span>, <span style=\"color: #00d7ff; text-decoration-color: #00d7ff\">None</span>, <span style=\"color: #00af00; text-decoration-color: #00af00\">768</span>),       │     <span style=\"color: #00af00; text-decoration-color: #00af00\">139,417,344</span> │ decoder_padding_mask[<span style=\"color: #00af00; text-decoration-color: #00af00\">0</span>][<span style=\"color: #00af00; text-decoration-color: #00af00\">0</span>… │\n",
       "│                               │ (<span style=\"color: #00d7ff; text-decoration-color: #00d7ff\">None</span>, <span style=\"color: #00d7ff; text-decoration-color: #00d7ff\">None</span>, <span style=\"color: #00af00; text-decoration-color: #00af00\">768</span>)]        │                 │ decoder_token_ids[<span style=\"color: #00af00; text-decoration-color: #00af00\">0</span>][<span style=\"color: #00af00; text-decoration-color: #00af00\">0</span>],   │\n",
       "│                               │                           │                 │ encoder_padding_mask[<span style=\"color: #00af00; text-decoration-color: #00af00\">0</span>][<span style=\"color: #00af00; text-decoration-color: #00af00\">0</span>… │\n",
       "│                               │                           │                 │ encoder_token_ids[<span style=\"color: #00af00; text-decoration-color: #00af00\">0</span>][<span style=\"color: #00af00; text-decoration-color: #00af00\">0</span>]    │\n",
       "├───────────────────────────────┼───────────────────────────┼─────────────────┼────────────────────────────┤\n",
       "│ token_embedding               │ (<span style=\"color: #00d7ff; text-decoration-color: #00d7ff\">None</span>, <span style=\"color: #00d7ff; text-decoration-color: #00d7ff\">None</span>, <span style=\"color: #00af00; text-decoration-color: #00af00\">50265</span>)       │      <span style=\"color: #00af00; text-decoration-color: #00af00\">38,603,520</span> │ bart_backbone[<span style=\"color: #00af00; text-decoration-color: #00af00\">0</span>][<span style=\"color: #00af00; text-decoration-color: #00af00\">0</span>]        │\n",
       "│ (<span style=\"color: #0087ff; text-decoration-color: #0087ff\">ReversibleEmbedding</span>)         │                           │                 │                            │\n",
       "└───────────────────────────────┴───────────────────────────┴─────────────────┴────────────────────────────┘\n",
       "</pre>\n"
      ],
      "text/plain": [
       "┏━━━━━━━━━━━━━━━━━━━━━━━━━━━━━━━┳━━━━━━━━━━━━━━━━━━━━━━━━━━━┳━━━━━━━━━━━━━━━━━┳━━━━━━━━━━━━━━━━━━━━━━━━━━━━┓\n",
       "┃\u001b[1m \u001b[0m\u001b[1mLayer (type)                 \u001b[0m\u001b[1m \u001b[0m┃\u001b[1m \u001b[0m\u001b[1mOutput Shape             \u001b[0m\u001b[1m \u001b[0m┃\u001b[1m \u001b[0m\u001b[1m        Param #\u001b[0m\u001b[1m \u001b[0m┃\u001b[1m \u001b[0m\u001b[1mConnected to              \u001b[0m\u001b[1m \u001b[0m┃\n",
       "┡━━━━━━━━━━━━━━━━━━━━━━━━━━━━━━━╇━━━━━━━━━━━━━━━━━━━━━━━━━━━╇━━━━━━━━━━━━━━━━━╇━━━━━━━━━━━━━━━━━━━━━━━━━━━━┩\n",
       "│ decoder_padding_mask          │ (\u001b[38;5;45mNone\u001b[0m, \u001b[38;5;45mNone\u001b[0m)              │               \u001b[38;5;34m0\u001b[0m │ -                          │\n",
       "│ (\u001b[38;5;33mInputLayer\u001b[0m)                  │                           │                 │                            │\n",
       "├───────────────────────────────┼───────────────────────────┼─────────────────┼────────────────────────────┤\n",
       "│ decoder_token_ids             │ (\u001b[38;5;45mNone\u001b[0m, \u001b[38;5;45mNone\u001b[0m)              │               \u001b[38;5;34m0\u001b[0m │ -                          │\n",
       "│ (\u001b[38;5;33mInputLayer\u001b[0m)                  │                           │                 │                            │\n",
       "├───────────────────────────────┼───────────────────────────┼─────────────────┼────────────────────────────┤\n",
       "│ encoder_padding_mask          │ (\u001b[38;5;45mNone\u001b[0m, \u001b[38;5;45mNone\u001b[0m)              │               \u001b[38;5;34m0\u001b[0m │ -                          │\n",
       "│ (\u001b[38;5;33mInputLayer\u001b[0m)                  │                           │                 │                            │\n",
       "├───────────────────────────────┼───────────────────────────┼─────────────────┼────────────────────────────┤\n",
       "│ encoder_token_ids             │ (\u001b[38;5;45mNone\u001b[0m, \u001b[38;5;45mNone\u001b[0m)              │               \u001b[38;5;34m0\u001b[0m │ -                          │\n",
       "│ (\u001b[38;5;33mInputLayer\u001b[0m)                  │                           │                 │                            │\n",
       "├───────────────────────────────┼───────────────────────────┼─────────────────┼────────────────────────────┤\n",
       "│ bart_backbone (\u001b[38;5;33mBartBackbone\u001b[0m)  │ [(\u001b[38;5;45mNone\u001b[0m, \u001b[38;5;45mNone\u001b[0m, \u001b[38;5;34m768\u001b[0m),       │     \u001b[38;5;34m139,417,344\u001b[0m │ decoder_padding_mask[\u001b[38;5;34m0\u001b[0m][\u001b[38;5;34m0\u001b[0m… │\n",
       "│                               │ (\u001b[38;5;45mNone\u001b[0m, \u001b[38;5;45mNone\u001b[0m, \u001b[38;5;34m768\u001b[0m)]        │                 │ decoder_token_ids[\u001b[38;5;34m0\u001b[0m][\u001b[38;5;34m0\u001b[0m],   │\n",
       "│                               │                           │                 │ encoder_padding_mask[\u001b[38;5;34m0\u001b[0m][\u001b[38;5;34m0\u001b[0m… │\n",
       "│                               │                           │                 │ encoder_token_ids[\u001b[38;5;34m0\u001b[0m][\u001b[38;5;34m0\u001b[0m]    │\n",
       "├───────────────────────────────┼───────────────────────────┼─────────────────┼────────────────────────────┤\n",
       "│ token_embedding               │ (\u001b[38;5;45mNone\u001b[0m, \u001b[38;5;45mNone\u001b[0m, \u001b[38;5;34m50265\u001b[0m)       │      \u001b[38;5;34m38,603,520\u001b[0m │ bart_backbone[\u001b[38;5;34m0\u001b[0m][\u001b[38;5;34m0\u001b[0m]        │\n",
       "│ (\u001b[38;5;33mReversibleEmbedding\u001b[0m)         │                           │                 │                            │\n",
       "└───────────────────────────────┴───────────────────────────┴─────────────────┴────────────────────────────┘\n"
      ]
     },
     "metadata": {},
     "output_type": "display_data"
    },
    {
     "data": {
      "text/html": [
       "<pre style=\"white-space:pre;overflow-x:auto;line-height:normal;font-family:Menlo,'DejaVu Sans Mono',consolas,'Courier New',monospace\"><span style=\"font-weight: bold\"> Total params: </span><span style=\"color: #00af00; text-decoration-color: #00af00\">139,417,344</span> (531.83 MB)\n",
       "</pre>\n"
      ],
      "text/plain": [
       "\u001b[1m Total params: \u001b[0m\u001b[38;5;34m139,417,344\u001b[0m (531.83 MB)\n"
      ]
     },
     "metadata": {},
     "output_type": "display_data"
    },
    {
     "data": {
      "text/html": [
       "<pre style=\"white-space:pre;overflow-x:auto;line-height:normal;font-family:Menlo,'DejaVu Sans Mono',consolas,'Courier New',monospace\"><span style=\"font-weight: bold\"> Trainable params: </span><span style=\"color: #00af00; text-decoration-color: #00af00\">139,417,344</span> (531.83 MB)\n",
       "</pre>\n"
      ],
      "text/plain": [
       "\u001b[1m Trainable params: \u001b[0m\u001b[38;5;34m139,417,344\u001b[0m (531.83 MB)\n"
      ]
     },
     "metadata": {},
     "output_type": "display_data"
    },
    {
     "data": {
      "text/html": [
       "<pre style=\"white-space:pre;overflow-x:auto;line-height:normal;font-family:Menlo,'DejaVu Sans Mono',consolas,'Courier New',monospace\"><span style=\"font-weight: bold\"> Non-trainable params: </span><span style=\"color: #00af00; text-decoration-color: #00af00\">0</span> (0.00 B)\n",
       "</pre>\n"
      ],
      "text/plain": [
       "\u001b[1m Non-trainable params: \u001b[0m\u001b[38;5;34m0\u001b[0m (0.00 B)\n"
      ]
     },
     "metadata": {},
     "output_type": "display_data"
    },
    {
     "name": "stdout",
     "output_type": "stream",
     "text": [
      "Epoch 1/5\n"
     ]
    },
    {
     "name": "stderr",
     "output_type": "stream",
     "text": [
      "W0000 00:00:1723043218.172744   17618 assert_op.cc:38] Ignoring Assert operator compile_loss/sparse_categorical_crossentropy/SparseSoftmaxCrossEntropyWithLogits/assert_equal_1/Assert/Assert\n",
      "I0000 00:00:1723043292.824088   30899 asm_compiler.cc:369] ptxas warning : Registers are spilled to local memory in function 'triton_gemm_dot_96', 20 bytes spill stores, 20 bytes spill loads\n",
      "\n",
      "I0000 00:00:1723043300.536645   30900 asm_compiler.cc:369] ptxas warning : Registers are spilled to local memory in function 'triton_gemm_dot_96', 1884 bytes spill stores, 1880 bytes spill loads\n",
      "\n",
      "I0000 00:00:1723043396.629483   17618 asm_compiler.cc:369] ptxas warning : Registers are spilled to local memory in function 'input_reduce_fusion_227__3', 16 bytes spill stores, 16 bytes spill loads\n",
      "ptxas warning : Registers are spilled to local memory in function 'input_multiply_reduce_fusion_30', 4 bytes spill stores, 4 bytes spill loads\n",
      "\n"
     ]
    },
    {
     "name": "stdout",
     "output_type": "stream",
     "text": [
      "\u001b[1m1841/1842\u001b[0m \u001b[32m━━━━━━━━━━━━━━━━━━━\u001b[0m\u001b[37m━\u001b[0m \u001b[1m0s\u001b[0m 53ms/step - accuracy: 0.5366 - loss: 0.9073"
     ]
    },
    {
     "name": "stderr",
     "output_type": "stream",
     "text": [
      "W0000 00:00:1723043496.547310   17621 assert_op.cc:38] Ignoring Assert operator compile_loss/sparse_categorical_crossentropy/SparseSoftmaxCrossEntropyWithLogits/assert_equal_1/Assert/Assert\n",
      "I0000 00:00:1723043578.554509    1931 asm_compiler.cc:369] ptxas warning : Registers are spilled to local memory in function 'triton_gemm_dot_96', 20 bytes spill stores, 20 bytes spill loads\n",
      "\n",
      "I0000 00:00:1723043586.128558    1928 asm_compiler.cc:369] ptxas warning : Registers are spilled to local memory in function 'triton_gemm_dot_96', 1884 bytes spill stores, 1880 bytes spill loads\n",
      "\n",
      "I0000 00:00:1723043685.974172   17621 asm_compiler.cc:369] ptxas warning : Registers are spilled to local memory in function 'input_reduce_fusion_636__4', 156 bytes spill stores, 156 bytes spill loads\n",
      "ptxas warning : Registers are spilled to local memory in function 'input_reduce_fusion_256__3', 16 bytes spill stores, 16 bytes spill loads\n",
      "\n"
     ]
    },
    {
     "name": "stdout",
     "output_type": "stream",
     "text": [
      "\b\b\b\b\b\b\b\b\b\b\b\b\b\b\b\b\b\b\b\b\b\b\b\b\b\b\b\b\b\b\b\b\b\b\b\b\b\b\b\b\b\b\b\b\b\b\b\b\b\b\b\b\b\b\b\b\b\b\b\b\b\b\b\b\b\b\b\b\b\b\b\b\b\b\b\b\b\r\n",
      "\u001b[1m1842/1842\u001b[0m \u001b[32m━━━━━━━━━━━━━━━━━━━━\u001b[0m\u001b[37m\u001b[0m \u001b[1m0s\u001b[0m 157ms/step - accuracy: 0.5366 - loss: 0.9073"
     ]
    },
    {
     "name": "stderr",
     "output_type": "stream",
     "text": [
      "W0000 00:00:1723043697.963411   17620 assert_op.cc:38] Ignoring Assert operator compile_loss/sparse_categorical_crossentropy/SparseSoftmaxCrossEntropyWithLogits/assert_equal_1/Assert/Assert\n",
      "W0000 00:00:1723043702.376123   17623 assert_op.cc:38] Ignoring Assert operator compile_loss/sparse_categorical_crossentropy/SparseSoftmaxCrossEntropyWithLogits/assert_equal_1/Assert/Assert\n",
      "I0000 00:00:1723043708.325045    4503 asm_compiler.cc:369] ptxas warning : Registers are spilled to local memory in function 'triton_gemm_dot_96', 20 bytes spill stores, 20 bytes spill loads\n",
      "\n",
      "I0000 00:00:1723043712.422581    4505 asm_compiler.cc:369] ptxas warning : Registers are spilled to local memory in function 'triton_gemm_dot_96', 1884 bytes spill stores, 1880 bytes spill loads\n",
      "\n"
     ]
    },
    {
     "name": "stdout",
     "output_type": "stream",
     "text": [
      "\u001b[1m1842/1842\u001b[0m \u001b[32m━━━━━━━━━━━━━━━━━━━━\u001b[0m\u001b[37m\u001b[0m \u001b[1m560s\u001b[0m 174ms/step - accuracy: 0.5366 - loss: 0.9073 - val_accuracy: 0.5760 - val_loss: 0.7845\n",
      "Epoch 2/5\n",
      "\u001b[1m1842/1842\u001b[0m \u001b[32m━━━━━━━━━━━━━━━━━━━━\u001b[0m\u001b[37m\u001b[0m \u001b[1m110s\u001b[0m 58ms/step - accuracy: 0.6037 - loss: 0.7151 - val_accuracy: 0.5764 - val_loss: 0.7936\n",
      "Epoch 3/5\n",
      "\u001b[1m1842/1842\u001b[0m \u001b[32m━━━━━━━━━━━━━━━━━━━━\u001b[0m\u001b[37m\u001b[0m \u001b[1m108s\u001b[0m 58ms/step - accuracy: 0.6543 - loss: 0.5870 - val_accuracy: 0.5759 - val_loss: 0.8245\n",
      "Epoch 4/5\n",
      "\u001b[1m1842/1842\u001b[0m \u001b[32m━━━━━━━━━━━━━━━━━━━━\u001b[0m\u001b[37m\u001b[0m \u001b[1m107s\u001b[0m 57ms/step - accuracy: 0.7022 - loss: 0.4822 - val_accuracy: 0.5661 - val_loss: 0.8723\n",
      "Epoch 5/5\n",
      "\u001b[1m1842/1842\u001b[0m \u001b[32m━━━━━━━━━━━━━━━━━━━━\u001b[0m\u001b[37m\u001b[0m \u001b[1m107s\u001b[0m 57ms/step - accuracy: 0.7452 - loss: 0.3946 - val_accuracy: 0.5620 - val_loss: 0.9287\n",
      "0.7845414876937866 The best number of epocs for the validation loss is 1\n",
      "0.5764316916465759 The best number of epocs for the validation accuracy is 2\n"
     ]
    },
    {
     "data": {
      "image/png": "[encoded data removed]",
      "text/plain": [
       "<Figure size 640x480 with 2 Axes>"
      ]
     },
     "metadata": {},
     "output_type": "display_data"
    },
    {
     "name": "stdout",
     "output_type": "stream",
     "text": [
      "The best epoch is 2\n"
     ]
    },
    {
     "name": "stderr",
     "output_type": "stream",
     "text": [
      "W0000 00:00:1723044224.952225   17618 assert_op.cc:38] Ignoring Assert operator compile_loss/sparse_categorical_crossentropy/SparseSoftmaxCrossEntropyWithLogits/assert_equal_1/Assert/Assert\n",
      "W0000 00:00:1723044482.532171   17618 assert_op.cc:38] Ignoring Assert operator compile_loss/sparse_categorical_crossentropy/SparseSoftmaxCrossEntropyWithLogits/assert_equal_1/Assert/Assert\n",
      "I0000 00:00:1723044558.035285   14356 asm_compiler.cc:369] ptxas warning : Registers are spilled to local memory in function 'triton_gemm_dot_96', 20 bytes spill stores, 20 bytes spill loads\n",
      "\n",
      "I0000 00:00:1723044565.304360   14359 asm_compiler.cc:369] ptxas warning : Registers are spilled to local memory in function 'triton_gemm_dot_96', 1884 bytes spill stores, 1880 bytes spill loads\n",
      "\n",
      "I0000 00:00:1723044666.473497   17618 asm_compiler.cc:369] ptxas warning : Registers are spilled to local memory in function 'input_reduce_fusion_244__3', 20 bytes spill stores, 20 bytes spill loads\n",
      "\n"
     ]
    }
   ],
   "source": [
    "bart_lm, filepath, history = build_bart_model(\n",
    "    training_data=train_ds,\n",
    "    validation_data=validation_ds,\n",
    "    is_saved=False,\n",
    ")\n",
    "plot(history=history, keys=[\"loss\", \"accuracy\"])\n",
    "\n",
    "best_epoch = max(np.argmin(history.history[f\"val_loss\"]), np.argmax(history.history[f\"val_accuracy\"]))\n",
    "best_epoch = best_epoch + 1\n",
    "print(\"The best epoch is\", best_epoch)\n",
    "bart_lm, filepath, _ = build_bart_model(\n",
    "    training_data=train_ds.concatenate(validation_ds),\n",
    "    validation_data=None,\n",
    "    epochs=best_epoch,\n",
    "    verbose=0,\n",
    "    is_saved=False,\n",
    ")"
   ]
  },
  {
   "cell_type": "code",
   "execution_count": null,
   "metadata": {},
   "outputs": [
    {
     "name": "stdout",
     "output_type": "stream",
     "text": [
      "Dialogue: b\"Hannah: Hey, do you have Betty's number?\\nAmanda: Lemme check\\nHannah: <file_gif>\\nAmanda: Sorry, can't find it.\\nAmanda: Ask Larry\\nAmanda: He called her last time we were at the park together\\nHannah: I don't know him well\\nHannah: <file_gif>\\nAmanda: Don't be shy, he's very nice\\nHannah: If you say so..\\nHannah: I'd rather you texted him\\nAmanda: Just text him \\xf0\\x9f\\x99\\x82\\nHannah: Urgh.. Alright\\nHannah: Bye\\nAmanda: Bye bye\"\n",
      "Generated Summary: Hannah can't find Betty's number, because she called Larry last time they were at the park together. Amanda suggests to text Larry instead of using Facebook.\n",
      "Ground Truth Summary: b\"Hannah needs Betty's number but Amanda doesn't have it. She needs to contact Larry.\"\n",
      "=============================\n",
      "Dialogue: b\"Eric: MACHINE!\\r\\nRob: That's so gr8!\\r\\nEric: I know! And shows how Americans see Russian ;)\\r\\nRob: And it's really funny!\\r\\nEric: I know! I especially like the train part!\\r\\nRob: Hahaha! No one talks to the machine like that!\\r\\nEric: Is this his only stand-up?\\r\\nRob: Idk. I'll check.\\r\\nEric: Sure.\\r\\nRob: Turns out no! There are some of his stand-ups on youtube.\\r\\nEric: Gr8! I'll watch them now!\\r\\nRob: Me too!\\r\\nEric: MACHINE!\\r\\nRob: MACHINE!\\r\\nEric: TTYL?\\r\\nRob: Sure :)\"\n",
      "Generated Summary: Eric and Rob are laughing at a Russian comedian's stand up. He is not the only one doing it. Eric has a funny standup on youtube. Rob has also seen a comedian on youtube.\n",
      "Ground Truth Summary: b'Eric and Rob are going to watch a stand-up on youtube.'\n",
      "=============================\n",
      "Dialogue: b\"Lenny: Babe, can you help me with something?\\r\\nBob: Sure, what's up?\\r\\nLenny: Which one should I pick?\\r\\nBob: Send me photos\\r\\nLenny:  <file_photo>\\r\\nLenny:  <file_photo>\\r\\nLenny:  <file_photo>\\r\\nBob: I like the first ones best\\r\\nLenny: But I already have purple trousers. Does it make sense to have two pairs?\\r\\nBob: I have four black pairs :D :D\\r\\nLenny: yeah, but shouldn't I pick a different color?\\r\\nBob: what matters is what you'll give you the most outfit options\\r\\nLenny: So I guess I'll buy the first or the third pair then\\r\\nBob: Pick the best quality then\\r\\nLenny: ur right, thx\\r\\nBob: no prob :)\"\n",
      "Generated Summary: Bob will send Lenny a few photos of the pair he's choosing. Lenny already has purple trousers but Bob has four black pairs. He will also buy purple trousers.\n",
      "Ground Truth Summary: b\"Lenny can't decide which trousers to buy. Bob advised Lenny on that topic. Lenny goes with Bob's advice to pick the trousers that are of best quality.\"\n",
      "=============================\n",
      "Dialogue: b\"Will: hey babe, what do you want for dinner tonight?\\r\\nEmma:  gah, don't even worry about it tonight\\r\\nWill: what do you mean? everything ok?\\r\\nEmma: not really, but it's ok, don't worry about cooking though, I'm not hungry\\r\\nWill: Well what time will you be home?\\r\\nEmma: soon, hopefully\\r\\nWill: you sure? Maybe you want me to pick you up?\\r\\nEmma: no no it's alright. I'll be home soon, i'll tell you when I get home. \\r\\nWill: Alright, love you. \\r\\nEmma: love you too. \"\n",
      "Generated Summary: Emma will come home soon.\n",
      "Ground Truth Summary: b'Emma will be home soon and she will let Will know.'\n",
      "=============================\n",
      "Dialogue: b'Ollie: Hi , are you in Warsaw\\r\\nJane: yes, just back! Btw are you free for diner the 19th?\\r\\nOllie: nope!\\r\\nJane: and the  18th?\\r\\nOllie: nope, we have this party and you must be there, remember?\\r\\nJane: oh right! i lost my calendar..  thanks for reminding me\\r\\nOllie: we have lunch this week?\\r\\nJane: with pleasure!\\r\\nOllie: friday?\\r\\nJane: ok\\r\\nJane: what do you mean \" we don\\'t have any more whisky!\" lol..\\r\\nOllie: what!!!\\r\\nJane: you just call me and the all thing i heard was that sentence about whisky... what\\'s wrong with you?\\r\\nOllie: oh oh... very strange! i have to be carefull may be there is some spy in my mobile! lol\\r\\nJane: dont\\' worry, we\\'ll check on friday.\\r\\nOllie: don\\'t forget to bring some sun with you\\r\\nJane: I can\\'t wait to be in Morocco..\\r\\nOllie: enjoy and see you friday\\r\\nJane: sorry Ollie, i\\'m very busy, i won\\'t have time for lunch  tomorrow, but may be at 6pm after my courses?this trip to Morocco was so nice, but time consuming!\\r\\nOllie: ok for tea!\\r\\nJane: I\\'m on my way..\\r\\nOllie: tea is ready, did you bring the pastries?\\r\\nJane: I already ate them all... see you in a minute\\r\\nOllie: ok'\n",
      "Generated Summary: Jane is free for the 19th and 18th of November and has a party on the 19th. Ollie reminds Jane about it on Friday.\n",
      "Ground Truth Summary: b\"Jane is in Warsaw. Ollie and Jane has a party. Jane lost her calendar. They will get a lunch this week on Friday. Ollie accidentally called Jane and talked about whisky. Jane cancels lunch. They'll meet for a tea at 6 pm.\"\n",
      "=============================\n"
     ]
    }
   ],
   "source": [
    "dialogue, y_true, y_pred = generate_prediction_result(\n",
    "    bart_lm=bart_lm,\n",
    "    ds=test_ds.map(format_dataset_bart_seq2seq),\n",
    ")\n",
    "display_sampled_summary(\n",
    "    x=dialogue,\n",
    "    y_true=y_true,\n",
    "    y_pred=y_pred\n",
    ")"
   ]
  },
  {
   "cell_type": "code",
   "execution_count": null,
   "metadata": {},
   "outputs": [
    {
     "data": {
      "text/plain": [
       "({'precision': <tf.Tensor: shape=(), dtype=float32, numpy=0.44864184>,\n",
       "  'recall': <tf.Tensor: shape=(), dtype=float32, numpy=0.44959518>,\n",
       "  'f1_score': <tf.Tensor: shape=(), dtype=float32, numpy=0.42114675>},\n",
       " {'precision': <tf.Tensor: shape=(), dtype=float32, numpy=0.19555798>,\n",
       "  'recall': <tf.Tensor: shape=(), dtype=float32, numpy=0.19434093>,\n",
       "  'f1_score': <tf.Tensor: shape=(), dtype=float32, numpy=0.18135415>},\n",
       " {'precision': <tf.Tensor: shape=(), dtype=float32, numpy=0.36647415>,\n",
       "  'recall': <tf.Tensor: shape=(), dtype=float32, numpy=0.36553767>,\n",
       "  'f1_score': <tf.Tensor: shape=(), dtype=float32, numpy=0.34278908>})"
      ]
     },
     "metadata": {},
     "output_type": "display_data"
    }
   ],
   "source": [
    "calculate_rouge_score(\n",
    "    y_true=y_true,\n",
    "    y_pred=y_pred\n",
    ")"
   ]
  }
 ],
 "metadata": {
  "kernelspec": {
   "display_name": "Python 3",
   "language": "python",
   "name": "python3"
  },
  "language_info": {
   "codemirror_mode": {
    "name": "ipython",
    "version": 3
   },
   "file_extension": ".py",
   "mimetype": "text/x-python",
   "name": "python",
   "nbconvert_exporter": "python",
   "pygments_lexer": "ipython3",
   "version": "3.10.11"
  }
 },
 "nbformat": 4,
 "nbformat_minor": 2
}
